{
 "cells": [
  {
   "cell_type": "markdown",
   "metadata": {},
   "source": [
    "# String similarity: comparing Levenshtein distance and Tf-Idf Vectorizer methods"
   ]
  },
  {
   "cell_type": "markdown",
   "metadata": {},
   "source": [
    "String similarity (Comparing 'hello world' and 'hello wolrd') is an important component of deduplication.    \n",
    "This workbook makes uses of the flexible structure of the *Suricate* package to compare two methods:\n",
    "- One using the classic Levenshtein distance\n",
    "- The other one using a tokenization of the words, (either by character or word), using n-grams, and then using the cosine similarity"
   ]
  },
  {
   "cell_type": "markdown",
   "metadata": {},
   "source": [
    "## 1. Prepare the environment"
   ]
  },
  {
   "cell_type": "markdown",
   "metadata": {},
   "source": [
    "### 1.1. Libraries needed"
   ]
  },
  {
   "cell_type": "code",
   "execution_count": 28,
   "metadata": {},
   "outputs": [],
   "source": [
    "# Standard libraries for data science + data visualization\n",
    "import pandas as pd\n",
    "import numpy as np"
   ]
  },
  {
   "cell_type": "markdown",
   "metadata": {},
   "source": [
    "### 1.2. Load the two tables to be compared\n"
   ]
  },
  {
   "cell_type": "code",
   "execution_count": 18,
   "metadata": {},
   "outputs": [
    {
     "data": {
      "text/html": [
       "<div>\n",
       "<style scoped>\n",
       "    .dataframe tbody tr th:only-of-type {\n",
       "        vertical-align: middle;\n",
       "    }\n",
       "\n",
       "    .dataframe tbody tr th {\n",
       "        vertical-align: top;\n",
       "    }\n",
       "\n",
       "    .dataframe thead th {\n",
       "        text-align: right;\n",
       "    }\n",
       "</style>\n",
       "<table border=\"1\" class=\"dataframe\">\n",
       "  <thead>\n",
       "    <tr style=\"text-align: right;\">\n",
       "      <th></th>\n",
       "      <th>name</th>\n",
       "      <th>street</th>\n",
       "      <th>city</th>\n",
       "      <th>postalcode</th>\n",
       "      <th>duns</th>\n",
       "      <th>countrycode</th>\n",
       "    </tr>\n",
       "    <tr>\n",
       "      <th>ix</th>\n",
       "      <th></th>\n",
       "      <th></th>\n",
       "      <th></th>\n",
       "      <th></th>\n",
       "      <th></th>\n",
       "      <th></th>\n",
       "    </tr>\n",
       "  </thead>\n",
       "  <tbody>\n",
       "    <tr>\n",
       "      <th>e67441ba-c61a-4e50-ae15-61401e231568</th>\n",
       "      <td>ma componentes sl</td>\n",
       "      <td>pg el pino calle</td>\n",
       "      <td>seville</td>\n",
       "      <td>41016</td>\n",
       "      <td>NaN</td>\n",
       "      <td>ES</td>\n",
       "    </tr>\n",
       "    <tr>\n",
       "      <th>2f0901d9-1f1f-4efe-a974-05e8d6b7edea</th>\n",
       "      <td>mike garwood ltd</td>\n",
       "      <td>shelleys lane</td>\n",
       "      <td>alton</td>\n",
       "      <td>gu34</td>\n",
       "      <td>NaN</td>\n",
       "      <td>GB</td>\n",
       "    </tr>\n",
       "    <tr>\n",
       "      <th>a9b7c40b-6448-407b-89f9-a7d0b040a6ea</th>\n",
       "      <td>selex sensors and airborne systems</td>\n",
       "      <td>2 crewe road north</td>\n",
       "      <td>edinburgh</td>\n",
       "      <td>eh5 2xs</td>\n",
       "      <td>23226769.0</td>\n",
       "      <td>GB</td>\n",
       "    </tr>\n",
       "    <tr>\n",
       "      <th>e649baee-018e-4473-b911-9f41d76e6818</th>\n",
       "      <td>blumenhof frey</td>\n",
       "      <td>wa3rmbachstraerasse</td>\n",
       "      <td>unterschleissheim</td>\n",
       "      <td>85716</td>\n",
       "      <td>NaN</td>\n",
       "      <td>DE</td>\n",
       "    </tr>\n",
       "    <tr>\n",
       "      <th>83024ff7-2624-431f-b299-ff6fbdf0cebf</th>\n",
       "      <td>battery direct gmbh</td>\n",
       "      <td>1 ewald renz str</td>\n",
       "      <td>bad schonborn</td>\n",
       "      <td>76669</td>\n",
       "      <td>331599808.0</td>\n",
       "      <td>DE</td>\n",
       "    </tr>\n",
       "  </tbody>\n",
       "</table>\n",
       "</div>"
      ],
      "text/plain": [
       "                                                                    name  \\\n",
       "ix                                                                         \n",
       "e67441ba-c61a-4e50-ae15-61401e231568                   ma componentes sl   \n",
       "2f0901d9-1f1f-4efe-a974-05e8d6b7edea                    mike garwood ltd   \n",
       "a9b7c40b-6448-407b-89f9-a7d0b040a6ea  selex sensors and airborne systems   \n",
       "e649baee-018e-4473-b911-9f41d76e6818                      blumenhof frey   \n",
       "83024ff7-2624-431f-b299-ff6fbdf0cebf                 battery direct gmbh   \n",
       "\n",
       "                                                   street               city  \\\n",
       "ix                                                                             \n",
       "e67441ba-c61a-4e50-ae15-61401e231568     pg el pino calle            seville   \n",
       "2f0901d9-1f1f-4efe-a974-05e8d6b7edea        shelleys lane              alton   \n",
       "a9b7c40b-6448-407b-89f9-a7d0b040a6ea   2 crewe road north          edinburgh   \n",
       "e649baee-018e-4473-b911-9f41d76e6818  wa3rmbachstraerasse  unterschleissheim   \n",
       "83024ff7-2624-431f-b299-ff6fbdf0cebf     1 ewald renz str      bad schonborn   \n",
       "\n",
       "                                     postalcode         duns countrycode  \n",
       "ix                                                                        \n",
       "e67441ba-c61a-4e50-ae15-61401e231568      41016          NaN          ES  \n",
       "2f0901d9-1f1f-4efe-a974-05e8d6b7edea       gu34          NaN          GB  \n",
       "a9b7c40b-6448-407b-89f9-a7d0b040a6ea    eh5 2xs   23226769.0          GB  \n",
       "e649baee-018e-4473-b911-9f41d76e6818      85716          NaN          DE  \n",
       "83024ff7-2624-431f-b299-ff6fbdf0cebf      76669  331599808.0          DE  "
      ]
     },
     "execution_count": 18,
     "metadata": {},
     "output_type": "execute_result"
    }
   ],
   "source": [
    "n_lines = 100\n",
    "from suricate.data.companies import getXst\n",
    "df_X = getXst() # df_X is a list containing two datasets to compare [left, right]\n",
    "left = df_X[0]\n",
    "left.sample(5)"
   ]
  },
  {
   "cell_type": "code",
   "execution_count": 19,
   "metadata": {},
   "outputs": [
    {
     "data": {
      "text/html": [
       "<div>\n",
       "<style scoped>\n",
       "    .dataframe tbody tr th:only-of-type {\n",
       "        vertical-align: middle;\n",
       "    }\n",
       "\n",
       "    .dataframe tbody tr th {\n",
       "        vertical-align: top;\n",
       "    }\n",
       "\n",
       "    .dataframe thead th {\n",
       "        text-align: right;\n",
       "    }\n",
       "</style>\n",
       "<table border=\"1\" class=\"dataframe\">\n",
       "  <thead>\n",
       "    <tr style=\"text-align: right;\">\n",
       "      <th></th>\n",
       "      <th>name</th>\n",
       "      <th>street</th>\n",
       "      <th>city</th>\n",
       "      <th>postalcode</th>\n",
       "      <th>duns</th>\n",
       "      <th>countrycode</th>\n",
       "    </tr>\n",
       "    <tr>\n",
       "      <th>ix</th>\n",
       "      <th></th>\n",
       "      <th></th>\n",
       "      <th></th>\n",
       "      <th></th>\n",
       "      <th></th>\n",
       "      <th></th>\n",
       "    </tr>\n",
       "  </thead>\n",
       "  <tbody>\n",
       "    <tr>\n",
       "      <th>83b28c2c-86f0-4d05-93c4-08e05b4a0b39</th>\n",
       "      <td>otis zi du cass ii</td>\n",
       "      <td>saint jean</td>\n",
       "      <td>l union</td>\n",
       "      <td>31240</td>\n",
       "      <td>NaN</td>\n",
       "      <td>FR</td>\n",
       "    </tr>\n",
       "    <tr>\n",
       "      <th>46bed352-d9d4-4aef-bd97-83309fcc4c54</th>\n",
       "      <td>blumenhof frey</td>\n",
       "      <td>17a wa12rmbachstraayerasse</td>\n",
       "      <td>unterschleissheim</td>\n",
       "      <td>85716</td>\n",
       "      <td>NaN</td>\n",
       "      <td>DE</td>\n",
       "    </tr>\n",
       "    <tr>\n",
       "      <th>43c007d9-4e4a-4e36-9714-2e06374da2e2</th>\n",
       "      <td>ceg alain vendrell ek</td>\n",
       "      <td>max eyth str</td>\n",
       "      <td>illerkirchberg</td>\n",
       "      <td>89171</td>\n",
       "      <td>342171451.0</td>\n",
       "      <td>DE</td>\n",
       "    </tr>\n",
       "    <tr>\n",
       "      <th>ad10bc13-7e4d-4126-be1c-698a97c8b8db</th>\n",
       "      <td>honeywell aerospace vendome</td>\n",
       "      <td>18 boulevard de l industrie</td>\n",
       "      <td>paris</td>\n",
       "      <td>75001</td>\n",
       "      <td>NaN</td>\n",
       "      <td>FR</td>\n",
       "    </tr>\n",
       "    <tr>\n",
       "      <th>6ce89b84-d60a-42c6-8612-18f43319737e</th>\n",
       "      <td>stahl gmbh</td>\n",
       "      <td>3 w maybach strae</td>\n",
       "      <td>crailsheim</td>\n",
       "      <td>74564</td>\n",
       "      <td>312901044.0</td>\n",
       "      <td>DE</td>\n",
       "    </tr>\n",
       "  </tbody>\n",
       "</table>\n",
       "</div>"
      ],
      "text/plain": [
       "                                                             name  \\\n",
       "ix                                                                  \n",
       "83b28c2c-86f0-4d05-93c4-08e05b4a0b39           otis zi du cass ii   \n",
       "46bed352-d9d4-4aef-bd97-83309fcc4c54               blumenhof frey   \n",
       "43c007d9-4e4a-4e36-9714-2e06374da2e2        ceg alain vendrell ek   \n",
       "ad10bc13-7e4d-4126-be1c-698a97c8b8db  honeywell aerospace vendome   \n",
       "6ce89b84-d60a-42c6-8612-18f43319737e                   stahl gmbh   \n",
       "\n",
       "                                                           street  \\\n",
       "ix                                                                  \n",
       "83b28c2c-86f0-4d05-93c4-08e05b4a0b39                   saint jean   \n",
       "46bed352-d9d4-4aef-bd97-83309fcc4c54   17a wa12rmbachstraayerasse   \n",
       "43c007d9-4e4a-4e36-9714-2e06374da2e2                 max eyth str   \n",
       "ad10bc13-7e4d-4126-be1c-698a97c8b8db  18 boulevard de l industrie   \n",
       "6ce89b84-d60a-42c6-8612-18f43319737e            3 w maybach strae   \n",
       "\n",
       "                                                   city postalcode  \\\n",
       "ix                                                                   \n",
       "83b28c2c-86f0-4d05-93c4-08e05b4a0b39            l union      31240   \n",
       "46bed352-d9d4-4aef-bd97-83309fcc4c54  unterschleissheim      85716   \n",
       "43c007d9-4e4a-4e36-9714-2e06374da2e2     illerkirchberg      89171   \n",
       "ad10bc13-7e4d-4126-be1c-698a97c8b8db              paris      75001   \n",
       "6ce89b84-d60a-42c6-8612-18f43319737e         crailsheim      74564   \n",
       "\n",
       "                                             duns countrycode  \n",
       "ix                                                             \n",
       "83b28c2c-86f0-4d05-93c4-08e05b4a0b39          NaN          FR  \n",
       "46bed352-d9d4-4aef-bd97-83309fcc4c54          NaN          DE  \n",
       "43c007d9-4e4a-4e36-9714-2e06374da2e2  342171451.0          DE  \n",
       "ad10bc13-7e4d-4126-be1c-698a97c8b8db          NaN          FR  \n",
       "6ce89b84-d60a-42c6-8612-18f43319737e  312901044.0          DE  "
      ]
     },
     "execution_count": 19,
     "metadata": {},
     "output_type": "execute_result"
    }
   ],
   "source": [
    "right = df_X[1]\n",
    "right.sample(5)"
   ]
  },
  {
   "cell_type": "code",
   "execution_count": 20,
   "metadata": {},
   "outputs": [
    {
     "name": "stdout",
     "output_type": "stream",
     "text": [
      "Two datasets of size 100 and 100  rows yield:\n",
      " 10000 possible pairs to scan --> manually exhausting\n"
     ]
    }
   ],
   "source": [
    "n_possible_pairs= left.shape[0]*right.shape[0]\n",
    "print('Two datasets of size {} and {}  rows yield:\\n {} possible pairs to scan --> manually exhausting'.format(left.shape[0], right.shape[0], n_possible_pairs))"
   ]
  },
  {
   "cell_type": "markdown",
   "metadata": {},
   "source": [
    "## 2. How does the string comparator performs?"
   ]
  },
  {
   "cell_type": "markdown",
   "metadata": {},
   "source": [
    "### 2.1. Using Levenshtein distance\n",
    "The Levenshtein distance, and its derivative from the awesome *fuzzywuzzy* package can be used to compare each row of *left* against each row of *right*"
   ]
  },
  {
   "cell_type": "code",
   "execution_count": 33,
   "metadata": {},
   "outputs": [],
   "source": [
    "from suricate.lrdftransformers import FuzzyConnector\n",
    "t3 = FuzzyConnector(on='name', kind='simple')\n",
    "simple_levenshtein = t3.fit_transform(X=df_X)"
   ]
  },
  {
   "cell_type": "markdown",
   "metadata": {},
   "source": [
    "The results are more readable using the CartesianDataPasser from suricate"
   ]
  },
  {
   "cell_type": "code",
   "execution_count": 35,
   "metadata": {},
   "outputs": [
    {
     "data": {
      "text/html": [
       "<div>\n",
       "<style scoped>\n",
       "    .dataframe tbody tr th:only-of-type {\n",
       "        vertical-align: middle;\n",
       "    }\n",
       "\n",
       "    .dataframe tbody tr th {\n",
       "        vertical-align: top;\n",
       "    }\n",
       "\n",
       "    .dataframe thead th {\n",
       "        text-align: right;\n",
       "    }\n",
       "</style>\n",
       "<table border=\"1\" class=\"dataframe\">\n",
       "  <thead>\n",
       "    <tr style=\"text-align: right;\">\n",
       "      <th></th>\n",
       "      <th></th>\n",
       "      <th>name_source</th>\n",
       "      <th>name_target</th>\n",
       "      <th>levenshteinsimplescore</th>\n",
       "    </tr>\n",
       "    <tr>\n",
       "      <th>ix_source</th>\n",
       "      <th>ix_target</th>\n",
       "      <th></th>\n",
       "      <th></th>\n",
       "      <th></th>\n",
       "    </tr>\n",
       "  </thead>\n",
       "  <tbody>\n",
       "    <tr>\n",
       "      <th>0a8de44c-737e-4f10-bb2c-2ae14687aa62</th>\n",
       "      <th>c2e5b14f-2d7e-44ec-b4fd-77251782fedd</th>\n",
       "      <td>rdmadrid sl</td>\n",
       "      <td>marketline</td>\n",
       "      <td>0.38</td>\n",
       "    </tr>\n",
       "    <tr>\n",
       "      <th>39e80128-8b75-44b9-a197-f253b2bb9fec</th>\n",
       "      <th>59de0cf8-cb34-4b30-a5cc-8ad39b44214b</th>\n",
       "      <td>alexander speith gmbh co kg</td>\n",
       "      <td>compass group france</td>\n",
       "      <td>0.26</td>\n",
       "    </tr>\n",
       "    <tr>\n",
       "      <th>2f0901d9-1f1f-4efe-a974-05e8d6b7edea</th>\n",
       "      <th>43c007d9-4e4a-4e36-9714-2e06374da2e2</th>\n",
       "      <td>mike garwood ltd</td>\n",
       "      <td>ceg alain vendrell ek</td>\n",
       "      <td>0.27</td>\n",
       "    </tr>\n",
       "  </tbody>\n",
       "</table>\n",
       "</div>"
      ],
      "text/plain": [
       "                                                                                             name_source  \\\n",
       "ix_source                              ix_target                                                            \n",
       "0a8de44c-737e-4f10-bb2c-2ae14687aa62 c2e5b14f-2d7e-44ec-b4fd-77251782fedd                  rdmadrid sl   \n",
       "39e80128-8b75-44b9-a197-f253b2bb9fec 59de0cf8-cb34-4b30-a5cc-8ad39b44214b  alexander speith gmbh co kg   \n",
       "2f0901d9-1f1f-4efe-a974-05e8d6b7edea 43c007d9-4e4a-4e36-9714-2e06374da2e2             mike garwood ltd   \n",
       "\n",
       "                                                                                      name_target  \\\n",
       "ix_source                              ix_target                                                      \n",
       "0a8de44c-737e-4f10-bb2c-2ae14687aa62 c2e5b14f-2d7e-44ec-b4fd-77251782fedd             marketline   \n",
       "39e80128-8b75-44b9-a197-f253b2bb9fec 59de0cf8-cb34-4b30-a5cc-8ad39b44214b   compass group france   \n",
       "2f0901d9-1f1f-4efe-a974-05e8d6b7edea 43c007d9-4e4a-4e36-9714-2e06374da2e2  ceg alain vendrell ek   \n",
       "\n",
       "                                                                           levenshteinsimplescore  \n",
       "ix_source                              ix_target                                                      \n",
       "0a8de44c-737e-4f10-bb2c-2ae14687aa62 c2e5b14f-2d7e-44ec-b4fd-77251782fedd                    0.38  \n",
       "39e80128-8b75-44b9-a197-f253b2bb9fec 59de0cf8-cb34-4b30-a5cc-8ad39b44214b                    0.26  \n",
       "2f0901d9-1f1f-4efe-a974-05e8d6b7edea 43c007d9-4e4a-4e36-9714-2e06374da2e2                    0.27  "
      ]
     },
     "execution_count": 35,
     "metadata": {},
     "output_type": "execute_result"
    }
   ],
   "source": [
    "from suricate.lrdftransformers.cartesian import CartesianDataPasser\n",
    "X_sbs = CartesianDataPasser().fit_transform(df_X).set_index(['ix_source', 'ix_target'])[['name_source', 'name_target']]\n",
    "X_sbs['levenshteinsimplescore'] =  simple_levenshtein\n",
    "X_sbs.sample(3)\n"
   ]
  },
  {
   "cell_type": "markdown",
   "metadata": {},
   "source": [
    "Let's look at those \"close matches\" which are neither obvious mistakes nor identical strings"
   ]
  },
  {
   "cell_type": "code",
   "execution_count": 40,
   "metadata": {},
   "outputs": [
    {
     "data": {
      "text/html": [
       "<div>\n",
       "<style scoped>\n",
       "    .dataframe tbody tr th:only-of-type {\n",
       "        vertical-align: middle;\n",
       "    }\n",
       "\n",
       "    .dataframe tbody tr th {\n",
       "        vertical-align: top;\n",
       "    }\n",
       "\n",
       "    .dataframe thead th {\n",
       "        text-align: right;\n",
       "    }\n",
       "</style>\n",
       "<table border=\"1\" class=\"dataframe\">\n",
       "  <thead>\n",
       "    <tr style=\"text-align: right;\">\n",
       "      <th></th>\n",
       "      <th></th>\n",
       "      <th>name_source</th>\n",
       "      <th>name_target</th>\n",
       "      <th>levenshteinsimplescore</th>\n",
       "    </tr>\n",
       "    <tr>\n",
       "      <th>ix_source</th>\n",
       "      <th>ix_target</th>\n",
       "      <th></th>\n",
       "      <th></th>\n",
       "      <th></th>\n",
       "    </tr>\n",
       "  </thead>\n",
       "  <tbody>\n",
       "    <tr>\n",
       "      <th>4c115719-4309-459e-8f48-8929761074f7</th>\n",
       "      <th>253ce464-33bd-41cc-a078-81f262216c45</th>\n",
       "      <td>hamilton sundstrand aerospace</td>\n",
       "      <td>hamilton sundstrand</td>\n",
       "      <td>0.79</td>\n",
       "    </tr>\n",
       "    <tr>\n",
       "      <th>39082433-598a-49f1-b84b-6c3400305119</th>\n",
       "      <th>3b9f57b4-85af-47be-9530-c553a807f4a3</th>\n",
       "      <td>sinus electronic gmbh</td>\n",
       "      <td>sinus electronic</td>\n",
       "      <td>0.86</td>\n",
       "    </tr>\n",
       "    <tr>\n",
       "      <th>1b69ccb6-5901-4746-b1f9-8eef0d9a9870</th>\n",
       "      <th>85cc4387-2de3-4e43-97e1-a9d8d3c52fb6</th>\n",
       "      <td>nespresso deutschland gmbh</td>\n",
       "      <td>oracle deutschland gmbh</td>\n",
       "      <td>0.78</td>\n",
       "    </tr>\n",
       "    <tr>\n",
       "      <th>be102af6-1552-480a-98fe-53eced051582</th>\n",
       "      <th>75b2984e-4929-4faf-a4fe-3025954327c9</th>\n",
       "      <td>aspen electronics limited</td>\n",
       "      <td>aspen electonics limited</td>\n",
       "      <td>0.98</td>\n",
       "    </tr>\n",
       "    <tr>\n",
       "      <th>a0a1b780-952c-4c09-978e-a34f8cc56eae</th>\n",
       "      <th>ce8a3993-e248-48e8-a594-7718e3e530b3</th>\n",
       "      <td>pts automation gmbh</td>\n",
       "      <td>abb automation gmbh</td>\n",
       "      <td>0.84</td>\n",
       "    </tr>\n",
       "  </tbody>\n",
       "</table>\n",
       "</div>"
      ],
      "text/plain": [
       "                                                                                               name_source  \\\n",
       "ix_source                              ix_target                                                              \n",
       "4c115719-4309-459e-8f48-8929761074f7 253ce464-33bd-41cc-a078-81f262216c45  hamilton sundstrand aerospace   \n",
       "39082433-598a-49f1-b84b-6c3400305119 3b9f57b4-85af-47be-9530-c553a807f4a3          sinus electronic gmbh   \n",
       "1b69ccb6-5901-4746-b1f9-8eef0d9a9870 85cc4387-2de3-4e43-97e1-a9d8d3c52fb6     nespresso deutschland gmbh   \n",
       "be102af6-1552-480a-98fe-53eced051582 75b2984e-4929-4faf-a4fe-3025954327c9      aspen electronics limited   \n",
       "a0a1b780-952c-4c09-978e-a34f8cc56eae ce8a3993-e248-48e8-a594-7718e3e530b3            pts automation gmbh   \n",
       "\n",
       "                                                                                         name_target  \\\n",
       "ix_source                              ix_target                                                         \n",
       "4c115719-4309-459e-8f48-8929761074f7 253ce464-33bd-41cc-a078-81f262216c45       hamilton sundstrand   \n",
       "39082433-598a-49f1-b84b-6c3400305119 3b9f57b4-85af-47be-9530-c553a807f4a3          sinus electronic   \n",
       "1b69ccb6-5901-4746-b1f9-8eef0d9a9870 85cc4387-2de3-4e43-97e1-a9d8d3c52fb6   oracle deutschland gmbh   \n",
       "be102af6-1552-480a-98fe-53eced051582 75b2984e-4929-4faf-a4fe-3025954327c9  aspen electonics limited   \n",
       "a0a1b780-952c-4c09-978e-a34f8cc56eae ce8a3993-e248-48e8-a594-7718e3e530b3       abb automation gmbh   \n",
       "\n",
       "                                                                           levenshteinsimplescore  \n",
       "ix_source                              ix_target                                                      \n",
       "4c115719-4309-459e-8f48-8929761074f7 253ce464-33bd-41cc-a078-81f262216c45                    0.79  \n",
       "39082433-598a-49f1-b84b-6c3400305119 3b9f57b4-85af-47be-9530-c553a807f4a3                    0.86  \n",
       "1b69ccb6-5901-4746-b1f9-8eef0d9a9870 85cc4387-2de3-4e43-97e1-a9d8d3c52fb6                    0.78  \n",
       "be102af6-1552-480a-98fe-53eced051582 75b2984e-4929-4faf-a4fe-3025954327c9                    0.98  \n",
       "a0a1b780-952c-4c09-978e-a34f8cc56eae ce8a3993-e248-48e8-a594-7718e3e530b3                    0.84  "
      ]
     },
     "execution_count": 40,
     "metadata": {},
     "output_type": "execute_result"
    }
   ],
   "source": [
    "X_sbs.loc[(X_sbs['levenshteinsimplescore']>0.7) & (X_sbs['levenshteinsimplescore']<1.0)].sample(5)"
   ]
  },
  {
   "cell_type": "markdown",
   "metadata": {},
   "source": [
    "#### The framework is fully compatible with open-source Scikit-Learn Machine Learning libraries"
   ]
  },
  {
   "cell_type": "code",
   "execution_count": null,
   "metadata": {},
   "outputs": [],
   "source": [
    "t1 = VectorizerConnector(on='name', analyzer='word', ngram_range=(1,2))\n",
    "t2 = VectorizerConnector(on='name', analyzer='char', ngram_range=(1,2))\n"
   ]
  },
  {
   "cell_type": "code",
   "execution_count": null,
   "metadata": {},
   "outputs": [],
   "source": [
    "%%timeit\n",
    "y1=t1.fit_transform(X=df_X)"
   ]
  },
  {
   "cell_type": "code",
   "execution_count": null,
   "metadata": {},
   "outputs": [],
   "source": [
    "%%timeit\n",
    "y2 = t2.fit_transform(X=df_X)"
   ]
  },
  {
   "cell_type": "code",
   "execution_count": null,
   "metadata": {},
   "outputs": [],
   "source": [
    "%%timeit\n",
    "y3 = t3.fit_transform(X=df_X)"
   ]
  },
  {
   "cell_type": "markdown",
   "metadata": {},
   "source": [
    "# Make prediction using training data"
   ]
  },
  {
   "cell_type": "code",
   "execution_count": null,
   "metadata": {},
   "outputs": [],
   "source": [
    "p1 = PipeLrClf(transformer=t1, classifier=Classifier())\n",
    "y1_pred = pd.Series(\n",
    "    data = p1.fit_predict(X=df_X, y=y_true),\n",
    "    index=createmultiindex(X=df_X)\n",
    ")\n",
    "print(scores(y_true=y_true, y_pred=y1_pred))"
   ]
  },
  {
   "cell_type": "code",
   "execution_count": null,
   "metadata": {},
   "outputs": [],
   "source": [
    "p2 = PipeLrClf(transformer=t2, classifier=Classifier())\n",
    "y2_pred = pd.Series(\n",
    "    data = p2.fit_predict(X=df_X, y=y_true),\n",
    "    index=createmultiindex(X=df_X)\n",
    ")\n",
    "print(scores(y_true=y_true, y_pred=y2_pred))"
   ]
  },
  {
   "cell_type": "code",
   "execution_count": null,
   "metadata": {},
   "outputs": [],
   "source": [
    "p3 = PipeLrClf(transformer=t3, classifier=Classifier())\n",
    "y3_pred = pd.Series(\n",
    "    data = p3.fit_predict(X=df_X, y=y_true),\n",
    "    index=createmultiindex(X=df_X)\n",
    ")\n",
    "print(scores(y_true=y_true, y_pred=y3_pred))"
   ]
  }
 ],
 "metadata": {
  "kernelspec": {
   "display_name": "Python 3",
   "language": "python",
   "name": "python3"
  },
  "language_info": {
   "codemirror_mode": {
    "name": "ipython",
    "version": 3
   },
   "file_extension": ".py",
   "mimetype": "text/x-python",
   "name": "python",
   "nbconvert_exporter": "python",
   "pygments_lexer": "ipython3",
   "version": "3.7.3"
  }
 },
 "nbformat": 4,
 "nbformat_minor": 2
}
