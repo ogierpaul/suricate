{
 "cells": [
  {
   "cell_type": "markdown",
   "metadata": {},
   "source": [
    "# Automatically classify each pair\n",
    "# Implement a ML Classifier"
   ]
  },
  {
   "cell_type": "markdown",
   "metadata": {},
   "source": [
    "This chapter is about training a machine learning algorithm to automatically classify each possible pair as a match or not.    \n",
    "In order to do that, we use both:\n",
    "- the similarity scores calculated in the previous chapter (X_score)\n",
    "- the data labelled manually in chapter 2 (the simple questions)\n",
    "\n",
    "in order to predict if two records should be linked together or not"
   ]
  },
  {
   "cell_type": "markdown",
   "metadata": {},
   "source": [
    "## 1. Set-up of the score matrix and of the labelled data"
   ]
  },
  {
   "cell_type": "markdown",
   "metadata": {},
   "source": [
    "### 1.1. Similarity score matrix (see previous chapters)"
   ]
  },
  {
   "cell_type": "code",
   "execution_count": 1,
   "metadata": {
    "pycharm": {
     "is_executing": false
    }
   },
   "outputs": [
    {
     "name": "stdout",
     "text": [
      "(250000, 3)\n"
     ],
     "output_type": "stream"
    }
   ],
   "source": [
    "import pandas as pd\n",
    "from suricate.data.companies import getXlr\n",
    "X_lr = getXlr(nrows=500)\n",
    "\n",
    "from suricate.lrdftransformers import FuzzyConnector, VectorizerConnector, ExactConnector\n",
    "from sklearn.pipeline import Pipeline, FeatureUnion\n",
    "from sklearn.impute import SimpleImputer as Imputer\n",
    "from sklearn.preprocessing import StandardScaler\n",
    "from sklearn.decomposition import PCA\n",
    "scores = [\n",
    "    ('name_vecword', VectorizerConnector(on='name', analyzer='word', ngram_range=(1,2))),\n",
    "    ('name_vecchar', VectorizerConnector(on='name', analyzer='char', ngram_range=(1,3))),\n",
    "    ('street_vecword', VectorizerConnector(on='street', analyzer='word', ngram_range=(1,2))),\n",
    "    ('street_vecchar', VectorizerConnector(on='street', analyzer='char', ngram_range=(1,3))),\n",
    "    ('city_vecchar', VectorizerConnector(on='city', analyzer='char', ngram_range=(1,3))),\n",
    "    ('postalcode_exact', ExactConnector(on='postalcode')),\n",
    "    ('duns_exact', ExactConnector(on='duns')),\n",
    "    ('countrycode_exact', ExactConnector(on='countrycode'))\n",
    "]\n",
    "transformer = FeatureUnion(scores)\n",
    "steps = [\n",
    "    ('scorer', transformer),\n",
    "    ('imputer', Imputer(strategy='constant', fill_value=0)),\n",
    "    ('scaler', StandardScaler()),\n",
    "    ('pca', PCA(n_components=3))\n",
    "]\n",
    "preprocessing_pipeline = Pipeline(steps)\n",
    "X_score_reduced = preprocessing_pipeline.fit_transform(X=X_lr)\n",
    "print(X_score_reduced.shape)"
   ]
  },
  {
   "cell_type": "markdown",
   "metadata": {},
   "source": [
    "### 1.2. Loading the labelled data\n",
    "In the previous chapter, we have seen how to take a representative sample of each possible pair. We assume we are able to manually label each pair : 0 if it is a match, 1 if it is not a match.    \n",
    "In this tutorial, we already have some labelled data."
   ]
  },
  {
   "cell_type": "code",
   "execution_count": 2,
   "metadata": {
    "pycharm": {
     "is_executing": false
    }
   },
   "outputs": [
    {
     "data": {
      "text/plain": "ix_left   ix_right\nc48d2aae  5687372d    0.0\n8b16163c  d90bd6f1    0.0\nc42d1668  8ae5cbfc    0.0\n57fb4d86  62f043fc    0.0\nd1406ede  fa66dcf6    0.0\nName: y_true, dtype: float64"
     },
     "metadata": {},
     "output_type": "execute_result",
     "execution_count": 2
    }
   ],
   "source": [
    "from suricate.data.companies import getytrue\n",
    "y_true = getytrue()\n",
    "y_true.sample(5)"
   ]
  },
  {
   "cell_type": "code",
   "execution_count": 3,
   "metadata": {
    "pycharm": {
     "is_executing": false
    }
   },
   "outputs": [
    {
     "data": {
      "text/plain": "4587588"
     },
     "metadata": {},
     "output_type": "execute_result",
     "execution_count": 3
    }
   ],
   "source": [
    "y_true.shape[0]"
   ]
  },
  {
   "cell_type": "markdown",
   "metadata": {},
   "source": [
    "## 2. Manually Fit() and predict the model"
   ]
  },
  {
   "cell_type": "markdown",
   "metadata": {},
   "source": [
    "We arrive to a particular problem here:\n",
    "y_true is a shape smaller than X_score_reduced.    \n",
    "To fit the classifier on the data, we must take the intersection of y_true and of X_score_reduced."
   ]
  },
  {
   "cell_type": "markdown",
   "metadata": {},
   "source": [
    "### 2.1. Finding the labelled data from y_true in the score data"
   ]
  },
  {
   "cell_type": "code",
   "execution_count": 4,
   "metadata": {
    "pycharm": {
     "is_executing": false
    }
   },
   "outputs": [
    {
     "name": "stdout",
     "text": [
      "number of labelled samples:250000\n"
     ],
     "output_type": "stream"
    }
   ],
   "source": [
    "from suricate.preutils import createmultiindex\n",
    "# Index of all pairs compared\n",
    "allindex = createmultiindex(X=X_lr)\n",
    "# Index common to y_true and all pairs compared\n",
    "commonindex= y_true.index.intersection(allindex)\n",
    "print('number of labelled samples:{}'.format(len(commonindex)))"
   ]
  },
  {
   "cell_type": "code",
   "execution_count": 5,
   "metadata": {
    "pycharm": {
     "is_executing": false
    }
   },
   "outputs": [
    {
     "data": {
      "text/plain": "0.0    249691\n1.0       309\nName: y_true, dtype: int64"
     },
     "metadata": {},
     "output_type": "execute_result",
     "execution_count": 5
    }
   ],
   "source": [
    "y_labelled = y_true.loc[commonindex]\n",
    "y_labelled.value_counts()"
   ]
  },
  {
   "cell_type": "code",
   "execution_count": 6,
   "metadata": {
    "pycharm": {
     "is_executing": false
    }
   },
   "outputs": [],
   "source": [
    "X_score_reduced = pd.DataFrame(X_score_reduced, index=allindex)\n",
    "X_labelled = X_score_reduced.loc[commonindex]"
   ]
  },
  {
   "cell_type": "markdown",
   "metadata": {},
   "source": [
    "### 2.2. Training and testing the model"
   ]
  },
  {
   "cell_type": "code",
   "execution_count": 7,
   "metadata": {
    "pycharm": {
     "is_executing": false
    }
   },
   "outputs": [],
   "source": [
    "from sklearn.model_selection import train_test_split\n",
    "X_train, X_test, y_train, y_test, ix_train, ix_test = train_test_split(X_labelled, y_labelled, commonindex, test_size=0.33)"
   ]
  },
  {
   "cell_type": "code",
   "execution_count": 8,
   "metadata": {
    "pycharm": {
     "is_executing": false
    }
   },
   "outputs": [
    {
     "name": "stderr",
     "text": [
      "/Users/paulogier/anaconda3/envs/wookie_env/lib/python3.7/site-packages/sklearn/linear_model/logistic.py:432: FutureWarning: Default solver will be changed to 'lbfgs' in 0.22. Specify a solver to silence this warning.\n",
      "  FutureWarning)\n"
     ],
     "output_type": "stream"
    },
    {
     "name": "stdout",
     "text": [
      "training score:0.9997194029850747\n",
      "testing score:0.9996848484848485\n"
     ],
     "output_type": "stream"
    }
   ],
   "source": [
    "from sklearn.linear_model import LogisticRegression\n",
    "clf = LogisticRegression()\n",
    "clf.fit(X=X_train, y=y_train)\n",
    "print('training score:{}'.format(clf.score(X=X_train, y=y_train)))\n",
    "print('testing score:{}'.format(clf.score(X=X_test, y=y_test)))"
   ]
  },
  {
   "cell_type": "markdown",
   "metadata": {},
   "source": [
    "### 2.3. Visualizing the predicted pairs"
   ]
  },
  {
   "cell_type": "code",
   "execution_count": 9,
   "metadata": {
    "pycharm": {
     "is_executing": false
    }
   },
   "outputs": [],
   "source": [
    "y_pred_test = pd.Series(clf.predict(X=X_test), index=ix_test)\n",
    "good_matches = y_pred_test.loc[y_pred_test==1].index"
   ]
  },
  {
   "cell_type": "code",
   "execution_count": 10,
   "metadata": {
    "pycharm": {
     "is_executing": false,
     "name": "#%%\n"
    }
   },
   "outputs": [
    {
     "data": {
      "text/plain": "                                            name_left  \\\nix_left  ix_right                                       \ncfcf9b8c cfcf9b8c           keithley instruments gmbh   \nd1406ede 9bc7bcee                          sna europe   \n591099fe 8b5d81b9          nespresso deutschland gmbh   \n22be1313 22be1313               fako heinrich a anton   \n37fa1e22 c8efedca  marconi selenia communications spa   \n\n                                                          name_right  \\\nix_left  ix_right                                                      \ncfcf9b8c cfcf9b8c                          keithley instruments gmbh   \nd1406ede 9bc7bcee  sna europe deutschland a range of sna germany ...   \n591099fe 8b5d81b9                         nespresso deutschland gmbh   \n22be1313 22be1313                              fako heinrich a anton   \n37fa1e22 c8efedca                 marconi selenia communications spa   \n\n                               street_left        street_right   city_left  \\\nix_left  ix_right                                                            \ncfcf9b8c cfcf9b8c       65 landsberger str  65 landsberger str   germering   \nd1406ede 9bc7bcee               willettstr       10 willettstr    mettmann   \n591099fe 8b5d81b9          speditionsstrae     23 speditionstr  dusseldorf   \n22be1313 22be1313                  sderstr             sderstr     hamburg   \n37fa1e22 c8efedca  1a via ambrogio negrone     1 a via negrone       genoa   \n\n                   city_right postalcode_left postalcode_right    duns_left  \\\nix_left  ix_right                                                             \ncfcf9b8c cfcf9b8c   germering           82110            82110   31609217.0   \nd1406ede 9bc7bcee    mettmann           40822            40822          NaN   \n591099fe 8b5d81b9  dusseldorf           40221            40221          NaN   \n22be1313 22be1313     hamburg           20537            20537  340213235.0   \n37fa1e22 c8efedca       genoa           16153            16153          NaN   \n\n                    duns_right countrycode_left countrycode_right  \nix_left  ix_right                                                  \ncfcf9b8c cfcf9b8c   31609217.0               DE                DE  \nd1406ede 9bc7bcee          NaN               DE                DE  \n591099fe 8b5d81b9  333868649.0               DE                DE  \n22be1313 22be1313  340213235.0               DE                DE  \n37fa1e22 c8efedca          NaN               IT                IT  ",
      "text/html": "<div>\n<style scoped>\n    .dataframe tbody tr th:only-of-type {\n        vertical-align: middle;\n    }\n\n    .dataframe tbody tr th {\n        vertical-align: top;\n    }\n\n    .dataframe thead th {\n        text-align: right;\n    }\n</style>\n<table border=\"1\" class=\"dataframe\">\n  <thead>\n    <tr style=\"text-align: right;\">\n      <th></th>\n      <th></th>\n      <th>name_left</th>\n      <th>name_right</th>\n      <th>street_left</th>\n      <th>street_right</th>\n      <th>city_left</th>\n      <th>city_right</th>\n      <th>postalcode_left</th>\n      <th>postalcode_right</th>\n      <th>duns_left</th>\n      <th>duns_right</th>\n      <th>countrycode_left</th>\n      <th>countrycode_right</th>\n    </tr>\n    <tr>\n      <th>ix_left</th>\n      <th>ix_right</th>\n      <th></th>\n      <th></th>\n      <th></th>\n      <th></th>\n      <th></th>\n      <th></th>\n      <th></th>\n      <th></th>\n      <th></th>\n      <th></th>\n      <th></th>\n      <th></th>\n    </tr>\n  </thead>\n  <tbody>\n    <tr>\n      <th>cfcf9b8c</th>\n      <th>cfcf9b8c</th>\n      <td>keithley instruments gmbh</td>\n      <td>keithley instruments gmbh</td>\n      <td>65 landsberger str</td>\n      <td>65 landsberger str</td>\n      <td>germering</td>\n      <td>germering</td>\n      <td>82110</td>\n      <td>82110</td>\n      <td>31609217.0</td>\n      <td>31609217.0</td>\n      <td>DE</td>\n      <td>DE</td>\n    </tr>\n    <tr>\n      <th>d1406ede</th>\n      <th>9bc7bcee</th>\n      <td>sna europe</td>\n      <td>sna europe deutschland a range of sna germany ...</td>\n      <td>willettstr</td>\n      <td>10 willettstr</td>\n      <td>mettmann</td>\n      <td>mettmann</td>\n      <td>40822</td>\n      <td>40822</td>\n      <td>NaN</td>\n      <td>NaN</td>\n      <td>DE</td>\n      <td>DE</td>\n    </tr>\n    <tr>\n      <th>591099fe</th>\n      <th>8b5d81b9</th>\n      <td>nespresso deutschland gmbh</td>\n      <td>nespresso deutschland gmbh</td>\n      <td>speditionsstrae</td>\n      <td>23 speditionstr</td>\n      <td>dusseldorf</td>\n      <td>dusseldorf</td>\n      <td>40221</td>\n      <td>40221</td>\n      <td>NaN</td>\n      <td>333868649.0</td>\n      <td>DE</td>\n      <td>DE</td>\n    </tr>\n    <tr>\n      <th>22be1313</th>\n      <th>22be1313</th>\n      <td>fako heinrich a anton</td>\n      <td>fako heinrich a anton</td>\n      <td>sderstr</td>\n      <td>sderstr</td>\n      <td>hamburg</td>\n      <td>hamburg</td>\n      <td>20537</td>\n      <td>20537</td>\n      <td>340213235.0</td>\n      <td>340213235.0</td>\n      <td>DE</td>\n      <td>DE</td>\n    </tr>\n    <tr>\n      <th>37fa1e22</th>\n      <th>c8efedca</th>\n      <td>marconi selenia communications spa</td>\n      <td>marconi selenia communications spa</td>\n      <td>1a via ambrogio negrone</td>\n      <td>1 a via negrone</td>\n      <td>genoa</td>\n      <td>genoa</td>\n      <td>16153</td>\n      <td>16153</td>\n      <td>NaN</td>\n      <td>NaN</td>\n      <td>IT</td>\n      <td>IT</td>\n    </tr>\n  </tbody>\n</table>\n</div>"
     },
     "metadata": {},
     "output_type": "execute_result",
     "execution_count": 10
    }
   ],
   "source": [
    "from suricate.lrdftransformers.cartesian import create_lrdf_sbs\n",
    "create_lrdf_sbs(X=X_lr, on_ix=good_matches).sample(5)\n"
   ]
  }
 ],
 "metadata": {
  "kernelspec": {
   "display_name": "Python 3",
   "language": "python",
   "name": "python3"
  },
  "language_info": {
   "codemirror_mode": {
    "name": "ipython",
    "version": 3
   },
   "file_extension": ".py",
   "mimetype": "text/x-python",
   "name": "python",
   "nbconvert_exporter": "python",
   "pygments_lexer": "ipython3",
   "version": "3.7.3"
  },
  "pycharm": {
   "stem_cell": {
    "cell_type": "raw",
    "source": [],
    "metadata": {
     "collapsed": false
    }
   }
  }
 },
 "nbformat": 4,
 "nbformat_minor": 2
}