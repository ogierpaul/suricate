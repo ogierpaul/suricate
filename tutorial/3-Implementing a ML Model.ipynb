{
 "cells": [
  {
   "cell_type": "markdown",
   "metadata": {
    "collapsed": true,
    "pycharm": {
     "name": "#%% md\n"
    }
   },
   "source": [
    "# Step - by - step Guide to finding potential matches\n",
    "1. Prepare the data\n",
    "2. Push the data to Elastic Search\n",
    "3. Create the first similarity matrix\n",
    "4. Use the Explorer to label representative sample of the data\n",
    "5. Do further scoring and add new features to the similarity matrix\n",
    "6. Train a machine learning model on the data\n",
    " "
   ]
  },
  {
   "cell_type": "markdown",
   "source": [
    "## 1. Load the data"
   ],
   "metadata": {
    "collapsed": false,
    "pycharm": {
     "name": "#%% md\n"
    }
   }
  },
  {
   "cell_type": "code",
   "execution_count": 81,
   "outputs": [],
   "source": [
    "import numpy as np\n",
    "import pandas as pd\n",
    "from suricate.data.companies import getsource, gettarget, getytrue"
   ],
   "metadata": {
    "collapsed": false,
    "pycharm": {
     "name": "#%%\n",
     "is_executing": false
    }
   }
  },
  {
   "cell_type": "code",
   "execution_count": 82,
   "outputs": [
    {
     "name": "stdout",
     "text": [
      "Number of rows in source data:1444\n"
     ],
     "output_type": "stream"
    },
    {
     "data": {
      "text/plain": "                                   name                          street  \\\nix                                                                        \n7d49ff77  bundesanstalt f arbeitsschutz       1 25 friedrich henkel weg   \naeec2ddb                     siemens ag                        henkestr   \n6dd6ba94                  ergodata gmbh                 lessingstrae 27   \n43b5ff3f     jura zentralservice singen                16 otto hahn str   \ndfaddbc3            hydro cleansing ltd  hcl house beddington farm road   \n\n                        city postalcode         duns countrycode  \nix                                                                \n7d49ff77            dortmund      44149  344398474.0          DE  \naeec2ddb            erlangen      91052  313366613.0          DE  \n6dd6ba94  dresden langebrrck       1465  330457995.0          DE  \n43b5ff3f              singen      78224  342653791.0          DE  \ndfaddbc3             croydon     cr04xb          NaN          GB  ",
      "text/html": "<div>\n<style scoped>\n    .dataframe tbody tr th:only-of-type {\n        vertical-align: middle;\n    }\n\n    .dataframe tbody tr th {\n        vertical-align: top;\n    }\n\n    .dataframe thead th {\n        text-align: right;\n    }\n</style>\n<table border=\"1\" class=\"dataframe\">\n  <thead>\n    <tr style=\"text-align: right;\">\n      <th></th>\n      <th>name</th>\n      <th>street</th>\n      <th>city</th>\n      <th>postalcode</th>\n      <th>duns</th>\n      <th>countrycode</th>\n    </tr>\n    <tr>\n      <th>ix</th>\n      <th></th>\n      <th></th>\n      <th></th>\n      <th></th>\n      <th></th>\n      <th></th>\n    </tr>\n  </thead>\n  <tbody>\n    <tr>\n      <th>7d49ff77</th>\n      <td>bundesanstalt f arbeitsschutz</td>\n      <td>1 25 friedrich henkel weg</td>\n      <td>dortmund</td>\n      <td>44149</td>\n      <td>344398474.0</td>\n      <td>DE</td>\n    </tr>\n    <tr>\n      <th>aeec2ddb</th>\n      <td>siemens ag</td>\n      <td>henkestr</td>\n      <td>erlangen</td>\n      <td>91052</td>\n      <td>313366613.0</td>\n      <td>DE</td>\n    </tr>\n    <tr>\n      <th>6dd6ba94</th>\n      <td>ergodata gmbh</td>\n      <td>lessingstrae 27</td>\n      <td>dresden langebrrck</td>\n      <td>1465</td>\n      <td>330457995.0</td>\n      <td>DE</td>\n    </tr>\n    <tr>\n      <th>43b5ff3f</th>\n      <td>jura zentralservice singen</td>\n      <td>16 otto hahn str</td>\n      <td>singen</td>\n      <td>78224</td>\n      <td>342653791.0</td>\n      <td>DE</td>\n    </tr>\n    <tr>\n      <th>dfaddbc3</th>\n      <td>hydro cleansing ltd</td>\n      <td>hcl house beddington farm road</td>\n      <td>croydon</td>\n      <td>cr04xb</td>\n      <td>NaN</td>\n      <td>GB</td>\n    </tr>\n  </tbody>\n</table>\n</div>"
     },
     "metadata": {},
     "output_type": "execute_result",
     "execution_count": 82
    }
   ],
   "source": [
    "df_source = getsource(nrows=None)\n",
    "print('Number of rows in source data:{}'.format(df_source.shape[0]))\n",
    "df_source.sample(5)"
   ],
   "metadata": {
    "collapsed": false,
    "pycharm": {
     "name": "#%%\n",
     "is_executing": false
    }
   }
  },
  {
   "cell_type": "code",
   "execution_count": 83,
   "outputs": [
    {
     "name": "stdout",
     "text": [
      "Number of rows in target data:3177\n"
     ],
     "output_type": "stream"
    },
    {
     "data": {
      "text/plain": "                                name                       street       city  \\\nix                                                                             \n3206f8ea  aeroflex international ltd                 school close  eastleigh   \n7bd39e82       simancas ediciones sa  m 6 pol municipal de dueaas     duenas   \nb6739c31               aeroflex gmbh               2 gutenbergstr   ismaning   \n97c71f2f              astro med gmbh             1 senefelder str     rodgau   \nb43b6d88          key publishing ltd                   po box 100   stamford   \n\n         postalcode         duns countrycode  \nix                                            \n3206f8ea   so53 4ra  216834002.0          GB  \n7bd39e82      34210          NaN          ES  \nb6739c31      85737          NaN          DE  \n97c71f2f      63110          NaN          DE  \nb43b6d88        pe9  226513919.0          GB  ",
      "text/html": "<div>\n<style scoped>\n    .dataframe tbody tr th:only-of-type {\n        vertical-align: middle;\n    }\n\n    .dataframe tbody tr th {\n        vertical-align: top;\n    }\n\n    .dataframe thead th {\n        text-align: right;\n    }\n</style>\n<table border=\"1\" class=\"dataframe\">\n  <thead>\n    <tr style=\"text-align: right;\">\n      <th></th>\n      <th>name</th>\n      <th>street</th>\n      <th>city</th>\n      <th>postalcode</th>\n      <th>duns</th>\n      <th>countrycode</th>\n    </tr>\n    <tr>\n      <th>ix</th>\n      <th></th>\n      <th></th>\n      <th></th>\n      <th></th>\n      <th></th>\n      <th></th>\n    </tr>\n  </thead>\n  <tbody>\n    <tr>\n      <th>3206f8ea</th>\n      <td>aeroflex international ltd</td>\n      <td>school close</td>\n      <td>eastleigh</td>\n      <td>so53 4ra</td>\n      <td>216834002.0</td>\n      <td>GB</td>\n    </tr>\n    <tr>\n      <th>7bd39e82</th>\n      <td>simancas ediciones sa</td>\n      <td>m 6 pol municipal de dueaas</td>\n      <td>duenas</td>\n      <td>34210</td>\n      <td>NaN</td>\n      <td>ES</td>\n    </tr>\n    <tr>\n      <th>b6739c31</th>\n      <td>aeroflex gmbh</td>\n      <td>2 gutenbergstr</td>\n      <td>ismaning</td>\n      <td>85737</td>\n      <td>NaN</td>\n      <td>DE</td>\n    </tr>\n    <tr>\n      <th>97c71f2f</th>\n      <td>astro med gmbh</td>\n      <td>1 senefelder str</td>\n      <td>rodgau</td>\n      <td>63110</td>\n      <td>NaN</td>\n      <td>DE</td>\n    </tr>\n    <tr>\n      <th>b43b6d88</th>\n      <td>key publishing ltd</td>\n      <td>po box 100</td>\n      <td>stamford</td>\n      <td>pe9</td>\n      <td>226513919.0</td>\n      <td>GB</td>\n    </tr>\n  </tbody>\n</table>\n</div>"
     },
     "metadata": {},
     "output_type": "execute_result",
     "execution_count": 83
    }
   ],
   "source": [
    "df_target = gettarget(nrows=None)\n",
    "print('Number of rows in target data:{}'.format(df_target.shape[0]))\n",
    "df_target.sample(5)"
   ],
   "metadata": {
    "collapsed": false,
    "pycharm": {
     "name": "#%%\n",
     "is_executing": false
    }
   }
  },
  {
   "cell_type": "markdown",
   "source": [
    "## 2. Push the data to Elastic Search"
   ],
   "metadata": {
    "collapsed": false,
    "pycharm": {
     "name": "#%% md\n"
    }
   }
  },
  {
   "cell_type": "code",
   "execution_count": 84,
   "outputs": [],
   "source": [
    "import elasticsearch\n",
    "import time\n",
    "from suricate.dbconnectors.esconnector import index_with_es"
   ],
   "metadata": {
    "collapsed": false,
    "pycharm": {
     "name": "#%%\n",
     "is_executing": false
    }
   }
  },
  {
   "cell_type": "code",
   "execution_count": 85,
   "outputs": [
    {
     "name": "stdout",
     "text": [
      "Number of docs in created index:3177\n"
     ],
     "output_type": "stream"
    }
   ],
   "source": [
    "esclient = elasticsearch.Elasticsearch()\n",
    "es_indice = 'df_target'\n",
    "if True:\n",
    "    try:\n",
    "        esclient.indices.delete(index=es_indice)\n",
    "    except:\n",
    "        pass\n",
    "    request_body = {\n",
    "        \"settings\": {\n",
    "            \"number_of_shards\": 5,\n",
    "            \"number_of_replicas\": 5\n",
    "        },\n",
    "\n",
    "        \"mappings\": {\n",
    "            \"_doc\": {\n",
    "                \"properties\": {\n",
    "                    \"ix\": {\"type\": \"keyword\"},\n",
    "                    \"name\": {\"type\": \"text\"},\n",
    "                    \"street\": {\"type\": \"text\"},\n",
    "                    \"city\": {\"type\": \"text\"},\n",
    "                    \"postalcode\": {\"type\": \"text\"},\n",
    "                    \"countrycode\": {\"type\": \"keyword\"}\n",
    "                }\n",
    "            }\n",
    "        }\n",
    "    }\n",
    "    esclient.indices.create(index=es_indice, body=request_body)\n",
    "    index_with_es(client=esclient, df=df_target, index=es_indice, ixname=\"ix\", reset_index=True, doc_type='_doc')\n",
    "    time.sleep(5)\n",
    "\n",
    "catcount = esclient.count(index=es_indice)['count']\n",
    "assert catcount == df_target.shape[0]\n",
    "print('Number of docs in created index:{}'.format(catcount))"
   ],
   "metadata": {
    "collapsed": false,
    "pycharm": {
     "name": "#%%\n",
     "is_executing": false
    }
   }
  },
  {
   "cell_type": "markdown",
   "source": [
    "## 3. Create the first similarity matrix"
   ],
   "metadata": {
    "collapsed": false,
    "pycharm": {
     "name": "#%% md\n"
    }
   }
  },
  {
   "cell_type": "code",
   "execution_count": 86,
   "outputs": [],
   "source": [
    "from suricate.dbconnectors import EsConnector"
   ],
   "metadata": {
    "collapsed": false,
    "pycharm": {
     "name": "#%%\n",
     "is_executing": false
    }
   }
  },
  {
   "cell_type": "code",
   "execution_count": 87,
   "outputs": [
    {
     "name": "stdout",
     "text": [
      "Number of possible pairs:14440\n",
      "Example of similarity matrix:\n"
     ],
     "output_type": "stream"
    },
    {
     "data": {
      "text/plain": "                      es_score es_rank\nix_source ix_target                   \n1bc1ab2a  1bc1ab2a   34.726013       0\n06045ef8  f59b980f    9.250144       9\n3e254c40  e5cfe1a5   25.478561       1\ne649baee  e649baee   33.306400       0\ne9001fee  f7107e9a    8.931313       9",
      "text/html": "<div>\n<style scoped>\n    .dataframe tbody tr th:only-of-type {\n        vertical-align: middle;\n    }\n\n    .dataframe tbody tr th {\n        vertical-align: top;\n    }\n\n    .dataframe thead th {\n        text-align: right;\n    }\n</style>\n<table border=\"1\" class=\"dataframe\">\n  <thead>\n    <tr style=\"text-align: right;\">\n      <th></th>\n      <th></th>\n      <th>es_score</th>\n      <th>es_rank</th>\n    </tr>\n    <tr>\n      <th>ix_source</th>\n      <th>ix_target</th>\n      <th></th>\n      <th></th>\n    </tr>\n  </thead>\n  <tbody>\n    <tr>\n      <th>1bc1ab2a</th>\n      <th>1bc1ab2a</th>\n      <td>34.726013</td>\n      <td>0</td>\n    </tr>\n    <tr>\n      <th>06045ef8</th>\n      <th>f59b980f</th>\n      <td>9.250144</td>\n      <td>9</td>\n    </tr>\n    <tr>\n      <th>3e254c40</th>\n      <th>e5cfe1a5</th>\n      <td>25.478561</td>\n      <td>1</td>\n    </tr>\n    <tr>\n      <th>e649baee</th>\n      <th>e649baee</th>\n      <td>33.306400</td>\n      <td>0</td>\n    </tr>\n    <tr>\n      <th>e9001fee</th>\n      <th>f7107e9a</th>\n      <td>8.931313</td>\n      <td>9</td>\n    </tr>\n  </tbody>\n</table>\n</div>"
     },
     "metadata": {},
     "output_type": "execute_result",
     "execution_count": 87
    }
   ],
   "source": [
    "scoreplan = {\n",
    "        'name': {\n",
    "            'type': 'FreeText'\n",
    "        },\n",
    "        'street': {\n",
    "            'type': 'FreeText'\n",
    "        },\n",
    "        'city': {\n",
    "            'type': 'FreeText'\n",
    "        },\n",
    "        'duns': {\n",
    "            'type': 'Exact'\n",
    "        },\n",
    "        'postalcode': {\n",
    "            'type': 'FreeText'\n",
    "        },\n",
    "        'countrycode': {\n",
    "            'type': 'Exact'\n",
    "        }\n",
    "    }\n",
    "escon = EsConnector(\n",
    "    client=esclient,\n",
    "    scoreplan=scoreplan,\n",
    "    index=\"right\",\n",
    "    explain=False,\n",
    "    size=10\n",
    ")\n",
    "Xst = escon.fit_transform(X=df_source)\n",
    "ix_con = Xst.index\n",
    "print('Number of possible pairs:{}'.format(len(ix_con)))\n",
    "print('Example of similarity matrix:')\n",
    "Xst.sample(5)"
   ],
   "metadata": {
    "collapsed": false,
    "pycharm": {
     "name": "#%%\n",
     "is_executing": false
    }
   }
  },
  {
   "cell_type": "code",
   "execution_count": 88,
   "outputs": [
    {
     "name": "stdout",
     "text": [
      "Example of side-by-side view of source and target data\n"
     ],
     "output_type": "stream"
    },
    {
     "data": {
      "text/plain": "                                   name_source  \\\nix_source ix_target                              \n5a33b026  40442b94                     gluetec   \n86c8695e  94626ddf             halco iberia sa   \n0675a2a8  0675a2a8         medicom service e k   \n8f20d3df  a28a52a4          etikettenstar gmbh   \n4b61a6e1  c682e74b   c stiefelmayer gmbh co kg   \n\n                                        name_target  \\\nix_source ix_target                                   \n5a33b026  40442b94                      ratec licht   \n86c8695e  94626ddf      monocomp instrumentacion sa   \n0675a2a8  0675a2a8              medicom service e k   \n8f20d3df  a28a52a4       es electronic service gmbh   \n4b61a6e1  c682e74b   keck energieservice gmbh co kg   \n\n                                 street_source          street_target  \\\nix_source ix_target                                                     \n5a33b026  40442b94                8a am biotop           8a blumenstr   \n86c8695e  94626ddf   pq empresarial sant cugat  63 calle santa leonor   \n0675a2a8  0675a2a8                   wankelstr              wankelstr   \n8f20d3df  a28a52a4                vogelbeerweg             3 hohe str   \n4b61a6e1  c682e74b                 4 htten weg        4 rieseler feld   \n\n                              city_source            city_target  \\\nix_source ix_target                                                \n5a33b026  40442b94             geisenheim  gross pankow prignitz   \n86c8695e  94626ddf   sant cugat del valls                 madrid   \n0675a2a8  0675a2a8         korschenbroich         korschenbroich   \n8f20d3df  a28a52a4        bad zwischenahn            bad nauheim   \n4b61a6e1  c682e74b       wertheim am main                 brakel   \n\n                    postalcode_source postalcode_target  duns_source  \\\nix_source ix_target                                                    \n5a33b026  40442b94              65366             16928          NaN   \n86c8695e  94626ddf               8174             28037  464727759.0   \n0675a2a8  0675a2a8              41352             41352  537440336.0   \n8f20d3df  a28a52a4              26160             61231  312587183.0   \n4b61a6e1  c682e74b              97877             33034  313042822.0   \n\n                     duns_target countrycode_source countrycode_target  \nix_source ix_target                                                     \n5a33b026  40442b94   506951917.0                 DE                 DE  \n86c8695e  94626ddf   564992394.0                 ES                 ES  \n0675a2a8  0675a2a8   537440336.0                 DE                 DE  \n8f20d3df  a28a52a4           NaN                 DE                 DE  \n4b61a6e1  c682e74b   343732744.0                 DE                 DE  ",
      "text/html": "<div>\n<style scoped>\n    .dataframe tbody tr th:only-of-type {\n        vertical-align: middle;\n    }\n\n    .dataframe tbody tr th {\n        vertical-align: top;\n    }\n\n    .dataframe thead th {\n        text-align: right;\n    }\n</style>\n<table border=\"1\" class=\"dataframe\">\n  <thead>\n    <tr style=\"text-align: right;\">\n      <th></th>\n      <th></th>\n      <th>name_source</th>\n      <th>name_target</th>\n      <th>street_source</th>\n      <th>street_target</th>\n      <th>city_source</th>\n      <th>city_target</th>\n      <th>postalcode_source</th>\n      <th>postalcode_target</th>\n      <th>duns_source</th>\n      <th>duns_target</th>\n      <th>countrycode_source</th>\n      <th>countrycode_target</th>\n    </tr>\n    <tr>\n      <th>ix_source</th>\n      <th>ix_target</th>\n      <th></th>\n      <th></th>\n      <th></th>\n      <th></th>\n      <th></th>\n      <th></th>\n      <th></th>\n      <th></th>\n      <th></th>\n      <th></th>\n      <th></th>\n      <th></th>\n    </tr>\n  </thead>\n  <tbody>\n    <tr>\n      <th>5a33b026</th>\n      <th>40442b94</th>\n      <td>gluetec</td>\n      <td>ratec licht</td>\n      <td>8a am biotop</td>\n      <td>8a blumenstr</td>\n      <td>geisenheim</td>\n      <td>gross pankow prignitz</td>\n      <td>65366</td>\n      <td>16928</td>\n      <td>NaN</td>\n      <td>506951917.0</td>\n      <td>DE</td>\n      <td>DE</td>\n    </tr>\n    <tr>\n      <th>86c8695e</th>\n      <th>94626ddf</th>\n      <td>halco iberia sa</td>\n      <td>monocomp instrumentacion sa</td>\n      <td>pq empresarial sant cugat</td>\n      <td>63 calle santa leonor</td>\n      <td>sant cugat del valls</td>\n      <td>madrid</td>\n      <td>8174</td>\n      <td>28037</td>\n      <td>464727759.0</td>\n      <td>564992394.0</td>\n      <td>ES</td>\n      <td>ES</td>\n    </tr>\n    <tr>\n      <th>0675a2a8</th>\n      <th>0675a2a8</th>\n      <td>medicom service e k</td>\n      <td>medicom service e k</td>\n      <td>wankelstr</td>\n      <td>wankelstr</td>\n      <td>korschenbroich</td>\n      <td>korschenbroich</td>\n      <td>41352</td>\n      <td>41352</td>\n      <td>537440336.0</td>\n      <td>537440336.0</td>\n      <td>DE</td>\n      <td>DE</td>\n    </tr>\n    <tr>\n      <th>8f20d3df</th>\n      <th>a28a52a4</th>\n      <td>etikettenstar gmbh</td>\n      <td>es electronic service gmbh</td>\n      <td>vogelbeerweg</td>\n      <td>3 hohe str</td>\n      <td>bad zwischenahn</td>\n      <td>bad nauheim</td>\n      <td>26160</td>\n      <td>61231</td>\n      <td>312587183.0</td>\n      <td>NaN</td>\n      <td>DE</td>\n      <td>DE</td>\n    </tr>\n    <tr>\n      <th>4b61a6e1</th>\n      <th>c682e74b</th>\n      <td>c stiefelmayer gmbh co kg</td>\n      <td>keck energieservice gmbh co kg</td>\n      <td>4 htten weg</td>\n      <td>4 rieseler feld</td>\n      <td>wertheim am main</td>\n      <td>brakel</td>\n      <td>97877</td>\n      <td>33034</td>\n      <td>313042822.0</td>\n      <td>343732744.0</td>\n      <td>DE</td>\n      <td>DE</td>\n    </tr>\n  </tbody>\n</table>\n</div>"
     },
     "metadata": {},
     "output_type": "execute_result",
     "execution_count": 88
    }
   ],
   "source": [
    "Xsbs = escon.getsbs(X=df_source, on_ix=ix_con)\n",
    "print('Example of side-by-side view of source and target data')\n",
    "Xsbs.sample(5)"
   ],
   "metadata": {
    "collapsed": false,
    "pycharm": {
     "name": "#%%\n",
     "is_executing": false
    }
   }
  },
  {
   "cell_type": "markdown",
   "source": [
    "4. Further scoring"
   ],
   "metadata": {
    "collapsed": false
   }
  },
  {
   "cell_type": "code",
   "execution_count": 89,
   "outputs": [],
   "source": [
    "from suricate.sbsdftransformers import FuncSbsComparator\n",
    "from sklearn.pipeline import FeatureUnion"
   ],
   "metadata": {
    "collapsed": false,
    "pycharm": {
     "name": "#%%\n",
     "is_executing": false
    }
   }
  },
  {
   "cell_type": "code",
   "execution_count": 90,
   "outputs": [
    {
     "name": "stdout",
     "text": [
      "Additional scores\n"
     ],
     "output_type": "stream"
    },
    {
     "data": {
      "text/plain": "                     name_fuzzy  street_fuzzy  name_token  street_token  \\\nix_source ix_target                                                       \n077fdf56  c88f82c3         0.47          0.48        0.47          0.48   \n2d652dca  15e562a8         0.47          1.00        0.51          1.00   \n0c07244b  150322b3         0.40          0.48        0.40          0.48   \n\n                     city_fuzzy  postalcode_fuzzy  postalcode_contains  \nix_source ix_target                                                     \n077fdf56  c88f82c3         0.09               0.0                  0.0  \n2d652dca  15e562a8         1.00               1.0                  1.0  \n0c07244b  150322b3         1.00               0.8                  0.0  ",
      "text/html": "<div>\n<style scoped>\n    .dataframe tbody tr th:only-of-type {\n        vertical-align: middle;\n    }\n\n    .dataframe tbody tr th {\n        vertical-align: top;\n    }\n\n    .dataframe thead th {\n        text-align: right;\n    }\n</style>\n<table border=\"1\" class=\"dataframe\">\n  <thead>\n    <tr style=\"text-align: right;\">\n      <th></th>\n      <th></th>\n      <th>name_fuzzy</th>\n      <th>street_fuzzy</th>\n      <th>name_token</th>\n      <th>street_token</th>\n      <th>city_fuzzy</th>\n      <th>postalcode_fuzzy</th>\n      <th>postalcode_contains</th>\n    </tr>\n    <tr>\n      <th>ix_source</th>\n      <th>ix_target</th>\n      <th></th>\n      <th></th>\n      <th></th>\n      <th></th>\n      <th></th>\n      <th></th>\n      <th></th>\n    </tr>\n  </thead>\n  <tbody>\n    <tr>\n      <th>077fdf56</th>\n      <th>c88f82c3</th>\n      <td>0.47</td>\n      <td>0.48</td>\n      <td>0.47</td>\n      <td>0.48</td>\n      <td>0.09</td>\n      <td>0.0</td>\n      <td>0.0</td>\n    </tr>\n    <tr>\n      <th>2d652dca</th>\n      <th>15e562a8</th>\n      <td>0.47</td>\n      <td>1.00</td>\n      <td>0.51</td>\n      <td>1.00</td>\n      <td>1.00</td>\n      <td>1.0</td>\n      <td>1.0</td>\n    </tr>\n    <tr>\n      <th>0c07244b</th>\n      <th>150322b3</th>\n      <td>0.40</td>\n      <td>0.48</td>\n      <td>0.40</td>\n      <td>0.48</td>\n      <td>1.00</td>\n      <td>0.8</td>\n      <td>0.0</td>\n    </tr>\n  </tbody>\n</table>\n</div>"
     },
     "metadata": {},
     "output_type": "execute_result",
     "execution_count": 90
    }
   ],
   "source": [
    "_sbs_score_list = [\n",
    "    ('name_fuzzy', FuncSbsComparator(on='name', comparator='simple')),\n",
    "    ('street_fuzzy', FuncSbsComparator(on='street', comparator='simple')),\n",
    "    ('name_token', FuncSbsComparator(on='name', comparator='token')),\n",
    "    ('street_token', FuncSbsComparator(on='street', comparator='token')),\n",
    "    ('city_fuzzy', FuncSbsComparator(on='city', comparator='simple')),\n",
    "    ('postalcode_fuzzy', FuncSbsComparator(on='postalcode', comparator='simple')),\n",
    "    ('postalcode_contains', FuncSbsComparator(on='postalcode', comparator='contains'))\n",
    "]\n",
    "scorer_sbs = FeatureUnion(transformer_list=_sbs_score_list)\n",
    "Xscores = pd.DataFrame(\n",
    "    data=scorer_sbs.fit_transform(X=Xsbs),\n",
    "    index=ix_con,\n",
    "    columns=[c[0] for c in _sbs_score_list]\n",
    ")\n",
    "print('Additional scores')\n",
    "Xscores.sample(3)"
   ],
   "metadata": {
    "collapsed": false,
    "pycharm": {
     "name": "#%%\n",
     "is_executing": false
    }
   }
  },
  {
   "cell_type": "markdown",
   "source": [
    "Concatenate with the scores from the previous step"
   ],
   "metadata": {
    "collapsed": false,
    "pycharm": {
     "name": "#%% md\n"
    }
   }
  },
  {
   "cell_type": "code",
   "execution_count": 91,
   "outputs": [
    {
     "name": "stdout",
     "text": [
      "Final scoring table\n"
     ],
     "output_type": "stream"
    },
    {
     "data": {
      "text/plain": "                      es_score  name_fuzzy  street_fuzzy  name_token  \\\nix_source ix_target                                                    \n54939dc0  bd9a83b4    6.920133        0.30          0.83        0.20   \n9913e18c  5f978773   19.664148        0.42          0.59        0.42   \n9675372e  df8b52ad   35.009052        1.00          1.00        1.00   \ne6e0f237  87224afc    9.150091        0.30          0.53        0.20   \n666666f3  bc842ca6   15.149372        0.92          0.36        0.92   \n\n                     street_token  city_fuzzy  postalcode_fuzzy  \\\nix_source ix_target                                               \n54939dc0  bd9a83b4           0.83        0.29               0.4   \n9913e18c  5f978773           0.59        1.00               0.8   \n9675372e  df8b52ad           1.00        1.00               1.0   \ne6e0f237  87224afc           0.53        1.00               0.8   \n666666f3  bc842ca6           0.36        0.18               0.4   \n\n                     postalcode_contains  \nix_source ix_target                       \n54939dc0  bd9a83b4                   0.0  \n9913e18c  5f978773                   0.0  \n9675372e  df8b52ad                   1.0  \ne6e0f237  87224afc                   0.0  \n666666f3  bc842ca6                   0.0  ",
      "text/html": "<div>\n<style scoped>\n    .dataframe tbody tr th:only-of-type {\n        vertical-align: middle;\n    }\n\n    .dataframe tbody tr th {\n        vertical-align: top;\n    }\n\n    .dataframe thead th {\n        text-align: right;\n    }\n</style>\n<table border=\"1\" class=\"dataframe\">\n  <thead>\n    <tr style=\"text-align: right;\">\n      <th></th>\n      <th></th>\n      <th>es_score</th>\n      <th>name_fuzzy</th>\n      <th>street_fuzzy</th>\n      <th>name_token</th>\n      <th>street_token</th>\n      <th>city_fuzzy</th>\n      <th>postalcode_fuzzy</th>\n      <th>postalcode_contains</th>\n    </tr>\n    <tr>\n      <th>ix_source</th>\n      <th>ix_target</th>\n      <th></th>\n      <th></th>\n      <th></th>\n      <th></th>\n      <th></th>\n      <th></th>\n      <th></th>\n      <th></th>\n    </tr>\n  </thead>\n  <tbody>\n    <tr>\n      <th>54939dc0</th>\n      <th>bd9a83b4</th>\n      <td>6.920133</td>\n      <td>0.30</td>\n      <td>0.83</td>\n      <td>0.20</td>\n      <td>0.83</td>\n      <td>0.29</td>\n      <td>0.4</td>\n      <td>0.0</td>\n    </tr>\n    <tr>\n      <th>9913e18c</th>\n      <th>5f978773</th>\n      <td>19.664148</td>\n      <td>0.42</td>\n      <td>0.59</td>\n      <td>0.42</td>\n      <td>0.59</td>\n      <td>1.00</td>\n      <td>0.8</td>\n      <td>0.0</td>\n    </tr>\n    <tr>\n      <th>9675372e</th>\n      <th>df8b52ad</th>\n      <td>35.009052</td>\n      <td>1.00</td>\n      <td>1.00</td>\n      <td>1.00</td>\n      <td>1.00</td>\n      <td>1.00</td>\n      <td>1.0</td>\n      <td>1.0</td>\n    </tr>\n    <tr>\n      <th>e6e0f237</th>\n      <th>87224afc</th>\n      <td>9.150091</td>\n      <td>0.30</td>\n      <td>0.53</td>\n      <td>0.20</td>\n      <td>0.53</td>\n      <td>1.00</td>\n      <td>0.8</td>\n      <td>0.0</td>\n    </tr>\n    <tr>\n      <th>666666f3</th>\n      <th>bc842ca6</th>\n      <td>15.149372</td>\n      <td>0.92</td>\n      <td>0.36</td>\n      <td>0.92</td>\n      <td>0.36</td>\n      <td>0.18</td>\n      <td>0.4</td>\n      <td>0.0</td>\n    </tr>\n  </tbody>\n</table>\n</div>"
     },
     "metadata": {},
     "output_type": "execute_result",
     "execution_count": 91
    }
   ],
   "source": [
    "Xscores = pd.concat([Xst[['es_score']], Xscores], axis=1, ignore_index=False)\n",
    "print('Final scoring table')\n",
    "Xscores.sample(5)"
   ],
   "metadata": {
    "collapsed": false,
    "pycharm": {
     "name": "#%%\n",
     "is_executing": false
    }
   }
  },
  {
   "cell_type": "markdown",
   "source": [
    "## 6. Apply the machine-learning model"
   ],
   "metadata": {
    "collapsed": false,
    "pycharm": {
     "name": "#%% md\n"
    }
   }
  },
  {
   "cell_type": "code",
   "execution_count": 92,
   "outputs": [],
   "source": [
    "from sklearn.pipeline import Pipeline\n",
    "from sklearn.impute import SimpleImputer\n",
    "from sklearn.preprocessing import Normalizer\n",
    "from sklearn.decomposition import PCA\n",
    "from sklearn.ensemble import GradientBoostingClassifier\n",
    "from sklearn.model_selection import cross_validate"
   ],
   "metadata": {
    "collapsed": false,
    "pycharm": {
     "name": "#%%\n",
     "is_executing": false
    }
   }
  },
  {
   "cell_type": "markdown",
   "source": [
    "for expediency, we will use the y_true already saved"
   ],
   "metadata": {
    "collapsed": false,
    "pycharm": {
     "name": "#%% md\n"
    }
   }
  },
  {
   "cell_type": "code",
   "execution_count": 93,
   "outputs": [
    {
     "name": "stdout",
     "text": [
      "Number of data in training:14440\n"
     ],
     "output_type": "stream"
    }
   ],
   "source": [
    "y_true = getytrue().loc[ix_con]\n",
    "print('Number of data in training:{}'.format(y_true.shape[0]))"
   ],
   "metadata": {
    "collapsed": false,
    "pycharm": {
     "name": "#%%\n",
     "is_executing": false
    }
   }
  },
  {
   "cell_type": "markdown",
   "source": [
    "### Make the pipeline"
   ],
   "metadata": {
    "collapsed": false,
    "pycharm": {
     "name": "#%% md\n",
     "is_executing": false
    }
   }
  },
  {
   "cell_type": "code",
   "execution_count": 94,
   "outputs": [
    {
     "name": "stdout",
     "text": [
      "precision score: 0.9100410910142727\n",
      "recall score: 0.8602367500672585\n",
      "accuracy score: 0.9559565270546496\n"
     ],
     "output_type": "stream"
    }
   ],
   "source": [
    "pipe = Pipeline(steps=[\n",
    "    ('Impute', SimpleImputer(strategy='constant', fill_value=0)),\n",
    "    ('Scaler', Normalizer()),\n",
    "    ('PCA', PCA(n_components=4)),\n",
    "    ('Predictor', GradientBoostingClassifier(n_estimators=500))\n",
    "])\n",
    "scoring = ['precision', 'recall', 'accuracy']\n",
    "scores = cross_validate(estimator=pipe, X=Xscores, y=y_true, scoring=scoring, cv=3)\n",
    "for c in scoring:\n",
    "    print('{} score: {}'.format(c, np.average(scores['test_'+c])))"
   ],
   "metadata": {
    "collapsed": false,
    "pycharm": {
     "name": "#%%\n",
     "is_executing": false
    }
   }
  },
  {
   "cell_type": "code",
   "execution_count": 95,
   "outputs": [],
   "source": [
    "pipe.fit(X=Xscores, y=y_true)\n",
    "y_pred = pd.Series(data=pipe.predict(X=Xscores), index=ix_con, name='y_pred')"
   ],
   "metadata": {
    "collapsed": false,
    "pycharm": {
     "name": "#%%\n",
     "is_executing": false
    }
   }
  },
  {
   "cell_type": "code",
   "execution_count": 96,
   "outputs": [
    {
     "name": "stdout",
     "text": [
      "Showing positive matches\n"
     ],
     "output_type": "stream"
    },
    {
     "data": {
      "text/plain": "                                    name_source                 name_target  \\\nix_source ix_target                                                           \n3973a412  a9f4905c                 inficon gmbh                inficon gmbh   \n7d694999  6602b62d   nespresso deutschland gmbh  nespresso deutschland gmbh   \n6bb99b89  6bb99b89   snap on industrial germany  snap on industrial germany   \n40dc815f  40dc815f                febrotec gmbh               febrotec gmbh   \na939e3e1  afa3b342          honeywell aerospace         honeywell aerospace   \n\n                        street_source      street_target city_source  \\\nix_source ix_target                                                    \n3973a412  a9f4905c     498 bonner str         bonner str     cologne   \n7d694999  6602b62d          8 zollhof  speditionsstrasse  dusseldorf   \n6bb99b89  6bb99b89      10 willettstr      10 willettstr    mettmann   \n40dc815f  40dc815f    frankfurter str    frankfurter str      halver   \na939e3e1  afa3b342   23500 w 105th st   23500 w 105th st      olathe   \n\n                    city_target postalcode_source postalcode_target  \\\nix_source ix_target                                                   \n3973a412  a9f4905c      cologne             50968             50968   \n7d694999  6602b62d   dusseldorf             40221             40221   \n6bb99b89  6bb99b89     mettmann             40822             40822   \n40dc815f  40dc815f       halver             58553             58553   \na939e3e1  afa3b342       olathe        66061-8425        66061-8425   \n\n                     duns_source  duns_target countrycode_source  \\\nix_source ix_target                                                \n3973a412  a9f4905c   314521394.0          NaN                 DE   \n7d694999  6602b62d   333868649.0  341618791.0                 DE   \n6bb99b89  6bb99b89   332477905.0  332477905.0                 DE   \n40dc815f  40dc815f           NaN          NaN                 DE   \na939e3e1  afa3b342   614705783.0   21214283.0                 US   \n\n                    countrycode_target  \nix_source ix_target                     \n3973a412  a9f4905c                  DE  \n7d694999  6602b62d                  DE  \n6bb99b89  6bb99b89                  DE  \n40dc815f  40dc815f                  DE  \na939e3e1  afa3b342                  US  ",
      "text/html": "<div>\n<style scoped>\n    .dataframe tbody tr th:only-of-type {\n        vertical-align: middle;\n    }\n\n    .dataframe tbody tr th {\n        vertical-align: top;\n    }\n\n    .dataframe thead th {\n        text-align: right;\n    }\n</style>\n<table border=\"1\" class=\"dataframe\">\n  <thead>\n    <tr style=\"text-align: right;\">\n      <th></th>\n      <th></th>\n      <th>name_source</th>\n      <th>name_target</th>\n      <th>street_source</th>\n      <th>street_target</th>\n      <th>city_source</th>\n      <th>city_target</th>\n      <th>postalcode_source</th>\n      <th>postalcode_target</th>\n      <th>duns_source</th>\n      <th>duns_target</th>\n      <th>countrycode_source</th>\n      <th>countrycode_target</th>\n    </tr>\n    <tr>\n      <th>ix_source</th>\n      <th>ix_target</th>\n      <th></th>\n      <th></th>\n      <th></th>\n      <th></th>\n      <th></th>\n      <th></th>\n      <th></th>\n      <th></th>\n      <th></th>\n      <th></th>\n      <th></th>\n      <th></th>\n    </tr>\n  </thead>\n  <tbody>\n    <tr>\n      <th>3973a412</th>\n      <th>a9f4905c</th>\n      <td>inficon gmbh</td>\n      <td>inficon gmbh</td>\n      <td>498 bonner str</td>\n      <td>bonner str</td>\n      <td>cologne</td>\n      <td>cologne</td>\n      <td>50968</td>\n      <td>50968</td>\n      <td>314521394.0</td>\n      <td>NaN</td>\n      <td>DE</td>\n      <td>DE</td>\n    </tr>\n    <tr>\n      <th>7d694999</th>\n      <th>6602b62d</th>\n      <td>nespresso deutschland gmbh</td>\n      <td>nespresso deutschland gmbh</td>\n      <td>8 zollhof</td>\n      <td>speditionsstrasse</td>\n      <td>dusseldorf</td>\n      <td>dusseldorf</td>\n      <td>40221</td>\n      <td>40221</td>\n      <td>333868649.0</td>\n      <td>341618791.0</td>\n      <td>DE</td>\n      <td>DE</td>\n    </tr>\n    <tr>\n      <th>6bb99b89</th>\n      <th>6bb99b89</th>\n      <td>snap on industrial germany</td>\n      <td>snap on industrial germany</td>\n      <td>10 willettstr</td>\n      <td>10 willettstr</td>\n      <td>mettmann</td>\n      <td>mettmann</td>\n      <td>40822</td>\n      <td>40822</td>\n      <td>332477905.0</td>\n      <td>332477905.0</td>\n      <td>DE</td>\n      <td>DE</td>\n    </tr>\n    <tr>\n      <th>40dc815f</th>\n      <th>40dc815f</th>\n      <td>febrotec gmbh</td>\n      <td>febrotec gmbh</td>\n      <td>frankfurter str</td>\n      <td>frankfurter str</td>\n      <td>halver</td>\n      <td>halver</td>\n      <td>58553</td>\n      <td>58553</td>\n      <td>NaN</td>\n      <td>NaN</td>\n      <td>DE</td>\n      <td>DE</td>\n    </tr>\n    <tr>\n      <th>a939e3e1</th>\n      <th>afa3b342</th>\n      <td>honeywell aerospace</td>\n      <td>honeywell aerospace</td>\n      <td>23500 w 105th st</td>\n      <td>23500 w 105th st</td>\n      <td>olathe</td>\n      <td>olathe</td>\n      <td>66061-8425</td>\n      <td>66061-8425</td>\n      <td>614705783.0</td>\n      <td>21214283.0</td>\n      <td>US</td>\n      <td>US</td>\n    </tr>\n  </tbody>\n</table>\n</div>"
     },
     "metadata": {},
     "output_type": "execute_result",
     "execution_count": 96
    }
   ],
   "source": [
    "positive_matches = y_pred.loc[y_pred == 1.0].index\n",
    "print('Showing positive matches')\n",
    "Xsbs.loc[positive_matches].sample(5)"
   ],
   "metadata": {
    "collapsed": false,
    "pycharm": {
     "name": "#%%\n",
     "is_executing": false
    }
   }
  },
  {
   "cell_type": "code",
   "execution_count": 97,
   "outputs": [
    {
     "name": "stdout",
     "text": [
      "Showing negativematches\n"
     ],
     "output_type": "stream"
    },
    {
     "data": {
      "text/plain": "                                   name_source  \\\nix_source ix_target                              \n2e7b3b12  877c0076    multi circuit boards ltd   \n77d04dd9  f3d630e0    comtec cable accessories   \nab212abd  70145d3e   kasper richter gmbh co kg   \n1e180a85  c7c7deb2             kugellager shop   \nde51d1e5  61f33364         von roll uk limited   \n\n                                             name_target      street_source  \\\nix_source ix_target                                                           \n2e7b3b12  877c0076          heisslufttechnik flocke gmbh  2 brunnthaler str   \n77d04dd9  f3d630e0                   stanford university       cardinal way   \nab212abd  70145d3e            muetron mueller gmbh co kg    14 erlanger str   \n1e180a85  c7c7deb2   spie deutschland system integration     64 bismarckstr   \nde51d1e5  61f33364                     thales uk limited    wharfedale road   \n\n                         street_target city_source          city_target  \\\nix_source ix_target                                                       \n2e7b3b12  877c0076     mondstraaye 2 4   brunnthal          feldkirchen   \n77d04dd9  f3d630e0      655 knight way  huntingdon  stanford california   \nab212abd  70145d3e   theodor barth str  uttenreuth                achim   \n1e180a85  c7c7deb2         9 rudolfstr      berlin               berlin   \nde51d1e5  61f33364          manor road    bradford              crawley   \n\n                    postalcode_source postalcode_target  duns_source  \\\nix_source ix_target                                                    \n2e7b3b12  877c0076              85649             85622  342177911.0   \n77d04dd9  f3d630e0           pe29 2xn               NaN          NaN   \nab212abd  70145d3e              91080             28832          NaN   \n1e180a85  c7c7deb2              13585             10245          NaN   \nde51d1e5  61f33364            bd4 6sg           rh109ha   21309974.0   \n\n                     duns_target countrycode_source countrycode_target  \nix_source ix_target                                                     \n2e7b3b12  877c0076           NaN                 DE                 DE  \n77d04dd9  f3d630e0    78425739.0                 GB                 GB  \nab212abd  70145d3e           NaN                 DE                 DE  \n1e180a85  c7c7deb2   537617008.0                 DE                 DE  \nde51d1e5  61f33364           NaN                 GB                 GB  ",
      "text/html": "<div>\n<style scoped>\n    .dataframe tbody tr th:only-of-type {\n        vertical-align: middle;\n    }\n\n    .dataframe tbody tr th {\n        vertical-align: top;\n    }\n\n    .dataframe thead th {\n        text-align: right;\n    }\n</style>\n<table border=\"1\" class=\"dataframe\">\n  <thead>\n    <tr style=\"text-align: right;\">\n      <th></th>\n      <th></th>\n      <th>name_source</th>\n      <th>name_target</th>\n      <th>street_source</th>\n      <th>street_target</th>\n      <th>city_source</th>\n      <th>city_target</th>\n      <th>postalcode_source</th>\n      <th>postalcode_target</th>\n      <th>duns_source</th>\n      <th>duns_target</th>\n      <th>countrycode_source</th>\n      <th>countrycode_target</th>\n    </tr>\n    <tr>\n      <th>ix_source</th>\n      <th>ix_target</th>\n      <th></th>\n      <th></th>\n      <th></th>\n      <th></th>\n      <th></th>\n      <th></th>\n      <th></th>\n      <th></th>\n      <th></th>\n      <th></th>\n      <th></th>\n      <th></th>\n    </tr>\n  </thead>\n  <tbody>\n    <tr>\n      <th>2e7b3b12</th>\n      <th>877c0076</th>\n      <td>multi circuit boards ltd</td>\n      <td>heisslufttechnik flocke gmbh</td>\n      <td>2 brunnthaler str</td>\n      <td>mondstraaye 2 4</td>\n      <td>brunnthal</td>\n      <td>feldkirchen</td>\n      <td>85649</td>\n      <td>85622</td>\n      <td>342177911.0</td>\n      <td>NaN</td>\n      <td>DE</td>\n      <td>DE</td>\n    </tr>\n    <tr>\n      <th>77d04dd9</th>\n      <th>f3d630e0</th>\n      <td>comtec cable accessories</td>\n      <td>stanford university</td>\n      <td>cardinal way</td>\n      <td>655 knight way</td>\n      <td>huntingdon</td>\n      <td>stanford california</td>\n      <td>pe29 2xn</td>\n      <td>NaN</td>\n      <td>NaN</td>\n      <td>78425739.0</td>\n      <td>GB</td>\n      <td>GB</td>\n    </tr>\n    <tr>\n      <th>ab212abd</th>\n      <th>70145d3e</th>\n      <td>kasper richter gmbh co kg</td>\n      <td>muetron mueller gmbh co kg</td>\n      <td>14 erlanger str</td>\n      <td>theodor barth str</td>\n      <td>uttenreuth</td>\n      <td>achim</td>\n      <td>91080</td>\n      <td>28832</td>\n      <td>NaN</td>\n      <td>NaN</td>\n      <td>DE</td>\n      <td>DE</td>\n    </tr>\n    <tr>\n      <th>1e180a85</th>\n      <th>c7c7deb2</th>\n      <td>kugellager shop</td>\n      <td>spie deutschland system integration</td>\n      <td>64 bismarckstr</td>\n      <td>9 rudolfstr</td>\n      <td>berlin</td>\n      <td>berlin</td>\n      <td>13585</td>\n      <td>10245</td>\n      <td>NaN</td>\n      <td>537617008.0</td>\n      <td>DE</td>\n      <td>DE</td>\n    </tr>\n    <tr>\n      <th>de51d1e5</th>\n      <th>61f33364</th>\n      <td>von roll uk limited</td>\n      <td>thales uk limited</td>\n      <td>wharfedale road</td>\n      <td>manor road</td>\n      <td>bradford</td>\n      <td>crawley</td>\n      <td>bd4 6sg</td>\n      <td>rh109ha</td>\n      <td>21309974.0</td>\n      <td>NaN</td>\n      <td>GB</td>\n      <td>GB</td>\n    </tr>\n  </tbody>\n</table>\n</div>"
     },
     "metadata": {},
     "output_type": "execute_result",
     "execution_count": 97
    }
   ],
   "source": [
    "negative_matches = y_pred.loc[y_pred == 0.0].index\n",
    "print('Showing negativematches')\n",
    "Xsbs.loc[negative_matches].sample(5)\n",
    "\n"
   ],
   "metadata": {
    "collapsed": false,
    "pycharm": {
     "name": "#%%\n",
     "is_executing": false
    }
   }
  }
 ],
 "metadata": {
  "kernelspec": {
   "display_name": "Python 3",
   "language": "python",
   "name": "python3"
  },
  "language_info": {
   "codemirror_mode": {
    "name": "ipython",
    "version": 2
   },
   "file_extension": ".py",
   "mimetype": "text/x-python",
   "name": "python",
   "nbconvert_exporter": "python",
   "pygments_lexer": "ipython2",
   "version": "2.7.6"
  },
  "pycharm": {
   "stem_cell": {
    "cell_type": "raw",
    "source": [],
    "metadata": {
     "collapsed": false
    }
   }
  }
 },
 "nbformat": 4,
 "nbformat_minor": 0
}