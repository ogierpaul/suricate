{
 "cells": [
  {
   "cell_type": "markdown",
   "metadata": {
    "collapsed": true,
    "pycharm": {
     "name": "#%% md\n"
    }
   },
   "source": [
    "# Step - by - step Guide to finding potential matches with Elastic Search\n",
    "1. Prepare the data\n",
    "2. Push the data to Elastic Search\n",
    "3. Create the first similarity matrix\n",
    "4. Do further scoring and add new features to the similarity matrix\n",
    "5. Train a machine learning model on the data\n",
    " "
   ]
  },
  {
   "cell_type": "markdown",
   "metadata": {
    "pycharm": {
     "name": "#%% md\n"
    }
   },
   "source": [
    "## 1. Load the data"
   ]
  },
  {
   "cell_type": "code",
   "execution_count": 7,
   "metadata": {
    "pycharm": {
     "is_executing": false,
     "name": "#%%\n"
    }
   },
   "outputs": [],
   "source": [
    "import numpy as np\n",
    "import pandas as pd\n",
    "from suricate.data.companies import getsource, gettarget, getytrue\n",
    "nrows = 100"
   ]
  },
  {
   "cell_type": "code",
   "execution_count": 8,
   "metadata": {
    "pycharm": {
     "is_executing": false,
     "name": "#%%\n"
    }
   },
   "outputs": [
    {
     "name": "stdout",
     "output_type": "stream",
     "text": [
      "Number of rows in source data:100\n"
     ]
    },
    {
     "data": {
      "text/html": [
       "<div>\n",
       "<style scoped>\n",
       "    .dataframe tbody tr th:only-of-type {\n",
       "        vertical-align: middle;\n",
       "    }\n",
       "\n",
       "    .dataframe tbody tr th {\n",
       "        vertical-align: top;\n",
       "    }\n",
       "\n",
       "    .dataframe thead th {\n",
       "        text-align: right;\n",
       "    }\n",
       "</style>\n",
       "<table border=\"1\" class=\"dataframe\">\n",
       "  <thead>\n",
       "    <tr style=\"text-align: right;\">\n",
       "      <th></th>\n",
       "      <th>name</th>\n",
       "      <th>street</th>\n",
       "      <th>city</th>\n",
       "      <th>postalcode</th>\n",
       "      <th>duns</th>\n",
       "      <th>countrycode</th>\n",
       "    </tr>\n",
       "    <tr>\n",
       "      <th>ix</th>\n",
       "      <th></th>\n",
       "      <th></th>\n",
       "      <th></th>\n",
       "      <th></th>\n",
       "      <th></th>\n",
       "      <th></th>\n",
       "    </tr>\n",
       "  </thead>\n",
       "  <tbody>\n",
       "    <tr>\n",
       "      <th>7deb146f</th>\n",
       "      <td>smiths aerospace electronic systems</td>\n",
       "      <td>cheltenham</td>\n",
       "      <td>cheltenham</td>\n",
       "      <td>gl528sf</td>\n",
       "      <td>NaN</td>\n",
       "      <td>GB</td>\n",
       "    </tr>\n",
       "    <tr>\n",
       "      <th>7675fecc</th>\n",
       "      <td>salicru electronics</td>\n",
       "      <td>calle parque ind</td>\n",
       "      <td>seville</td>\n",
       "      <td>41016</td>\n",
       "      <td>NaN</td>\n",
       "      <td>ES</td>\n",
       "    </tr>\n",
       "    <tr>\n",
       "      <th>9b938f7e</th>\n",
       "      <td>siemens ag</td>\n",
       "      <td>16 sieboldstr</td>\n",
       "      <td>erlangen</td>\n",
       "      <td>91052</td>\n",
       "      <td>342558576.0</td>\n",
       "      <td>DE</td>\n",
       "    </tr>\n",
       "    <tr>\n",
       "      <th>77ca58f8</th>\n",
       "      <td>buchde</td>\n",
       "      <td>an den speichern</td>\n",
       "      <td>munster</td>\n",
       "      <td>48157</td>\n",
       "      <td>31539316.0</td>\n",
       "      <td>DE</td>\n",
       "    </tr>\n",
       "    <tr>\n",
       "      <th>19c06e93</th>\n",
       "      <td>denzel kg</td>\n",
       "      <td>12 mhlwinkel</td>\n",
       "      <td>wertingen</td>\n",
       "      <td>86637</td>\n",
       "      <td>316456565.0</td>\n",
       "      <td>DE</td>\n",
       "    </tr>\n",
       "  </tbody>\n",
       "</table>\n",
       "</div>"
      ],
      "text/plain": [
       "                                         name            street        city  \\\n",
       "ix                                                                            \n",
       "7deb146f  smiths aerospace electronic systems        cheltenham  cheltenham   \n",
       "7675fecc                  salicru electronics  calle parque ind     seville   \n",
       "9b938f7e                           siemens ag     16 sieboldstr    erlangen   \n",
       "77ca58f8                               buchde  an den speichern     munster   \n",
       "19c06e93                            denzel kg      12 mhlwinkel   wertingen   \n",
       "\n",
       "         postalcode         duns countrycode  \n",
       "ix                                            \n",
       "7deb146f    gl528sf          NaN          GB  \n",
       "7675fecc      41016          NaN          ES  \n",
       "9b938f7e      91052  342558576.0          DE  \n",
       "77ca58f8      48157   31539316.0          DE  \n",
       "19c06e93      86637  316456565.0          DE  "
      ]
     },
     "execution_count": 8,
     "metadata": {},
     "output_type": "execute_result"
    }
   ],
   "source": [
    "df_source = getsource(nrows=nrows)\n",
    "print('Number of rows in source data:{}'.format(df_source.shape[0]))\n",
    "df_source.sample(5)"
   ]
  },
  {
   "cell_type": "code",
   "execution_count": 9,
   "metadata": {
    "pycharm": {
     "is_executing": false,
     "name": "#%%\n"
    }
   },
   "outputs": [
    {
     "name": "stdout",
     "output_type": "stream",
     "text": [
      "Number of rows in target data:100\n"
     ]
    },
    {
     "data": {
      "text/html": [
       "<div>\n",
       "<style scoped>\n",
       "    .dataframe tbody tr th:only-of-type {\n",
       "        vertical-align: middle;\n",
       "    }\n",
       "\n",
       "    .dataframe tbody tr th {\n",
       "        vertical-align: top;\n",
       "    }\n",
       "\n",
       "    .dataframe thead th {\n",
       "        text-align: right;\n",
       "    }\n",
       "</style>\n",
       "<table border=\"1\" class=\"dataframe\">\n",
       "  <thead>\n",
       "    <tr style=\"text-align: right;\">\n",
       "      <th></th>\n",
       "      <th>name</th>\n",
       "      <th>street</th>\n",
       "      <th>city</th>\n",
       "      <th>postalcode</th>\n",
       "      <th>duns</th>\n",
       "      <th>countrycode</th>\n",
       "    </tr>\n",
       "    <tr>\n",
       "      <th>ix</th>\n",
       "      <th></th>\n",
       "      <th></th>\n",
       "      <th></th>\n",
       "      <th></th>\n",
       "      <th></th>\n",
       "      <th></th>\n",
       "    </tr>\n",
       "  </thead>\n",
       "  <tbody>\n",
       "    <tr>\n",
       "      <th>591099fe</th>\n",
       "      <td>nespresso deutschland gmbh</td>\n",
       "      <td>speditionsstrae</td>\n",
       "      <td>dusseldorf</td>\n",
       "      <td>40221</td>\n",
       "      <td>NaN</td>\n",
       "      <td>DE</td>\n",
       "    </tr>\n",
       "    <tr>\n",
       "      <th>484866fb</th>\n",
       "      <td>ea elektro automatik</td>\n",
       "      <td>31 37 helmholtzstr</td>\n",
       "      <td>viersen</td>\n",
       "      <td>41747</td>\n",
       "      <td>330862074.0</td>\n",
       "      <td>DE</td>\n",
       "    </tr>\n",
       "    <tr>\n",
       "      <th>251a3154</th>\n",
       "      <td>aalco metall</td>\n",
       "      <td>12 aindlinger str</td>\n",
       "      <td>augsburg</td>\n",
       "      <td>86167</td>\n",
       "      <td>333354707.0</td>\n",
       "      <td>DE</td>\n",
       "    </tr>\n",
       "    <tr>\n",
       "      <th>c2e5b14f</th>\n",
       "      <td>marketline</td>\n",
       "      <td>sheepen place</td>\n",
       "      <td>colchester</td>\n",
       "      <td>co3 3lp</td>\n",
       "      <td>NaN</td>\n",
       "      <td>GB</td>\n",
       "    </tr>\n",
       "    <tr>\n",
       "      <th>ab364b25</th>\n",
       "      <td>c and g tool and cutter co ltd c and g tool an...</td>\n",
       "      <td>north road</td>\n",
       "      <td>yate</td>\n",
       "      <td>bs17 5lq</td>\n",
       "      <td>NaN</td>\n",
       "      <td>GB</td>\n",
       "    </tr>\n",
       "  </tbody>\n",
       "</table>\n",
       "</div>"
      ],
      "text/plain": [
       "                                                       name  \\\n",
       "ix                                                            \n",
       "591099fe                         nespresso deutschland gmbh   \n",
       "484866fb                               ea elektro automatik   \n",
       "251a3154                                       aalco metall   \n",
       "c2e5b14f                                         marketline   \n",
       "ab364b25  c and g tool and cutter co ltd c and g tool an...   \n",
       "\n",
       "                      street        city postalcode         duns countrycode  \n",
       "ix                                                                            \n",
       "591099fe     speditionsstrae  dusseldorf      40221          NaN          DE  \n",
       "484866fb  31 37 helmholtzstr     viersen      41747  330862074.0          DE  \n",
       "251a3154   12 aindlinger str    augsburg      86167  333354707.0          DE  \n",
       "c2e5b14f       sheepen place  colchester    co3 3lp          NaN          GB  \n",
       "ab364b25          north road        yate   bs17 5lq          NaN          GB  "
      ]
     },
     "execution_count": 9,
     "metadata": {},
     "output_type": "execute_result"
    }
   ],
   "source": [
    "df_target = gettarget(nrows=nrows)\n",
    "print('Number of rows in target data:{}'.format(df_target.shape[0]))\n",
    "df_target.sample(5)"
   ]
  },
  {
   "cell_type": "code",
   "execution_count": 10,
   "metadata": {},
   "outputs": [],
   "source": [
    "Xst = [df_source, df_target]"
   ]
  },
  {
   "cell_type": "markdown",
   "metadata": {
    "pycharm": {
     "name": "#%% md\n"
    }
   },
   "source": [
    "## 2. Create the similarity matrix"
   ]
  },
  {
   "cell_type": "code",
   "execution_count": 46,
   "metadata": {
    "pycharm": {
     "is_executing": false,
     "name": "#%%\n"
    }
   },
   "outputs": [
    {
     "name": "stdout",
     "output_type": "stream",
     "text": [
      "(10000, 8)\n"
     ]
    },
    {
     "data": {
      "text/html": [
       "<div>\n",
       "<style scoped>\n",
       "    .dataframe tbody tr th:only-of-type {\n",
       "        vertical-align: middle;\n",
       "    }\n",
       "\n",
       "    .dataframe tbody tr th {\n",
       "        vertical-align: top;\n",
       "    }\n",
       "\n",
       "    .dataframe thead th {\n",
       "        text-align: right;\n",
       "    }\n",
       "</style>\n",
       "<table border=\"1\" class=\"dataframe\">\n",
       "  <thead>\n",
       "    <tr style=\"text-align: right;\">\n",
       "      <th></th>\n",
       "      <th></th>\n",
       "      <th>name_vecword</th>\n",
       "      <th>name_vecchar</th>\n",
       "      <th>street_vecword</th>\n",
       "      <th>street_vecchar</th>\n",
       "      <th>city_vecchar</th>\n",
       "      <th>postalcode_exact</th>\n",
       "      <th>duns_exact</th>\n",
       "      <th>countrycode_exact</th>\n",
       "    </tr>\n",
       "    <tr>\n",
       "      <th>ix_source</th>\n",
       "      <th>ix_target</th>\n",
       "      <th></th>\n",
       "      <th></th>\n",
       "      <th></th>\n",
       "      <th></th>\n",
       "      <th></th>\n",
       "      <th></th>\n",
       "      <th></th>\n",
       "      <th></th>\n",
       "    </tr>\n",
       "  </thead>\n",
       "  <tbody>\n",
       "    <tr>\n",
       "      <th>e8c68ece</th>\n",
       "      <th>3cbe1b93</th>\n",
       "      <td>0.000000</td>\n",
       "      <td>0.064568</td>\n",
       "      <td>0.0</td>\n",
       "      <td>0.067782</td>\n",
       "      <td>0.000000</td>\n",
       "      <td>0.0</td>\n",
       "      <td>0.0</td>\n",
       "      <td>0.0</td>\n",
       "    </tr>\n",
       "    <tr>\n",
       "      <th>97571df1</th>\n",
       "      <th>ab00128c</th>\n",
       "      <td>0.054105</td>\n",
       "      <td>0.126078</td>\n",
       "      <td>0.0</td>\n",
       "      <td>0.038994</td>\n",
       "      <td>0.031912</td>\n",
       "      <td>0.0</td>\n",
       "      <td>0.0</td>\n",
       "      <td>1.0</td>\n",
       "    </tr>\n",
       "    <tr>\n",
       "      <th>0ad4aa46</th>\n",
       "      <th>ab364b25</th>\n",
       "      <td>0.000000</td>\n",
       "      <td>0.149259</td>\n",
       "      <td>0.0</td>\n",
       "      <td>0.032903</td>\n",
       "      <td>0.020106</td>\n",
       "      <td>0.0</td>\n",
       "      <td>0.0</td>\n",
       "      <td>0.0</td>\n",
       "    </tr>\n",
       "    <tr>\n",
       "      <th>fe5db42f</th>\n",
       "      <th>7091755c</th>\n",
       "      <td>0.000000</td>\n",
       "      <td>0.084757</td>\n",
       "      <td>0.0</td>\n",
       "      <td>0.064860</td>\n",
       "      <td>0.011970</td>\n",
       "      <td>0.0</td>\n",
       "      <td>0.0</td>\n",
       "      <td>0.0</td>\n",
       "    </tr>\n",
       "  </tbody>\n",
       "</table>\n",
       "</div>"
      ],
      "text/plain": [
       "                     name_vecword  name_vecchar  street_vecword  \\\n",
       "ix_source ix_target                                               \n",
       "e8c68ece  3cbe1b93       0.000000      0.064568             0.0   \n",
       "97571df1  ab00128c       0.054105      0.126078             0.0   \n",
       "0ad4aa46  ab364b25       0.000000      0.149259             0.0   \n",
       "fe5db42f  7091755c       0.000000      0.084757             0.0   \n",
       "\n",
       "                     street_vecchar  city_vecchar  postalcode_exact  \\\n",
       "ix_source ix_target                                                   \n",
       "e8c68ece  3cbe1b93         0.067782      0.000000               0.0   \n",
       "97571df1  ab00128c         0.038994      0.031912               0.0   \n",
       "0ad4aa46  ab364b25         0.032903      0.020106               0.0   \n",
       "fe5db42f  7091755c         0.064860      0.011970               0.0   \n",
       "\n",
       "                     duns_exact  countrycode_exact  \n",
       "ix_source ix_target                                 \n",
       "e8c68ece  3cbe1b93          0.0                0.0  \n",
       "97571df1  ab00128c          0.0                1.0  \n",
       "0ad4aa46  ab364b25          0.0                0.0  \n",
       "fe5db42f  7091755c          0.0                0.0  "
      ]
     },
     "execution_count": 46,
     "metadata": {},
     "output_type": "execute_result"
    }
   ],
   "source": [
    "from suricate.dftransformers import DfApplyComparator, VectorizerConnector, ExactConnector, cartesian_join\n",
    "from suricate.preutils import createmultiindex\n",
    "from sklearn.pipeline import Pipeline, FeatureUnion\n",
    "from sklearn.impute import SimpleImputer as Imputer\n",
    "from sklearn.preprocessing import StandardScaler\n",
    "from sklearn.decomposition import PCA\n",
    "scores = [\n",
    "    ('name_vecword', VectorizerConnector(on='name', analyzer='word', ngram_range=(1,2))),\n",
    "    ('name_vecchar', VectorizerConnector(on='name', analyzer='char', ngram_range=(1,3))),\n",
    "    ('street_vecword', VectorizerConnector(on='street', analyzer='word', ngram_range=(1,2))),\n",
    "    ('street_vecchar', VectorizerConnector(on='street', analyzer='char', ngram_range=(1,3))),\n",
    "    ('city_vecchar', VectorizerConnector(on='city', analyzer='char', ngram_range=(1,3))),\n",
    "    ('postalcode_exact', ExactConnector(on='postalcode')),\n",
    "    ('duns_exact', ExactConnector(on='duns')),\n",
    "    ('countrycode_exact', ExactConnector(on='countrycode'))\n",
    "]\n",
    "transformer = FeatureUnion(scores)\n",
    "X_score = transformer.fit_transform(X=Xst)\n",
    "print(X_score.shape)\n",
    "ix_con = createmultiindex(X=Xst)\n",
    "X_score = pd.DataFrame(data=X_score, columns = [c[0] for c in scores], index=ix_con)\n",
    "X_score.sample(4)"
   ]
  },
  {
   "cell_type": "markdown",
   "metadata": {},
   "source": [
    "## 3. Apply the Machine-Learning Model"
   ]
  },
  {
   "cell_type": "code",
   "execution_count": 35,
   "metadata": {
    "pycharm": {
     "is_executing": false,
     "name": "#%%\n"
    }
   },
   "outputs": [],
   "source": [
    "from sklearn.pipeline import Pipeline\n",
    "from sklearn.impute import SimpleImputer\n",
    "from sklearn.preprocessing import Normalizer\n",
    "from sklearn.decomposition import PCA\n",
    "from sklearn.linear_model import LogisticRegressionCV\n",
    "from sklearn.model_selection import cross_validate"
   ]
  },
  {
   "cell_type": "markdown",
   "metadata": {
    "pycharm": {
     "name": "#%% md\n"
    }
   },
   "source": [
    "for expediency, we will use the y_true already saved"
   ]
  },
  {
   "cell_type": "code",
   "execution_count": 17,
   "metadata": {
    "pycharm": {
     "is_executing": false,
     "name": "#%%\n"
    }
   },
   "outputs": [
    {
     "name": "stdout",
     "output_type": "stream",
     "text": [
      "Number of data in training:10000\n"
     ]
    }
   ],
   "source": [
    "y_true = getytrue().loc[ix_con]\n",
    "print('Number of data in training:{}'.format(y_true.shape[0]))"
   ]
  },
  {
   "cell_type": "markdown",
   "metadata": {
    "pycharm": {
     "is_executing": false,
     "name": "#%% md\n"
    }
   },
   "source": [
    "### Make the pipeline"
   ]
  },
  {
   "cell_type": "code",
   "execution_count": 37,
   "metadata": {
    "pycharm": {
     "is_executing": false,
     "name": "#%%\n"
    }
   },
   "outputs": [
    {
     "name": "stdout",
     "output_type": "stream",
     "text": [
      "precision score: 0.96\n",
      "recall score: 0.875\n",
      "accuracy score: 0.9993000000000001\n"
     ]
    }
   ],
   "source": [
    "pipe = Pipeline([\n",
    "    ('imputer', Imputer(strategy='constant', fill_value=0)),\n",
    "    ('scaler', StandardScaler()),\n",
    "    ('pca', PCA(n_components=3)),\n",
    "    ('classifier', LogisticRegressionCV(cv=5))\n",
    "])\n",
    "scoring = ['precision', 'recall', 'accuracy']\n",
    "scores = cross_validate(estimator=pipe, X=X_score, y=y_true, scoring=scoring, cv=5)\n",
    "for c in scoring:\n",
    "    print('{} score: {}'.format(c, np.average(scores['test_'+c])))"
   ]
  },
  {
   "cell_type": "code",
   "execution_count": 47,
   "metadata": {
    "pycharm": {
     "is_executing": false,
     "name": "#%%\n"
    }
   },
   "outputs": [],
   "source": [
    "pipe.fit(X=X_score, y=y_true)\n",
    "y_pred = pd.Series(data=pipe.predict(X=X_score), index=ix_con, name='y_pred')"
   ]
  },
  {
   "cell_type": "code",
   "execution_count": 48,
   "metadata": {},
   "outputs": [],
   "source": [
    "X_sbs = cartesian_join(source=df_source, target=df_target).set_index(['ix_source', 'ix_target'])"
   ]
  },
  {
   "cell_type": "code",
   "execution_count": 50,
   "metadata": {
    "pycharm": {
     "is_executing": false,
     "name": "#%%\n"
    }
   },
   "outputs": [
    {
     "name": "stdout",
     "output_type": "stream",
     "text": [
      "Showing positive matches\n"
     ]
    },
    {
     "data": {
      "text/html": [
       "<div>\n",
       "<style scoped>\n",
       "    .dataframe tbody tr th:only-of-type {\n",
       "        vertical-align: middle;\n",
       "    }\n",
       "\n",
       "    .dataframe tbody tr th {\n",
       "        vertical-align: top;\n",
       "    }\n",
       "\n",
       "    .dataframe thead th {\n",
       "        text-align: right;\n",
       "    }\n",
       "</style>\n",
       "<table border=\"1\" class=\"dataframe\">\n",
       "  <thead>\n",
       "    <tr style=\"text-align: right;\">\n",
       "      <th></th>\n",
       "      <th></th>\n",
       "      <th>name_source</th>\n",
       "      <th>street_source</th>\n",
       "      <th>city_source</th>\n",
       "      <th>postalcode_source</th>\n",
       "      <th>duns_source</th>\n",
       "      <th>countrycode_source</th>\n",
       "      <th>name_target</th>\n",
       "      <th>street_target</th>\n",
       "      <th>city_target</th>\n",
       "      <th>postalcode_target</th>\n",
       "      <th>duns_target</th>\n",
       "      <th>countrycode_target</th>\n",
       "    </tr>\n",
       "    <tr>\n",
       "      <th>ix_source</th>\n",
       "      <th>ix_target</th>\n",
       "      <th></th>\n",
       "      <th></th>\n",
       "      <th></th>\n",
       "      <th></th>\n",
       "      <th></th>\n",
       "      <th></th>\n",
       "      <th></th>\n",
       "      <th></th>\n",
       "      <th></th>\n",
       "      <th></th>\n",
       "      <th></th>\n",
       "      <th></th>\n",
       "    </tr>\n",
       "  </thead>\n",
       "  <tbody>\n",
       "    <tr>\n",
       "      <th>c6401891</th>\n",
       "      <th>17ce75d1</th>\n",
       "      <td>dr ing k busch gmbh</td>\n",
       "      <td>1 schauinslandstr</td>\n",
       "      <td>maulburg</td>\n",
       "      <td>79689</td>\n",
       "      <td>NaN</td>\n",
       "      <td>DE</td>\n",
       "      <td>k busch gmbh</td>\n",
       "      <td>1 schauinslandstr</td>\n",
       "      <td>maulburg</td>\n",
       "      <td>79689</td>\n",
       "      <td>317541456.0</td>\n",
       "      <td>DE</td>\n",
       "    </tr>\n",
       "    <tr>\n",
       "      <th>fe5db42f</th>\n",
       "      <th>666666f3</th>\n",
       "      <td>le joint francais</td>\n",
       "      <td>centre administratif</td>\n",
       "      <td>thure</td>\n",
       "      <td>86540</td>\n",
       "      <td>NaN</td>\n",
       "      <td>FR</td>\n",
       "      <td>le joint francais</td>\n",
       "      <td>centre services partages</td>\n",
       "      <td>thure</td>\n",
       "      <td>86540</td>\n",
       "      <td>766251516.0</td>\n",
       "      <td>FR</td>\n",
       "    </tr>\n",
       "    <tr>\n",
       "      <th>2b6c43e5</th>\n",
       "      <th>71d680b3</th>\n",
       "      <td>industrie und</td>\n",
       "      <td>fasanenstr</td>\n",
       "      <td>berlin</td>\n",
       "      <td>10623</td>\n",
       "      <td>NaN</td>\n",
       "      <td>DE</td>\n",
       "      <td>industrie und handelskammer</td>\n",
       "      <td>fasanenstr</td>\n",
       "      <td>berlin</td>\n",
       "      <td>10623</td>\n",
       "      <td>NaN</td>\n",
       "      <td>DE</td>\n",
       "    </tr>\n",
       "    <tr>\n",
       "      <th>8b5d81b9</th>\n",
       "      <th>591099fe</th>\n",
       "      <td>nespresso deutschland gmbh</td>\n",
       "      <td>23 speditionstr</td>\n",
       "      <td>dusseldorf</td>\n",
       "      <td>40221</td>\n",
       "      <td>333868649.0</td>\n",
       "      <td>DE</td>\n",
       "      <td>nespresso deutschland gmbh</td>\n",
       "      <td>speditionsstrae</td>\n",
       "      <td>dusseldorf</td>\n",
       "      <td>40221</td>\n",
       "      <td>NaN</td>\n",
       "      <td>DE</td>\n",
       "    </tr>\n",
       "    <tr>\n",
       "      <th>f02cb731</th>\n",
       "      <th>f02cb731</th>\n",
       "      <td>selex sensos and airborne systems</td>\n",
       "      <td>lg</td>\n",
       "      <td>edinburgh</td>\n",
       "      <td>28000</td>\n",
       "      <td>23226769.0</td>\n",
       "      <td>ES</td>\n",
       "      <td>selex sensos and airborne systems</td>\n",
       "      <td>lg</td>\n",
       "      <td>edinburgh</td>\n",
       "      <td>28000</td>\n",
       "      <td>23226769.0</td>\n",
       "      <td>ES</td>\n",
       "    </tr>\n",
       "  </tbody>\n",
       "</table>\n",
       "</div>"
      ],
      "text/plain": [
       "                                           name_source         street_source  \\\n",
       "ix_source ix_target                                                            \n",
       "c6401891  17ce75d1                 dr ing k busch gmbh     1 schauinslandstr   \n",
       "fe5db42f  666666f3                   le joint francais  centre administratif   \n",
       "2b6c43e5  71d680b3                       industrie und            fasanenstr   \n",
       "8b5d81b9  591099fe          nespresso deutschland gmbh       23 speditionstr   \n",
       "f02cb731  f02cb731   selex sensos and airborne systems                    lg   \n",
       "\n",
       "                    city_source postalcode_source  duns_source  \\\n",
       "ix_source ix_target                                              \n",
       "c6401891  17ce75d1     maulburg             79689          NaN   \n",
       "fe5db42f  666666f3        thure             86540          NaN   \n",
       "2b6c43e5  71d680b3       berlin             10623          NaN   \n",
       "8b5d81b9  591099fe   dusseldorf             40221  333868649.0   \n",
       "f02cb731  f02cb731    edinburgh             28000   23226769.0   \n",
       "\n",
       "                    countrycode_source                        name_target  \\\n",
       "ix_source ix_target                                                         \n",
       "c6401891  17ce75d1                  DE                       k busch gmbh   \n",
       "fe5db42f  666666f3                  FR                  le joint francais   \n",
       "2b6c43e5  71d680b3                  DE        industrie und handelskammer   \n",
       "8b5d81b9  591099fe                  DE         nespresso deutschland gmbh   \n",
       "f02cb731  f02cb731                  ES  selex sensos and airborne systems   \n",
       "\n",
       "                                street_target city_target postalcode_target  \\\n",
       "ix_source ix_target                                                           \n",
       "c6401891  17ce75d1          1 schauinslandstr    maulburg             79689   \n",
       "fe5db42f  666666f3   centre services partages       thure             86540   \n",
       "2b6c43e5  71d680b3                 fasanenstr      berlin             10623   \n",
       "8b5d81b9  591099fe            speditionsstrae  dusseldorf             40221   \n",
       "f02cb731  f02cb731                         lg   edinburgh             28000   \n",
       "\n",
       "                     duns_target countrycode_target  \n",
       "ix_source ix_target                                  \n",
       "c6401891  17ce75d1   317541456.0                 DE  \n",
       "fe5db42f  666666f3   766251516.0                 FR  \n",
       "2b6c43e5  71d680b3           NaN                 DE  \n",
       "8b5d81b9  591099fe           NaN                 DE  \n",
       "f02cb731  f02cb731    23226769.0                 ES  "
      ]
     },
     "execution_count": 50,
     "metadata": {},
     "output_type": "execute_result"
    }
   ],
   "source": [
    "positive_matches = y_pred.loc[y_pred == 1.0].index\n",
    "print('Showing positive matches')\n",
    "X_sbs.loc[positive_matches].sample(5)"
   ]
  },
  {
   "cell_type": "code",
   "execution_count": 52,
   "metadata": {
    "pycharm": {
     "is_executing": false,
     "name": "#%%\n"
    }
   },
   "outputs": [
    {
     "name": "stdout",
     "output_type": "stream",
     "text": [
      "Showing negativematches\n"
     ]
    },
    {
     "data": {
      "text/html": [
       "<div>\n",
       "<style scoped>\n",
       "    .dataframe tbody tr th:only-of-type {\n",
       "        vertical-align: middle;\n",
       "    }\n",
       "\n",
       "    .dataframe tbody tr th {\n",
       "        vertical-align: top;\n",
       "    }\n",
       "\n",
       "    .dataframe thead th {\n",
       "        text-align: right;\n",
       "    }\n",
       "</style>\n",
       "<table border=\"1\" class=\"dataframe\">\n",
       "  <thead>\n",
       "    <tr style=\"text-align: right;\">\n",
       "      <th></th>\n",
       "      <th></th>\n",
       "      <th>name_source</th>\n",
       "      <th>street_source</th>\n",
       "      <th>city_source</th>\n",
       "      <th>postalcode_source</th>\n",
       "      <th>duns_source</th>\n",
       "      <th>countrycode_source</th>\n",
       "      <th>name_target</th>\n",
       "      <th>street_target</th>\n",
       "      <th>city_target</th>\n",
       "      <th>postalcode_target</th>\n",
       "      <th>duns_target</th>\n",
       "      <th>countrycode_target</th>\n",
       "    </tr>\n",
       "    <tr>\n",
       "      <th>ix_source</th>\n",
       "      <th>ix_target</th>\n",
       "      <th></th>\n",
       "      <th></th>\n",
       "      <th></th>\n",
       "      <th></th>\n",
       "      <th></th>\n",
       "      <th></th>\n",
       "      <th></th>\n",
       "      <th></th>\n",
       "      <th></th>\n",
       "      <th></th>\n",
       "      <th></th>\n",
       "      <th></th>\n",
       "    </tr>\n",
       "  </thead>\n",
       "  <tbody>\n",
       "    <tr>\n",
       "      <th>4c115719</th>\n",
       "      <th>afac4773</th>\n",
       "      <td>hamilton sundstrand aerospace</td>\n",
       "      <td>4747 harrison ave</td>\n",
       "      <td>rockford</td>\n",
       "      <td>61108-7929</td>\n",
       "      <td>NaN</td>\n",
       "      <td>US</td>\n",
       "      <td>parcom gmbh</td>\n",
       "      <td>ewald renz str</td>\n",
       "      <td>bad schonborn</td>\n",
       "      <td>76669</td>\n",
       "      <td>NaN</td>\n",
       "      <td>DE</td>\n",
       "    </tr>\n",
       "    <tr>\n",
       "      <th>150322b3</th>\n",
       "      <th>ab364b25</th>\n",
       "      <td>fako gmbh</td>\n",
       "      <td>peutestr</td>\n",
       "      <td>hamburg</td>\n",
       "      <td>20539</td>\n",
       "      <td>313518398.0</td>\n",
       "      <td>DE</td>\n",
       "      <td>c and g tool and cutter co ltd c and g tool an...</td>\n",
       "      <td>north road</td>\n",
       "      <td>yate</td>\n",
       "      <td>bs17 5lq</td>\n",
       "      <td>NaN</td>\n",
       "      <td>GB</td>\n",
       "    </tr>\n",
       "    <tr>\n",
       "      <th>0908a0aa</th>\n",
       "      <th>6065ae26</th>\n",
       "      <td>selex es spa</td>\n",
       "      <td>4 piazza monte grappa</td>\n",
       "      <td>rome</td>\n",
       "      <td>195</td>\n",
       "      <td>NaN</td>\n",
       "      <td>IT</td>\n",
       "      <td>eriks gmbh</td>\n",
       "      <td>bronninghauser str</td>\n",
       "      <td>bielefeld</td>\n",
       "      <td>33729</td>\n",
       "      <td>NaN</td>\n",
       "      <td>DE</td>\n",
       "    </tr>\n",
       "    <tr>\n",
       "      <th>dcc308de</th>\n",
       "      <th>6065ae26</th>\n",
       "      <td>drei bond gmbh</td>\n",
       "      <td>17 carl zeiss ring</td>\n",
       "      <td>ismaning</td>\n",
       "      <td>85737</td>\n",
       "      <td>319143681.0</td>\n",
       "      <td>DE</td>\n",
       "      <td>eriks gmbh</td>\n",
       "      <td>bronninghauser str</td>\n",
       "      <td>bielefeld</td>\n",
       "      <td>33729</td>\n",
       "      <td>NaN</td>\n",
       "      <td>DE</td>\n",
       "    </tr>\n",
       "    <tr>\n",
       "      <th>8c071814</th>\n",
       "      <th>f8db7942</th>\n",
       "      <td>ge aviation systems ltdcustomer services</td>\n",
       "      <td>evesham road</td>\n",
       "      <td>cheltenham</td>\n",
       "      <td>gl528sf</td>\n",
       "      <td>211207784.0</td>\n",
       "      <td>GB</td>\n",
       "      <td>citaku gbr</td>\n",
       "      <td>32 papenbreede</td>\n",
       "      <td>bad essen</td>\n",
       "      <td>49152</td>\n",
       "      <td>NaN</td>\n",
       "      <td>DE</td>\n",
       "    </tr>\n",
       "  </tbody>\n",
       "</table>\n",
       "</div>"
      ],
      "text/plain": [
       "                                                  name_source  \\\n",
       "ix_source ix_target                                             \n",
       "4c115719  afac4773              hamilton sundstrand aerospace   \n",
       "150322b3  ab364b25                                  fako gmbh   \n",
       "0908a0aa  6065ae26                               selex es spa   \n",
       "dcc308de  6065ae26                             drei bond gmbh   \n",
       "8c071814  f8db7942   ge aviation systems ltdcustomer services   \n",
       "\n",
       "                             street_source city_source postalcode_source  \\\n",
       "ix_source ix_target                                                        \n",
       "4c115719  afac4773       4747 harrison ave    rockford        61108-7929   \n",
       "150322b3  ab364b25                peutestr     hamburg             20539   \n",
       "0908a0aa  6065ae26   4 piazza monte grappa        rome               195   \n",
       "dcc308de  6065ae26      17 carl zeiss ring    ismaning             85737   \n",
       "8c071814  f8db7942            evesham road  cheltenham           gl528sf   \n",
       "\n",
       "                     duns_source countrycode_source  \\\n",
       "ix_source ix_target                                   \n",
       "4c115719  afac4773           NaN                 US   \n",
       "150322b3  ab364b25   313518398.0                 DE   \n",
       "0908a0aa  6065ae26           NaN                 IT   \n",
       "dcc308de  6065ae26   319143681.0                 DE   \n",
       "8c071814  f8db7942   211207784.0                 GB   \n",
       "\n",
       "                                                           name_target  \\\n",
       "ix_source ix_target                                                      \n",
       "4c115719  afac4773                                         parcom gmbh   \n",
       "150322b3  ab364b25   c and g tool and cutter co ltd c and g tool an...   \n",
       "0908a0aa  6065ae26                                          eriks gmbh   \n",
       "dcc308de  6065ae26                                          eriks gmbh   \n",
       "8c071814  f8db7942                                          citaku gbr   \n",
       "\n",
       "                          street_target    city_target postalcode_target  \\\n",
       "ix_source ix_target                                                        \n",
       "4c115719  afac4773       ewald renz str  bad schonborn             76669   \n",
       "150322b3  ab364b25           north road           yate          bs17 5lq   \n",
       "0908a0aa  6065ae26   bronninghauser str      bielefeld             33729   \n",
       "dcc308de  6065ae26   bronninghauser str      bielefeld             33729   \n",
       "8c071814  f8db7942       32 papenbreede      bad essen             49152   \n",
       "\n",
       "                     duns_target countrycode_target  \n",
       "ix_source ix_target                                  \n",
       "4c115719  afac4773           NaN                 DE  \n",
       "150322b3  ab364b25           NaN                 GB  \n",
       "0908a0aa  6065ae26           NaN                 DE  \n",
       "dcc308de  6065ae26           NaN                 DE  \n",
       "8c071814  f8db7942           NaN                 DE  "
      ]
     },
     "execution_count": 52,
     "metadata": {},
     "output_type": "execute_result"
    }
   ],
   "source": [
    "negative_matches = y_pred.loc[y_pred == 0.0].index\n",
    "print('Showing negativematches')\n",
    "X_sbs.loc[negative_matches].sample(5)"
   ]
  },
  {
   "cell_type": "code",
   "execution_count": null,
   "metadata": {},
   "outputs": [],
   "source": []
  }
 ],
 "metadata": {
  "kernelspec": {
   "display_name": "Python 3",
   "language": "python",
   "name": "python3"
  },
  "language_info": {
   "codemirror_mode": {
    "name": "ipython",
    "version": 3
   },
   "file_extension": ".py",
   "mimetype": "text/x-python",
   "name": "python",
   "nbconvert_exporter": "python",
   "pygments_lexer": "ipython3",
   "version": "3.7.3"
  },
  "pycharm": {
   "stem_cell": {
    "cell_type": "raw",
    "metadata": {
     "collapsed": false
    },
    "source": []
   }
  }
 },
 "nbformat": 4,
 "nbformat_minor": 1
}
