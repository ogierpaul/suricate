{
 "cells": [
  {
   "cell_type": "markdown",
   "metadata": {
    "collapsed": true,
    "pycharm": {
     "name": "#%% md\n"
    }
   },
   "source": [
    "# 3-Implementing a ML Model\n",
    "1. Load the data\n",
    "2. Create the similarity matrix\n",
    "3. Apply the ML model\n",
    "4. Visualize the matches"
   ]
  },
  {
   "cell_type": "markdown",
   "metadata": {
    "pycharm": {
     "name": "#%% md\n"
    }
   },
   "source": [
    "## 1. Load the data"
   ]
  },
  {
   "cell_type": "code",
   "execution_count": 1,
   "metadata": {
    "pycharm": {
     "is_executing": false,
     "name": "#%%\n"
    }
   },
   "outputs": [],
   "source": [
    "import numpy as np\n",
    "import pandas as pd\n",
    "from suricate.data.companies import getsource, gettarget, getytrue\n",
    "nrows = 100"
   ]
  },
  {
   "cell_type": "code",
   "execution_count": 2,
   "metadata": {
    "pycharm": {
     "is_executing": false,
     "name": "#%%\n"
    }
   },
   "outputs": [
    {
     "name": "stdout",
     "output_type": "stream",
     "text": [
      "Number of rows in source data:100\n"
     ]
    },
    {
     "data": {
      "text/html": [
       "<div>\n",
       "<style scoped>\n",
       "    .dataframe tbody tr th:only-of-type {\n",
       "        vertical-align: middle;\n",
       "    }\n",
       "\n",
       "    .dataframe tbody tr th {\n",
       "        vertical-align: top;\n",
       "    }\n",
       "\n",
       "    .dataframe thead th {\n",
       "        text-align: right;\n",
       "    }\n",
       "</style>\n",
       "<table border=\"1\" class=\"dataframe\">\n",
       "  <thead>\n",
       "    <tr style=\"text-align: right;\">\n",
       "      <th></th>\n",
       "      <th>name</th>\n",
       "      <th>street</th>\n",
       "      <th>city</th>\n",
       "      <th>postalcode</th>\n",
       "      <th>duns</th>\n",
       "      <th>countrycode</th>\n",
       "    </tr>\n",
       "    <tr>\n",
       "      <th>ix</th>\n",
       "      <th></th>\n",
       "      <th></th>\n",
       "      <th></th>\n",
       "      <th></th>\n",
       "      <th></th>\n",
       "      <th></th>\n",
       "    </tr>\n",
       "  </thead>\n",
       "  <tbody>\n",
       "    <tr>\n",
       "      <th>8946d1cc</th>\n",
       "      <td>isr stephan walter</td>\n",
       "      <td>56 nahestr</td>\n",
       "      <td>rodgau</td>\n",
       "      <td>63110</td>\n",
       "      <td>NaN</td>\n",
       "      <td>DE</td>\n",
       "    </tr>\n",
       "    <tr>\n",
       "      <th>35508103</th>\n",
       "      <td>hr kommunikation</td>\n",
       "      <td>max von mller s trasse</td>\n",
       "      <td>rottenburg</td>\n",
       "      <td>84056</td>\n",
       "      <td>340190931.0</td>\n",
       "      <td>DE</td>\n",
       "    </tr>\n",
       "    <tr>\n",
       "      <th>3c4c091c</th>\n",
       "      <td>industrie und</td>\n",
       "      <td>olgastr</td>\n",
       "      <td>ulm</td>\n",
       "      <td>89073</td>\n",
       "      <td>NaN</td>\n",
       "      <td>DE</td>\n",
       "    </tr>\n",
       "    <tr>\n",
       "      <th>43cb5eea</th>\n",
       "      <td>kerb konus vertriebs gmbh</td>\n",
       "      <td>7 werner von braun str</td>\n",
       "      <td>amberg</td>\n",
       "      <td>92224</td>\n",
       "      <td>NaN</td>\n",
       "      <td>DE</td>\n",
       "    </tr>\n",
       "    <tr>\n",
       "      <th>83024ff7</th>\n",
       "      <td>battery direct gmbh</td>\n",
       "      <td>1 ewald renz str</td>\n",
       "      <td>bad schonborn</td>\n",
       "      <td>76669</td>\n",
       "      <td>331599808.0</td>\n",
       "      <td>DE</td>\n",
       "    </tr>\n",
       "  </tbody>\n",
       "</table>\n",
       "</div>"
      ],
      "text/plain": [
       "                               name                  street           city  \\\n",
       "ix                                                                           \n",
       "8946d1cc         isr stephan walter              56 nahestr         rodgau   \n",
       "35508103           hr kommunikation  max von mller s trasse     rottenburg   \n",
       "3c4c091c              industrie und                 olgastr            ulm   \n",
       "43cb5eea  kerb konus vertriebs gmbh  7 werner von braun str         amberg   \n",
       "83024ff7        battery direct gmbh        1 ewald renz str  bad schonborn   \n",
       "\n",
       "         postalcode         duns countrycode  \n",
       "ix                                            \n",
       "8946d1cc      63110          NaN          DE  \n",
       "35508103      84056  340190931.0          DE  \n",
       "3c4c091c      89073          NaN          DE  \n",
       "43cb5eea      92224          NaN          DE  \n",
       "83024ff7      76669  331599808.0          DE  "
      ]
     },
     "execution_count": 2,
     "metadata": {},
     "output_type": "execute_result"
    }
   ],
   "source": [
    "df_source = getsource(nrows=nrows)\n",
    "print('Number of rows in source data:{}'.format(df_source.shape[0]))\n",
    "df_source.sample(5)"
   ]
  },
  {
   "cell_type": "code",
   "execution_count": 3,
   "metadata": {
    "pycharm": {
     "is_executing": false,
     "name": "#%%\n"
    }
   },
   "outputs": [
    {
     "name": "stdout",
     "output_type": "stream",
     "text": [
      "Number of rows in target data:100\n"
     ]
    },
    {
     "data": {
      "text/html": [
       "<div>\n",
       "<style scoped>\n",
       "    .dataframe tbody tr th:only-of-type {\n",
       "        vertical-align: middle;\n",
       "    }\n",
       "\n",
       "    .dataframe tbody tr th {\n",
       "        vertical-align: top;\n",
       "    }\n",
       "\n",
       "    .dataframe thead th {\n",
       "        text-align: right;\n",
       "    }\n",
       "</style>\n",
       "<table border=\"1\" class=\"dataframe\">\n",
       "  <thead>\n",
       "    <tr style=\"text-align: right;\">\n",
       "      <th></th>\n",
       "      <th>name</th>\n",
       "      <th>street</th>\n",
       "      <th>city</th>\n",
       "      <th>postalcode</th>\n",
       "      <th>duns</th>\n",
       "      <th>countrycode</th>\n",
       "    </tr>\n",
       "    <tr>\n",
       "      <th>ix</th>\n",
       "      <th></th>\n",
       "      <th></th>\n",
       "      <th></th>\n",
       "      <th></th>\n",
       "      <th></th>\n",
       "      <th></th>\n",
       "    </tr>\n",
       "  </thead>\n",
       "  <tbody>\n",
       "    <tr>\n",
       "      <th>f8db7942</th>\n",
       "      <td>citaku gbr</td>\n",
       "      <td>32 papenbreede</td>\n",
       "      <td>bad essen</td>\n",
       "      <td>49152</td>\n",
       "      <td>NaN</td>\n",
       "      <td>DE</td>\n",
       "    </tr>\n",
       "    <tr>\n",
       "      <th>0b9845b5</th>\n",
       "      <td>dymacon gmbh</td>\n",
       "      <td>96 rheinstrae</td>\n",
       "      <td>darmstadt</td>\n",
       "      <td>64295</td>\n",
       "      <td>388046799.0</td>\n",
       "      <td>DE</td>\n",
       "    </tr>\n",
       "    <tr>\n",
       "      <th>71d680b3</th>\n",
       "      <td>industrie und handelskammer</td>\n",
       "      <td>fasanenstr</td>\n",
       "      <td>berlin</td>\n",
       "      <td>10623</td>\n",
       "      <td>NaN</td>\n",
       "      <td>DE</td>\n",
       "    </tr>\n",
       "    <tr>\n",
       "      <th>f3020ce6</th>\n",
       "      <td>linde technische gase gmbh</td>\n",
       "      <td>70 seitnerstr</td>\n",
       "      <td>pullach</td>\n",
       "      <td>82049</td>\n",
       "      <td>329252832.0</td>\n",
       "      <td>DE</td>\n",
       "    </tr>\n",
       "    <tr>\n",
       "      <th>94c93a16</th>\n",
       "      <td>csb battery store</td>\n",
       "      <td>14 badstr</td>\n",
       "      <td>neumarkt in der oberpfalz</td>\n",
       "      <td>92318</td>\n",
       "      <td>NaN</td>\n",
       "      <td>DE</td>\n",
       "    </tr>\n",
       "  </tbody>\n",
       "</table>\n",
       "</div>"
      ],
      "text/plain": [
       "                                 name          street  \\\n",
       "ix                                                      \n",
       "f8db7942                   citaku gbr  32 papenbreede   \n",
       "0b9845b5                 dymacon gmbh   96 rheinstrae   \n",
       "71d680b3  industrie und handelskammer      fasanenstr   \n",
       "f3020ce6   linde technische gase gmbh   70 seitnerstr   \n",
       "94c93a16            csb battery store       14 badstr   \n",
       "\n",
       "                               city postalcode         duns countrycode  \n",
       "ix                                                                       \n",
       "f8db7942                  bad essen      49152          NaN          DE  \n",
       "0b9845b5                  darmstadt      64295  388046799.0          DE  \n",
       "71d680b3                     berlin      10623          NaN          DE  \n",
       "f3020ce6                    pullach      82049  329252832.0          DE  \n",
       "94c93a16  neumarkt in der oberpfalz      92318          NaN          DE  "
      ]
     },
     "execution_count": 3,
     "metadata": {},
     "output_type": "execute_result"
    }
   ],
   "source": [
    "df_target = gettarget(nrows=nrows)\n",
    "print('Number of rows in target data:{}'.format(df_target.shape[0]))\n",
    "df_target.sample(5)"
   ]
  },
  {
   "cell_type": "code",
   "execution_count": 4,
   "metadata": {},
   "outputs": [],
   "source": [
    "Xst = [df_source, df_target]"
   ]
  },
  {
   "cell_type": "markdown",
   "metadata": {
    "pycharm": {
     "name": "#%% md\n"
    }
   },
   "source": [
    "## 2. Create the similarity matrix"
   ]
  },
  {
   "cell_type": "code",
   "execution_count": 5,
   "metadata": {
    "pycharm": {
     "is_executing": false,
     "name": "#%%\n"
    }
   },
   "outputs": [
    {
     "name": "stdout",
     "output_type": "stream",
     "text": [
      "(10000, 8)\n"
     ]
    },
    {
     "data": {
      "text/html": [
       "<div>\n",
       "<style scoped>\n",
       "    .dataframe tbody tr th:only-of-type {\n",
       "        vertical-align: middle;\n",
       "    }\n",
       "\n",
       "    .dataframe tbody tr th {\n",
       "        vertical-align: top;\n",
       "    }\n",
       "\n",
       "    .dataframe thead th {\n",
       "        text-align: right;\n",
       "    }\n",
       "</style>\n",
       "<table border=\"1\" class=\"dataframe\">\n",
       "  <thead>\n",
       "    <tr style=\"text-align: right;\">\n",
       "      <th></th>\n",
       "      <th></th>\n",
       "      <th>name_vecword</th>\n",
       "      <th>name_vecchar</th>\n",
       "      <th>street_vecword</th>\n",
       "      <th>street_vecchar</th>\n",
       "      <th>city_vecchar</th>\n",
       "      <th>postalcode_exact</th>\n",
       "      <th>duns_exact</th>\n",
       "      <th>countrycode_exact</th>\n",
       "    </tr>\n",
       "    <tr>\n",
       "      <th>ix_source</th>\n",
       "      <th>ix_target</th>\n",
       "      <th></th>\n",
       "      <th></th>\n",
       "      <th></th>\n",
       "      <th></th>\n",
       "      <th></th>\n",
       "      <th></th>\n",
       "      <th></th>\n",
       "      <th></th>\n",
       "    </tr>\n",
       "  </thead>\n",
       "  <tbody>\n",
       "    <tr>\n",
       "      <th>83024ff7</th>\n",
       "      <th>d56af94b</th>\n",
       "      <td>0.04029</td>\n",
       "      <td>0.141152</td>\n",
       "      <td>0.0</td>\n",
       "      <td>0.031540</td>\n",
       "      <td>0.067234</td>\n",
       "      <td>0.0</td>\n",
       "      <td>0.0</td>\n",
       "      <td>1.0</td>\n",
       "    </tr>\n",
       "    <tr>\n",
       "      <th>3c4c091c</th>\n",
       "      <th>25d6d84f</th>\n",
       "      <td>0.00000</td>\n",
       "      <td>0.042746</td>\n",
       "      <td>0.0</td>\n",
       "      <td>0.033620</td>\n",
       "      <td>0.022540</td>\n",
       "      <td>0.0</td>\n",
       "      <td>0.0</td>\n",
       "      <td>1.0</td>\n",
       "    </tr>\n",
       "    <tr>\n",
       "      <th>43cb5eea</th>\n",
       "      <th>7554a1bb</th>\n",
       "      <td>0.03260</td>\n",
       "      <td>0.132317</td>\n",
       "      <td>0.0</td>\n",
       "      <td>0.109436</td>\n",
       "      <td>0.066043</td>\n",
       "      <td>0.0</td>\n",
       "      <td>0.0</td>\n",
       "      <td>1.0</td>\n",
       "    </tr>\n",
       "    <tr>\n",
       "      <th>f7da5ee1</th>\n",
       "      <th>eef729a2</th>\n",
       "      <td>0.04418</td>\n",
       "      <td>0.217567</td>\n",
       "      <td>0.0</td>\n",
       "      <td>0.031334</td>\n",
       "      <td>0.141088</td>\n",
       "      <td>0.0</td>\n",
       "      <td>0.0</td>\n",
       "      <td>1.0</td>\n",
       "    </tr>\n",
       "  </tbody>\n",
       "</table>\n",
       "</div>"
      ],
      "text/plain": [
       "                     name_vecword  name_vecchar  street_vecword  \\\n",
       "ix_source ix_target                                               \n",
       "83024ff7  d56af94b        0.04029      0.141152             0.0   \n",
       "3c4c091c  25d6d84f        0.00000      0.042746             0.0   \n",
       "43cb5eea  7554a1bb        0.03260      0.132317             0.0   \n",
       "f7da5ee1  eef729a2        0.04418      0.217567             0.0   \n",
       "\n",
       "                     street_vecchar  city_vecchar  postalcode_exact  \\\n",
       "ix_source ix_target                                                   \n",
       "83024ff7  d56af94b         0.031540      0.067234               0.0   \n",
       "3c4c091c  25d6d84f         0.033620      0.022540               0.0   \n",
       "43cb5eea  7554a1bb         0.109436      0.066043               0.0   \n",
       "f7da5ee1  eef729a2         0.031334      0.141088               0.0   \n",
       "\n",
       "                     duns_exact  countrycode_exact  \n",
       "ix_source ix_target                                 \n",
       "83024ff7  d56af94b          0.0                1.0  \n",
       "3c4c091c  25d6d84f          0.0                1.0  \n",
       "43cb5eea  7554a1bb          0.0                1.0  \n",
       "f7da5ee1  eef729a2          0.0                1.0  "
      ]
     },
     "execution_count": 5,
     "metadata": {},
     "output_type": "execute_result"
    }
   ],
   "source": [
    "from suricate.dftransformers import DfApplyComparator, VectorizerConnector, ExactConnector, cartesian_join\n",
    "from suricate.preutils import createmultiindex\n",
    "from sklearn.pipeline import Pipeline, FeatureUnion\n",
    "from sklearn.impute import SimpleImputer as Imputer\n",
    "from sklearn.preprocessing import StandardScaler\n",
    "from sklearn.decomposition import PCA\n",
    "scores = [\n",
    "    ('name_vecword', VectorizerConnector(on='name', analyzer='word', ngram_range=(1,2))),\n",
    "    ('name_vecchar', VectorizerConnector(on='name', analyzer='char', ngram_range=(1,3))),\n",
    "    ('street_vecword', VectorizerConnector(on='street', analyzer='word', ngram_range=(1,2))),\n",
    "    ('street_vecchar', VectorizerConnector(on='street', analyzer='char', ngram_range=(1,3))),\n",
    "    ('city_vecchar', VectorizerConnector(on='city', analyzer='char', ngram_range=(1,3))),\n",
    "    ('postalcode_exact', ExactConnector(on='postalcode')),\n",
    "    ('duns_exact', ExactConnector(on='duns')),\n",
    "    ('countrycode_exact', ExactConnector(on='countrycode'))\n",
    "]\n",
    "transformer = FeatureUnion(scores)\n",
    "X_score = transformer.fit_transform(X=Xst)\n",
    "print(X_score.shape)\n",
    "ix_con = createmultiindex(X=Xst)\n",
    "X_score = pd.DataFrame(data=X_score, columns = [c[0] for c in scores], index=ix_con)\n",
    "X_score.sample(4)"
   ]
  },
  {
   "cell_type": "markdown",
   "metadata": {},
   "source": [
    "## 3. Apply the Machine-Learning Model"
   ]
  },
  {
   "cell_type": "code",
   "execution_count": 6,
   "metadata": {
    "pycharm": {
     "is_executing": false,
     "name": "#%%\n"
    }
   },
   "outputs": [],
   "source": [
    "from sklearn.pipeline import Pipeline\n",
    "from sklearn.impute import SimpleImputer\n",
    "from sklearn.preprocessing import Normalizer\n",
    "from sklearn.decomposition import PCA\n",
    "from sklearn.linear_model import LogisticRegressionCV\n",
    "from sklearn.model_selection import cross_validate"
   ]
  },
  {
   "cell_type": "markdown",
   "metadata": {
    "pycharm": {
     "name": "#%% md\n"
    }
   },
   "source": [
    "### 3.1 Load y_true\n",
    "for expediency, we will use the y_true already saved\n",
    "y_true is supervized data"
   ]
  },
  {
   "cell_type": "code",
   "execution_count": 7,
   "metadata": {
    "pycharm": {
     "is_executing": false,
     "name": "#%%\n"
    }
   },
   "outputs": [
    {
     "name": "stdout",
     "output_type": "stream",
     "text": [
      "Number of data in training:10000\n"
     ]
    }
   ],
   "source": [
    "y_true = getytrue().loc[ix_con]\n",
    "print('Number of data in training:{}'.format(y_true.shape[0]))"
   ]
  },
  {
   "cell_type": "markdown",
   "metadata": {
    "pycharm": {
     "is_executing": false,
     "name": "#%% md\n"
    }
   },
   "source": [
    "### 3.2 Make the pipeline"
   ]
  },
  {
   "cell_type": "code",
   "execution_count": 8,
   "metadata": {
    "pycharm": {
     "is_executing": false,
     "name": "#%%\n"
    }
   },
   "outputs": [
    {
     "name": "stdout",
     "output_type": "stream",
     "text": [
      "precision score: 0.96\n",
      "recall score: 0.875\n",
      "accuracy score: 0.9993000000000001\n"
     ]
    }
   ],
   "source": [
    "pipe = Pipeline([\n",
    "    ('imputer', Imputer(strategy='constant', fill_value=0)),\n",
    "    ('scaler', StandardScaler()),\n",
    "    ('pca', PCA(n_components=3)),\n",
    "    ('classifier', LogisticRegressionCV(cv=5))\n",
    "])\n",
    "scoring = ['precision', 'recall', 'accuracy']\n",
    "scores = cross_validate(estimator=pipe, X=X_score, y=y_true, scoring=scoring, cv=5)\n",
    "for c in scoring:\n",
    "    print('{} score: {}'.format(c, np.average(scores['test_'+c])))"
   ]
  },
  {
   "cell_type": "code",
   "execution_count": 9,
   "metadata": {
    "pycharm": {
     "is_executing": false,
     "name": "#%%\n"
    }
   },
   "outputs": [],
   "source": [
    "pipe.fit(X=X_score, y=y_true)\n",
    "y_pred = pd.Series(data=pipe.predict(X=X_score), index=ix_con, name='y_pred')"
   ]
  },
  {
   "cell_type": "markdown",
   "metadata": {},
   "source": [
    "## 4. Visualize the matches"
   ]
  },
  {
   "cell_type": "code",
   "execution_count": 10,
   "metadata": {},
   "outputs": [],
   "source": [
    "X_sbs = cartesian_join(source=df_source, target=df_target)"
   ]
  },
  {
   "cell_type": "markdown",
   "metadata": {},
   "source": [
    "### 4.1. Positive matches (matching pairs)"
   ]
  },
  {
   "cell_type": "code",
   "execution_count": 11,
   "metadata": {
    "pycharm": {
     "is_executing": false,
     "name": "#%%\n"
    }
   },
   "outputs": [
    {
     "name": "stdout",
     "output_type": "stream",
     "text": [
      "Showing positive matches\n"
     ]
    },
    {
     "data": {
      "text/html": [
       "<div>\n",
       "<style scoped>\n",
       "    .dataframe tbody tr th:only-of-type {\n",
       "        vertical-align: middle;\n",
       "    }\n",
       "\n",
       "    .dataframe tbody tr th {\n",
       "        vertical-align: top;\n",
       "    }\n",
       "\n",
       "    .dataframe thead th {\n",
       "        text-align: right;\n",
       "    }\n",
       "</style>\n",
       "<table border=\"1\" class=\"dataframe\">\n",
       "  <thead>\n",
       "    <tr style=\"text-align: right;\">\n",
       "      <th></th>\n",
       "      <th></th>\n",
       "      <th>name_source</th>\n",
       "      <th>name_target</th>\n",
       "      <th>street_source</th>\n",
       "      <th>street_target</th>\n",
       "      <th>city_source</th>\n",
       "      <th>city_target</th>\n",
       "      <th>postalcode_source</th>\n",
       "      <th>postalcode_target</th>\n",
       "      <th>duns_source</th>\n",
       "      <th>duns_target</th>\n",
       "      <th>countrycode_source</th>\n",
       "      <th>countrycode_target</th>\n",
       "    </tr>\n",
       "    <tr>\n",
       "      <th>ix_source</th>\n",
       "      <th>ix_target</th>\n",
       "      <th></th>\n",
       "      <th></th>\n",
       "      <th></th>\n",
       "      <th></th>\n",
       "      <th></th>\n",
       "      <th></th>\n",
       "      <th></th>\n",
       "      <th></th>\n",
       "      <th></th>\n",
       "      <th></th>\n",
       "      <th></th>\n",
       "      <th></th>\n",
       "    </tr>\n",
       "  </thead>\n",
       "  <tbody>\n",
       "    <tr>\n",
       "      <th>8c071814</th>\n",
       "      <th>cce26ebb</th>\n",
       "      <td>ge aviation systems ltdcustomer services</td>\n",
       "      <td>ge aviation</td>\n",
       "      <td>evesham road</td>\n",
       "      <td>evesham road</td>\n",
       "      <td>cheltenham</td>\n",
       "      <td>cheltenham</td>\n",
       "      <td>gl528sf</td>\n",
       "      <td>gl52 8sf</td>\n",
       "      <td>211207784.0</td>\n",
       "      <td>288525181.0</td>\n",
       "      <td>GB</td>\n",
       "      <td>GB</td>\n",
       "    </tr>\n",
       "    <tr>\n",
       "      <th>7a037111</th>\n",
       "      <th>69ef33b5</th>\n",
       "      <td>dr ursula matschke</td>\n",
       "      <td>dr ursula matschke</td>\n",
       "      <td>33 emilienstr</td>\n",
       "      <td>33 emilienstr</td>\n",
       "      <td>stuttgart</td>\n",
       "      <td>stuttgart</td>\n",
       "      <td>70563</td>\n",
       "      <td>70563</td>\n",
       "      <td>NaN</td>\n",
       "      <td>NaN</td>\n",
       "      <td>DE</td>\n",
       "      <td>DE</td>\n",
       "    </tr>\n",
       "    <tr>\n",
       "      <th>f02cb731</th>\n",
       "      <th>f02cb731</th>\n",
       "      <td>selex sensos and airborne systems</td>\n",
       "      <td>selex sensos and airborne systems</td>\n",
       "      <td>lg</td>\n",
       "      <td>lg</td>\n",
       "      <td>edinburgh</td>\n",
       "      <td>edinburgh</td>\n",
       "      <td>28000</td>\n",
       "      <td>28000</td>\n",
       "      <td>23226769.0</td>\n",
       "      <td>23226769.0</td>\n",
       "      <td>ES</td>\n",
       "      <td>ES</td>\n",
       "    </tr>\n",
       "    <tr>\n",
       "      <th>f0d34671</th>\n",
       "      <th>253ce464</th>\n",
       "      <td>hamilton sundstrand</td>\n",
       "      <td>hamilton sundstrand</td>\n",
       "      <td>cl4747 harrison ave</td>\n",
       "      <td>4747 harrison ave</td>\n",
       "      <td>rockford</td>\n",
       "      <td>rockford</td>\n",
       "      <td>61125</td>\n",
       "      <td>61108-7929</td>\n",
       "      <td>NaN</td>\n",
       "      <td>51079937.0</td>\n",
       "      <td>US</td>\n",
       "      <td>US</td>\n",
       "    </tr>\n",
       "    <tr>\n",
       "      <th>f7da5ee1</th>\n",
       "      <th>484866fb</th>\n",
       "      <td>e a elektro automatik gmbh</td>\n",
       "      <td>ea elektro automatik</td>\n",
       "      <td>31 37 helmholtzstr</td>\n",
       "      <td>31 37 helmholtzstr</td>\n",
       "      <td>viersen</td>\n",
       "      <td>viersen</td>\n",
       "      <td>41747</td>\n",
       "      <td>41747</td>\n",
       "      <td>344304634.0</td>\n",
       "      <td>330862074.0</td>\n",
       "      <td>DE</td>\n",
       "      <td>DE</td>\n",
       "    </tr>\n",
       "  </tbody>\n",
       "</table>\n",
       "</div>"
      ],
      "text/plain": [
       "                                                  name_source  \\\n",
       "ix_source ix_target                                             \n",
       "8c071814  cce26ebb   ge aviation systems ltdcustomer services   \n",
       "7a037111  69ef33b5                         dr ursula matschke   \n",
       "f02cb731  f02cb731          selex sensos and airborne systems   \n",
       "f0d34671  253ce464                        hamilton sundstrand   \n",
       "f7da5ee1  484866fb                 e a elektro automatik gmbh   \n",
       "\n",
       "                                           name_target        street_source  \\\n",
       "ix_source ix_target                                                           \n",
       "8c071814  cce26ebb                         ge aviation         evesham road   \n",
       "7a037111  69ef33b5                  dr ursula matschke        33 emilienstr   \n",
       "f02cb731  f02cb731   selex sensos and airborne systems                   lg   \n",
       "f0d34671  253ce464                 hamilton sundstrand  cl4747 harrison ave   \n",
       "f7da5ee1  484866fb                ea elektro automatik   31 37 helmholtzstr   \n",
       "\n",
       "                          street_target city_source city_target  \\\n",
       "ix_source ix_target                                               \n",
       "8c071814  cce26ebb         evesham road  cheltenham  cheltenham   \n",
       "7a037111  69ef33b5        33 emilienstr   stuttgart   stuttgart   \n",
       "f02cb731  f02cb731                   lg   edinburgh   edinburgh   \n",
       "f0d34671  253ce464    4747 harrison ave    rockford    rockford   \n",
       "f7da5ee1  484866fb   31 37 helmholtzstr     viersen     viersen   \n",
       "\n",
       "                    postalcode_source postalcode_target  duns_source  \\\n",
       "ix_source ix_target                                                    \n",
       "8c071814  cce26ebb            gl528sf          gl52 8sf  211207784.0   \n",
       "7a037111  69ef33b5              70563             70563          NaN   \n",
       "f02cb731  f02cb731              28000             28000   23226769.0   \n",
       "f0d34671  253ce464              61125        61108-7929          NaN   \n",
       "f7da5ee1  484866fb              41747             41747  344304634.0   \n",
       "\n",
       "                     duns_target countrycode_source countrycode_target  \n",
       "ix_source ix_target                                                     \n",
       "8c071814  cce26ebb   288525181.0                 GB                 GB  \n",
       "7a037111  69ef33b5           NaN                 DE                 DE  \n",
       "f02cb731  f02cb731    23226769.0                 ES                 ES  \n",
       "f0d34671  253ce464    51079937.0                 US                 US  \n",
       "f7da5ee1  484866fb   330862074.0                 DE                 DE  "
      ]
     },
     "execution_count": 11,
     "metadata": {},
     "output_type": "execute_result"
    }
   ],
   "source": [
    "positive_matches = y_pred.loc[y_pred == 1.0].index\n",
    "print('Showing positive matches')\n",
    "X_sbs.loc[positive_matches].sample(5)"
   ]
  },
  {
   "cell_type": "markdown",
   "metadata": {},
   "source": [
    "### 4.2. Negative matches (non-matching pairs)"
   ]
  },
  {
   "cell_type": "code",
   "execution_count": 12,
   "metadata": {
    "pycharm": {
     "is_executing": false,
     "name": "#%%\n"
    }
   },
   "outputs": [
    {
     "name": "stdout",
     "output_type": "stream",
     "text": [
      "Showing negativematches\n"
     ]
    },
    {
     "data": {
      "text/html": [
       "<div>\n",
       "<style scoped>\n",
       "    .dataframe tbody tr th:only-of-type {\n",
       "        vertical-align: middle;\n",
       "    }\n",
       "\n",
       "    .dataframe tbody tr th {\n",
       "        vertical-align: top;\n",
       "    }\n",
       "\n",
       "    .dataframe thead th {\n",
       "        text-align: right;\n",
       "    }\n",
       "</style>\n",
       "<table border=\"1\" class=\"dataframe\">\n",
       "  <thead>\n",
       "    <tr style=\"text-align: right;\">\n",
       "      <th></th>\n",
       "      <th></th>\n",
       "      <th>name_source</th>\n",
       "      <th>name_target</th>\n",
       "      <th>street_source</th>\n",
       "      <th>street_target</th>\n",
       "      <th>city_source</th>\n",
       "      <th>city_target</th>\n",
       "      <th>postalcode_source</th>\n",
       "      <th>postalcode_target</th>\n",
       "      <th>duns_source</th>\n",
       "      <th>duns_target</th>\n",
       "      <th>countrycode_source</th>\n",
       "      <th>countrycode_target</th>\n",
       "    </tr>\n",
       "    <tr>\n",
       "      <th>ix_source</th>\n",
       "      <th>ix_target</th>\n",
       "      <th></th>\n",
       "      <th></th>\n",
       "      <th></th>\n",
       "      <th></th>\n",
       "      <th></th>\n",
       "      <th></th>\n",
       "      <th></th>\n",
       "      <th></th>\n",
       "      <th></th>\n",
       "      <th></th>\n",
       "      <th></th>\n",
       "      <th></th>\n",
       "    </tr>\n",
       "  </thead>\n",
       "  <tbody>\n",
       "    <tr>\n",
       "      <th>7a037111</th>\n",
       "      <th>ab00128c</th>\n",
       "      <td>dr ursula matschke</td>\n",
       "      <td>carney gmbh</td>\n",
       "      <td>33 emilienstr</td>\n",
       "      <td>25 vor dem wald</td>\n",
       "      <td>stuttgart</td>\n",
       "      <td>wutha farnroda</td>\n",
       "      <td>70563</td>\n",
       "      <td>99848</td>\n",
       "      <td>NaN</td>\n",
       "      <td>342656493.0</td>\n",
       "      <td>DE</td>\n",
       "      <td>DE</td>\n",
       "    </tr>\n",
       "    <tr>\n",
       "      <th>68ba9560</th>\n",
       "      <th>3cbe1b93</th>\n",
       "      <td>frey blumenhof</td>\n",
       "      <td>maximilian wigger suttner</td>\n",
       "      <td>mittenheimer str</td>\n",
       "      <td>jahnstr</td>\n",
       "      <td>oberschleissheim</td>\n",
       "      <td>ulm</td>\n",
       "      <td>85764</td>\n",
       "      <td>89073</td>\n",
       "      <td>342418069.0</td>\n",
       "      <td>NaN</td>\n",
       "      <td>DE</td>\n",
       "      <td>DE</td>\n",
       "    </tr>\n",
       "    <tr>\n",
       "      <th>0297485a</th>\n",
       "      <th>24273c60</th>\n",
       "      <td>gross karlheinz</td>\n",
       "      <td>general dynamics uk</td>\n",
       "      <td>37 ulmenweg</td>\n",
       "      <td>road</td>\n",
       "      <td>zweibrucken</td>\n",
       "      <td>st leonards</td>\n",
       "      <td>66482</td>\n",
       "      <td>tn38 0hw</td>\n",
       "      <td>NaN</td>\n",
       "      <td>233415103.0</td>\n",
       "      <td>DE</td>\n",
       "      <td>GB</td>\n",
       "    </tr>\n",
       "    <tr>\n",
       "      <th>9438b5e4</th>\n",
       "      <th>975bdeab</th>\n",
       "      <td>dichtelemente arcus gmbh</td>\n",
       "      <td>mce computer gmbh</td>\n",
       "      <td>6 gromoor ring</td>\n",
       "      <td>14 lerchenstr</td>\n",
       "      <td>hamburg</td>\n",
       "      <td>munich</td>\n",
       "      <td>21079</td>\n",
       "      <td>80995</td>\n",
       "      <td>313821894.0</td>\n",
       "      <td>343582987.0</td>\n",
       "      <td>DE</td>\n",
       "      <td>DE</td>\n",
       "    </tr>\n",
       "    <tr>\n",
       "      <th>1d2e777b</th>\n",
       "      <th>501ad89f</th>\n",
       "      <td>citaku gbr</td>\n",
       "      <td>ge aviation systems ltd</td>\n",
       "      <td>32 papenbreede</td>\n",
       "      <td>cheltenham</td>\n",
       "      <td>bad essen</td>\n",
       "      <td>cheltenham</td>\n",
       "      <td>49152</td>\n",
       "      <td>gl528sf</td>\n",
       "      <td>NaN</td>\n",
       "      <td>NaN</td>\n",
       "      <td>DE</td>\n",
       "      <td>GB</td>\n",
       "    </tr>\n",
       "  </tbody>\n",
       "</table>\n",
       "</div>"
      ],
      "text/plain": [
       "                                  name_source                name_target  \\\n",
       "ix_source ix_target                                                        \n",
       "7a037111  ab00128c         dr ursula matschke                carney gmbh   \n",
       "68ba9560  3cbe1b93             frey blumenhof  maximilian wigger suttner   \n",
       "0297485a  24273c60            gross karlheinz        general dynamics uk   \n",
       "9438b5e4  975bdeab   dichtelemente arcus gmbh          mce computer gmbh   \n",
       "1d2e777b  501ad89f                 citaku gbr    ge aviation systems ltd   \n",
       "\n",
       "                        street_source    street_target       city_source  \\\n",
       "ix_source ix_target                                                        \n",
       "7a037111  ab00128c      33 emilienstr  25 vor dem wald         stuttgart   \n",
       "68ba9560  3cbe1b93   mittenheimer str          jahnstr  oberschleissheim   \n",
       "0297485a  24273c60        37 ulmenweg             road       zweibrucken   \n",
       "9438b5e4  975bdeab     6 gromoor ring    14 lerchenstr           hamburg   \n",
       "1d2e777b  501ad89f     32 papenbreede       cheltenham         bad essen   \n",
       "\n",
       "                        city_target postalcode_source postalcode_target  \\\n",
       "ix_source ix_target                                                       \n",
       "7a037111  ab00128c   wutha farnroda             70563             99848   \n",
       "68ba9560  3cbe1b93              ulm             85764             89073   \n",
       "0297485a  24273c60      st leonards             66482          tn38 0hw   \n",
       "9438b5e4  975bdeab           munich             21079             80995   \n",
       "1d2e777b  501ad89f       cheltenham             49152           gl528sf   \n",
       "\n",
       "                     duns_source  duns_target countrycode_source  \\\n",
       "ix_source ix_target                                                \n",
       "7a037111  ab00128c           NaN  342656493.0                 DE   \n",
       "68ba9560  3cbe1b93   342418069.0          NaN                 DE   \n",
       "0297485a  24273c60           NaN  233415103.0                 DE   \n",
       "9438b5e4  975bdeab   313821894.0  343582987.0                 DE   \n",
       "1d2e777b  501ad89f           NaN          NaN                 DE   \n",
       "\n",
       "                    countrycode_target  \n",
       "ix_source ix_target                     \n",
       "7a037111  ab00128c                  DE  \n",
       "68ba9560  3cbe1b93                  DE  \n",
       "0297485a  24273c60                  GB  \n",
       "9438b5e4  975bdeab                  DE  \n",
       "1d2e777b  501ad89f                  GB  "
      ]
     },
     "execution_count": 12,
     "metadata": {},
     "output_type": "execute_result"
    }
   ],
   "source": [
    "negative_matches = y_pred.loc[y_pred == 0.0].index\n",
    "print('Showing negativematches')\n",
    "X_sbs.loc[negative_matches].sample(5)"
   ]
  },
  {
   "cell_type": "code",
   "execution_count": null,
   "metadata": {},
   "outputs": [],
   "source": []
  }
 ],
 "metadata": {
  "kernelspec": {
   "display_name": "Python 3",
   "language": "python",
   "name": "python3"
  },
  "language_info": {
   "codemirror_mode": {
    "name": "ipython",
    "version": 3
   },
   "file_extension": ".py",
   "mimetype": "text/x-python",
   "name": "python",
   "nbconvert_exporter": "python",
   "pygments_lexer": "ipython3",
   "version": "3.7.3"
  },
  "pycharm": {
   "stem_cell": {
    "cell_type": "raw",
    "metadata": {
     "collapsed": false
    },
    "source": []
   }
  }
 },
 "nbformat": 4,
 "nbformat_minor": 1
}
