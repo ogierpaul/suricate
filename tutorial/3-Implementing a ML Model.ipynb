{
 "cells": [
  {
   "cell_type": "markdown",
   "metadata": {
    "collapsed": true,
    "pycharm": {
     "name": "#%% md\n"
    }
   },
   "source": [
    "# Step - by - step Guide to finding potential matches\n",
    "1. Prepare the data\n",
    "2. Push the data to Elastic Search\n",
    "3. Create the first similarity matrix\n",
    "4. Use the Explorer to label representative sample of the data\n",
    "5. Do further scoring and add new features to the similarity matrix\n",
    "6. Train a machine learning model on the data\n",
    " "
   ]
  },
  {
   "cell_type": "markdown",
   "source": [
    "## 1. Load the data"
   ],
   "metadata": {
    "collapsed": false,
    "pycharm": {
     "name": "#%% md\n"
    }
   }
  },
  {
   "cell_type": "code",
   "execution_count": 63,
   "outputs": [],
   "source": [
    "import numpy as np\n",
    "import pandas as pd\n",
    "from suricate.data.companies import getsource, gettarget, getytrue"
   ],
   "metadata": {
    "collapsed": false,
    "pycharm": {
     "name": "#%%\n",
     "is_executing": false
    }
   }
  },
  {
   "cell_type": "code",
   "execution_count": 64,
   "outputs": [
    {
     "name": "stdout",
     "text": [
      "Number of rows in source data:1444\n"
     ],
     "output_type": "stream"
    },
    {
     "data": {
      "text/plain": "                               name                     street         city  \\\nix                                                                            \n6900fd67            alexander tress          11 niedermhle weg  bad wurzach   \nc8012c1b           mel aviation ltd             60 woolmer way       bordon   \n837188f3  crc industries iberia slu  96 calle del gremio cuero      segovia   \n1289d400              febrotec gmbh         76 frankfurter str       halver   \nea0d41e6   airflow lufttechnik gmbh             21 kleine heeg    rheinbach   \n\n         postalcode         duns countrycode  \nix                                            \n6900fd67      88410  344869433.0          DE  \nc8012c1b       gu35          NaN          GB  \n837188f3      40195          NaN          ES  \n1289d400      58553  319710398.0          DE  \nea0d41e6      53359  318818127.0          DE  ",
      "text/html": "<div>\n<style scoped>\n    .dataframe tbody tr th:only-of-type {\n        vertical-align: middle;\n    }\n\n    .dataframe tbody tr th {\n        vertical-align: top;\n    }\n\n    .dataframe thead th {\n        text-align: right;\n    }\n</style>\n<table border=\"1\" class=\"dataframe\">\n  <thead>\n    <tr style=\"text-align: right;\">\n      <th></th>\n      <th>name</th>\n      <th>street</th>\n      <th>city</th>\n      <th>postalcode</th>\n      <th>duns</th>\n      <th>countrycode</th>\n    </tr>\n    <tr>\n      <th>ix</th>\n      <th></th>\n      <th></th>\n      <th></th>\n      <th></th>\n      <th></th>\n      <th></th>\n    </tr>\n  </thead>\n  <tbody>\n    <tr>\n      <th>6900fd67</th>\n      <td>alexander tress</td>\n      <td>11 niedermhle weg</td>\n      <td>bad wurzach</td>\n      <td>88410</td>\n      <td>344869433.0</td>\n      <td>DE</td>\n    </tr>\n    <tr>\n      <th>c8012c1b</th>\n      <td>mel aviation ltd</td>\n      <td>60 woolmer way</td>\n      <td>bordon</td>\n      <td>gu35</td>\n      <td>NaN</td>\n      <td>GB</td>\n    </tr>\n    <tr>\n      <th>837188f3</th>\n      <td>crc industries iberia slu</td>\n      <td>96 calle del gremio cuero</td>\n      <td>segovia</td>\n      <td>40195</td>\n      <td>NaN</td>\n      <td>ES</td>\n    </tr>\n    <tr>\n      <th>1289d400</th>\n      <td>febrotec gmbh</td>\n      <td>76 frankfurter str</td>\n      <td>halver</td>\n      <td>58553</td>\n      <td>319710398.0</td>\n      <td>DE</td>\n    </tr>\n    <tr>\n      <th>ea0d41e6</th>\n      <td>airflow lufttechnik gmbh</td>\n      <td>21 kleine heeg</td>\n      <td>rheinbach</td>\n      <td>53359</td>\n      <td>318818127.0</td>\n      <td>DE</td>\n    </tr>\n  </tbody>\n</table>\n</div>"
     },
     "metadata": {},
     "output_type": "execute_result",
     "execution_count": 64
    }
   ],
   "source": [
    "df_source = getsource(nrows=None)\n",
    "print('Number of rows in source data:{}'.format(df_source.shape[0]))\n",
    "df_source.sample(5)"
   ],
   "metadata": {
    "collapsed": false,
    "pycharm": {
     "name": "#%%\n",
     "is_executing": false
    }
   }
  },
  {
   "cell_type": "code",
   "execution_count": 65,
   "outputs": [
    {
     "name": "stdout",
     "text": [
      "Number of rows in target data:3177\n"
     ],
     "output_type": "stream"
    },
    {
     "data": {
      "text/plain": "                                    name                  street  \\\nix                                                                 \nc1b026d0   bvs industrie elektronik gmbh  6 rodenbacher chaussee   \n0be28259     tdf telediffusion de france         4 avenue ampere   \n03608f8b                northrop grumman            10 norden pl   \n041b20ff  pratt whitney engines services     1525 midway park rd   \n4f43eea7                      mc conseil        5 rue belle alle   \n\n                            city  postalcode         duns countrycode  \nix                                                                     \nc1b026d0                   hanau       63457  320971187.0          DE  \n0be28259  montigny le bretonneux       78897  380971556.0          FR  \n03608f8b                 norwalk  06855-1452  966764417.0          US  \n041b20ff              bridgeport  26330-9688   55530604.0          US  \n4f43eea7      mortagne sur sevre       85290  772407417.0          FR  ",
      "text/html": "<div>\n<style scoped>\n    .dataframe tbody tr th:only-of-type {\n        vertical-align: middle;\n    }\n\n    .dataframe tbody tr th {\n        vertical-align: top;\n    }\n\n    .dataframe thead th {\n        text-align: right;\n    }\n</style>\n<table border=\"1\" class=\"dataframe\">\n  <thead>\n    <tr style=\"text-align: right;\">\n      <th></th>\n      <th>name</th>\n      <th>street</th>\n      <th>city</th>\n      <th>postalcode</th>\n      <th>duns</th>\n      <th>countrycode</th>\n    </tr>\n    <tr>\n      <th>ix</th>\n      <th></th>\n      <th></th>\n      <th></th>\n      <th></th>\n      <th></th>\n      <th></th>\n    </tr>\n  </thead>\n  <tbody>\n    <tr>\n      <th>c1b026d0</th>\n      <td>bvs industrie elektronik gmbh</td>\n      <td>6 rodenbacher chaussee</td>\n      <td>hanau</td>\n      <td>63457</td>\n      <td>320971187.0</td>\n      <td>DE</td>\n    </tr>\n    <tr>\n      <th>0be28259</th>\n      <td>tdf telediffusion de france</td>\n      <td>4 avenue ampere</td>\n      <td>montigny le bretonneux</td>\n      <td>78897</td>\n      <td>380971556.0</td>\n      <td>FR</td>\n    </tr>\n    <tr>\n      <th>03608f8b</th>\n      <td>northrop grumman</td>\n      <td>10 norden pl</td>\n      <td>norwalk</td>\n      <td>06855-1452</td>\n      <td>966764417.0</td>\n      <td>US</td>\n    </tr>\n    <tr>\n      <th>041b20ff</th>\n      <td>pratt whitney engines services</td>\n      <td>1525 midway park rd</td>\n      <td>bridgeport</td>\n      <td>26330-9688</td>\n      <td>55530604.0</td>\n      <td>US</td>\n    </tr>\n    <tr>\n      <th>4f43eea7</th>\n      <td>mc conseil</td>\n      <td>5 rue belle alle</td>\n      <td>mortagne sur sevre</td>\n      <td>85290</td>\n      <td>772407417.0</td>\n      <td>FR</td>\n    </tr>\n  </tbody>\n</table>\n</div>"
     },
     "metadata": {},
     "output_type": "execute_result",
     "execution_count": 65
    }
   ],
   "source": [
    "df_target = gettarget(nrows=None)\n",
    "print('Number of rows in target data:{}'.format(df_target.shape[0]))\n",
    "df_target.sample(5)"
   ],
   "metadata": {
    "collapsed": false,
    "pycharm": {
     "name": "#%%\n",
     "is_executing": false
    }
   }
  },
  {
   "cell_type": "markdown",
   "source": [
    "## 2. Push the data to Elastic Search"
   ],
   "metadata": {
    "collapsed": false,
    "pycharm": {
     "name": "#%% md\n"
    }
   }
  },
  {
   "cell_type": "code",
   "execution_count": 66,
   "outputs": [],
   "source": [
    "import elasticsearch\n",
    "import time\n",
    "from suricate.dbconnectors.esconnector import index_with_es"
   ],
   "metadata": {
    "collapsed": false,
    "pycharm": {
     "name": "#%%\n",
     "is_executing": false
    }
   }
  },
  {
   "cell_type": "code",
   "execution_count": 67,
   "outputs": [
    {
     "name": "stdout",
     "text": [
      "Number of docs in created index:3177\n"
     ],
     "output_type": "stream"
    }
   ],
   "source": [
    "esclient = elasticsearch.Elasticsearch()\n",
    "es_indice = 'df_target'\n",
    "if True:\n",
    "    try:\n",
    "        esclient.indices.delete(index=es_indice)\n",
    "    except:\n",
    "        pass\n",
    "    request_body = {\n",
    "        \"settings\": {\n",
    "            \"number_of_shards\": 5,\n",
    "            \"number_of_replicas\": 5\n",
    "        },\n",
    "\n",
    "        \"mappings\": {\n",
    "            \"_doc\": {\n",
    "                \"properties\": {\n",
    "                    \"ix\": {\"type\": \"keyword\"},\n",
    "                    \"name\": {\"type\": \"text\"},\n",
    "                    \"street\": {\"type\": \"text\"},\n",
    "                    \"city\": {\"type\": \"text\"},\n",
    "                    \"postalcode\": {\"type\": \"text\"},\n",
    "                    \"countrycode\": {\"type\": \"keyword\"}\n",
    "                }\n",
    "            }\n",
    "        }\n",
    "    }\n",
    "    esclient.indices.create(index=es_indice, body=request_body)\n",
    "    index_with_es(client=esclient, df=df_target, index=es_indice, ixname=\"ix\", reset_index=True, doc_type='_doc')\n",
    "    time.sleep(5)\n",
    "\n",
    "catcount = esclient.count(index=es_indice)['count']\n",
    "assert catcount == df_target.shape[0]\n",
    "print('Number of docs in created index:{}'.format(catcount))"
   ],
   "metadata": {
    "collapsed": false,
    "pycharm": {
     "name": "#%%\n",
     "is_executing": false
    }
   }
  },
  {
   "cell_type": "markdown",
   "source": [
    "## 3. Create the first similarity matrix"
   ],
   "metadata": {
    "collapsed": false,
    "pycharm": {
     "name": "#%% md\n"
    }
   }
  },
  {
   "cell_type": "code",
   "execution_count": 68,
   "outputs": [],
   "source": [
    "from suricate.dbconnectors import EsConnector"
   ],
   "metadata": {
    "collapsed": false,
    "pycharm": {
     "name": "#%%\n",
     "is_executing": false
    }
   }
  },
  {
   "cell_type": "code",
   "execution_count": null,
   "outputs": [],
   "source": [
    "scoreplan = {\n",
    "        'name': {\n",
    "            'type': 'FreeText'\n",
    "        },\n",
    "        'street': {\n",
    "            'type': 'FreeText'\n",
    "        },\n",
    "        'city': {\n",
    "            'type': 'FreeText'\n",
    "        },\n",
    "        'duns': {\n",
    "            'type': 'Exact'\n",
    "        },\n",
    "        'postalcode': {\n",
    "            'type': 'FreeText'\n",
    "        },\n",
    "        'countrycode': {\n",
    "            'type': 'Exact'\n",
    "        }\n",
    "    }\n",
    "escon = EsConnector(\n",
    "    client=esclient,\n",
    "    scoreplan=scoreplan,\n",
    "    index=\"right\",\n",
    "    explain=False,\n",
    "    size=10\n",
    ")\n",
    "Xst = escon.fit_transform(X=df_source)\n",
    "ix_con = Xst.index\n",
    "print('Number of possible pairs:{}'.format(len(ix_con)))\n",
    "print('Example of similarity matrix:')\n",
    "Xst.sample(5)"
   ],
   "metadata": {
    "collapsed": false,
    "pycharm": {
     "name": "#%%\n",
     "is_executing": true
    }
   }
  },
  {
   "cell_type": "code",
   "execution_count": 70,
   "outputs": [
    {
     "name": "stdout",
     "text": [
      "Example of side-by-side view of source and target data\n"
     ],
     "output_type": "stream"
    },
    {
     "data": {
      "text/plain": "                                   name_source                    name_target  \\\nix_source ix_target                                                             \n7ff2b1d2  7ba2165e                     h media           european datacomm nv   \nfe5db42f  d4468f99           le joint francais            le manoir de gressy   \nba5c212c  9727627d           ralf michael mohr   ahc oberflaechentechnik gmbh   \ncaa9b691  c8f81892                   cosset md                       euro cls   \n8440876d  839ae5f3   landratsamt bodenseekreis  mangold elektromaschinen gmbh   \n\n                            street_source         street_target  \\\nix_source ix_target                                               \n7ff2b1d2  7ba2165e          329 heistraat       257 heidestraat   \nfe5db42f  d4468f99   centre administratif  chemin des carrosses   \nba5c212c  9727627d             2 rosenstr    2 2 zillenhardtstr   \ncaa9b691  c8f81892        rue jean mermoz       rue jean mermoz   \n8440876d  839ae5f3      1 3 glarnisch str          lindauer str   \n\n                         city_source      city_target postalcode_source  \\\nix_source ix_target                                                       \n7ff2b1d2  7ba2165e           antwerp      zwijndrecht              2610   \nfe5db42f  d4468f99             thure           gressy             86540   \nba5c212c  9727627d        ziegendorf        goppingen             19372   \ncaa9b691  c8f81892        le haillan    courcouronnes             33185   \n8440876d  839ae5f3   friedrichshafen  friedrichshafen             88045   \n\n                    postalcode_target  duns_source  duns_target  \\\nix_source ix_target                                               \n7ff2b1d2  7ba2165e               2070          NaN  283835379.0   \nfe5db42f  d4468f99              77410          NaN          NaN   \nba5c212c  9727627d              73037          NaN  341053885.0   \ncaa9b691  c8f81892              91080  277271321.0          NaN   \n8440876d  839ae5f3              88046  330386074.0  316124353.0   \n\n                    countrycode_source countrycode_target  \nix_source ix_target                                        \n7ff2b1d2  7ba2165e                  BE                 BE  \nfe5db42f  d4468f99                  FR                 FR  \nba5c212c  9727627d                  DE                 DE  \ncaa9b691  c8f81892                  FR                 FR  \n8440876d  839ae5f3                  DE                 DE  ",
      "text/html": "<div>\n<style scoped>\n    .dataframe tbody tr th:only-of-type {\n        vertical-align: middle;\n    }\n\n    .dataframe tbody tr th {\n        vertical-align: top;\n    }\n\n    .dataframe thead th {\n        text-align: right;\n    }\n</style>\n<table border=\"1\" class=\"dataframe\">\n  <thead>\n    <tr style=\"text-align: right;\">\n      <th></th>\n      <th></th>\n      <th>name_source</th>\n      <th>name_target</th>\n      <th>street_source</th>\n      <th>street_target</th>\n      <th>city_source</th>\n      <th>city_target</th>\n      <th>postalcode_source</th>\n      <th>postalcode_target</th>\n      <th>duns_source</th>\n      <th>duns_target</th>\n      <th>countrycode_source</th>\n      <th>countrycode_target</th>\n    </tr>\n    <tr>\n      <th>ix_source</th>\n      <th>ix_target</th>\n      <th></th>\n      <th></th>\n      <th></th>\n      <th></th>\n      <th></th>\n      <th></th>\n      <th></th>\n      <th></th>\n      <th></th>\n      <th></th>\n      <th></th>\n      <th></th>\n    </tr>\n  </thead>\n  <tbody>\n    <tr>\n      <th>7ff2b1d2</th>\n      <th>7ba2165e</th>\n      <td>h media</td>\n      <td>european datacomm nv</td>\n      <td>329 heistraat</td>\n      <td>257 heidestraat</td>\n      <td>antwerp</td>\n      <td>zwijndrecht</td>\n      <td>2610</td>\n      <td>2070</td>\n      <td>NaN</td>\n      <td>283835379.0</td>\n      <td>BE</td>\n      <td>BE</td>\n    </tr>\n    <tr>\n      <th>fe5db42f</th>\n      <th>d4468f99</th>\n      <td>le joint francais</td>\n      <td>le manoir de gressy</td>\n      <td>centre administratif</td>\n      <td>chemin des carrosses</td>\n      <td>thure</td>\n      <td>gressy</td>\n      <td>86540</td>\n      <td>77410</td>\n      <td>NaN</td>\n      <td>NaN</td>\n      <td>FR</td>\n      <td>FR</td>\n    </tr>\n    <tr>\n      <th>ba5c212c</th>\n      <th>9727627d</th>\n      <td>ralf michael mohr</td>\n      <td>ahc oberflaechentechnik gmbh</td>\n      <td>2 rosenstr</td>\n      <td>2 2 zillenhardtstr</td>\n      <td>ziegendorf</td>\n      <td>goppingen</td>\n      <td>19372</td>\n      <td>73037</td>\n      <td>NaN</td>\n      <td>341053885.0</td>\n      <td>DE</td>\n      <td>DE</td>\n    </tr>\n    <tr>\n      <th>caa9b691</th>\n      <th>c8f81892</th>\n      <td>cosset md</td>\n      <td>euro cls</td>\n      <td>rue jean mermoz</td>\n      <td>rue jean mermoz</td>\n      <td>le haillan</td>\n      <td>courcouronnes</td>\n      <td>33185</td>\n      <td>91080</td>\n      <td>277271321.0</td>\n      <td>NaN</td>\n      <td>FR</td>\n      <td>FR</td>\n    </tr>\n    <tr>\n      <th>8440876d</th>\n      <th>839ae5f3</th>\n      <td>landratsamt bodenseekreis</td>\n      <td>mangold elektromaschinen gmbh</td>\n      <td>1 3 glarnisch str</td>\n      <td>lindauer str</td>\n      <td>friedrichshafen</td>\n      <td>friedrichshafen</td>\n      <td>88045</td>\n      <td>88046</td>\n      <td>330386074.0</td>\n      <td>316124353.0</td>\n      <td>DE</td>\n      <td>DE</td>\n    </tr>\n  </tbody>\n</table>\n</div>"
     },
     "metadata": {},
     "output_type": "execute_result",
     "execution_count": 70
    }
   ],
   "source": [
    "Xsbs = escon.getsbs(X=df_source, on_ix=ix_con)\n",
    "print('Example of side-by-side view of source and target data')\n",
    "Xsbs.sample(5)"
   ],
   "metadata": {
    "collapsed": false,
    "pycharm": {
     "name": "#%%\n",
     "is_executing": false
    }
   }
  },
  {
   "cell_type": "markdown",
   "source": [
    "4. Further scoring"
   ],
   "metadata": {
    "collapsed": false
   }
  },
  {
   "cell_type": "code",
   "execution_count": 71,
   "outputs": [],
   "source": [
    "from suricate.sbsdftransformers import FuncSbsComparator\n",
    "from sklearn.pipeline import FeatureUnion"
   ],
   "metadata": {
    "collapsed": false,
    "pycharm": {
     "name": "#%%\n",
     "is_executing": false
    }
   }
  },
  {
   "cell_type": "code",
   "execution_count": 72,
   "outputs": [
    {
     "name": "stdout",
     "text": [
      "Additional scores\n"
     ],
     "output_type": "stream"
    },
    {
     "data": {
      "text/plain": "                     name_fuzzy  street_fuzzy  name_token  street_token  \\\nix_source ix_target                                                       \ndd4ccf8c  eb2c1b65         0.65          0.35        0.59          0.47   \n604e23d5  604e23d5         1.00          1.00        1.00          1.00   \n322eb731  45007c12         0.69          0.12        0.48          0.24   \n\n                     city_fuzzy  postalcode_fuzzy  postalcode_contains  \nix_source ix_target                                                     \ndd4ccf8c  eb2c1b65         1.00               0.2                  0.0  \n604e23d5  604e23d5         1.00               1.0                  1.0  \n322eb731  45007c12         0.57               0.4                  0.0  ",
      "text/html": "<div>\n<style scoped>\n    .dataframe tbody tr th:only-of-type {\n        vertical-align: middle;\n    }\n\n    .dataframe tbody tr th {\n        vertical-align: top;\n    }\n\n    .dataframe thead th {\n        text-align: right;\n    }\n</style>\n<table border=\"1\" class=\"dataframe\">\n  <thead>\n    <tr style=\"text-align: right;\">\n      <th></th>\n      <th></th>\n      <th>name_fuzzy</th>\n      <th>street_fuzzy</th>\n      <th>name_token</th>\n      <th>street_token</th>\n      <th>city_fuzzy</th>\n      <th>postalcode_fuzzy</th>\n      <th>postalcode_contains</th>\n    </tr>\n    <tr>\n      <th>ix_source</th>\n      <th>ix_target</th>\n      <th></th>\n      <th></th>\n      <th></th>\n      <th></th>\n      <th></th>\n      <th></th>\n      <th></th>\n    </tr>\n  </thead>\n  <tbody>\n    <tr>\n      <th>dd4ccf8c</th>\n      <th>eb2c1b65</th>\n      <td>0.65</td>\n      <td>0.35</td>\n      <td>0.59</td>\n      <td>0.47</td>\n      <td>1.00</td>\n      <td>0.2</td>\n      <td>0.0</td>\n    </tr>\n    <tr>\n      <th>604e23d5</th>\n      <th>604e23d5</th>\n      <td>1.00</td>\n      <td>1.00</td>\n      <td>1.00</td>\n      <td>1.00</td>\n      <td>1.00</td>\n      <td>1.0</td>\n      <td>1.0</td>\n    </tr>\n    <tr>\n      <th>322eb731</th>\n      <th>45007c12</th>\n      <td>0.69</td>\n      <td>0.12</td>\n      <td>0.48</td>\n      <td>0.24</td>\n      <td>0.57</td>\n      <td>0.4</td>\n      <td>0.0</td>\n    </tr>\n  </tbody>\n</table>\n</div>"
     },
     "metadata": {},
     "output_type": "execute_result",
     "execution_count": 72
    }
   ],
   "source": [
    "_sbs_score_list = [\n",
    "    ('name_fuzzy', FuncSbsComparator(on='name', comparator='fuzzy')),\n",
    "    ('street_fuzzy', FuncSbsComparator(on='street', comparator='fuzzy')),\n",
    "    ('name_token', FuncSbsComparator(on='name', comparator='token')),\n",
    "    ('street_token', FuncSbsComparator(on='street', comparator='token')),\n",
    "    ('city_fuzzy', FuncSbsComparator(on='city', comparator='fuzzy')),\n",
    "    ('postalcode_fuzzy', FuncSbsComparator(on='postalcode', comparator='fuzzy')),\n",
    "    ('postalcode_contains', FuncSbsComparator(on='postalcode', comparator='contains'))\n",
    "]\n",
    "scorer_sbs = FeatureUnion(transformer_list=_sbs_score_list)\n",
    "Xscores = pd.DataFrame(\n",
    "    data=scorer_sbs.fit_transform(X=Xsbs),\n",
    "    index=ix_con,\n",
    "    columns=[c[0] for c in _sbs_score_list]\n",
    ")\n",
    "print('Additional scores')\n",
    "Xscores.sample(3)"
   ],
   "metadata": {
    "collapsed": false,
    "pycharm": {
     "name": "#%%\n",
     "is_executing": false
    }
   }
  },
  {
   "cell_type": "markdown",
   "source": [
    "Concatenate with the scores from the previous step"
   ],
   "metadata": {
    "collapsed": false,
    "pycharm": {
     "name": "#%% md\n"
    }
   }
  },
  {
   "cell_type": "code",
   "execution_count": 73,
   "outputs": [
    {
     "name": "stdout",
     "text": [
      "Final scoring table\n"
     ],
     "output_type": "stream"
    },
    {
     "data": {
      "text/plain": "                      es_score  name_fuzzy  street_fuzzy  name_token  \\\nix_source ix_target                                                    \nfa55c17b  cc1d69b8   43.360410        1.00          0.95        1.00   \na83fa5a8  48784f03   10.231821        0.47          0.17        0.35   \n2253b32d  5e587c49    5.498617        0.27          0.32        0.13   \n1e6586fc  38153802    9.441657        0.50          0.58        0.55   \n29d1f197  65099899   32.405380        0.96          1.00        0.88   \n\n                     street_token  city_fuzzy  postalcode_fuzzy  \\\nix_source ix_target                                               \nfa55c17b  cc1d69b8           0.95         1.0               1.0   \na83fa5a8  48784f03           0.17         1.0               0.6   \n2253b32d  5e587c49           0.32         0.0               0.8   \n1e6586fc  38153802           0.58         1.0               0.4   \n29d1f197  65099899           1.00         1.0               1.0   \n\n                     postalcode_contains  \nix_source ix_target                       \nfa55c17b  cc1d69b8                   1.0  \na83fa5a8  48784f03                   0.0  \n2253b32d  5e587c49                   0.0  \n1e6586fc  38153802                   0.0  \n29d1f197  65099899                   1.0  ",
      "text/html": "<div>\n<style scoped>\n    .dataframe tbody tr th:only-of-type {\n        vertical-align: middle;\n    }\n\n    .dataframe tbody tr th {\n        vertical-align: top;\n    }\n\n    .dataframe thead th {\n        text-align: right;\n    }\n</style>\n<table border=\"1\" class=\"dataframe\">\n  <thead>\n    <tr style=\"text-align: right;\">\n      <th></th>\n      <th></th>\n      <th>es_score</th>\n      <th>name_fuzzy</th>\n      <th>street_fuzzy</th>\n      <th>name_token</th>\n      <th>street_token</th>\n      <th>city_fuzzy</th>\n      <th>postalcode_fuzzy</th>\n      <th>postalcode_contains</th>\n    </tr>\n    <tr>\n      <th>ix_source</th>\n      <th>ix_target</th>\n      <th></th>\n      <th></th>\n      <th></th>\n      <th></th>\n      <th></th>\n      <th></th>\n      <th></th>\n      <th></th>\n    </tr>\n  </thead>\n  <tbody>\n    <tr>\n      <th>fa55c17b</th>\n      <th>cc1d69b8</th>\n      <td>43.360410</td>\n      <td>1.00</td>\n      <td>0.95</td>\n      <td>1.00</td>\n      <td>0.95</td>\n      <td>1.0</td>\n      <td>1.0</td>\n      <td>1.0</td>\n    </tr>\n    <tr>\n      <th>a83fa5a8</th>\n      <th>48784f03</th>\n      <td>10.231821</td>\n      <td>0.47</td>\n      <td>0.17</td>\n      <td>0.35</td>\n      <td>0.17</td>\n      <td>1.0</td>\n      <td>0.6</td>\n      <td>0.0</td>\n    </tr>\n    <tr>\n      <th>2253b32d</th>\n      <th>5e587c49</th>\n      <td>5.498617</td>\n      <td>0.27</td>\n      <td>0.32</td>\n      <td>0.13</td>\n      <td>0.32</td>\n      <td>0.0</td>\n      <td>0.8</td>\n      <td>0.0</td>\n    </tr>\n    <tr>\n      <th>1e6586fc</th>\n      <th>38153802</th>\n      <td>9.441657</td>\n      <td>0.50</td>\n      <td>0.58</td>\n      <td>0.55</td>\n      <td>0.58</td>\n      <td>1.0</td>\n      <td>0.4</td>\n      <td>0.0</td>\n    </tr>\n    <tr>\n      <th>29d1f197</th>\n      <th>65099899</th>\n      <td>32.405380</td>\n      <td>0.96</td>\n      <td>1.00</td>\n      <td>0.88</td>\n      <td>1.00</td>\n      <td>1.0</td>\n      <td>1.0</td>\n      <td>1.0</td>\n    </tr>\n  </tbody>\n</table>\n</div>"
     },
     "metadata": {},
     "output_type": "execute_result",
     "execution_count": 73
    }
   ],
   "source": [
    "Xscores = pd.concat([Xst[['es_score']], Xscores], axis=1, ignore_index=False)\n",
    "print('Final scoring table')\n",
    "Xscores.sample(5)"
   ],
   "metadata": {
    "collapsed": false,
    "pycharm": {
     "name": "#%%\n",
     "is_executing": false
    }
   }
  },
  {
   "cell_type": "markdown",
   "source": [
    "## 6. Apply the machine-learning model"
   ],
   "metadata": {
    "collapsed": false,
    "pycharm": {
     "name": "#%% md\n"
    }
   }
  },
  {
   "cell_type": "code",
   "execution_count": 74,
   "outputs": [],
   "source": [
    "from sklearn.pipeline import Pipeline\n",
    "from sklearn.impute import SimpleImputer\n",
    "from sklearn.preprocessing import Normalizer\n",
    "from sklearn.decomposition import PCA\n",
    "from sklearn.ensemble import GradientBoostingClassifier\n",
    "from sklearn.model_selection import cross_validate"
   ],
   "metadata": {
    "collapsed": false,
    "pycharm": {
     "name": "#%%\n",
     "is_executing": false
    }
   }
  },
  {
   "cell_type": "markdown",
   "source": [
    "for expediency, we will use the y_true already saved"
   ],
   "metadata": {
    "collapsed": false,
    "pycharm": {
     "name": "#%% md\n"
    }
   }
  },
  {
   "cell_type": "code",
   "execution_count": 75,
   "outputs": [
    {
     "name": "stdout",
     "text": [
      "Number of data in training:14440\n"
     ],
     "output_type": "stream"
    }
   ],
   "source": [
    "y_true = getytrue().loc[ix_con]\n",
    "print('Number of data in training:{}'.format(y_true.shape[0]))"
   ],
   "metadata": {
    "collapsed": false,
    "pycharm": {
     "name": "#%%\n",
     "is_executing": false
    }
   }
  },
  {
   "cell_type": "markdown",
   "source": [
    "### Make the pipeline"
   ],
   "metadata": {
    "collapsed": false,
    "pycharm": {
     "name": "#%% md\n",
     "is_executing": false
    }
   }
  },
  {
   "cell_type": "code",
   "execution_count": 76,
   "outputs": [
    {
     "name": "stdout",
     "text": [
      "precision score: 0.9096992768833619\n",
      "recall score: 0.8602367500672585\n",
      "accuracy score: 0.9558872701809049\n"
     ],
     "output_type": "stream"
    }
   ],
   "source": [
    "pipe = Pipeline(steps=[\n",
    "    ('Impute', SimpleImputer(strategy='constant', fill_value=0)),\n",
    "    ('Scaler', Normalizer()),\n",
    "    ('PCA', PCA(n_components=4)),\n",
    "    ('Predictor', GradientBoostingClassifier(n_estimators=500))\n",
    "])\n",
    "scoring = ['precision', 'recall', 'accuracy']\n",
    "scores = cross_validate(estimator=pipe, X=Xscores, y=y_true, scoring=scoring, cv=3)\n",
    "for c in scoring:\n",
    "    print('{} score: {}'.format(c, np.average(scores['test_'+c])))"
   ],
   "metadata": {
    "collapsed": false,
    "pycharm": {
     "name": "#%%\n",
     "is_executing": false
    }
   }
  },
  {
   "cell_type": "code",
   "execution_count": 77,
   "outputs": [],
   "source": [
    "pipe.fit(X=Xscores, y=y_true)\n",
    "y_pred = pd.Series(data=pipe.predict(X=Xscores), index=ix_con, name='y_pred')"
   ],
   "metadata": {
    "collapsed": false,
    "pycharm": {
     "name": "#%%\n",
     "is_executing": false
    }
   }
  },
  {
   "cell_type": "code",
   "execution_count": 78,
   "outputs": [
    {
     "name": "stdout",
     "text": [
      "Showing positive matches\n"
     ],
     "output_type": "stream"
    },
    {
     "data": {
      "text/plain": "                                            name_source  \\\nix_source ix_target                                       \n9bb2f5d9  e4917d10       specialty fasteners components   \n8e71eb0a  591099fe   nespresso deutschland gmbh b 746m6   \n88aaa3a3  7ca58742    united parcel service deutschland   \nfbb6c400  fbb6c400                  hoffman engineering   \n036c39fe  036c39fe                                 fako   \n\n                                           name_target         street_source  \\\nix_source ix_target                                                            \n9bb2f5d9  e4917d10   specialty fasteners components lt  unit d seymour wharf   \n8e71eb0a  591099fe          nespresso deutschland gmbh             8 zollhof   \n88aaa3a3  7ca58742               united parcel service       1 gorlitzer str   \nfbb6c400  fbb6c400                 hoffman engineering        8 riverbend dr   \n036c39fe  036c39fe                                fako           15 peutestr   \n\n                                       street_target city_source city_target  \\\nix_source ix_target                                                            \n9bb2f5d9  e4917d10   seymour wharf steamer quay road      totnes      totnes   \n8e71eb0a  591099fe                   speditionsstrae  dusseldorf  dusseldorf   \n88aaa3a3  7ca58742                  1 grlitzer strae       neuss       neuss   \nfbb6c400  fbb6c400                    8 riverbend dr    stamford    stamford   \n036c39fe  036c39fe                       15 peutestr     hamburg     hamburg   \n\n                    postalcode_source postalcode_target  duns_source  \\\nix_source ix_target                                                    \n9bb2f5d9  e4917d10                tq9               tq9  233148675.0   \n8e71eb0a  591099fe              40221             40221  333868649.0   \n88aaa3a3  7ca58742              41460             41401          NaN   \nfbb6c400  fbb6c400              69070             69070          NaN   \n036c39fe  036c39fe              20539             20539          NaN   \n\n                     duns_target countrycode_source countrycode_target  \nix_source ix_target                                                     \n9bb2f5d9  e4917d10           NaN                 GB                 GB  \n8e71eb0a  591099fe           NaN                 DE                 DE  \n88aaa3a3  7ca58742   315081096.0                 DE                 DE  \nfbb6c400  fbb6c400           NaN                 US                 US  \n036c39fe  036c39fe           NaN                 DE                 DE  ",
      "text/html": "<div>\n<style scoped>\n    .dataframe tbody tr th:only-of-type {\n        vertical-align: middle;\n    }\n\n    .dataframe tbody tr th {\n        vertical-align: top;\n    }\n\n    .dataframe thead th {\n        text-align: right;\n    }\n</style>\n<table border=\"1\" class=\"dataframe\">\n  <thead>\n    <tr style=\"text-align: right;\">\n      <th></th>\n      <th></th>\n      <th>name_source</th>\n      <th>name_target</th>\n      <th>street_source</th>\n      <th>street_target</th>\n      <th>city_source</th>\n      <th>city_target</th>\n      <th>postalcode_source</th>\n      <th>postalcode_target</th>\n      <th>duns_source</th>\n      <th>duns_target</th>\n      <th>countrycode_source</th>\n      <th>countrycode_target</th>\n    </tr>\n    <tr>\n      <th>ix_source</th>\n      <th>ix_target</th>\n      <th></th>\n      <th></th>\n      <th></th>\n      <th></th>\n      <th></th>\n      <th></th>\n      <th></th>\n      <th></th>\n      <th></th>\n      <th></th>\n      <th></th>\n      <th></th>\n    </tr>\n  </thead>\n  <tbody>\n    <tr>\n      <th>9bb2f5d9</th>\n      <th>e4917d10</th>\n      <td>specialty fasteners components</td>\n      <td>specialty fasteners components lt</td>\n      <td>unit d seymour wharf</td>\n      <td>seymour wharf steamer quay road</td>\n      <td>totnes</td>\n      <td>totnes</td>\n      <td>tq9</td>\n      <td>tq9</td>\n      <td>233148675.0</td>\n      <td>NaN</td>\n      <td>GB</td>\n      <td>GB</td>\n    </tr>\n    <tr>\n      <th>8e71eb0a</th>\n      <th>591099fe</th>\n      <td>nespresso deutschland gmbh b 746m6</td>\n      <td>nespresso deutschland gmbh</td>\n      <td>8 zollhof</td>\n      <td>speditionsstrae</td>\n      <td>dusseldorf</td>\n      <td>dusseldorf</td>\n      <td>40221</td>\n      <td>40221</td>\n      <td>333868649.0</td>\n      <td>NaN</td>\n      <td>DE</td>\n      <td>DE</td>\n    </tr>\n    <tr>\n      <th>88aaa3a3</th>\n      <th>7ca58742</th>\n      <td>united parcel service deutschland</td>\n      <td>united parcel service</td>\n      <td>1 gorlitzer str</td>\n      <td>1 grlitzer strae</td>\n      <td>neuss</td>\n      <td>neuss</td>\n      <td>41460</td>\n      <td>41401</td>\n      <td>NaN</td>\n      <td>315081096.0</td>\n      <td>DE</td>\n      <td>DE</td>\n    </tr>\n    <tr>\n      <th>fbb6c400</th>\n      <th>fbb6c400</th>\n      <td>hoffman engineering</td>\n      <td>hoffman engineering</td>\n      <td>8 riverbend dr</td>\n      <td>8 riverbend dr</td>\n      <td>stamford</td>\n      <td>stamford</td>\n      <td>69070</td>\n      <td>69070</td>\n      <td>NaN</td>\n      <td>NaN</td>\n      <td>US</td>\n      <td>US</td>\n    </tr>\n    <tr>\n      <th>036c39fe</th>\n      <th>036c39fe</th>\n      <td>fako</td>\n      <td>fako</td>\n      <td>15 peutestr</td>\n      <td>15 peutestr</td>\n      <td>hamburg</td>\n      <td>hamburg</td>\n      <td>20539</td>\n      <td>20539</td>\n      <td>NaN</td>\n      <td>NaN</td>\n      <td>DE</td>\n      <td>DE</td>\n    </tr>\n  </tbody>\n</table>\n</div>"
     },
     "metadata": {},
     "output_type": "execute_result",
     "execution_count": 78
    }
   ],
   "source": [
    "positive_matches = y_pred.loc[y_pred == 1.0].index\n",
    "print('Showing positive matches')\n",
    "Xsbs.loc[positive_matches].sample(5)"
   ],
   "metadata": {
    "collapsed": false,
    "pycharm": {
     "name": "#%%\n",
     "is_executing": false
    }
   }
  },
  {
   "cell_type": "code",
   "execution_count": 79,
   "outputs": [
    {
     "name": "stdout",
     "text": [
      "Showing negativematches\n"
     ],
     "output_type": "stream"
    },
    {
     "data": {
      "text/plain": "                                            name_source  \\\nix_source ix_target                                       \n989ba440  ec844e4c                      ulmer volkshoch   \nc7f39e26  ab176db8            gottschalk michaelis gmbh   \nf21fdcf5  15ddb77a   smiths aerospace customer services   \nb05a1ef5  adf53fa8                             wupptool   \n9a51e10b  8d3f45c8   cover construction company limited   \n\n                                 name_target    street_source  \\\nix_source ix_target                                             \n989ba440  ec844e4c              notariat ulm  5 kornhausplatz   \nc7f39e26  ab176db8              datacon gmbh    11 23 lahnstr   \nf21fdcf5  15ddb77a   ge aviation systems ltd   bishops cleeve   \nb05a1ef5  adf53fa8    toho tenax europe gmbh   herbringhausen   \n9a51e10b  8d3f45c8      arj construction ltd     filkins mill   \n\n                        street_target         city_source  city_target  \\\nix_source ix_target                                                      \n989ba440  ec844e4c      zeughausgasse                 ulm          ulm   \nc7f39e26  ab176db8         23 waldstr              berlin  dietzenbach   \nf21fdcf5  15ddb77a     bishops cleeve          cheltenham   cheltenham   \nb05a1ef5  adf53fa8    19 21 kasinostr           wuppertal    wuppertal   \n9a51e10b  8d3f45c8   rutherford close  lechlade on thames    stevenage   \n\n                    postalcode_source postalcode_target  duns_source  \\\nix_source ix_target                                                    \n989ba440  ec844e4c              89073             89073  329382126.0   \nc7f39e26  ab176db8              12055             63128          NaN   \nf21fdcf5  15ddb77a            gl528yb          gl52 8yb  288525181.0   \nb05a1ef5  adf53fa8              42399             42103  341522115.0   \n9a51e10b  8d3f45c8                gl7           sg1 2ef          NaN   \n\n                     duns_target countrycode_source countrycode_target  \nix_source ix_target                                                     \n989ba440  ec844e4c           NaN                 DE                 DE  \nc7f39e26  ab176db8   328652599.0                 DE                 DE  \nf21fdcf5  15ddb77a   211207784.0                 GB                 GB  \nb05a1ef5  adf53fa8           NaN                 DE                 DE  \n9a51e10b  8d3f45c8           NaN                 GB                 GB  ",
      "text/html": "<div>\n<style scoped>\n    .dataframe tbody tr th:only-of-type {\n        vertical-align: middle;\n    }\n\n    .dataframe tbody tr th {\n        vertical-align: top;\n    }\n\n    .dataframe thead th {\n        text-align: right;\n    }\n</style>\n<table border=\"1\" class=\"dataframe\">\n  <thead>\n    <tr style=\"text-align: right;\">\n      <th></th>\n      <th></th>\n      <th>name_source</th>\n      <th>name_target</th>\n      <th>street_source</th>\n      <th>street_target</th>\n      <th>city_source</th>\n      <th>city_target</th>\n      <th>postalcode_source</th>\n      <th>postalcode_target</th>\n      <th>duns_source</th>\n      <th>duns_target</th>\n      <th>countrycode_source</th>\n      <th>countrycode_target</th>\n    </tr>\n    <tr>\n      <th>ix_source</th>\n      <th>ix_target</th>\n      <th></th>\n      <th></th>\n      <th></th>\n      <th></th>\n      <th></th>\n      <th></th>\n      <th></th>\n      <th></th>\n      <th></th>\n      <th></th>\n      <th></th>\n      <th></th>\n    </tr>\n  </thead>\n  <tbody>\n    <tr>\n      <th>989ba440</th>\n      <th>ec844e4c</th>\n      <td>ulmer volkshoch</td>\n      <td>notariat ulm</td>\n      <td>5 kornhausplatz</td>\n      <td>zeughausgasse</td>\n      <td>ulm</td>\n      <td>ulm</td>\n      <td>89073</td>\n      <td>89073</td>\n      <td>329382126.0</td>\n      <td>NaN</td>\n      <td>DE</td>\n      <td>DE</td>\n    </tr>\n    <tr>\n      <th>c7f39e26</th>\n      <th>ab176db8</th>\n      <td>gottschalk michaelis gmbh</td>\n      <td>datacon gmbh</td>\n      <td>11 23 lahnstr</td>\n      <td>23 waldstr</td>\n      <td>berlin</td>\n      <td>dietzenbach</td>\n      <td>12055</td>\n      <td>63128</td>\n      <td>NaN</td>\n      <td>328652599.0</td>\n      <td>DE</td>\n      <td>DE</td>\n    </tr>\n    <tr>\n      <th>f21fdcf5</th>\n      <th>15ddb77a</th>\n      <td>smiths aerospace customer services</td>\n      <td>ge aviation systems ltd</td>\n      <td>bishops cleeve</td>\n      <td>bishops cleeve</td>\n      <td>cheltenham</td>\n      <td>cheltenham</td>\n      <td>gl528yb</td>\n      <td>gl52 8yb</td>\n      <td>288525181.0</td>\n      <td>211207784.0</td>\n      <td>GB</td>\n      <td>GB</td>\n    </tr>\n    <tr>\n      <th>b05a1ef5</th>\n      <th>adf53fa8</th>\n      <td>wupptool</td>\n      <td>toho tenax europe gmbh</td>\n      <td>herbringhausen</td>\n      <td>19 21 kasinostr</td>\n      <td>wuppertal</td>\n      <td>wuppertal</td>\n      <td>42399</td>\n      <td>42103</td>\n      <td>341522115.0</td>\n      <td>NaN</td>\n      <td>DE</td>\n      <td>DE</td>\n    </tr>\n    <tr>\n      <th>9a51e10b</th>\n      <th>8d3f45c8</th>\n      <td>cover construction company limited</td>\n      <td>arj construction ltd</td>\n      <td>filkins mill</td>\n      <td>rutherford close</td>\n      <td>lechlade on thames</td>\n      <td>stevenage</td>\n      <td>gl7</td>\n      <td>sg1 2ef</td>\n      <td>NaN</td>\n      <td>NaN</td>\n      <td>GB</td>\n      <td>GB</td>\n    </tr>\n  </tbody>\n</table>\n</div>"
     },
     "metadata": {},
     "output_type": "execute_result",
     "execution_count": 79
    }
   ],
   "source": [
    "negative_matches = y_pred.loc[y_pred == 0.0].index\n",
    "print('Showing negativematches')\n",
    "Xsbs.loc[negative_matches].sample(5)\n",
    "\n"
   ],
   "metadata": {
    "collapsed": false,
    "pycharm": {
     "name": "#%%\n",
     "is_executing": false
    }
   }
  }
 ],
 "metadata": {
  "kernelspec": {
   "display_name": "Python 3",
   "language": "python",
   "name": "python3"
  },
  "language_info": {
   "codemirror_mode": {
    "name": "ipython",
    "version": 2
   },
   "file_extension": ".py",
   "mimetype": "text/x-python",
   "name": "python",
   "nbconvert_exporter": "python",
   "pygments_lexer": "ipython2",
   "version": "2.7.6"
  },
  "pycharm": {
   "stem_cell": {
    "cell_type": "raw",
    "source": [],
    "metadata": {
     "collapsed": false
    }
   }
  }
 },
 "nbformat": 4,
 "nbformat_minor": 0
}