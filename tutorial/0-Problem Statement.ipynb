{
 "cells": [
  {
   "cell_type": "markdown",
   "metadata": {},
   "source": [
    "# Problem Statement: What to do when your data is full of duplicates"
   ]
  },
  {
   "cell_type": "markdown",
   "metadata": {},
   "source": [
    "It happens often that you have datasets about *entities* (Companies, persons, places), that are full of *duplicates*, and where it is difficult to find a *unique identifier* across the different datasets for the same entity.   \n",
    "It might be because the same entity was entered independently in two different information systems, in two slightly different ways. Because of different inputs (typos,..) and other transcription problems (how to type München on an English keyboard) you might find it impossible to match exactly the same name between two datasets.   "
   ]
  },
  {
   "cell_type": "markdown",
   "metadata": {},
   "source": [
    "## 1. Visualize some examples using Suricate datasets\n",
    "As an example, the *Suricate* package already has some datasets about companies incorporated.   \n",
    "This data consists of two tables, called \"*source*\" and \"*target*\""
   ]
  },
  {
   "cell_type": "code",
   "execution_count": 1,
   "metadata": {
    "pycharm": {
     "is_executing": false
    }
   },
   "outputs": [],
   "source": [
    "from suricate.data.companies import getsource, gettarget\n",
    "source = getsource(nrows=200)\n",
    "target = gettarget(nrows=200)"
   ]
  },
  {
   "cell_type": "code",
   "execution_count": 8,
   "metadata": {
    "pycharm": {
     "is_executing": false
    }
   },
   "outputs": [],
   "source": [
    "close_matches = [\n",
    "    ('6880aa5d', '42a5e929'),\n",
    "    ('68ba9560', '46bed352'),\n",
    "    ('4c772645', '2839b691'),\n",
    "    ('f89ddf6d', 'fbba638f'),\n",
    "    ('a17ba961', '4247e534')\n",
    "]"
   ]
  },
  {
   "cell_type": "code",
   "execution_count": 9,
   "metadata": {
    "pycharm": {
     "is_executing": false
    }
   },
   "outputs": [
    {
     "data": {
      "text/plain": "                                 name_source          street_source  \\\nix_source ix_target                                                   \n6880aa5d  42a5e929   ge aviation systems ltd             arle court   \n68ba9560  46bed352            frey blumenhof       mittenheimer str   \n4c772645  2839b691   mewa textil mietservice  5 hermann gebauer str   \nf89ddf6d  fbba638f   aeroflex test solutions           school close   \na17ba961  4247e534       honeywell aerospace               190th st   \n\n                          city_source postalcode_source  duns_source  \\\nix_source ix_target                                                    \n6880aa5d  42a5e929         cheltenham            gl51 0          NaN   \n68ba9560  46bed352   oberschleissheim             85764  342418069.0   \n4c772645  2839b691         meisenheim             77974  314496969.0   \nf89ddf6d  fbba638f    chandler s ford           so534ra  216834002.0   \na17ba961  4247e534           torrance             25250          NaN   \n\n                    countrycode_source                name_target  \\\nix_source ix_target                                                 \n6880aa5d  42a5e929                  GB                ge aviation   \n68ba9560  46bed352                  DE             blumenhof frey   \n4c772645  2839b691                  DE  mewa textil service ag co   \nf89ddf6d  fbba638f                  GB               aeroflex ltd   \na17ba961  4247e534                  US  honeywell engines systems   \n\n                                   street_target        city_target  \\\nix_source ix_target                                                   \n6880aa5d  42a5e929                    cheltenham         cheltenham   \n68ba9560  46bed352    17a wa12rmbachstraayerasse  unterschleissheim   \n4c772645  2839b691           hermann gebauer str  weil im schonbuch   \nf89ddf6d  fbba638f   monks brook industrial park    chandler s ford   \na17ba961  4247e534               2525 w 190th st           torrance   \n\n                    postalcode_target  duns_target countrycode_target  \nix_source ix_target                                                    \n6880aa5d  42a5e929             gl52 7          NaN                 GB  \n68ba9560  46bed352              85716          NaN                 DE  \n4c772645  2839b691              71093  318287794.0                 DE  \nf89ddf6d  fbba638f            so534ra  216834002.0                 GB  \na17ba961  4247e534         90504-6002          NaN                 US  ",
      "text/html": "<div>\n<style scoped>\n    .dataframe tbody tr th:only-of-type {\n        vertical-align: middle;\n    }\n\n    .dataframe tbody tr th {\n        vertical-align: top;\n    }\n\n    .dataframe thead th {\n        text-align: right;\n    }\n</style>\n<table border=\"1\" class=\"dataframe\">\n  <thead>\n    <tr style=\"text-align: right;\">\n      <th></th>\n      <th></th>\n      <th>name_source</th>\n      <th>street_source</th>\n      <th>city_source</th>\n      <th>postalcode_source</th>\n      <th>duns_source</th>\n      <th>countrycode_source</th>\n      <th>name_target</th>\n      <th>street_target</th>\n      <th>city_target</th>\n      <th>postalcode_target</th>\n      <th>duns_target</th>\n      <th>countrycode_target</th>\n    </tr>\n    <tr>\n      <th>ix_source</th>\n      <th>ix_target</th>\n      <th></th>\n      <th></th>\n      <th></th>\n      <th></th>\n      <th></th>\n      <th></th>\n      <th></th>\n      <th></th>\n      <th></th>\n      <th></th>\n      <th></th>\n      <th></th>\n    </tr>\n  </thead>\n  <tbody>\n    <tr>\n      <th>6880aa5d</th>\n      <th>42a5e929</th>\n      <td>ge aviation systems ltd</td>\n      <td>arle court</td>\n      <td>cheltenham</td>\n      <td>gl51 0</td>\n      <td>NaN</td>\n      <td>GB</td>\n      <td>ge aviation</td>\n      <td>cheltenham</td>\n      <td>cheltenham</td>\n      <td>gl52 7</td>\n      <td>NaN</td>\n      <td>GB</td>\n    </tr>\n    <tr>\n      <th>68ba9560</th>\n      <th>46bed352</th>\n      <td>frey blumenhof</td>\n      <td>mittenheimer str</td>\n      <td>oberschleissheim</td>\n      <td>85764</td>\n      <td>342418069.0</td>\n      <td>DE</td>\n      <td>blumenhof frey</td>\n      <td>17a wa12rmbachstraayerasse</td>\n      <td>unterschleissheim</td>\n      <td>85716</td>\n      <td>NaN</td>\n      <td>DE</td>\n    </tr>\n    <tr>\n      <th>4c772645</th>\n      <th>2839b691</th>\n      <td>mewa textil mietservice</td>\n      <td>5 hermann gebauer str</td>\n      <td>meisenheim</td>\n      <td>77974</td>\n      <td>314496969.0</td>\n      <td>DE</td>\n      <td>mewa textil service ag co</td>\n      <td>hermann gebauer str</td>\n      <td>weil im schonbuch</td>\n      <td>71093</td>\n      <td>318287794.0</td>\n      <td>DE</td>\n    </tr>\n    <tr>\n      <th>f89ddf6d</th>\n      <th>fbba638f</th>\n      <td>aeroflex test solutions</td>\n      <td>school close</td>\n      <td>chandler s ford</td>\n      <td>so534ra</td>\n      <td>216834002.0</td>\n      <td>GB</td>\n      <td>aeroflex ltd</td>\n      <td>monks brook industrial park</td>\n      <td>chandler s ford</td>\n      <td>so534ra</td>\n      <td>216834002.0</td>\n      <td>GB</td>\n    </tr>\n    <tr>\n      <th>a17ba961</th>\n      <th>4247e534</th>\n      <td>honeywell aerospace</td>\n      <td>190th st</td>\n      <td>torrance</td>\n      <td>25250</td>\n      <td>NaN</td>\n      <td>US</td>\n      <td>honeywell engines systems</td>\n      <td>2525 w 190th st</td>\n      <td>torrance</td>\n      <td>90504-6002</td>\n      <td>NaN</td>\n      <td>US</td>\n    </tr>\n  </tbody>\n</table>\n</div>"
     },
     "metadata": {},
     "output_type": "execute_result",
     "execution_count": 9
    }
   ],
   "source": [
    "from suricate.dftransformers import cartesian_join\n",
    "Xsbs = cartesian_join(source=source, target=target).set_index(['ix_source', 'ix_target'])\n",
    "Xsbs.loc[close_matches]"
   ]
  },
  {
   "cell_type": "markdown",
   "metadata": {},
   "source": [
    "As you can see in the examples, there are a lot of cases where the company name or the address is very similar. Are they the same entity? Is there a mathematical way to say if they are the same or not? This problem is usually called deduplication, or record linkage.    \n",
    "\n",
    "The Suricate project aims to allow you to set-up quickly a machine learning model in order to intelligently finds matches in your data sets"
   ]
  },
  {
   "cell_type": "markdown",
   "metadata": {},
   "source": [
    "## Next topic: Similarity functions"
   ]
  }
 ],
 "metadata": {
  "kernelspec": {
   "display_name": "Python 3",
   "language": "python",
   "name": "python3"
  },
  "language_info": {
   "codemirror_mode": {
    "name": "ipython",
    "version": 3
   },
   "file_extension": ".py",
   "mimetype": "text/x-python",
   "name": "python",
   "nbconvert_exporter": "python",
   "pygments_lexer": "ipython3",
   "version": "3.7.3"
  },
  "pycharm": {
   "stem_cell": {
    "cell_type": "raw",
    "source": [],
    "metadata": {
     "collapsed": false
    }
   }
  }
 },
 "nbformat": 4,
 "nbformat_minor": 2
}