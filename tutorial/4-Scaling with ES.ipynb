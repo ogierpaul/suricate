{
 "cells": [
  {
   "cell_type": "markdown",
   "metadata": {
    "collapsed": true,
    "pycharm": {
     "name": "#%% md\n"
    }
   },
   "source": [
    "# Step - by - step Guide to finding potential matches with Elastic Search\n",
    "1. Prepare the data\n",
    "2. Push the data to Elastic Search\n",
    "3. Create the first similarity matrix\n",
    "4. Do further scoring and add new features to the similarity matrix\n",
    "5. Train a machine learning model on the data\n",
    " "
   ]
  },
  {
   "cell_type": "markdown",
   "metadata": {
    "pycharm": {
     "name": "#%% md\n"
    }
   },
   "source": [
    "## 1. Load the data"
   ]
  },
  {
   "cell_type": "code",
   "execution_count": 1,
   "metadata": {
    "pycharm": {
     "is_executing": false,
     "name": "#%%\n"
    }
   },
   "outputs": [],
   "source": [
    "import numpy as np\n",
    "import pandas as pd\n",
    "from suricate.data.companies import getsource, gettarget, getytrue\n",
    "nrows = 100"
   ]
  },
  {
   "cell_type": "code",
   "execution_count": 2,
   "metadata": {
    "pycharm": {
     "is_executing": false,
     "name": "#%%\n"
    }
   },
   "outputs": [
    {
     "name": "stdout",
     "output_type": "stream",
     "text": [
      "Number of rows in source data:100\n"
     ]
    },
    {
     "data": {
      "text/html": [
       "<div>\n",
       "<style scoped>\n",
       "    .dataframe tbody tr th:only-of-type {\n",
       "        vertical-align: middle;\n",
       "    }\n",
       "\n",
       "    .dataframe tbody tr th {\n",
       "        vertical-align: top;\n",
       "    }\n",
       "\n",
       "    .dataframe thead th {\n",
       "        text-align: right;\n",
       "    }\n",
       "</style>\n",
       "<table border=\"1\" class=\"dataframe\">\n",
       "  <thead>\n",
       "    <tr style=\"text-align: right;\">\n",
       "      <th></th>\n",
       "      <th>name</th>\n",
       "      <th>street</th>\n",
       "      <th>city</th>\n",
       "      <th>postalcode</th>\n",
       "      <th>duns</th>\n",
       "      <th>countrycode</th>\n",
       "    </tr>\n",
       "    <tr>\n",
       "      <th>ix</th>\n",
       "      <th></th>\n",
       "      <th></th>\n",
       "      <th></th>\n",
       "      <th></th>\n",
       "      <th></th>\n",
       "      <th></th>\n",
       "    </tr>\n",
       "  </thead>\n",
       "  <tbody>\n",
       "    <tr>\n",
       "      <th>8de0b63f</th>\n",
       "      <td>bueromarkt boettcher ag</td>\n",
       "      <td>3 brusseler str</td>\n",
       "      <td>jena</td>\n",
       "      <td>07745</td>\n",
       "      <td>NaN</td>\n",
       "      <td>DE</td>\n",
       "    </tr>\n",
       "    <tr>\n",
       "      <th>77ca58f8</th>\n",
       "      <td>buchde</td>\n",
       "      <td>an den speichern</td>\n",
       "      <td>munster</td>\n",
       "      <td>48157</td>\n",
       "      <td>31539316.0</td>\n",
       "      <td>DE</td>\n",
       "    </tr>\n",
       "    <tr>\n",
       "      <th>b8f79f98</th>\n",
       "      <td>phytec messtechnik gmbh</td>\n",
       "      <td>robert koch str</td>\n",
       "      <td>mainz</td>\n",
       "      <td>55129</td>\n",
       "      <td>NaN</td>\n",
       "      <td>DE</td>\n",
       "    </tr>\n",
       "    <tr>\n",
       "      <th>f7da5ee1</th>\n",
       "      <td>e a elektro automatik gmbh</td>\n",
       "      <td>31 37 helmholtzstr</td>\n",
       "      <td>viersen</td>\n",
       "      <td>41747</td>\n",
       "      <td>344304634.0</td>\n",
       "      <td>DE</td>\n",
       "    </tr>\n",
       "    <tr>\n",
       "      <th>5e02efdb</th>\n",
       "      <td>bozic tours</td>\n",
       "      <td>32 zinglerstr</td>\n",
       "      <td>ulm</td>\n",
       "      <td>89077</td>\n",
       "      <td>NaN</td>\n",
       "      <td>DE</td>\n",
       "    </tr>\n",
       "  </tbody>\n",
       "</table>\n",
       "</div>"
      ],
      "text/plain": [
       "                                name              street     city postalcode  \\\n",
       "ix                                                                             \n",
       "8de0b63f     bueromarkt boettcher ag     3 brusseler str     jena      07745   \n",
       "77ca58f8                      buchde    an den speichern  munster      48157   \n",
       "b8f79f98     phytec messtechnik gmbh     robert koch str    mainz      55129   \n",
       "f7da5ee1  e a elektro automatik gmbh  31 37 helmholtzstr  viersen      41747   \n",
       "5e02efdb                 bozic tours       32 zinglerstr      ulm      89077   \n",
       "\n",
       "                 duns countrycode  \n",
       "ix                                 \n",
       "8de0b63f          NaN          DE  \n",
       "77ca58f8   31539316.0          DE  \n",
       "b8f79f98          NaN          DE  \n",
       "f7da5ee1  344304634.0          DE  \n",
       "5e02efdb          NaN          DE  "
      ]
     },
     "execution_count": 2,
     "metadata": {},
     "output_type": "execute_result"
    }
   ],
   "source": [
    "df_source = getsource(nrows=nrows)\n",
    "print('Number of rows in source data:{}'.format(df_source.shape[0]))\n",
    "df_source.sample(5)"
   ]
  },
  {
   "cell_type": "code",
   "execution_count": 3,
   "metadata": {
    "pycharm": {
     "is_executing": false,
     "name": "#%%\n"
    }
   },
   "outputs": [
    {
     "name": "stdout",
     "output_type": "stream",
     "text": [
      "Number of rows in target data:100\n"
     ]
    },
    {
     "data": {
      "text/html": [
       "<div>\n",
       "<style scoped>\n",
       "    .dataframe tbody tr th:only-of-type {\n",
       "        vertical-align: middle;\n",
       "    }\n",
       "\n",
       "    .dataframe tbody tr th {\n",
       "        vertical-align: top;\n",
       "    }\n",
       "\n",
       "    .dataframe thead th {\n",
       "        text-align: right;\n",
       "    }\n",
       "</style>\n",
       "<table border=\"1\" class=\"dataframe\">\n",
       "  <thead>\n",
       "    <tr style=\"text-align: right;\">\n",
       "      <th></th>\n",
       "      <th>name</th>\n",
       "      <th>street</th>\n",
       "      <th>city</th>\n",
       "      <th>postalcode</th>\n",
       "      <th>duns</th>\n",
       "      <th>countrycode</th>\n",
       "    </tr>\n",
       "    <tr>\n",
       "      <th>ix</th>\n",
       "      <th></th>\n",
       "      <th></th>\n",
       "      <th></th>\n",
       "      <th></th>\n",
       "      <th></th>\n",
       "      <th></th>\n",
       "    </tr>\n",
       "  </thead>\n",
       "  <tbody>\n",
       "    <tr>\n",
       "      <th>dd1314c3</th>\n",
       "      <td>kuhn albert</td>\n",
       "      <td>9 wilhelmstr</td>\n",
       "      <td>stuttgart</td>\n",
       "      <td>70182</td>\n",
       "      <td>NaN</td>\n",
       "      <td>DE</td>\n",
       "    </tr>\n",
       "    <tr>\n",
       "      <th>5c3c57bf</th>\n",
       "      <td>tino winter</td>\n",
       "      <td>obere au</td>\n",
       "      <td>rechtenstein</td>\n",
       "      <td>89611</td>\n",
       "      <td>NaN</td>\n",
       "      <td>DE</td>\n",
       "    </tr>\n",
       "    <tr>\n",
       "      <th>ab364b25</th>\n",
       "      <td>c and g tool and cutter co ltd c and g tool an...</td>\n",
       "      <td>north road</td>\n",
       "      <td>yate</td>\n",
       "      <td>bs17 5lq</td>\n",
       "      <td>NaN</td>\n",
       "      <td>GB</td>\n",
       "    </tr>\n",
       "    <tr>\n",
       "      <th>fc8bf3d0</th>\n",
       "      <td>ge sensing</td>\n",
       "      <td>fir tree lane</td>\n",
       "      <td>groby</td>\n",
       "      <td>le60fh</td>\n",
       "      <td>219144201.0</td>\n",
       "      <td>GB</td>\n",
       "    </tr>\n",
       "    <tr>\n",
       "      <th>b54f1933</th>\n",
       "      <td>selex es spa</td>\n",
       "      <td>via piemonte</td>\n",
       "      <td>rome</td>\n",
       "      <td>187</td>\n",
       "      <td>NaN</td>\n",
       "      <td>IT</td>\n",
       "    </tr>\n",
       "  </tbody>\n",
       "</table>\n",
       "</div>"
      ],
      "text/plain": [
       "                                                       name         street  \\\n",
       "ix                                                                           \n",
       "dd1314c3                                        kuhn albert   9 wilhelmstr   \n",
       "5c3c57bf                                        tino winter       obere au   \n",
       "ab364b25  c and g tool and cutter co ltd c and g tool an...     north road   \n",
       "fc8bf3d0                                         ge sensing  fir tree lane   \n",
       "b54f1933                                       selex es spa   via piemonte   \n",
       "\n",
       "                  city postalcode         duns countrycode  \n",
       "ix                                                          \n",
       "dd1314c3     stuttgart      70182          NaN          DE  \n",
       "5c3c57bf  rechtenstein      89611          NaN          DE  \n",
       "ab364b25          yate   bs17 5lq          NaN          GB  \n",
       "fc8bf3d0         groby     le60fh  219144201.0          GB  \n",
       "b54f1933          rome        187          NaN          IT  "
      ]
     },
     "execution_count": 3,
     "metadata": {},
     "output_type": "execute_result"
    }
   ],
   "source": [
    "df_target = gettarget(nrows=nrows)\n",
    "print('Number of rows in target data:{}'.format(df_target.shape[0]))\n",
    "df_target.sample(5)"
   ]
  },
  {
   "cell_type": "markdown",
   "metadata": {
    "pycharm": {
     "name": "#%% md\n"
    }
   },
   "source": [
    "## 2. Push the data to Elastic Search"
   ]
  },
  {
   "cell_type": "code",
   "execution_count": 4,
   "metadata": {
    "pycharm": {
     "is_executing": false,
     "name": "#%%\n"
    }
   },
   "outputs": [],
   "source": [
    "import elasticsearch\n",
    "import time\n",
    "from suricate.dbconnectors.esconnector import index_with_es"
   ]
  },
  {
   "cell_type": "code",
   "execution_count": 5,
   "metadata": {
    "pycharm": {
     "is_executing": false,
     "name": "#%%\n"
    }
   },
   "outputs": [
    {
     "name": "stdout",
     "output_type": "stream",
     "text": [
      "Number of docs in created index:100\n"
     ]
    }
   ],
   "source": [
    "esclient = elasticsearch.Elasticsearch()\n",
    "es_indice = 'df_target'\n",
    "if True:\n",
    "    try:\n",
    "        esclient.indices.delete(index=es_indice)\n",
    "    except:\n",
    "        pass\n",
    "    request_body = {\n",
    "        \"settings\": {\n",
    "            \"number_of_shards\": 5,\n",
    "            \"number_of_replicas\": 5\n",
    "        },\n",
    "\n",
    "        \"mappings\": {\n",
    "            \"_doc\": {\n",
    "                \"properties\": {\n",
    "                    \"ix\": {\"type\": \"keyword\"},\n",
    "                    \"name\": {\"type\": \"text\"},\n",
    "                    \"street\": {\"type\": \"text\"},\n",
    "                    \"city\": {\"type\": \"text\"},\n",
    "                    \"postalcode\": {\"type\": \"text\"},\n",
    "                    \"countrycode\": {\"type\": \"keyword\"}\n",
    "                }\n",
    "            }\n",
    "        }\n",
    "    }\n",
    "    esclient.indices.create(index=es_indice, body=request_body)\n",
    "    index_with_es(client=esclient, df=df_target, index=es_indice, ixname=\"ix\", reset_index=True, doc_type='_doc')\n",
    "    time.sleep(5)\n",
    "\n",
    "catcount = esclient.count(index=es_indice)['count']\n",
    "assert catcount == df_target.shape[0]\n",
    "print('Number of docs in created index:{}'.format(catcount))"
   ]
  },
  {
   "cell_type": "markdown",
   "metadata": {
    "pycharm": {
     "name": "#%% md\n"
    }
   },
   "source": [
    "## 3. Create the first similarity matrix"
   ]
  },
  {
   "cell_type": "code",
   "execution_count": 6,
   "metadata": {
    "pycharm": {
     "is_executing": false,
     "name": "#%%\n"
    }
   },
   "outputs": [],
   "source": [
    "from suricate.dbconnectors import EsConnector"
   ]
  },
  {
   "cell_type": "code",
   "execution_count": 7,
   "metadata": {
    "pycharm": {
     "is_executing": false,
     "name": "#%%\n"
    }
   },
   "outputs": [
    {
     "name": "stdout",
     "output_type": "stream",
     "text": [
      "Number of possible pairs:1000\n",
      "Example of similarity matrix:\n"
     ]
    },
    {
     "data": {
      "text/html": [
       "<div>\n",
       "<style scoped>\n",
       "    .dataframe tbody tr th:only-of-type {\n",
       "        vertical-align: middle;\n",
       "    }\n",
       "\n",
       "    .dataframe tbody tr th {\n",
       "        vertical-align: top;\n",
       "    }\n",
       "\n",
       "    .dataframe thead th {\n",
       "        text-align: right;\n",
       "    }\n",
       "</style>\n",
       "<table border=\"1\" class=\"dataframe\">\n",
       "  <thead>\n",
       "    <tr style=\"text-align: right;\">\n",
       "      <th></th>\n",
       "      <th></th>\n",
       "      <th>es_score</th>\n",
       "      <th>es_rank</th>\n",
       "    </tr>\n",
       "    <tr>\n",
       "      <th>ix_source</th>\n",
       "      <th>ix_target</th>\n",
       "      <th></th>\n",
       "      <th></th>\n",
       "    </tr>\n",
       "  </thead>\n",
       "  <tbody>\n",
       "    <tr>\n",
       "      <th>a0a1b780</th>\n",
       "      <th>ce8a3993</th>\n",
       "      <td>7.317079</td>\n",
       "      <td>7</td>\n",
       "    </tr>\n",
       "    <tr>\n",
       "      <th>77f5274a</th>\n",
       "      <th>f6c4cea8</th>\n",
       "      <td>26.248058</td>\n",
       "      <td>6</td>\n",
       "    </tr>\n",
       "    <tr>\n",
       "      <th>e67441ba</th>\n",
       "      <th>f1d5897c</th>\n",
       "      <td>16.838224</td>\n",
       "      <td>4</td>\n",
       "    </tr>\n",
       "    <tr>\n",
       "      <th>536d4a08</th>\n",
       "      <th>d1d8f03c</th>\n",
       "      <td>28.837980</td>\n",
       "      <td>3</td>\n",
       "    </tr>\n",
       "    <tr>\n",
       "      <th>0a8de44c</th>\n",
       "      <th>7091755c</th>\n",
       "      <td>22.027990</td>\n",
       "      <td>1</td>\n",
       "    </tr>\n",
       "  </tbody>\n",
       "</table>\n",
       "</div>"
      ],
      "text/plain": [
       "                      es_score es_rank\n",
       "ix_source ix_target                   \n",
       "a0a1b780  ce8a3993    7.317079       7\n",
       "77f5274a  f6c4cea8   26.248058       6\n",
       "e67441ba  f1d5897c   16.838224       4\n",
       "536d4a08  d1d8f03c   28.837980       3\n",
       "0a8de44c  7091755c   22.027990       1"
      ]
     },
     "execution_count": 7,
     "metadata": {},
     "output_type": "execute_result"
    }
   ],
   "source": [
    "scoreplan = {\n",
    "        'name': {\n",
    "            'type': 'FreeText'\n",
    "        },\n",
    "        'street': {\n",
    "            'type': 'FreeText'\n",
    "        },\n",
    "        'city': {\n",
    "            'type': 'FreeText'\n",
    "        },\n",
    "        'duns': {\n",
    "            'type': 'Exact'\n",
    "        },\n",
    "        'postalcode': {\n",
    "            'type': 'FreeText'\n",
    "        },\n",
    "        'countrycode': {\n",
    "            'type': 'Exact'\n",
    "        }\n",
    "    }\n",
    "escon = EsConnector(\n",
    "    client=esclient,\n",
    "    scoreplan=scoreplan,\n",
    "    index=\"right\",\n",
    "    explain=False,\n",
    "    size=10\n",
    ")\n",
    "Xst = escon.fit_transform(X=df_source)\n",
    "ix_con = Xst.index\n",
    "print('Number of possible pairs:{}'.format(len(ix_con)))\n",
    "print('Example of similarity matrix:')\n",
    "Xst.sample(5)"
   ]
  },
  {
   "cell_type": "code",
   "execution_count": 8,
   "metadata": {
    "pycharm": {
     "is_executing": false,
     "name": "#%%\n"
    }
   },
   "outputs": [
    {
     "name": "stdout",
     "output_type": "stream",
     "text": [
      "Example of side-by-side view of source and target data\n"
     ]
    },
    {
     "data": {
      "text/html": [
       "<div>\n",
       "<style scoped>\n",
       "    .dataframe tbody tr th:only-of-type {\n",
       "        vertical-align: middle;\n",
       "    }\n",
       "\n",
       "    .dataframe tbody tr th {\n",
       "        vertical-align: top;\n",
       "    }\n",
       "\n",
       "    .dataframe thead th {\n",
       "        text-align: right;\n",
       "    }\n",
       "</style>\n",
       "<table border=\"1\" class=\"dataframe\">\n",
       "  <thead>\n",
       "    <tr style=\"text-align: right;\">\n",
       "      <th></th>\n",
       "      <th></th>\n",
       "      <th>name_source</th>\n",
       "      <th>name_target</th>\n",
       "      <th>street_source</th>\n",
       "      <th>street_target</th>\n",
       "      <th>city_source</th>\n",
       "      <th>city_target</th>\n",
       "      <th>postalcode_source</th>\n",
       "      <th>postalcode_target</th>\n",
       "      <th>duns_source</th>\n",
       "      <th>duns_target</th>\n",
       "      <th>countrycode_source</th>\n",
       "      <th>countrycode_target</th>\n",
       "    </tr>\n",
       "    <tr>\n",
       "      <th>ix_source</th>\n",
       "      <th>ix_target</th>\n",
       "      <th></th>\n",
       "      <th></th>\n",
       "      <th></th>\n",
       "      <th></th>\n",
       "      <th></th>\n",
       "      <th></th>\n",
       "      <th></th>\n",
       "      <th></th>\n",
       "      <th></th>\n",
       "      <th></th>\n",
       "      <th></th>\n",
       "      <th></th>\n",
       "    </tr>\n",
       "  </thead>\n",
       "  <tbody>\n",
       "    <tr>\n",
       "      <th>2b6c43e5</th>\n",
       "      <th>deaca020</th>\n",
       "      <td>industrie und</td>\n",
       "      <td>industrie foerderung</td>\n",
       "      <td>fasanenstr</td>\n",
       "      <td>20 gertraudenstrae</td>\n",
       "      <td>berlin</td>\n",
       "      <td>berlin</td>\n",
       "      <td>10623</td>\n",
       "      <td>10178</td>\n",
       "      <td>NaN</td>\n",
       "      <td>329847623.0</td>\n",
       "      <td>DE</td>\n",
       "      <td>DE</td>\n",
       "    </tr>\n",
       "    <tr>\n",
       "      <th>8c071814</th>\n",
       "      <th>a90adf42</th>\n",
       "      <td>ge aviation systems ltdcustomer services</td>\n",
       "      <td>ge aviation</td>\n",
       "      <td>evesham road</td>\n",
       "      <td>evesham road</td>\n",
       "      <td>cheltenham</td>\n",
       "      <td>cheltenham</td>\n",
       "      <td>gl528sf</td>\n",
       "      <td>gl52 8sf</td>\n",
       "      <td>211207784.0</td>\n",
       "      <td>67221824.0</td>\n",
       "      <td>GB</td>\n",
       "      <td>GB</td>\n",
       "    </tr>\n",
       "    <tr>\n",
       "      <th>a9f4905c</th>\n",
       "      <th>168937e1</th>\n",
       "      <td>inficon gmbh</td>\n",
       "      <td>acla werke gmbh</td>\n",
       "      <td>bonner str</td>\n",
       "      <td>142 frankfurter str</td>\n",
       "      <td>cologne</td>\n",
       "      <td>cologne</td>\n",
       "      <td>50968</td>\n",
       "      <td>51065</td>\n",
       "      <td>NaN</td>\n",
       "      <td>NaN</td>\n",
       "      <td>DE</td>\n",
       "      <td>DE</td>\n",
       "    </tr>\n",
       "    <tr>\n",
       "      <th>a30fe96c</th>\n",
       "      <th>a7906fc8</th>\n",
       "      <td>edmund optics inc</td>\n",
       "      <td>edmund optics</td>\n",
       "      <td>lysander close</td>\n",
       "      <td>nether poppleton</td>\n",
       "      <td>york</td>\n",
       "      <td>york</td>\n",
       "      <td>yo30 4xb</td>\n",
       "      <td>yo260 6bl</td>\n",
       "      <td>236713199.0</td>\n",
       "      <td>236713199.0</td>\n",
       "      <td>GB</td>\n",
       "      <td>GB</td>\n",
       "    </tr>\n",
       "    <tr>\n",
       "      <th>e8c68ece</th>\n",
       "      <th>56f196de</th>\n",
       "      <td>uk space agency</td>\n",
       "      <td>tritech precision products ltd</td>\n",
       "      <td>north star avenue</td>\n",
       "      <td>north</td>\n",
       "      <td>swindon</td>\n",
       "      <td>wrexham</td>\n",
       "      <td>sn2 1sz</td>\n",
       "      <td>ll13</td>\n",
       "      <td>NaN</td>\n",
       "      <td>NaN</td>\n",
       "      <td>GB</td>\n",
       "      <td>GB</td>\n",
       "    </tr>\n",
       "  </tbody>\n",
       "</table>\n",
       "</div>"
      ],
      "text/plain": [
       "                                                  name_source  \\\n",
       "ix_source ix_target                                             \n",
       "2b6c43e5  deaca020                              industrie und   \n",
       "8c071814  a90adf42   ge aviation systems ltdcustomer services   \n",
       "a9f4905c  168937e1                               inficon gmbh   \n",
       "a30fe96c  a7906fc8                          edmund optics inc   \n",
       "e8c68ece  56f196de                            uk space agency   \n",
       "\n",
       "                                        name_target      street_source  \\\n",
       "ix_source ix_target                                                      \n",
       "2b6c43e5  deaca020             industrie foerderung         fasanenstr   \n",
       "8c071814  a90adf42                      ge aviation       evesham road   \n",
       "a9f4905c  168937e1                  acla werke gmbh         bonner str   \n",
       "a30fe96c  a7906fc8                    edmund optics     lysander close   \n",
       "e8c68ece  56f196de   tritech precision products ltd  north star avenue   \n",
       "\n",
       "                           street_target city_source city_target  \\\n",
       "ix_source ix_target                                                \n",
       "2b6c43e5  deaca020    20 gertraudenstrae      berlin      berlin   \n",
       "8c071814  a90adf42          evesham road  cheltenham  cheltenham   \n",
       "a9f4905c  168937e1   142 frankfurter str     cologne     cologne   \n",
       "a30fe96c  a7906fc8      nether poppleton        york        york   \n",
       "e8c68ece  56f196de                 north     swindon     wrexham   \n",
       "\n",
       "                    postalcode_source postalcode_target  duns_source  \\\n",
       "ix_source ix_target                                                    \n",
       "2b6c43e5  deaca020              10623             10178          NaN   \n",
       "8c071814  a90adf42            gl528sf          gl52 8sf  211207784.0   \n",
       "a9f4905c  168937e1              50968             51065          NaN   \n",
       "a30fe96c  a7906fc8           yo30 4xb         yo260 6bl  236713199.0   \n",
       "e8c68ece  56f196de            sn2 1sz              ll13          NaN   \n",
       "\n",
       "                     duns_target countrycode_source countrycode_target  \n",
       "ix_source ix_target                                                     \n",
       "2b6c43e5  deaca020   329847623.0                 DE                 DE  \n",
       "8c071814  a90adf42    67221824.0                 GB                 GB  \n",
       "a9f4905c  168937e1           NaN                 DE                 DE  \n",
       "a30fe96c  a7906fc8   236713199.0                 GB                 GB  \n",
       "e8c68ece  56f196de           NaN                 GB                 GB  "
      ]
     },
     "execution_count": 8,
     "metadata": {},
     "output_type": "execute_result"
    }
   ],
   "source": [
    "Xsbs = escon.getsbs(X=df_source, on_ix=ix_con)\n",
    "print('Example of side-by-side view of source and target data')\n",
    "Xsbs.sample(5)"
   ]
  },
  {
   "cell_type": "markdown",
   "metadata": {},
   "source": [
    "## 4. Further scoring"
   ]
  },
  {
   "cell_type": "code",
   "execution_count": 9,
   "metadata": {
    "pycharm": {
     "is_executing": false,
     "name": "#%%\n"
    }
   },
   "outputs": [],
   "source": [
    "from suricate.sbstransformers import SbsApplyComparator\n",
    "from sklearn.pipeline import FeatureUnion"
   ]
  },
  {
   "cell_type": "code",
   "execution_count": 10,
   "metadata": {
    "pycharm": {
     "is_executing": false,
     "name": "#%%\n"
    }
   },
   "outputs": [
    {
     "name": "stdout",
     "output_type": "stream",
     "text": [
      "Additional scores\n"
     ]
    },
    {
     "data": {
      "text/html": [
       "<div>\n",
       "<style scoped>\n",
       "    .dataframe tbody tr th:only-of-type {\n",
       "        vertical-align: middle;\n",
       "    }\n",
       "\n",
       "    .dataframe tbody tr th {\n",
       "        vertical-align: top;\n",
       "    }\n",
       "\n",
       "    .dataframe thead th {\n",
       "        text-align: right;\n",
       "    }\n",
       "</style>\n",
       "<table border=\"1\" class=\"dataframe\">\n",
       "  <thead>\n",
       "    <tr style=\"text-align: right;\">\n",
       "      <th></th>\n",
       "      <th></th>\n",
       "      <th>name_fuzzy</th>\n",
       "      <th>street_fuzzy</th>\n",
       "      <th>name_token</th>\n",
       "      <th>street_token</th>\n",
       "      <th>city_fuzzy</th>\n",
       "      <th>postalcode_fuzzy</th>\n",
       "      <th>postalcode_contains</th>\n",
       "    </tr>\n",
       "    <tr>\n",
       "      <th>ix_source</th>\n",
       "      <th>ix_target</th>\n",
       "      <th></th>\n",
       "      <th></th>\n",
       "      <th></th>\n",
       "      <th></th>\n",
       "      <th></th>\n",
       "      <th></th>\n",
       "      <th></th>\n",
       "    </tr>\n",
       "  </thead>\n",
       "  <tbody>\n",
       "    <tr>\n",
       "      <th>a0a1b780</th>\n",
       "      <th>60f20152</th>\n",
       "      <td>1.00</td>\n",
       "      <td>0.83</td>\n",
       "      <td>1.00</td>\n",
       "      <td>0.83</td>\n",
       "      <td>1.00</td>\n",
       "      <td>1.0</td>\n",
       "      <td>1.0</td>\n",
       "    </tr>\n",
       "    <tr>\n",
       "      <th>3c4377c9</th>\n",
       "      <th>bdcb5ed2</th>\n",
       "      <td>0.31</td>\n",
       "      <td>0.55</td>\n",
       "      <td>0.24</td>\n",
       "      <td>0.36</td>\n",
       "      <td>0.27</td>\n",
       "      <td>0.2</td>\n",
       "      <td>0.0</td>\n",
       "    </tr>\n",
       "    <tr>\n",
       "      <th>7a037111</th>\n",
       "      <th>69ef33b5</th>\n",
       "      <td>1.00</td>\n",
       "      <td>1.00</td>\n",
       "      <td>1.00</td>\n",
       "      <td>1.00</td>\n",
       "      <td>1.00</td>\n",
       "      <td>1.0</td>\n",
       "      <td>1.0</td>\n",
       "    </tr>\n",
       "  </tbody>\n",
       "</table>\n",
       "</div>"
      ],
      "text/plain": [
       "                     name_fuzzy  street_fuzzy  name_token  street_token  \\\n",
       "ix_source ix_target                                                       \n",
       "a0a1b780  60f20152         1.00          0.83        1.00          0.83   \n",
       "3c4377c9  bdcb5ed2         0.31          0.55        0.24          0.36   \n",
       "7a037111  69ef33b5         1.00          1.00        1.00          1.00   \n",
       "\n",
       "                     city_fuzzy  postalcode_fuzzy  postalcode_contains  \n",
       "ix_source ix_target                                                     \n",
       "a0a1b780  60f20152         1.00               1.0                  1.0  \n",
       "3c4377c9  bdcb5ed2         0.27               0.2                  0.0  \n",
       "7a037111  69ef33b5         1.00               1.0                  1.0  "
      ]
     },
     "execution_count": 10,
     "metadata": {},
     "output_type": "execute_result"
    }
   ],
   "source": [
    "_sbs_score_list = [\n",
    "    ('name_fuzzy', SbsApplyComparator(on='name', comparator='simple')),\n",
    "    ('street_fuzzy', SbsApplyComparator(on='street', comparator='simple')),\n",
    "    ('name_token', SbsApplyComparator(on='name', comparator='token')),\n",
    "    ('street_token', SbsApplyComparator(on='street', comparator='token')),\n",
    "    ('city_fuzzy', SbsApplyComparator(on='city', comparator='simple')),\n",
    "    ('postalcode_fuzzy', SbsApplyComparator(on='postalcode', comparator='simple')),\n",
    "    ('postalcode_contains', SbsApplyComparator(on='postalcode', comparator='contains'))\n",
    "]\n",
    "scorer_sbs = FeatureUnion(transformer_list=_sbs_score_list)\n",
    "Xscores = pd.DataFrame(\n",
    "    data=scorer_sbs.fit_transform(X=Xsbs),\n",
    "    index=ix_con,\n",
    "    columns=[c[0] for c in _sbs_score_list]\n",
    ")\n",
    "print('Additional scores')\n",
    "Xscores.sample(3)"
   ]
  },
  {
   "cell_type": "markdown",
   "metadata": {
    "pycharm": {
     "name": "#%% md\n"
    }
   },
   "source": [
    "Concatenate with the scores from the previous step"
   ]
  },
  {
   "cell_type": "code",
   "execution_count": 11,
   "metadata": {
    "pycharm": {
     "is_executing": false,
     "name": "#%%\n"
    }
   },
   "outputs": [
    {
     "name": "stdout",
     "output_type": "stream",
     "text": [
      "Final scoring table\n"
     ]
    },
    {
     "data": {
      "text/html": [
       "<div>\n",
       "<style scoped>\n",
       "    .dataframe tbody tr th:only-of-type {\n",
       "        vertical-align: middle;\n",
       "    }\n",
       "\n",
       "    .dataframe tbody tr th {\n",
       "        vertical-align: top;\n",
       "    }\n",
       "\n",
       "    .dataframe thead th {\n",
       "        text-align: right;\n",
       "    }\n",
       "</style>\n",
       "<table border=\"1\" class=\"dataframe\">\n",
       "  <thead>\n",
       "    <tr style=\"text-align: right;\">\n",
       "      <th></th>\n",
       "      <th></th>\n",
       "      <th>es_score</th>\n",
       "      <th>name_fuzzy</th>\n",
       "      <th>street_fuzzy</th>\n",
       "      <th>name_token</th>\n",
       "      <th>street_token</th>\n",
       "      <th>city_fuzzy</th>\n",
       "      <th>postalcode_fuzzy</th>\n",
       "      <th>postalcode_contains</th>\n",
       "    </tr>\n",
       "    <tr>\n",
       "      <th>ix_source</th>\n",
       "      <th>ix_target</th>\n",
       "      <th></th>\n",
       "      <th></th>\n",
       "      <th></th>\n",
       "      <th></th>\n",
       "      <th></th>\n",
       "      <th></th>\n",
       "      <th></th>\n",
       "      <th></th>\n",
       "    </tr>\n",
       "  </thead>\n",
       "  <tbody>\n",
       "    <tr>\n",
       "      <th>39734970</th>\n",
       "      <th>ed38ab4d</th>\n",
       "      <td>13.272622</td>\n",
       "      <td>0.38</td>\n",
       "      <td>0.40</td>\n",
       "      <td>0.38</td>\n",
       "      <td>0.40</td>\n",
       "      <td>1.00</td>\n",
       "      <td>1.0</td>\n",
       "      <td>1.0</td>\n",
       "    </tr>\n",
       "    <tr>\n",
       "      <th>39e80128</th>\n",
       "      <th>92176610</th>\n",
       "      <td>12.068469</td>\n",
       "      <td>0.36</td>\n",
       "      <td>1.00</td>\n",
       "      <td>0.44</td>\n",
       "      <td>1.00</td>\n",
       "      <td>0.31</td>\n",
       "      <td>0.4</td>\n",
       "      <td>0.0</td>\n",
       "    </tr>\n",
       "    <tr>\n",
       "      <th>84ba9e9f</th>\n",
       "      <th>81460463</th>\n",
       "      <td>7.035188</td>\n",
       "      <td>0.46</td>\n",
       "      <td>0.53</td>\n",
       "      <td>0.33</td>\n",
       "      <td>0.53</td>\n",
       "      <td>0.29</td>\n",
       "      <td>0.4</td>\n",
       "      <td>0.0</td>\n",
       "    </tr>\n",
       "    <tr>\n",
       "      <th rowspan=\"2\" valign=\"top\">b8f79f98</th>\n",
       "      <th>57fb4d86</th>\n",
       "      <td>8.616287</td>\n",
       "      <td>0.43</td>\n",
       "      <td>0.38</td>\n",
       "      <td>0.43</td>\n",
       "      <td>0.46</td>\n",
       "      <td>0.00</td>\n",
       "      <td>0.4</td>\n",
       "      <td>0.0</td>\n",
       "    </tr>\n",
       "    <tr>\n",
       "      <th>88884406</th>\n",
       "      <td>8.008194</td>\n",
       "      <td>0.77</td>\n",
       "      <td>0.30</td>\n",
       "      <td>0.77</td>\n",
       "      <td>0.30</td>\n",
       "      <td>0.33</td>\n",
       "      <td>0.2</td>\n",
       "      <td>0.0</td>\n",
       "    </tr>\n",
       "  </tbody>\n",
       "</table>\n",
       "</div>"
      ],
      "text/plain": [
       "                      es_score  name_fuzzy  street_fuzzy  name_token  \\\n",
       "ix_source ix_target                                                    \n",
       "39734970  ed38ab4d   13.272622        0.38          0.40        0.38   \n",
       "39e80128  92176610   12.068469        0.36          1.00        0.44   \n",
       "84ba9e9f  81460463    7.035188        0.46          0.53        0.33   \n",
       "b8f79f98  57fb4d86    8.616287        0.43          0.38        0.43   \n",
       "          88884406    8.008194        0.77          0.30        0.77   \n",
       "\n",
       "                     street_token  city_fuzzy  postalcode_fuzzy  \\\n",
       "ix_source ix_target                                               \n",
       "39734970  ed38ab4d           0.40        1.00               1.0   \n",
       "39e80128  92176610           1.00        0.31               0.4   \n",
       "84ba9e9f  81460463           0.53        0.29               0.4   \n",
       "b8f79f98  57fb4d86           0.46        0.00               0.4   \n",
       "          88884406           0.30        0.33               0.2   \n",
       "\n",
       "                     postalcode_contains  \n",
       "ix_source ix_target                       \n",
       "39734970  ed38ab4d                   1.0  \n",
       "39e80128  92176610                   0.0  \n",
       "84ba9e9f  81460463                   0.0  \n",
       "b8f79f98  57fb4d86                   0.0  \n",
       "          88884406                   0.0  "
      ]
     },
     "execution_count": 11,
     "metadata": {},
     "output_type": "execute_result"
    }
   ],
   "source": [
    "Xscores = pd.concat([Xst[['es_score']], Xscores], axis=1, ignore_index=False)\n",
    "print('Final scoring table')\n",
    "Xscores.sample(5)"
   ]
  },
  {
   "cell_type": "markdown",
   "metadata": {
    "pycharm": {
     "name": "#%% md\n"
    }
   },
   "source": [
    "## 5. Apply the machine-learning model"
   ]
  },
  {
   "cell_type": "code",
   "execution_count": 12,
   "metadata": {
    "pycharm": {
     "is_executing": false,
     "name": "#%%\n"
    }
   },
   "outputs": [],
   "source": [
    "from sklearn.pipeline import Pipeline\n",
    "from sklearn.impute import SimpleImputer\n",
    "from sklearn.preprocessing import Normalizer\n",
    "from sklearn.decomposition import PCA\n",
    "from sklearn.ensemble import GradientBoostingClassifier\n",
    "from sklearn.model_selection import cross_validate"
   ]
  },
  {
   "cell_type": "markdown",
   "metadata": {},
   "source": [
    "### 5.1. Load y_true\n",
    "for expediency, we will use the y_true already saved"
   ]
  },
  {
   "cell_type": "code",
   "execution_count": 13,
   "metadata": {
    "pycharm": {
     "is_executing": false,
     "name": "#%%\n"
    }
   },
   "outputs": [
    {
     "name": "stdout",
     "output_type": "stream",
     "text": [
      "Number of data in training:1000\n"
     ]
    }
   ],
   "source": [
    "y_true = getytrue().loc[ix_con]\n",
    "print('Number of data in training:{}'.format(y_true.shape[0]))"
   ]
  },
  {
   "cell_type": "markdown",
   "metadata": {
    "pycharm": {
     "is_executing": false,
     "name": "#%% md\n"
    }
   },
   "source": [
    "### 5.2. Make the pipeline and display the scores"
   ]
  },
  {
   "cell_type": "code",
   "execution_count": 14,
   "metadata": {
    "pycharm": {
     "is_executing": false,
     "name": "#%%\n"
    }
   },
   "outputs": [
    {
     "name": "stdout",
     "output_type": "stream",
     "text": [
      "precision score: 0.8492561796481701\n",
      "recall score: 0.7983122362869199\n",
      "accuracy score: 0.9169858481235726\n"
     ]
    }
   ],
   "source": [
    "pipe = Pipeline(steps=[\n",
    "    ('Impute', SimpleImputer(strategy='constant', fill_value=0)),\n",
    "    ('Scaler', Normalizer()),\n",
    "    ('PCA', PCA(n_components=4)),\n",
    "    ('Predictor', GradientBoostingClassifier(n_estimators=500))\n",
    "])\n",
    "scoring = ['precision', 'recall', 'accuracy']\n",
    "scores = cross_validate(estimator=pipe, X=Xscores, y=y_true, scoring=scoring, cv=3)\n",
    "for c in scoring:\n",
    "    print('{} score: {}'.format(c, np.average(scores['test_'+c])))"
   ]
  },
  {
   "cell_type": "markdown",
   "metadata": {},
   "source": [
    "## 6. Viewing the results"
   ]
  },
  {
   "cell_type": "markdown",
   "metadata": {},
   "source": [
    "### 6.1. Fit and pred"
   ]
  },
  {
   "cell_type": "code",
   "execution_count": 15,
   "metadata": {
    "pycharm": {
     "is_executing": false,
     "name": "#%%\n"
    }
   },
   "outputs": [],
   "source": [
    "pipe.fit(X=Xscores, y=y_true)\n",
    "y_pred = pd.Series(data=pipe.predict(X=Xscores), index=ix_con, name='y_pred')"
   ]
  },
  {
   "cell_type": "markdown",
   "metadata": {},
   "source": [
    "### 6.2. Positive matches"
   ]
  },
  {
   "cell_type": "code",
   "execution_count": 16,
   "metadata": {
    "pycharm": {
     "is_executing": false,
     "name": "#%%\n"
    }
   },
   "outputs": [
    {
     "name": "stdout",
     "output_type": "stream",
     "text": [
      "Showing positive matches\n"
     ]
    },
    {
     "data": {
      "text/html": [
       "<div>\n",
       "<style scoped>\n",
       "    .dataframe tbody tr th:only-of-type {\n",
       "        vertical-align: middle;\n",
       "    }\n",
       "\n",
       "    .dataframe tbody tr th {\n",
       "        vertical-align: top;\n",
       "    }\n",
       "\n",
       "    .dataframe thead th {\n",
       "        text-align: right;\n",
       "    }\n",
       "</style>\n",
       "<table border=\"1\" class=\"dataframe\">\n",
       "  <thead>\n",
       "    <tr style=\"text-align: right;\">\n",
       "      <th></th>\n",
       "      <th></th>\n",
       "      <th>name_source</th>\n",
       "      <th>name_target</th>\n",
       "      <th>street_source</th>\n",
       "      <th>street_target</th>\n",
       "      <th>city_source</th>\n",
       "      <th>city_target</th>\n",
       "      <th>postalcode_source</th>\n",
       "      <th>postalcode_target</th>\n",
       "      <th>duns_source</th>\n",
       "      <th>duns_target</th>\n",
       "      <th>countrycode_source</th>\n",
       "      <th>countrycode_target</th>\n",
       "    </tr>\n",
       "    <tr>\n",
       "      <th>ix_source</th>\n",
       "      <th>ix_target</th>\n",
       "      <th></th>\n",
       "      <th></th>\n",
       "      <th></th>\n",
       "      <th></th>\n",
       "      <th></th>\n",
       "      <th></th>\n",
       "      <th></th>\n",
       "      <th></th>\n",
       "      <th></th>\n",
       "      <th></th>\n",
       "      <th></th>\n",
       "      <th></th>\n",
       "    </tr>\n",
       "  </thead>\n",
       "  <tbody>\n",
       "    <tr>\n",
       "      <th>816d262e</th>\n",
       "      <th>fc8bf3d0</th>\n",
       "      <td>ge measurement control</td>\n",
       "      <td>ge sensing</td>\n",
       "      <td>fir tree lane</td>\n",
       "      <td>fir tree lane</td>\n",
       "      <td>groby</td>\n",
       "      <td>groby</td>\n",
       "      <td>le60fh</td>\n",
       "      <td>le60fh</td>\n",
       "      <td>226525053.0</td>\n",
       "      <td>219144201.0</td>\n",
       "      <td>GB</td>\n",
       "      <td>GB</td>\n",
       "    </tr>\n",
       "    <tr>\n",
       "      <th>b60f09c2</th>\n",
       "      <th>b60f09c2</th>\n",
       "      <td>stc steyr wlzlager</td>\n",
       "      <td>stc steyr wlzlager</td>\n",
       "      <td>40 41 rosenthaler str</td>\n",
       "      <td>40 41 rosenthaler str</td>\n",
       "      <td>berlin</td>\n",
       "      <td>berlin</td>\n",
       "      <td>10178</td>\n",
       "      <td>10178</td>\n",
       "      <td>NaN</td>\n",
       "      <td>NaN</td>\n",
       "      <td>DE</td>\n",
       "      <td>DE</td>\n",
       "    </tr>\n",
       "    <tr>\n",
       "      <th>84ba9e9f</th>\n",
       "      <th>90a3530a</th>\n",
       "      <td>rts elektronik systeme gmbh</td>\n",
       "      <td>rts elektronik systeme gmbh</td>\n",
       "      <td>66 preysingstr</td>\n",
       "      <td>66 preysingstr</td>\n",
       "      <td>wolnzach</td>\n",
       "      <td>wolnzach</td>\n",
       "      <td>85283</td>\n",
       "      <td>85283</td>\n",
       "      <td>NaN</td>\n",
       "      <td>NaN</td>\n",
       "      <td>DE</td>\n",
       "      <td>DE</td>\n",
       "    </tr>\n",
       "    <tr>\n",
       "      <th>8ae6cdb0</th>\n",
       "      <th>bbdd15a5</th>\n",
       "      <td>ge sensing</td>\n",
       "      <td>druck limited</td>\n",
       "      <td>fir tree lane</td>\n",
       "      <td>fir tree lane</td>\n",
       "      <td>groby</td>\n",
       "      <td>groby</td>\n",
       "      <td>le6 0fh</td>\n",
       "      <td>le6 0fh</td>\n",
       "      <td>219144201.0</td>\n",
       "      <td>219144201.0</td>\n",
       "      <td>GB</td>\n",
       "      <td>GB</td>\n",
       "    </tr>\n",
       "    <tr>\n",
       "      <th>68ba9560</th>\n",
       "      <th>b5f16ae7</th>\n",
       "      <td>frey blumenhof</td>\n",
       "      <td>frey blumenhof</td>\n",
       "      <td>mittenheimer str</td>\n",
       "      <td>mittenheimer str</td>\n",
       "      <td>oberschleissheim</td>\n",
       "      <td>oberschleissheim</td>\n",
       "      <td>85764</td>\n",
       "      <td>85764</td>\n",
       "      <td>342418069.0</td>\n",
       "      <td>NaN</td>\n",
       "      <td>DE</td>\n",
       "      <td>DE</td>\n",
       "    </tr>\n",
       "  </tbody>\n",
       "</table>\n",
       "</div>"
      ],
      "text/plain": [
       "                                     name_source                  name_target  \\\n",
       "ix_source ix_target                                                             \n",
       "816d262e  fc8bf3d0        ge measurement control                   ge sensing   \n",
       "b60f09c2  b60f09c2            stc steyr wlzlager           stc steyr wlzlager   \n",
       "84ba9e9f  90a3530a   rts elektronik systeme gmbh  rts elektronik systeme gmbh   \n",
       "8ae6cdb0  bbdd15a5                    ge sensing                druck limited   \n",
       "68ba9560  b5f16ae7                frey blumenhof               frey blumenhof   \n",
       "\n",
       "                             street_source          street_target  \\\n",
       "ix_source ix_target                                                 \n",
       "816d262e  fc8bf3d0           fir tree lane          fir tree lane   \n",
       "b60f09c2  b60f09c2   40 41 rosenthaler str  40 41 rosenthaler str   \n",
       "84ba9e9f  90a3530a          66 preysingstr         66 preysingstr   \n",
       "8ae6cdb0  bbdd15a5           fir tree lane          fir tree lane   \n",
       "68ba9560  b5f16ae7        mittenheimer str       mittenheimer str   \n",
       "\n",
       "                          city_source       city_target postalcode_source  \\\n",
       "ix_source ix_target                                                         \n",
       "816d262e  fc8bf3d0              groby             groby            le60fh   \n",
       "b60f09c2  b60f09c2             berlin            berlin             10178   \n",
       "84ba9e9f  90a3530a           wolnzach          wolnzach             85283   \n",
       "8ae6cdb0  bbdd15a5              groby             groby           le6 0fh   \n",
       "68ba9560  b5f16ae7   oberschleissheim  oberschleissheim             85764   \n",
       "\n",
       "                    postalcode_target  duns_source  duns_target  \\\n",
       "ix_source ix_target                                               \n",
       "816d262e  fc8bf3d0             le60fh  226525053.0  219144201.0   \n",
       "b60f09c2  b60f09c2              10178          NaN          NaN   \n",
       "84ba9e9f  90a3530a              85283          NaN          NaN   \n",
       "8ae6cdb0  bbdd15a5            le6 0fh  219144201.0  219144201.0   \n",
       "68ba9560  b5f16ae7              85764  342418069.0          NaN   \n",
       "\n",
       "                    countrycode_source countrycode_target  \n",
       "ix_source ix_target                                        \n",
       "816d262e  fc8bf3d0                  GB                 GB  \n",
       "b60f09c2  b60f09c2                  DE                 DE  \n",
       "84ba9e9f  90a3530a                  DE                 DE  \n",
       "8ae6cdb0  bbdd15a5                  GB                 GB  \n",
       "68ba9560  b5f16ae7                  DE                 DE  "
      ]
     },
     "execution_count": 16,
     "metadata": {},
     "output_type": "execute_result"
    }
   ],
   "source": [
    "positive_matches = y_pred.loc[y_pred == 1.0].index\n",
    "print('Showing positive matches')\n",
    "Xsbs.loc[positive_matches].sample(5)"
   ]
  },
  {
   "cell_type": "markdown",
   "metadata": {},
   "source": [
    "### Negative matches"
   ]
  },
  {
   "cell_type": "code",
   "execution_count": 17,
   "metadata": {
    "pycharm": {
     "is_executing": false,
     "name": "#%%\n"
    }
   },
   "outputs": [
    {
     "name": "stdout",
     "output_type": "stream",
     "text": [
      "Showing negativematches\n"
     ]
    },
    {
     "data": {
      "text/html": [
       "<div>\n",
       "<style scoped>\n",
       "    .dataframe tbody tr th:only-of-type {\n",
       "        vertical-align: middle;\n",
       "    }\n",
       "\n",
       "    .dataframe tbody tr th {\n",
       "        vertical-align: top;\n",
       "    }\n",
       "\n",
       "    .dataframe thead th {\n",
       "        text-align: right;\n",
       "    }\n",
       "</style>\n",
       "<table border=\"1\" class=\"dataframe\">\n",
       "  <thead>\n",
       "    <tr style=\"text-align: right;\">\n",
       "      <th></th>\n",
       "      <th></th>\n",
       "      <th>name_source</th>\n",
       "      <th>name_target</th>\n",
       "      <th>street_source</th>\n",
       "      <th>street_target</th>\n",
       "      <th>city_source</th>\n",
       "      <th>city_target</th>\n",
       "      <th>postalcode_source</th>\n",
       "      <th>postalcode_target</th>\n",
       "      <th>duns_source</th>\n",
       "      <th>duns_target</th>\n",
       "      <th>countrycode_source</th>\n",
       "      <th>countrycode_target</th>\n",
       "    </tr>\n",
       "    <tr>\n",
       "      <th>ix_source</th>\n",
       "      <th>ix_target</th>\n",
       "      <th></th>\n",
       "      <th></th>\n",
       "      <th></th>\n",
       "      <th></th>\n",
       "      <th></th>\n",
       "      <th></th>\n",
       "      <th></th>\n",
       "      <th></th>\n",
       "      <th></th>\n",
       "      <th></th>\n",
       "      <th></th>\n",
       "      <th></th>\n",
       "    </tr>\n",
       "  </thead>\n",
       "  <tbody>\n",
       "    <tr>\n",
       "      <th>77ca58f8</th>\n",
       "      <th>f4f1b345</th>\n",
       "      <td>buchde</td>\n",
       "      <td>renewa ingeniero sl</td>\n",
       "      <td>an den speichern</td>\n",
       "      <td>11 avenida ribera de axpe</td>\n",
       "      <td>munster</td>\n",
       "      <td>erandio</td>\n",
       "      <td>48157</td>\n",
       "      <td>48950</td>\n",
       "      <td>31539316.0</td>\n",
       "      <td>460012613.0</td>\n",
       "      <td>DE</td>\n",
       "      <td>ES</td>\n",
       "    </tr>\n",
       "    <tr>\n",
       "      <th>9b938f7e</th>\n",
       "      <th>8ad5aae3</th>\n",
       "      <td>siemens ag</td>\n",
       "      <td>siemens ag</td>\n",
       "      <td>16 sieboldstr</td>\n",
       "      <td>31 von der tann str</td>\n",
       "      <td>erlangen</td>\n",
       "      <td>nuremberg</td>\n",
       "      <td>91052</td>\n",
       "      <td>90439</td>\n",
       "      <td>342558576.0</td>\n",
       "      <td>332630888.0</td>\n",
       "      <td>DE</td>\n",
       "      <td>DE</td>\n",
       "    </tr>\n",
       "    <tr>\n",
       "      <th>4389becc</th>\n",
       "      <th>02f8a26c</th>\n",
       "      <td>ask distribution</td>\n",
       "      <td>manfrotto distribution</td>\n",
       "      <td>rue de la boucherie</td>\n",
       "      <td>44 rue de la couture</td>\n",
       "      <td>molsheim</td>\n",
       "      <td>rungis</td>\n",
       "      <td>67120</td>\n",
       "      <td>94390</td>\n",
       "      <td>NaN</td>\n",
       "      <td>263172699.0</td>\n",
       "      <td>FR</td>\n",
       "      <td>FR</td>\n",
       "    </tr>\n",
       "    <tr>\n",
       "      <th>1d2e777b</th>\n",
       "      <th>984abc8d</th>\n",
       "      <td>citaku gbr</td>\n",
       "      <td>leonit gbr</td>\n",
       "      <td>32 papenbreede</td>\n",
       "      <td>62 leonrodstr</td>\n",
       "      <td>bad essen</td>\n",
       "      <td>munich</td>\n",
       "      <td>49152</td>\n",
       "      <td>80636</td>\n",
       "      <td>NaN</td>\n",
       "      <td>34184809.0</td>\n",
       "      <td>DE</td>\n",
       "      <td>DE</td>\n",
       "    </tr>\n",
       "    <tr>\n",
       "      <th>0ad4aa46</th>\n",
       "      <th>c600af52</th>\n",
       "      <td>algner safety consulting services</td>\n",
       "      <td>hotel restaurant maier</td>\n",
       "      <td>14 weiherstr</td>\n",
       "      <td>poststr</td>\n",
       "      <td>friedrichshafen</td>\n",
       "      <td>friedrichshafen</td>\n",
       "      <td>88048</td>\n",
       "      <td>88048</td>\n",
       "      <td>NaN</td>\n",
       "      <td>340105802.0</td>\n",
       "      <td>DE</td>\n",
       "      <td>DE</td>\n",
       "    </tr>\n",
       "  </tbody>\n",
       "</table>\n",
       "</div>"
      ],
      "text/plain": [
       "                                           name_source  \\\n",
       "ix_source ix_target                                      \n",
       "77ca58f8  f4f1b345                              buchde   \n",
       "9b938f7e  8ad5aae3                          siemens ag   \n",
       "4389becc  02f8a26c                    ask distribution   \n",
       "1d2e777b  984abc8d                          citaku gbr   \n",
       "0ad4aa46  c600af52   algner safety consulting services   \n",
       "\n",
       "                                name_target        street_source  \\\n",
       "ix_source ix_target                                                \n",
       "77ca58f8  f4f1b345      renewa ingeniero sl     an den speichern   \n",
       "9b938f7e  8ad5aae3               siemens ag        16 sieboldstr   \n",
       "4389becc  02f8a26c   manfrotto distribution  rue de la boucherie   \n",
       "1d2e777b  984abc8d               leonit gbr       32 papenbreede   \n",
       "0ad4aa46  c600af52   hotel restaurant maier         14 weiherstr   \n",
       "\n",
       "                                 street_target      city_source  \\\n",
       "ix_source ix_target                                               \n",
       "77ca58f8  f4f1b345   11 avenida ribera de axpe          munster   \n",
       "9b938f7e  8ad5aae3         31 von der tann str         erlangen   \n",
       "4389becc  02f8a26c        44 rue de la couture         molsheim   \n",
       "1d2e777b  984abc8d               62 leonrodstr        bad essen   \n",
       "0ad4aa46  c600af52                     poststr  friedrichshafen   \n",
       "\n",
       "                         city_target postalcode_source postalcode_target  \\\n",
       "ix_source ix_target                                                        \n",
       "77ca58f8  f4f1b345           erandio             48157             48950   \n",
       "9b938f7e  8ad5aae3         nuremberg             91052             90439   \n",
       "4389becc  02f8a26c            rungis             67120             94390   \n",
       "1d2e777b  984abc8d            munich             49152             80636   \n",
       "0ad4aa46  c600af52   friedrichshafen             88048             88048   \n",
       "\n",
       "                     duns_source  duns_target countrycode_source  \\\n",
       "ix_source ix_target                                                \n",
       "77ca58f8  f4f1b345    31539316.0  460012613.0                 DE   \n",
       "9b938f7e  8ad5aae3   342558576.0  332630888.0                 DE   \n",
       "4389becc  02f8a26c           NaN  263172699.0                 FR   \n",
       "1d2e777b  984abc8d           NaN   34184809.0                 DE   \n",
       "0ad4aa46  c600af52           NaN  340105802.0                 DE   \n",
       "\n",
       "                    countrycode_target  \n",
       "ix_source ix_target                     \n",
       "77ca58f8  f4f1b345                  ES  \n",
       "9b938f7e  8ad5aae3                  DE  \n",
       "4389becc  02f8a26c                  FR  \n",
       "1d2e777b  984abc8d                  DE  \n",
       "0ad4aa46  c600af52                  DE  "
      ]
     },
     "execution_count": 17,
     "metadata": {},
     "output_type": "execute_result"
    }
   ],
   "source": [
    "negative_matches = y_pred.loc[y_pred == 0.0].index\n",
    "print('Showing negativematches')\n",
    "Xsbs.loc[negative_matches].sample(5)"
   ]
  }
 ],
 "metadata": {
  "kernelspec": {
   "display_name": "Python 3",
   "language": "python",
   "name": "python3"
  },
  "language_info": {
   "codemirror_mode": {
    "name": "ipython",
    "version": 3
   },
   "file_extension": ".py",
   "mimetype": "text/x-python",
   "name": "python",
   "nbconvert_exporter": "python",
   "pygments_lexer": "ipython3",
   "version": "3.7.3"
  },
  "pycharm": {
   "stem_cell": {
    "cell_type": "raw",
    "metadata": {
     "collapsed": false
    },
    "source": []
   }
  }
 },
 "nbformat": 4,
 "nbformat_minor": 1
}
