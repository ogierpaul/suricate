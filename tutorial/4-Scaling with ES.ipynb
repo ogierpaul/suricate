{
 "cells": [
  {
   "cell_type": "markdown",
   "metadata": {
    "collapsed": true,
    "pycharm": {
     "name": "#%% md\n"
    }
   },
   "source": [
    "# Step - by - step Guide to finding potential matches with Elastic Search\n",
    "1. Prepare the data\n",
    "2. Push the data to Elastic Search\n",
    "3. Create the first similarity matrix\n",
    "4. Do further scoring and add new features to the similarity matrix\n",
    "5. Train a machine learning model on the data\n",
    " "
   ]
  },
  {
   "cell_type": "markdown",
   "metadata": {
    "pycharm": {
     "name": "#%% md\n"
    }
   },
   "source": [
    "## 1. Load the data"
   ]
  },
  {
   "cell_type": "code",
   "execution_count": 15,
   "metadata": {
    "pycharm": {
     "is_executing": false,
     "name": "#%%\n"
    }
   },
   "outputs": [],
   "source": [
    "import numpy as np\n",
    "import pandas as pd\n",
    "from suricate.data.companies import getsource, gettarget, getytrue\n",
    "nrows = 100"
   ]
  },
  {
   "cell_type": "code",
   "execution_count": 16,
   "metadata": {
    "pycharm": {
     "is_executing": false,
     "name": "#%%\n"
    }
   },
   "outputs": [
    {
     "name": "stdout",
     "output_type": "stream",
     "text": [
      "Number of rows in source data:100\n"
     ]
    },
    {
     "data": {
      "text/html": [
       "<div>\n",
       "<style scoped>\n",
       "    .dataframe tbody tr th:only-of-type {\n",
       "        vertical-align: middle;\n",
       "    }\n",
       "\n",
       "    .dataframe tbody tr th {\n",
       "        vertical-align: top;\n",
       "    }\n",
       "\n",
       "    .dataframe thead th {\n",
       "        text-align: right;\n",
       "    }\n",
       "</style>\n",
       "<table border=\"1\" class=\"dataframe\">\n",
       "  <thead>\n",
       "    <tr style=\"text-align: right;\">\n",
       "      <th></th>\n",
       "      <th>name</th>\n",
       "      <th>street</th>\n",
       "      <th>city</th>\n",
       "      <th>postalcode</th>\n",
       "      <th>duns</th>\n",
       "      <th>countrycode</th>\n",
       "    </tr>\n",
       "    <tr>\n",
       "      <th>ix</th>\n",
       "      <th></th>\n",
       "      <th></th>\n",
       "      <th></th>\n",
       "      <th></th>\n",
       "      <th></th>\n",
       "      <th></th>\n",
       "    </tr>\n",
       "  </thead>\n",
       "  <tbody>\n",
       "    <tr>\n",
       "      <th>1a6ccbe5</th>\n",
       "      <td>vri gmbh</td>\n",
       "      <td>wilhelm maybach str</td>\n",
       "      <td>ellwangen</td>\n",
       "      <td>73479</td>\n",
       "      <td>NaN</td>\n",
       "      <td>DE</td>\n",
       "    </tr>\n",
       "    <tr>\n",
       "      <th>2f0901d9</th>\n",
       "      <td>mike garwood ltd</td>\n",
       "      <td>shelleys lane</td>\n",
       "      <td>alton</td>\n",
       "      <td>gu34</td>\n",
       "      <td>NaN</td>\n",
       "      <td>GB</td>\n",
       "    </tr>\n",
       "    <tr>\n",
       "      <th>39082433</th>\n",
       "      <td>sinus electronic gmbh</td>\n",
       "      <td>schleifweg</td>\n",
       "      <td>untereisesheim</td>\n",
       "      <td>74257</td>\n",
       "      <td>NaN</td>\n",
       "      <td>DE</td>\n",
       "    </tr>\n",
       "    <tr>\n",
       "      <th>77f5274a</th>\n",
       "      <td>selex es spa</td>\n",
       "      <td>via piemonte</td>\n",
       "      <td>rome</td>\n",
       "      <td>187</td>\n",
       "      <td>434003576.0</td>\n",
       "      <td>IT</td>\n",
       "    </tr>\n",
       "    <tr>\n",
       "      <th>591099fe</th>\n",
       "      <td>nespresso deutschland gmbh</td>\n",
       "      <td>speditionsstrae</td>\n",
       "      <td>dusseldorf</td>\n",
       "      <td>40221</td>\n",
       "      <td>NaN</td>\n",
       "      <td>DE</td>\n",
       "    </tr>\n",
       "  </tbody>\n",
       "</table>\n",
       "</div>"
      ],
      "text/plain": [
       "                                name               street            city  \\\n",
       "ix                                                                          \n",
       "1a6ccbe5                    vri gmbh  wilhelm maybach str       ellwangen   \n",
       "2f0901d9            mike garwood ltd        shelleys lane           alton   \n",
       "39082433       sinus electronic gmbh           schleifweg  untereisesheim   \n",
       "77f5274a                selex es spa         via piemonte            rome   \n",
       "591099fe  nespresso deutschland gmbh      speditionsstrae      dusseldorf   \n",
       "\n",
       "         postalcode         duns countrycode  \n",
       "ix                                            \n",
       "1a6ccbe5      73479          NaN          DE  \n",
       "2f0901d9       gu34          NaN          GB  \n",
       "39082433      74257          NaN          DE  \n",
       "77f5274a        187  434003576.0          IT  \n",
       "591099fe      40221          NaN          DE  "
      ]
     },
     "execution_count": 16,
     "metadata": {},
     "output_type": "execute_result"
    }
   ],
   "source": [
    "df_source = getsource(nrows=nrows)\n",
    "print('Number of rows in source data:{}'.format(df_source.shape[0]))\n",
    "df_source.sample(5)"
   ]
  },
  {
   "cell_type": "code",
   "execution_count": null,
   "metadata": {
    "pycharm": {
     "is_executing": false,
     "name": "#%%\n"
    }
   },
   "outputs": [],
   "source": [
    "df_target = gettarget(nrows=nrows)\n",
    "print('Number of rows in target data:{}'.format(df_target.shape[0]))\n",
    "df_target.sample(5)"
   ]
  },
  {
   "cell_type": "markdown",
   "metadata": {
    "pycharm": {
     "name": "#%% md\n"
    }
   },
   "source": [
    "## 2. Push the data to Elastic Search"
   ]
  },
  {
   "cell_type": "code",
   "execution_count": 4,
   "metadata": {
    "pycharm": {
     "is_executing": false,
     "name": "#%%\n"
    }
   },
   "outputs": [],
   "source": [
    "import elasticsearch\n",
    "import time\n",
    "from suricate.dbconnectors.esconnector import index_with_es"
   ]
  },
  {
   "cell_type": "code",
   "execution_count": 5,
   "metadata": {
    "pycharm": {
     "is_executing": false,
     "name": "#%%\n"
    }
   },
   "outputs": [
    {
     "name": "stdout",
     "output_type": "stream",
     "text": [
      "Number of docs in created index:3177\n"
     ]
    }
   ],
   "source": [
    "esclient = elasticsearch.Elasticsearch()\n",
    "es_indice = 'df_target'\n",
    "if True:\n",
    "    try:\n",
    "        esclient.indices.delete(index=es_indice)\n",
    "    except:\n",
    "        pass\n",
    "    request_body = {\n",
    "        \"settings\": {\n",
    "            \"number_of_shards\": 5,\n",
    "            \"number_of_replicas\": 5\n",
    "        },\n",
    "\n",
    "        \"mappings\": {\n",
    "            \"_doc\": {\n",
    "                \"properties\": {\n",
    "                    \"ix\": {\"type\": \"keyword\"},\n",
    "                    \"name\": {\"type\": \"text\"},\n",
    "                    \"street\": {\"type\": \"text\"},\n",
    "                    \"city\": {\"type\": \"text\"},\n",
    "                    \"postalcode\": {\"type\": \"text\"},\n",
    "                    \"countrycode\": {\"type\": \"keyword\"}\n",
    "                }\n",
    "            }\n",
    "        }\n",
    "    }\n",
    "    esclient.indices.create(index=es_indice, body=request_body)\n",
    "    index_with_es(client=esclient, df=df_target, index=es_indice, ixname=\"ix\", reset_index=True, doc_type='_doc')\n",
    "    time.sleep(5)\n",
    "\n",
    "catcount = esclient.count(index=es_indice)['count']\n",
    "assert catcount == df_target.shape[0]\n",
    "print('Number of docs in created index:{}'.format(catcount))"
   ]
  },
  {
   "cell_type": "markdown",
   "metadata": {
    "pycharm": {
     "name": "#%% md\n"
    }
   },
   "source": [
    "## 3. Create the first similarity matrix"
   ]
  },
  {
   "cell_type": "code",
   "execution_count": 6,
   "metadata": {
    "pycharm": {
     "is_executing": false,
     "name": "#%%\n"
    }
   },
   "outputs": [],
   "source": [
    "from suricate.dbconnectors import EsConnector"
   ]
  },
  {
   "cell_type": "code",
   "execution_count": 7,
   "metadata": {
    "pycharm": {
     "is_executing": false,
     "name": "#%%\n"
    }
   },
   "outputs": [
    {
     "name": "stdout",
     "output_type": "stream",
     "text": [
      "Number of possible pairs:14440\n",
      "Example of similarity matrix:\n"
     ]
    },
    {
     "data": {
      "text/html": [
       "<div>\n",
       "<style scoped>\n",
       "    .dataframe tbody tr th:only-of-type {\n",
       "        vertical-align: middle;\n",
       "    }\n",
       "\n",
       "    .dataframe tbody tr th {\n",
       "        vertical-align: top;\n",
       "    }\n",
       "\n",
       "    .dataframe thead th {\n",
       "        text-align: right;\n",
       "    }\n",
       "</style>\n",
       "<table border=\"1\" class=\"dataframe\">\n",
       "  <thead>\n",
       "    <tr style=\"text-align: right;\">\n",
       "      <th></th>\n",
       "      <th></th>\n",
       "      <th>es_score</th>\n",
       "      <th>es_rank</th>\n",
       "    </tr>\n",
       "    <tr>\n",
       "      <th>ix_source</th>\n",
       "      <th>ix_target</th>\n",
       "      <th></th>\n",
       "      <th></th>\n",
       "    </tr>\n",
       "  </thead>\n",
       "  <tbody>\n",
       "    <tr>\n",
       "      <th>6a0fa6cd</th>\n",
       "      <th>06045ef8</th>\n",
       "      <td>37.747880</td>\n",
       "      <td>3</td>\n",
       "    </tr>\n",
       "    <tr>\n",
       "      <th>d373c382</th>\n",
       "      <th>e7cee213</th>\n",
       "      <td>14.458920</td>\n",
       "      <td>6</td>\n",
       "    </tr>\n",
       "    <tr>\n",
       "      <th>f6ea706c</th>\n",
       "      <th>e268e671</th>\n",
       "      <td>40.241352</td>\n",
       "      <td>5</td>\n",
       "    </tr>\n",
       "    <tr>\n",
       "      <th>46a13500</th>\n",
       "      <th>eabdefc6</th>\n",
       "      <td>19.725716</td>\n",
       "      <td>8</td>\n",
       "    </tr>\n",
       "    <tr>\n",
       "      <th>f0ec3f43</th>\n",
       "      <th>c52d24d2</th>\n",
       "      <td>36.110096</td>\n",
       "      <td>4</td>\n",
       "    </tr>\n",
       "  </tbody>\n",
       "</table>\n",
       "</div>"
      ],
      "text/plain": [
       "                      es_score es_rank\n",
       "ix_source ix_target                   \n",
       "6a0fa6cd  06045ef8   37.747880       3\n",
       "d373c382  e7cee213   14.458920       6\n",
       "f6ea706c  e268e671   40.241352       5\n",
       "46a13500  eabdefc6   19.725716       8\n",
       "f0ec3f43  c52d24d2   36.110096       4"
      ]
     },
     "execution_count": 7,
     "metadata": {},
     "output_type": "execute_result"
    }
   ],
   "source": [
    "scoreplan = {\n",
    "        'name': {\n",
    "            'type': 'FreeText'\n",
    "        },\n",
    "        'street': {\n",
    "            'type': 'FreeText'\n",
    "        },\n",
    "        'city': {\n",
    "            'type': 'FreeText'\n",
    "        },\n",
    "        'duns': {\n",
    "            'type': 'Exact'\n",
    "        },\n",
    "        'postalcode': {\n",
    "            'type': 'FreeText'\n",
    "        },\n",
    "        'countrycode': {\n",
    "            'type': 'Exact'\n",
    "        }\n",
    "    }\n",
    "escon = EsConnector(\n",
    "    client=esclient,\n",
    "    scoreplan=scoreplan,\n",
    "    index=\"right\",\n",
    "    explain=False,\n",
    "    size=10\n",
    ")\n",
    "Xst = escon.fit_transform(X=df_source)\n",
    "ix_con = Xst.index\n",
    "print('Number of possible pairs:{}'.format(len(ix_con)))\n",
    "print('Example of similarity matrix:')\n",
    "Xst.sample(5)"
   ]
  },
  {
   "cell_type": "code",
   "execution_count": 8,
   "metadata": {
    "pycharm": {
     "is_executing": false,
     "name": "#%%\n"
    }
   },
   "outputs": [
    {
     "name": "stdout",
     "output_type": "stream",
     "text": [
      "Example of side-by-side view of source and target data\n"
     ]
    },
    {
     "data": {
      "text/html": [
       "<div>\n",
       "<style scoped>\n",
       "    .dataframe tbody tr th:only-of-type {\n",
       "        vertical-align: middle;\n",
       "    }\n",
       "\n",
       "    .dataframe tbody tr th {\n",
       "        vertical-align: top;\n",
       "    }\n",
       "\n",
       "    .dataframe thead th {\n",
       "        text-align: right;\n",
       "    }\n",
       "</style>\n",
       "<table border=\"1\" class=\"dataframe\">\n",
       "  <thead>\n",
       "    <tr style=\"text-align: right;\">\n",
       "      <th></th>\n",
       "      <th></th>\n",
       "      <th>name_source</th>\n",
       "      <th>name_target</th>\n",
       "      <th>street_source</th>\n",
       "      <th>street_target</th>\n",
       "      <th>city_source</th>\n",
       "      <th>city_target</th>\n",
       "      <th>postalcode_source</th>\n",
       "      <th>postalcode_target</th>\n",
       "      <th>duns_source</th>\n",
       "      <th>duns_target</th>\n",
       "      <th>countrycode_source</th>\n",
       "      <th>countrycode_target</th>\n",
       "    </tr>\n",
       "    <tr>\n",
       "      <th>ix_source</th>\n",
       "      <th>ix_target</th>\n",
       "      <th></th>\n",
       "      <th></th>\n",
       "      <th></th>\n",
       "      <th></th>\n",
       "      <th></th>\n",
       "      <th></th>\n",
       "      <th></th>\n",
       "      <th></th>\n",
       "      <th></th>\n",
       "      <th></th>\n",
       "      <th></th>\n",
       "      <th></th>\n",
       "    </tr>\n",
       "  </thead>\n",
       "  <tbody>\n",
       "    <tr>\n",
       "      <th>b2bd34fb</th>\n",
       "      <th>dba7dcb7</th>\n",
       "      <td>sport in</td>\n",
       "      <td>boerner und co</td>\n",
       "      <td>17 jesuitenstr</td>\n",
       "      <td>5 messerschmittstr</td>\n",
       "      <td>ingolstadt</td>\n",
       "      <td>ingolstadt</td>\n",
       "      <td>85049</td>\n",
       "      <td>85053</td>\n",
       "      <td>340898242.0</td>\n",
       "      <td>318154358.0</td>\n",
       "      <td>DE</td>\n",
       "      <td>DE</td>\n",
       "    </tr>\n",
       "    <tr>\n",
       "      <th>3967f071</th>\n",
       "      <th>e754a524</th>\n",
       "      <td>diagnostikzentrum am klinikum</td>\n",
       "      <td>diagnostikzentrum am klinikum</td>\n",
       "      <td>2 rantgen str</td>\n",
       "      <td>2 rantgen str</td>\n",
       "      <td>friedrichshafen</td>\n",
       "      <td>friedrichshafen</td>\n",
       "      <td>88048</td>\n",
       "      <td>88048</td>\n",
       "      <td>NaN</td>\n",
       "      <td>NaN</td>\n",
       "      <td>DE</td>\n",
       "      <td>DE</td>\n",
       "    </tr>\n",
       "    <tr>\n",
       "      <th>932b06e8</th>\n",
       "      <th>15e562a8</th>\n",
       "      <td>natixis factor starplast</td>\n",
       "      <td>factorem international visio</td>\n",
       "      <td>avenue winston churchill</td>\n",
       "      <td>avenue winston churchill</td>\n",
       "      <td>charenton le pont</td>\n",
       "      <td>charenton le pont</td>\n",
       "      <td>94220</td>\n",
       "      <td>94220</td>\n",
       "      <td>281985668.0</td>\n",
       "      <td>281985668.0</td>\n",
       "      <td>FR</td>\n",
       "      <td>FR</td>\n",
       "    </tr>\n",
       "    <tr>\n",
       "      <th>ed6089e2</th>\n",
       "      <th>691642b5</th>\n",
       "      <td>tropack packmittel gmbh</td>\n",
       "      <td>koller gmbh</td>\n",
       "      <td>6 gewerbestr</td>\n",
       "      <td>16 gewerbestr</td>\n",
       "      <td>lahnau</td>\n",
       "      <td>vohburg an der donau</td>\n",
       "      <td>35633</td>\n",
       "      <td>85088</td>\n",
       "      <td>329711691.0</td>\n",
       "      <td>NaN</td>\n",
       "      <td>DE</td>\n",
       "      <td>DE</td>\n",
       "    </tr>\n",
       "    <tr>\n",
       "      <th>b911b552</th>\n",
       "      <th>9017414d</th>\n",
       "      <td>fhf gmbh</td>\n",
       "      <td>mobilfunk bremen handels gmbh</td>\n",
       "      <td>26 kap horn str</td>\n",
       "      <td>feuerkuhle</td>\n",
       "      <td>bremen</td>\n",
       "      <td>bremen</td>\n",
       "      <td>28237</td>\n",
       "      <td>28207</td>\n",
       "      <td>NaN</td>\n",
       "      <td>328651005.0</td>\n",
       "      <td>DE</td>\n",
       "      <td>DE</td>\n",
       "    </tr>\n",
       "  </tbody>\n",
       "</table>\n",
       "</div>"
      ],
      "text/plain": [
       "                                       name_source  \\\n",
       "ix_source ix_target                                  \n",
       "b2bd34fb  dba7dcb7                        sport in   \n",
       "3967f071  e754a524   diagnostikzentrum am klinikum   \n",
       "932b06e8  15e562a8        natixis factor starplast   \n",
       "ed6089e2  691642b5         tropack packmittel gmbh   \n",
       "b911b552  9017414d                        fhf gmbh   \n",
       "\n",
       "                                       name_target             street_source  \\\n",
       "ix_source ix_target                                                            \n",
       "b2bd34fb  dba7dcb7                  boerner und co            17 jesuitenstr   \n",
       "3967f071  e754a524   diagnostikzentrum am klinikum             2 rantgen str   \n",
       "932b06e8  15e562a8    factorem international visio  avenue winston churchill   \n",
       "ed6089e2  691642b5                     koller gmbh              6 gewerbestr   \n",
       "b911b552  9017414d   mobilfunk bremen handels gmbh           26 kap horn str   \n",
       "\n",
       "                                street_target        city_source  \\\n",
       "ix_source ix_target                                                \n",
       "b2bd34fb  dba7dcb7         5 messerschmittstr         ingolstadt   \n",
       "3967f071  e754a524              2 rantgen str    friedrichshafen   \n",
       "932b06e8  15e562a8   avenue winston churchill  charenton le pont   \n",
       "ed6089e2  691642b5              16 gewerbestr             lahnau   \n",
       "b911b552  9017414d                 feuerkuhle             bremen   \n",
       "\n",
       "                              city_target postalcode_source postalcode_target  \\\n",
       "ix_source ix_target                                                             \n",
       "b2bd34fb  dba7dcb7             ingolstadt             85049             85053   \n",
       "3967f071  e754a524        friedrichshafen             88048             88048   \n",
       "932b06e8  15e562a8      charenton le pont             94220             94220   \n",
       "ed6089e2  691642b5   vohburg an der donau             35633             85088   \n",
       "b911b552  9017414d                 bremen             28237             28207   \n",
       "\n",
       "                     duns_source  duns_target countrycode_source  \\\n",
       "ix_source ix_target                                                \n",
       "b2bd34fb  dba7dcb7   340898242.0  318154358.0                 DE   \n",
       "3967f071  e754a524           NaN          NaN                 DE   \n",
       "932b06e8  15e562a8   281985668.0  281985668.0                 FR   \n",
       "ed6089e2  691642b5   329711691.0          NaN                 DE   \n",
       "b911b552  9017414d           NaN  328651005.0                 DE   \n",
       "\n",
       "                    countrycode_target  \n",
       "ix_source ix_target                     \n",
       "b2bd34fb  dba7dcb7                  DE  \n",
       "3967f071  e754a524                  DE  \n",
       "932b06e8  15e562a8                  FR  \n",
       "ed6089e2  691642b5                  DE  \n",
       "b911b552  9017414d                  DE  "
      ]
     },
     "execution_count": 8,
     "metadata": {},
     "output_type": "execute_result"
    }
   ],
   "source": [
    "Xsbs = escon.getsbs(X=df_source, on_ix=ix_con)\n",
    "print('Example of side-by-side view of source and target data')\n",
    "Xsbs.sample(5)"
   ]
  },
  {
   "cell_type": "markdown",
   "metadata": {},
   "source": [
    "## 4. Further scoring"
   ]
  },
  {
   "cell_type": "code",
   "execution_count": 12,
   "metadata": {
    "pycharm": {
     "is_executing": false,
     "name": "#%%\n"
    }
   },
   "outputs": [],
   "source": [
    "from suricate.sbstransformers import SbsApplyComparator\n",
    "from sklearn.pipeline import FeatureUnion"
   ]
  },
  {
   "cell_type": "code",
   "execution_count": 13,
   "metadata": {
    "pycharm": {
     "is_executing": false,
     "name": "#%%\n"
    }
   },
   "outputs": [
    {
     "name": "stdout",
     "output_type": "stream",
     "text": [
      "Additional scores\n"
     ]
    },
    {
     "data": {
      "text/html": [
       "<div>\n",
       "<style scoped>\n",
       "    .dataframe tbody tr th:only-of-type {\n",
       "        vertical-align: middle;\n",
       "    }\n",
       "\n",
       "    .dataframe tbody tr th {\n",
       "        vertical-align: top;\n",
       "    }\n",
       "\n",
       "    .dataframe thead th {\n",
       "        text-align: right;\n",
       "    }\n",
       "</style>\n",
       "<table border=\"1\" class=\"dataframe\">\n",
       "  <thead>\n",
       "    <tr style=\"text-align: right;\">\n",
       "      <th></th>\n",
       "      <th></th>\n",
       "      <th>name_fuzzy</th>\n",
       "      <th>street_fuzzy</th>\n",
       "      <th>name_token</th>\n",
       "      <th>street_token</th>\n",
       "      <th>city_fuzzy</th>\n",
       "      <th>postalcode_fuzzy</th>\n",
       "      <th>postalcode_contains</th>\n",
       "    </tr>\n",
       "    <tr>\n",
       "      <th>ix_source</th>\n",
       "      <th>ix_target</th>\n",
       "      <th></th>\n",
       "      <th></th>\n",
       "      <th></th>\n",
       "      <th></th>\n",
       "      <th></th>\n",
       "      <th></th>\n",
       "      <th></th>\n",
       "    </tr>\n",
       "  </thead>\n",
       "  <tbody>\n",
       "    <tr>\n",
       "      <th>f7da5ee1</th>\n",
       "      <th>995df284</th>\n",
       "      <td>0.62</td>\n",
       "      <td>0.41</td>\n",
       "      <td>0.44</td>\n",
       "      <td>0.41</td>\n",
       "      <td>1.00</td>\n",
       "      <td>0.6</td>\n",
       "      <td>0.0</td>\n",
       "    </tr>\n",
       "    <tr>\n",
       "      <th>86ca1988</th>\n",
       "      <th>653240ad</th>\n",
       "      <td>0.55</td>\n",
       "      <td>0.46</td>\n",
       "      <td>0.45</td>\n",
       "      <td>0.46</td>\n",
       "      <td>1.00</td>\n",
       "      <td>1.0</td>\n",
       "      <td>1.0</td>\n",
       "    </tr>\n",
       "    <tr>\n",
       "      <th>f9d94010</th>\n",
       "      <th>a98a2f74</th>\n",
       "      <td>0.45</td>\n",
       "      <td>0.48</td>\n",
       "      <td>0.41</td>\n",
       "      <td>0.48</td>\n",
       "      <td>0.31</td>\n",
       "      <td>0.4</td>\n",
       "      <td>0.0</td>\n",
       "    </tr>\n",
       "  </tbody>\n",
       "</table>\n",
       "</div>"
      ],
      "text/plain": [
       "                     name_fuzzy  street_fuzzy  name_token  street_token  \\\n",
       "ix_source ix_target                                                       \n",
       "f7da5ee1  995df284         0.62          0.41        0.44          0.41   \n",
       "86ca1988  653240ad         0.55          0.46        0.45          0.46   \n",
       "f9d94010  a98a2f74         0.45          0.48        0.41          0.48   \n",
       "\n",
       "                     city_fuzzy  postalcode_fuzzy  postalcode_contains  \n",
       "ix_source ix_target                                                     \n",
       "f7da5ee1  995df284         1.00               0.6                  0.0  \n",
       "86ca1988  653240ad         1.00               1.0                  1.0  \n",
       "f9d94010  a98a2f74         0.31               0.4                  0.0  "
      ]
     },
     "execution_count": 13,
     "metadata": {},
     "output_type": "execute_result"
    }
   ],
   "source": [
    "_sbs_score_list = [\n",
    "    ('name_fuzzy', SbsApplyComparator(on='name', comparator='simple')),\n",
    "    ('street_fuzzy', SbsApplyComparator(on='street', comparator='simple')),\n",
    "    ('name_token', SbsApplyComparator(on='name', comparator='token')),\n",
    "    ('street_token', SbsApplyComparator(on='street', comparator='token')),\n",
    "    ('city_fuzzy', SbsApplyComparator(on='city', comparator='simple')),\n",
    "    ('postalcode_fuzzy', SbsApplyComparator(on='postalcode', comparator='simple')),\n",
    "    ('postalcode_contains', SbsApplyComparator(on='postalcode', comparator='contains'))\n",
    "]\n",
    "scorer_sbs = FeatureUnion(transformer_list=_sbs_score_list)\n",
    "Xscores = pd.DataFrame(\n",
    "    data=scorer_sbs.fit_transform(X=Xsbs),\n",
    "    index=ix_con,\n",
    "    columns=[c[0] for c in _sbs_score_list]\n",
    ")\n",
    "print('Additional scores')\n",
    "Xscores.sample(3)"
   ]
  },
  {
   "cell_type": "markdown",
   "metadata": {
    "pycharm": {
     "name": "#%% md\n"
    }
   },
   "source": [
    "Concatenate with the scores from the previous step"
   ]
  },
  {
   "cell_type": "code",
   "execution_count": null,
   "metadata": {
    "pycharm": {
     "is_executing": false,
     "name": "#%%\n"
    }
   },
   "outputs": [],
   "source": [
    "Xscores = pd.concat([Xst[['es_score']], Xscores], axis=1, ignore_index=False)\n",
    "print('Final scoring table')\n",
    "Xscores.sample(5)"
   ]
  },
  {
   "cell_type": "markdown",
   "metadata": {
    "pycharm": {
     "name": "#%% md\n"
    }
   },
   "source": [
    "## 5. Apply the machine-learning model"
   ]
  },
  {
   "cell_type": "code",
   "execution_count": null,
   "metadata": {
    "pycharm": {
     "is_executing": false,
     "name": "#%%\n"
    }
   },
   "outputs": [],
   "source": [
    "from sklearn.pipeline import Pipeline\n",
    "from sklearn.impute import SimpleImputer\n",
    "from sklearn.preprocessing import Normalizer\n",
    "from sklearn.decomposition import PCA\n",
    "from sklearn.ensemble import GradientBoostingClassifier\n",
    "from sklearn.model_selection import cross_validate"
   ]
  },
  {
   "cell_type": "markdown",
   "metadata": {
    "pycharm": {
     "name": "#%% md\n"
    }
   },
   "source": [
    "for expediency, we will use the y_true already saved"
   ]
  },
  {
   "cell_type": "code",
   "execution_count": null,
   "metadata": {
    "pycharm": {
     "is_executing": false,
     "name": "#%%\n"
    }
   },
   "outputs": [],
   "source": [
    "y_true = getytrue().loc[ix_con]\n",
    "print('Number of data in training:{}'.format(y_true.shape[0]))"
   ]
  },
  {
   "cell_type": "markdown",
   "metadata": {
    "pycharm": {
     "is_executing": false,
     "name": "#%% md\n"
    }
   },
   "source": [
    "### Make the pipeline"
   ]
  },
  {
   "cell_type": "code",
   "execution_count": null,
   "metadata": {
    "pycharm": {
     "is_executing": false,
     "name": "#%%\n"
    }
   },
   "outputs": [],
   "source": [
    "pipe = Pipeline(steps=[\n",
    "    ('Impute', SimpleImputer(strategy='constant', fill_value=0)),\n",
    "    ('Scaler', Normalizer()),\n",
    "    ('PCA', PCA(n_components=4)),\n",
    "    ('Predictor', GradientBoostingClassifier(n_estimators=500))\n",
    "])\n",
    "scoring = ['precision', 'recall', 'accuracy']\n",
    "scores = cross_validate(estimator=pipe, X=Xscores, y=y_true, scoring=scoring, cv=3)\n",
    "for c in scoring:\n",
    "    print('{} score: {}'.format(c, np.average(scores['test_'+c])))"
   ]
  },
  {
   "cell_type": "code",
   "execution_count": null,
   "metadata": {
    "pycharm": {
     "is_executing": false,
     "name": "#%%\n"
    }
   },
   "outputs": [],
   "source": [
    "pipe.fit(X=Xscores, y=y_true)\n",
    "y_pred = pd.Series(data=pipe.predict(X=Xscores), index=ix_con, name='y_pred')"
   ]
  },
  {
   "cell_type": "code",
   "execution_count": null,
   "metadata": {
    "pycharm": {
     "is_executing": false,
     "name": "#%%\n"
    }
   },
   "outputs": [],
   "source": [
    "positive_matches = y_pred.loc[y_pred == 1.0].index\n",
    "print('Showing positive matches')\n",
    "Xsbs.loc[positive_matches].sample(5)"
   ]
  },
  {
   "cell_type": "code",
   "execution_count": null,
   "metadata": {
    "pycharm": {
     "is_executing": false,
     "name": "#%%\n"
    }
   },
   "outputs": [],
   "source": [
    "negative_matches = y_pred.loc[y_pred == 0.0].index\n",
    "print('Showing negativematches')\n",
    "Xsbs.loc[negative_matches].sample(5)\n",
    "\n"
   ]
  }
 ],
 "metadata": {
  "kernelspec": {
   "display_name": "Python 3",
   "language": "python",
   "name": "python3"
  },
  "language_info": {
   "codemirror_mode": {
    "name": "ipython",
    "version": 3
   },
   "file_extension": ".py",
   "mimetype": "text/x-python",
   "name": "python",
   "nbconvert_exporter": "python",
   "pygments_lexer": "ipython3",
   "version": "3.7.3"
  },
  "pycharm": {
   "stem_cell": {
    "cell_type": "raw",
    "metadata": {
     "collapsed": false
    },
    "source": []
   }
  }
 },
 "nbformat": 4,
 "nbformat_minor": 1
}
