{
 "cells": [
  {
   "cell_type": "markdown",
   "metadata": {
    "collapsed": true,
    "pycharm": {
     "name": "#%% md\n"
    }
   },
   "source": [
    "# End to End Dedupe\n",
    "## Pruning pipeline using Elastic search"
   ]
  },
  {
   "cell_type": "markdown",
   "source": [
    "## 1. Loading & transforming the data"
   ],
   "metadata": {
    "collapsed": false,
    "pycharm": {
     "name": "#%% md\n"
    }
   }
  },
  {
   "cell_type": "code",
   "execution_count": 35,
   "outputs": [
    {
     "name": "stdout",
     "text": [
      "2020-04-13 21:41:25.607139  |  number of rows on left:1000\n",
      "2020-04-13 21:41:25.607667  |  number of rows on right:3177\n"
     ],
     "output_type": "stream"
    }
   ],
   "source": [
    "from tutorial.main.stepbystep.stepbysteputils.pgconnector import create_engine_ready\n",
    "from suricate.data.companies import getsource, gettarget\n",
    "import pandas as pd\n",
    "import  numpy as np\n",
    "\n",
    "engine = create_engine_ready()\n",
    "\n",
    "# filefolder = '~/'\n",
    "# leftpath = 'left.csv'\n",
    "# rightpath = 'right.csv'\n",
    "# df_source = pd.read_csv(filefolder + leftpath, index_col=0, sep='|', encoding='utf-8')\n",
    "# df_target = pd.read_csv(filefolder + rightpath, index_col=0, sep='|', encoding='utf-8')\n",
    "df_source_raw = getsource(nrows=1000)\n",
    "df_target_raw = gettarget(nrows=None)\n",
    "\n",
    "def rebuild_ytrue(ix):\n",
    "    y_true_saved = pd.read_sql(sql=\"SELECT * FROM y_true WHERE y_true.y_true = 1\", con=engine).set_index(\n",
    "        ['ix_source', 'ix_target'],\n",
    "        drop=True)['y_true']\n",
    "    y = pd.Series(index=ix, data = np.zeros(shape=len(ix)), name='y_true')\n",
    "    ix_common = y_true_saved.index.intersection(ix)\n",
    "    y.loc[ix_common] = y_true_saved.loc[ix_common]\n",
    "    return y\n",
    "\n",
    "\n",
    "\n",
    "def prepare_source(df):\n",
    "    \"\"\"\n",
    "\n",
    "    Args:\n",
    "        df:\n",
    "\n",
    "    Returns:\n",
    "        pd.DataFrame\n",
    "    \"\"\"\n",
    "    df2 = df\n",
    "    return df2\n",
    "\n",
    "\n",
    "def prepare_target(df):\n",
    "    \"\"\"\n",
    "\n",
    "    Args:\n",
    "        df:\n",
    "\n",
    "    Returns:\n",
    "        pd.DataFrame\n",
    "    \"\"\"\n",
    "    df2 = df\n",
    "    return df2\n",
    "\n",
    "\n",
    "df_source = prepare_source(df_source_raw)\n",
    "df_target = prepare_target(df_target_raw)\n",
    "assert df_source.columns.equals(df_target.columns)\n",
    "print(pd.datetime.now(),' | ', 'number of rows on left:{}'.format(df_source.shape[0]))\n",
    "print(pd.datetime.now(),' | ', 'number of rows on right:{}'.format(df_target.shape[0]))"
   ],
   "metadata": {
    "collapsed": false,
    "pycharm": {
     "name": "#%%\n",
     "is_executing": false
    }
   }
  },
  {
   "cell_type": "markdown",
   "source": [
    "## 2. Pushing the data from the target (right) dataframe to Elastic Search"
   ],
   "metadata": {
    "collapsed": false
   }
  },
  {
   "cell_type": "code",
   "execution_count": 2,
   "outputs": [
    {
     "name": "stdout",
     "text": [
      "2020-04-13 21:35:17.697749  |  Start pushing to ES\n",
      "2020-04-13 21:35:40.865960  |  pushed to es_sql indice df_target\n",
      "2020-04-13 21:35:40.866152  |  number of docs: 3177\n"
     ],
     "output_type": "stream"
    }
   ],
   "source": [
    "## Push the data to ES\n",
    "import elasticsearch\n",
    "import pandas as pd\n",
    "from suricate.dbconnectors.esconnector import index_with_es\n",
    "import time\n",
    "\n",
    "\n",
    "## Put the data to ES, drop the index first and then re create\n",
    "esclient = elasticsearch.Elasticsearch()\n",
    "es_indice = 'df_target'\n",
    "\n",
    "print(pd.datetime.now(),' | ', 'Start pushing to ES')\n",
    "\n",
    "if True:\n",
    "    try:\n",
    "        esclient.indices.delete(index=es_indice)\n",
    "    except:\n",
    "        pass\n",
    "    request_body = {\n",
    "        \"settings\": {\n",
    "            \"number_of_shards\": 5,\n",
    "            \"number_of_replicas\": 5\n",
    "        },\n",
    "\n",
    "        \"mappings\": {\n",
    "            \"_doc\": {\n",
    "                \"properties\": {\n",
    "                    \"ix\": {\"type\": \"keyword\"},\n",
    "                    \"name\": {\"type\": \"text\"},\n",
    "                    \"street\": {\"type\": \"text\"},\n",
    "                    \"city\": {\"type\": \"text\"},\n",
    "                    \"postalcode\": {\"type\": \"text\"},\n",
    "                    \"countrycode\": {\"type\": \"keyword\"}\n",
    "                }\n",
    "            }\n",
    "        }\n",
    "    }\n",
    "    esclient.indices.create(index=es_indice, body=request_body)\n",
    "    index_with_es(client=esclient, df=df_target, index=es_indice, ixname=\"ix\", reset_index=True, doc_type='_doc')\n",
    "    time.sleep(5)\n",
    "pass\n",
    "catcount = esclient.count(index=es_indice)['count']\n",
    "assert catcount == df_target.shape[0]\n",
    "print(pd.datetime.now(),' | ', 'pushed to es_sql indice {}'.format(es_indice))\n",
    "print(pd.datetime.now(),' | ', 'number of docs: {}'.format(catcount))"
   ],
   "metadata": {
    "collapsed": false,
    "pycharm": {
     "name": "#%%\n",
     "is_executing": false
    }
   }
  },
  {
   "cell_type": "markdown",
   "source": [
    "## 3. Connecting the data\n",
    "* For each row in the left dataframe, launch a search request on ES df_target indice\n",
    "* Output:\n",
    "    * Xst: Similarity Matrix\n",
    "    * Xsbs: Side-by-side view of the data\n"
   ],
   "metadata": {
    "collapsed": false,
    "pycharm": {
     "name": "#%% md\n"
    }
   }
  },
  {
   "cell_type": "code",
   "execution_count": 36,
   "outputs": [
    {
     "name": "stdout",
     "text": [
      "2020-04-13 21:41:42.884479  |  Starting connection\n",
      "2020-04-13 21:42:14.615772  |  Finished connection\n",
      "2020-04-13 21:42:14.616046  |  number of pairs 10000\n",
      "2020-04-13 21:42:14.616155  |  Connection scores sample:\n",
      "                    es_score es_rank\n",
      "ix_source  ix_target                   \n",
      "6cf59033 0be2de31  32.697815       0\n",
      "6d738788 6d738788  34.087070       0\n",
      "054aa318 738643f2  27.739553       2\n",
      "1bd2d98a 97cd92c7  32.699120       0\n",
      "e8b86147 90dffaf1  12.542312       2\n",
      "2020-04-13 21:42:14.620979  |  Starting side-by-side build\n",
      "2020-04-13 21:42:30.623783  |  Finished side-by-side build\n",
      "2020-04-13 21:42:30.624259  |  Side by side pairs sample:\n",
      "                                   name_source                      name_target  \\\n",
      "ix_source  ix_target                                                              \n",
      "4b61a6e1 5db25854  c stiefelmayer gmbh co kg  keck energieservice gmbh co kg   \n",
      "3e254c40 e5cfe1a5    hahnkolb werkzeuge gmbh        hahn kolb werkzeuge gmbh   \n",
      "bd2cf1f0 89f97a50   ing hubert maldaner gmbh        ing hubert maldaner gmbh   \n",
      "6d6d1d3f 4567e77a  isocel management conseil                      se conseil   \n",
      "150322b3 b6a62cce                  fako gmbh             zemo vertriebs gmbh   \n",
      "\n",
      "                         street_source                     street_target  \\\n",
      "ix_source  ix_target                                                       \n",
      "4b61a6e1 5db25854        4 htten weg                  4 rieseler feld   \n",
      "3e254c40 e5cfe1a5      schlieffenstr                 40 schlieffenstr   \n",
      "bd2cf1f0 89f97a50  3 max planck ring                3 max planck ring   \n",
      "6d6d1d3f 4567e77a          du lac ii  chemin oree du bois d aigrefoin   \n",
      "150322b3 b6a62cce           peutestr                      47 peutestr   \n",
      "\n",
      "                              city_source            city_target postalcode_source  \\\n",
      "ix_source  ix_target                                                               \n",
      "4b61a6e1 5db25854      wertheim am main                brakel           97877   \n",
      "3e254c40 e5cfe1a5           ludwigsburg           ludwigsburg           71636   \n",
      "bd2cf1f0 89f97a50  langenfeld rheinland  langenfeld rheinland           40764   \n",
      "6d6d1d3f 4567e77a              bordeaux        gif sur yvette           33300   \n",
      "150322b3 b6a62cce               hamburg               hamburg           20539   \n",
      "\n",
      "                  postalcode_target    duns_source   duns_target countrycode_source  \\\n",
      "ix_source  ix_target                                                               \n",
      "4b61a6e1 5db25854            33034  313042822.0          NaN               DE   \n",
      "3e254c40 e5cfe1a5            71636          NaN          NaN               DE   \n",
      "bd2cf1f0 89f97a50            40764  316026582.0          NaN               DE   \n",
      "6d6d1d3f 4567e77a            91190  762822153.0  260276765.0               FR   \n",
      "150322b3 b6a62cce            20539  313518398.0          NaN               DE   \n",
      "\n",
      "                  countrycode_target  \n",
      "ix_source  ix_target                    \n",
      "4b61a6e1 5db25854                DE  \n",
      "3e254c40 e5cfe1a5                DE  \n",
      "bd2cf1f0 89f97a50                DE  \n",
      "6d6d1d3f 4567e77a                FR  \n",
      "150322b3 b6a62cce                DE  \n"
     ],
     "output_type": "stream"
    }
   ],
   "source": [
    "## Connect the data\n",
    "from tutorial.main.stepbystep.stepbysteputils.esconnector import getesconnector\n",
    "\n",
    "print(pd.datetime.now(),' | ', 'Starting connection')\n",
    "escon = getesconnector()\n",
    "\n",
    "Xst = escon.fit_transform(X=df_source)\n",
    "print(pd.datetime.now(),' | ', 'Finished connection')\n",
    "print(pd.datetime.now(),' | ', 'number of pairs {}'.format(Xst.shape[0]))\n",
    "print(pd.datetime.now(),' | ', 'Connection scores sample:')\n",
    "print(Xst.sample(5))\n",
    "\n",
    "ix_con_multi = Xst.index\n",
    "print(pd.datetime.now(),' | ', 'Starting side-by-side build')\n",
    "Xsbs = escon.getsbs(X=df_source, on_ix=ix_con_multi)\n",
    "print(pd.datetime.now(),' | ', 'Finished side-by-side build')\n",
    "print(pd.datetime.now(),' | ', 'Side by side pairs sample:')\n",
    "print(Xsbs.sample(5))"
   ],
   "metadata": {
    "collapsed": false,
    "pycharm": {
     "name": "#%%\n",
     "is_executing": false
    }
   }
  },
  {
   "cell_type": "markdown",
   "source": [
    "## 4. Exploring the data\n",
    "### Clustering part\n",
    "* Cluster scores to find pairs with same similarity\n",
    "* Output:\n",
    "    * X_cluster: Score matrix\n",
    "### 4.1.1. Fit the cluster to non-supervized data"
   ],
   "metadata": {
    "collapsed": false
   }
  },
  {
   "cell_type": "code",
   "execution_count": 38,
   "outputs": [
    {
     "name": "stdout",
     "text": [
      "2020-04-13 21:43:01.580884  |  Starting questions with n_questions = 200\n",
      "2020-04-13 21:43:01.581328  |  Starting cluster fit with unsupervized data\n",
      "2020-04-13 21:43:01.604762  |  Done\n"
     ],
     "output_type": "stream"
    }
   ],
   "source": [
    "from suricate.explore import Explorer\n",
    "n_questions = 200\n",
    "print(pd.datetime.now(),' | ', 'Starting questions with n_questions = {}'.format(n_questions))\n",
    "print(pd.datetime.now(),' | ', 'Starting cluster fit with unsupervized data')\n",
    "exp = Explorer(n_simple=n_questions, n_hard=n_questions)\n",
    "exp.fit_cluster(X=Xst[['es_score']])\n",
    "y_cluster = pd.Series(data=exp.pred_cluster(X=Xst), index=Xst.index, name='y_cluster')\n",
    "X_cluster = pd.DataFrame(y_cluster)\n",
    "print(pd.datetime.now(),' | ', 'Done')"
   ],
   "metadata": {
    "collapsed": false,
    "pycharm": {
     "name": "#%%\n",
     "is_executing": false
    }
   }
  },
  {
   "cell_type": "markdown",
   "source": [
    "### 4.1.2. Visualizing the clusters and the average score"
   ],
   "metadata": {
    "collapsed": false,
    "pycharm": {
     "name": "#%% md\n"
    }
   }
  },
  {
   "cell_type": "markdown",
   "source": [
    "#### 4.2. Loading the cheatsheet of labelled pairs\n",
    "* In real life, you would manually label each of those pairs.\n",
    "* For this demo, I already created a y_true vector"
   ],
   "metadata": {
    "collapsed": false
   }
  },
  {
   "cell_type": "code",
   "execution_count": 39,
   "outputs": [
    {
     "name": "stdout",
     "text": [
      "2020-04-13 21:43:11.084201  |  Content of y_true:\n",
      "7869 non-matching pairs\n",
      "2131 matching pairs\n"
     ],
     "output_type": "stream"
    }
   ],
   "source": [
    "y_true = rebuild_ytrue(ix= ix_con_multi)\n",
    "print(pd.datetime.now(),' | ', 'Content of y_true:\\n{} non-matching pairs\\n{} matching pairs'.format(y_true.value_counts().loc[0], y_true.value_counts().loc[1]))"
   ],
   "metadata": {
    "collapsed": false,
    "pycharm": {
     "name": "#%%\n",
     "is_executing": false
    }
   }
  },
  {
   "cell_type": "markdown",
   "source": [
    "### 4.3. Asking Questions to label the data\n",
    "#### 4.3.1 Asking Simple Questions\n",
    "* Simple questions are sample of pairs from each cluster in the similarity matrix\n",
    "* They are used as representative sample of each cluster and thus of the general population\n",
    "* We are using non-supervized techniques to generate the clusters\n",
    "* These samples can then be manually labelled, giving way for supervized methods"
   ],
   "metadata": {
    "collapsed": false,
    "pycharm": {
     "name": "#%% md\n"
    }
   }
  },
  {
   "cell_type": "code",
   "execution_count": 40,
   "outputs": [
    {
     "name": "stdout",
     "text": [
      "2020-04-13 21:43:29.663065  |  Sample of simple questions:\n",
      "                                                           name_source  \\\n",
      "ix_source  ix_target                                                      \n",
      "d0fec07a 3ac3d036                       honeywell international sarl   \n",
      "46a13500 eabdefc6                                        ge aviation   \n",
      "32571bf3 e7cee213                                lapp gmbh und co kg   \n",
      "ccd0b6df 2279f732                                           luces sl   \n",
      "c906f2e3 e2a2da69                              botschaft afghanistan   \n",
      "4af3a76c 253ce464  hamilton sundstrand hamilton sundstrand hamilt...   \n",
      "b52c7c8e d48eca66                                       selex es spa   \n",
      "816d262e fc8bf3d0                             ge measurement control   \n",
      "73a56e4d a9b7c40b                 selex sensors and airborne systems   \n",
      "dd2d6cef dc52465a  snap on industrial germany snap on industrial ...   \n",
      "\n",
      "                                           name_target  \\\n",
      "ix_source  ix_target                                       \n",
      "d0fec07a 3ac3d036                    nmb minebea sarl   \n",
      "46a13500 eabdefc6                         ge aviation   \n",
      "32571bf3 e7cee213                           wolf gmbh   \n",
      "ccd0b6df 2279f732                            luces sl   \n",
      "c906f2e3 e2a2da69               botschaft afghanistan   \n",
      "4af3a76c 253ce464                 hamilton sundstrand   \n",
      "b52c7c8e d48eca66                        selex es spa   \n",
      "816d262e fc8bf3d0                          ge sensing   \n",
      "73a56e4d a9b7c40b  selex sensors and airborne systems   \n",
      "dd2d6cef dc52465a          snap on industrial germany   \n",
      "\n",
      "                                         street_source  \\\n",
      "ix_source  ix_target                                      \n",
      "d0fec07a 3ac3d036             4 avenue saint granier   \n",
      "46a13500 eabdefc6          bishops cleeve po box 162   \n",
      "32571bf3 e7cee213           25 schulze delitzsch str   \n",
      "ccd0b6df 2279f732  46 calle del general diaz porlier   \n",
      "c906f2e3 e2a2da69                        3 taunusstr   \n",
      "4af3a76c 253ce464                  4747 harrison ave   \n",
      "b52c7c8e d48eca66                   12 via tiburtina   \n",
      "816d262e fc8bf3d0                      fir tree lane   \n",
      "73a56e4d a9b7c40b                 2 crewe road north   \n",
      "dd2d6cef dc52465a                      10 willettstr   \n",
      "\n",
      "                                       street_target   city_source  city_target  \\\n",
      "ix_source  ix_target                                                             \n",
      "d0fec07a 3ac3d036              20 chemin de laporte    toulouse    toulouse   \n",
      "46a13500 eabdefc6                        cheltenham  cheltenham  cheltenham   \n",
      "32571bf3 e7cee213             schulze delitzsch str   stuttgart   stuttgart   \n",
      "ccd0b6df 2279f732  46 calle del general daz porlier      madrid      madrid   \n",
      "c906f2e3 e2a2da69                   3 taunusstraaye      berlin      berlin   \n",
      "4af3a76c 253ce464                 4747 harrison ave    rockford    rockford   \n",
      "b52c7c8e d48eca66             60 close via piemonte        rome        rome   \n",
      "816d262e fc8bf3d0                     fir tree lane       groby       groby   \n",
      "73a56e4d a9b7c40b                2 crewe road north   edinburgh   edinburgh   \n",
      "dd2d6cef dc52465a                     10 willettstr    mettmann    mettmann   \n",
      "\n",
      "                  postalcode_source postalcode_target    duns_source   duns_target  \\\n",
      "ix_source  ix_target                                                              \n",
      "d0fec07a 3ac3d036           31024            31300          NaN  264004254.0   \n",
      "46a13500 eabdefc6         gl528yb         gl52 8sf          NaN          NaN   \n",
      "32571bf3 e7cee213           70565            70565  316086383.0  341245095.0   \n",
      "ccd0b6df 2279f732           28001            28001          NaN   46645728.0   \n",
      "c906f2e3 e2a2da69           14193            14193          NaN          NaN   \n",
      "4af3a76c 253ce464      61108-7929       61108-7929          NaN   51079937.0   \n",
      "b52c7c8e d48eca66             185              187  434003576.0          NaN   \n",
      "816d262e fc8bf3d0          le60fh           le60fh  226525053.0  219144201.0   \n",
      "73a56e4d a9b7c40b         eh5 2xs          eh5 2xs          NaN   23226769.0   \n",
      "dd2d6cef dc52465a           40822            40822          NaN          NaN   \n",
      "\n",
      "                  countrycode_source countrycode_target  \n",
      "ix_source  ix_target                                     \n",
      "d0fec07a 3ac3d036               FR                FR  \n",
      "46a13500 eabdefc6               GB                GB  \n",
      "32571bf3 e7cee213               DE                DE  \n",
      "ccd0b6df 2279f732               ES                ES  \n",
      "c906f2e3 e2a2da69               DE                DE  \n",
      "4af3a76c 253ce464               US                US  \n",
      "b52c7c8e d48eca66               IT                IT  \n",
      "816d262e fc8bf3d0               GB                GB  \n",
      "73a56e4d a9b7c40b               GB                GB  \n",
      "dd2d6cef dc52465a               DE                DE  \n"
     ],
     "output_type": "stream"
    }
   ],
   "source": [
    "ix_simple = exp.ask_simple(X=Xst)\n",
    "Sbs_simple = Xsbs.loc[ix_simple]\n",
    "y_simple = y_true.loc[ix_simple]\n",
    "print(pd.datetime.now(),' | ', 'Sample of simple questions:')\n",
    "print(Sbs_simple.sample(10))"
   ],
   "metadata": {
    "collapsed": false,
    "pycharm": {
     "name": "#%%\n",
     "is_executing": false
    }
   }
  },
  {
   "cell_type": "markdown",
   "source": [
    "#### 4.3.2. How many positive matches per cluster"
   ],
   "metadata": {
    "collapsed": false,
    "pycharm": {
     "name": "#%% md\n"
    }
   }
  },
  {
   "cell_type": "code",
   "execution_count": 41,
   "outputs": [
    {
     "name": "stdout",
     "text": [
      "2020-04-13 21:43:52.265994  |  Content of cluster after simple questions:\n",
      "           avg_score  pct_match\n",
      "y_cluster                      \n",
      "7.0        68.981955   1.000000\n",
      "8.0        78.712065   1.000000\n",
      "9.0        87.478827   1.000000\n",
      "4.0        41.725311   0.945946\n",
      "5.0        50.130134   0.934426\n",
      "6.0        59.285728   0.820513\n",
      "3.0        31.462654   0.668026\n",
      "2.0        19.752465   0.172759\n",
      "1.0         9.933944   0.003017\n",
      "0.0         6.678583   0.000000\n"
     ],
     "output_type": "stream"
    }
   ],
   "source": [
    "from suricate.explore import cluster_stats\n",
    "X_pivot = cluster_stats(X=Xst[['es_score']], y_cluster=y_cluster, y_true=y_true)\n",
    "print(pd.datetime.now(),' | ', 'Content of cluster after simple questions:')\n",
    "print(X_pivot)"
   ],
   "metadata": {
    "collapsed": false,
    "pycharm": {
     "name": "#%%\n",
     "is_executing": false
    }
   }
  },
  {
   "cell_type": "markdown",
   "source": [
    "#### 4.3.2. Fit the cluster classifier with supervized data\n",
    "* For each cluster, we measure:\n",
    "    * If all pairs from the sample are a match\n",
    "    * If some pairs are a match, some aren't\n",
    "    * If there is no pairs in the sample that match\n",
    "* These results can be used for pruning"
   ],
   "metadata": {
    "collapsed": false,
    "pycharm": {
     "name": "#%% md\n"
    }
   }
  },
  {
   "cell_type": "code",
   "execution_count": 42,
   "outputs": [
    {
     "name": "stdout",
     "text": [
      "2020-04-13 21:44:26.710956  |  Start fitting the cluster classifier with supervized data:\n",
      "2020-04-13 21:44:26.811834  |  Done\n"
     ],
     "output_type": "stream"
    }
   ],
   "source": [
    "print(pd.datetime.now(),' | ', 'Start fitting the cluster classifier with supervized data:')\n",
    "exp.fit(X=Xst, y=y_simple, fit_cluster=False)\n",
    "print(pd.datetime.now(),' | ', 'Done')"
   ],
   "metadata": {
    "collapsed": false,
    "pycharm": {
     "name": "#%%\n",
     "is_executing": false
    }
   }
  },
  {
   "cell_type": "code",
   "execution_count": 43,
   "outputs": [
    {
     "name": "stdout",
     "text": [
      "2020-04-13 21:44:35.397453  |  Result of hard questions:\n",
      "                                               name_source  \\\n",
      "ix_source  ix_target                                          \n",
      "5fae6160 5fae6160         ads analyse detection securite   \n",
      "501ad89f 8c071814                ge aviation systems ltd   \n",
      "35b7cba1 be329903                 clinter traducciones e   \n",
      "51f411d4 51f411d4               knuerr gmbh sales office   \n",
      "28c9bf9a e6f50811  performance plastics products 3p gmbh   \n",
      "f7da5ee1 484866fb             e a elektro automatik gmbh   \n",
      "28f0feb9 e29b4c7f                         blumenhof frey   \n",
      "7d49ff77 7d49ff77          bundesanstalt f arbeitsschutz   \n",
      "ba852050 536d4a08    ge aviation ge aviation ge aviation   \n",
      "f6d4c1fe 3afab667            honeywell international inc   \n",
      "\n",
      "                                                          name_target  \\\n",
      "ix_source  ix_target                                                      \n",
      "5fae6160 5fae6160                     ads analyse detection securite   \n",
      "501ad89f 8c071814           ge aviation systems ltdcustomer services   \n",
      "35b7cba1 be329903  cualicontrol aci sa cualicontrol aci sa cualic...   \n",
      "51f411d4 51f411d4                           knuerr gmbh sales office   \n",
      "28c9bf9a e6f50811  performance plastics products 3p performance p...   \n",
      "f7da5ee1 484866fb                               ea elektro automatik   \n",
      "28f0feb9 e29b4c7f                                     frey blumenhof   \n",
      "7d49ff77 7d49ff77                      bundesanstalt f arbeitsschutz   \n",
      "ba852050 536d4a08                                        ge aviation   \n",
      "f6d4c1fe 3afab667                        honeywell international inc   \n",
      "\n",
      "                                 street_source               street_target  \\\n",
      "ix_source  ix_target                                                         \n",
      "5fae6160 5fae6160          31 route de paris          31 route de paris   \n",
      "501ad89f 8c071814                 cheltenham               evesham road   \n",
      "35b7cba1 be329903          57 calle gran via      67 calle de caleruega   \n",
      "51f411d4 51f411d4       1a emil hoffmann str       1a emil hoffmann str   \n",
      "28c9bf9a e6f50811          27 max planck str          27 max planck str   \n",
      "f7da5ee1 484866fb         31 37 helmholtzstr         31 37 helmholtzstr   \n",
      "28f0feb9 e29b4c7f        wa3rmbachstraerasse        mittenheimerstrasse   \n",
      "7d49ff77 7d49ff77  1 25 friedrich henkel weg  1 25 friedrich henkel weg   \n",
      "ba852050 536d4a08                 cheltenham                 arle court   \n",
      "f6d4c1fe 3afab667           4150 lind ave sw           19019 n 59th ave   \n",
      "\n",
      "                              city_source            city_target postalcode_source  \\\n",
      "ix_source  ix_target                                                               \n",
      "5fae6160 5fae6160  jouars pontchartrain  jouars pontchartrain           78760   \n",
      "501ad89f 8c071814            cheltenham            cheltenham         gl528sf   \n",
      "35b7cba1 be329903                madrid                madrid           28013   \n",
      "51f411d4 51f411d4               cologne               cologne           50996   \n",
      "28c9bf9a e6f50811                karben                karben           61184   \n",
      "f7da5ee1 484866fb               viersen               viersen           41747   \n",
      "28f0feb9 e29b4c7f     unterschleissheim     unterschleissheim           85716   \n",
      "7d49ff77 7d49ff77              dortmund              dortmund           44149   \n",
      "ba852050 536d4a08            cheltenham            cheltenham        gl52 8sf   \n",
      "f6d4c1fe 3afab667                renton              glendale      98057-4973   \n",
      "\n",
      "                  postalcode_target    duns_source   duns_target countrycode_source  \\\n",
      "ix_source  ix_target                                                               \n",
      "5fae6160 5fae6160            78760          NaN          NaN               FR   \n",
      "501ad89f 8c071814          gl528sf          NaN  211207784.0               GB   \n",
      "35b7cba1 be329903            28033          NaN          NaN               ES   \n",
      "51f411d4 51f411d4            50996          NaN          NaN               DE   \n",
      "28c9bf9a e6f50811            61184          NaN          NaN               DE   \n",
      "f7da5ee1 484866fb            41747  344304634.0  330862074.0               DE   \n",
      "28f0feb9 e29b4c7f            85716          NaN          NaN               DE   \n",
      "7d49ff77 7d49ff77            44149  344398474.0  344398474.0               DE   \n",
      "ba852050 536d4a08         gl51 0tp          NaN  505518316.0               GB   \n",
      "f6d4c1fe 3afab667            91204  602570855.0  148371875.0               US   \n",
      "\n",
      "                  countrycode_target  \n",
      "ix_source  ix_target                    \n",
      "5fae6160 5fae6160                FR  \n",
      "501ad89f 8c071814                GB  \n",
      "35b7cba1 be329903                ES  \n",
      "51f411d4 51f411d4                DE  \n",
      "28c9bf9a e6f50811                DE  \n",
      "f7da5ee1 484866fb                DE  \n",
      "28f0feb9 e29b4c7f                DE  \n",
      "7d49ff77 7d49ff77                DE  \n",
      "ba852050 536d4a08                GB  \n",
      "f6d4c1fe 3afab667                US  \n"
     ],
     "output_type": "stream"
    }
   ],
   "source": [
    "### Ask hard (pointed) questions\n",
    "ix_hard = exp.ask_hard(X=Xst, y=y_simple)\n",
    "Sbs_hard = Xsbs.loc[ix_hard]\n",
    "y_hard = y_true.loc[ix_hard]\n",
    "print(pd.datetime.now(),' | ', 'Result of hard questions:')\n",
    "print(Sbs_hard.sample(10))\n",
    "\n",
    "### Obtain the results of the labels\n",
    "y_questions = y_true.loc[ix_hard.union(ix_simple)]\n",
    "X_questions = Xsbs.loc[y_questions.index].copy()"
   ],
   "metadata": {
    "collapsed": false,
    "pycharm": {
     "name": "#%%\n",
     "is_executing": false
    }
   }
  },
  {
   "cell_type": "markdown",
   "source": [
    "### Make the pruning step\n"
   ],
   "metadata": {
    "collapsed": false,
    "pycharm": {
     "name": "#%% md\n"
    }
   }
  },
  {
   "cell_type": "code",
   "execution_count": 44,
   "outputs": [
    {
     "name": "stdout",
     "text": [
      "2020-04-13 21:44:41.704916  |  Start Pruning\n",
      "2020-04-13 21:44:41.808677  |  Pruning ratio: 0.07099999999999995\n"
     ],
     "output_type": "stream"
    }
   ],
   "source": [
    "print(pd.datetime.now(),' | ', 'Start Pruning')\n",
    "pruning_clusters = X_pivot.loc[X_pivot['pct_match'] > 0.0].index\n",
    "ix_further = y_cluster.loc[y_cluster.isin(pruning_clusters)].index\n",
    "Xst_further = Xst.loc[ix_further]\n",
    "Xsbs_further = Xsbs.loc[ix_further]\n",
    "y_true_further = y_true.loc[ix_further]\n",
    "print(pd.datetime.now(),' | ', 'Pruning ratio: {}'.format(1-len(ix_further)/Xst.shape[0]))\n"
   ],
   "metadata": {
    "collapsed": false,
    "pycharm": {
     "name": "#%%\n",
     "is_executing": false
    }
   }
  },
  {
   "cell_type": "markdown",
   "source": [
    "## 5. Further scoring\n",
    "* Use the selected subset of data after the pruning steps\n",
    "* Do more detailed similarity comparison\n",
    "* Prepare the final similarity matrix for the machine-learning classifier\n",
    "* Use the FuncSbsComparator"
   ],
   "metadata": {
    "collapsed": false,
    "pycharm": {
     "name": "#%% md\n"
    }
   }
  },
  {
   "cell_type": "code",
   "execution_count": 45,
   "outputs": [
    {
     "name": "stdout",
     "text": [
      "2020-04-13 21:45:22.222607  |  Starting further scoring\n",
      "2020-04-13 21:45:41.641162  |  Done\n",
      "2020-04-13 21:45:41.641410  |  Scores:\n",
      "                   name_fuzzy  street_fuzzy  name_token  street_token  \\\n",
      "ix_source  ix_target                                                       \n",
      "9511612e 9511612e        1.00          1.00        1.00          1.00   \n",
      "a8ec99a6 378f4784        0.21          1.00        0.21          1.00   \n",
      "8946d1cc 891d9409        0.62          0.40        0.62          0.33   \n",
      "f807543d e5e397cc        0.34          0.35        0.28          0.35   \n",
      "a83fa5a8 48784f03        0.47          0.17        0.35          0.17   \n",
      "d694d372 580ca91d        0.47          0.37        0.53          0.37   \n",
      "b2bd34fb fe983f7b        0.25          0.57        0.12          0.57   \n",
      "d1940797 d1940797        1.00          1.00        1.00          1.00   \n",
      "f67ba778 65d77185        0.52          0.43        0.56          0.43   \n",
      "251a3154 b04a972a        0.22          0.91        0.22          0.91   \n",
      "\n",
      "                   city_fuzzy  postalcode_fuzzy  postalcode_contains  \n",
      "ix_source  ix_target                                                     \n",
      "9511612e 9511612e        1.00               1.0                  1.0  \n",
      "a8ec99a6 378f4784        1.00               1.0                  1.0  \n",
      "8946d1cc 891d9409        0.22               0.2                  0.0  \n",
      "f807543d e5e397cc        0.85               0.2                  0.0  \n",
      "a83fa5a8 48784f03        1.00               0.6                  0.0  \n",
      "d694d372 580ca91d        0.59               0.6                  0.0  \n",
      "b2bd34fb fe983f7b        1.00               0.6                  0.0  \n",
      "d1940797 d1940797        1.00               1.0                  1.0  \n",
      "f67ba778 65d77185        0.29               0.6                  0.0  \n",
      "251a3154 b04a972a        1.00               1.0                  1.0  \n"
     ],
     "output_type": "stream"
    }
   ],
   "source": [
    "from suricate.sbsdftransformers import FuncSbsComparator\n",
    "from sklearn.pipeline import FeatureUnion\n",
    "\n",
    "print(pd.datetime.now(),' | ', 'Starting further scoring')\n",
    "_sbs_score_list = [\n",
    "    ('name_fuzzy', FuncSbsComparator(on='name', comparator='fuzzy')),\n",
    "    ('street_fuzzy', FuncSbsComparator(on='street', comparator='fuzzy')),\n",
    "    ('name_token', FuncSbsComparator(on='name', comparator='token')),\n",
    "    ('street_token', FuncSbsComparator(on='street', comparator='token')),\n",
    "    ('city_fuzzy', FuncSbsComparator(on='city', comparator='fuzzy')),\n",
    "    ('postalcode_fuzzy', FuncSbsComparator(on='postalcode', comparator='fuzzy')),\n",
    "    ('postalcode_contains', FuncSbsComparator(on='postalcode', comparator='contains'))\n",
    "]\n",
    "\n",
    "scorer_sbs = FeatureUnion(transformer_list=_sbs_score_list)\n",
    "scores_further = scorer_sbs.fit_transform(X=Xsbs_further)\n",
    "scores_further = pd.DataFrame(data=scores_further, index=ix_further, columns=[c[0] for c in _sbs_score_list])\n",
    "print(pd.datetime.now(),' | ', 'Done')\n",
    "print(pd.datetime.now(),' | ', 'Scores:')\n",
    "print(scores_further.sample(10))"
   ],
   "metadata": {
    "collapsed": false,
    "pycharm": {
     "name": "#%%\n",
     "is_executing": false
    }
   }
  },
  {
   "cell_type": "markdown",
   "source": [
    "### Add the scores from the previous step"
   ],
   "metadata": {
    "collapsed": false,
    "pycharm": {
     "name": "#%% md\n"
    }
   }
  },
  {
   "cell_type": "code",
   "execution_count": 46,
   "outputs": [],
   "source": [
    "scores_further = pd.concat([Xst_further, scores_further], axis=1, ignore_index=False)"
   ],
   "metadata": {
    "collapsed": false,
    "pycharm": {
     "name": "#%%\n",
     "is_executing": false
    }
   }
  },
  {
   "cell_type": "markdown",
   "source": [
    "## 6. Machine Learning Classifier"
   ],
   "metadata": {
    "collapsed": false,
    "pycharm": {
     "name": "#%% md\n"
    }
   }
  },
  {
   "cell_type": "code",
   "execution_count": 13,
   "outputs": [],
   "source": [
    "from suricate.pipeline import PartialClf\n",
    "from sklearn.pipeline import Pipeline\n",
    "from sklearn.impute import SimpleImputer\n",
    "from sklearn.preprocessing import Normalizer\n",
    "from sklearn.decomposition import PCA\n",
    "from sklearn.ensemble import GradientBoostingClassifier"
   ],
   "metadata": {
    "collapsed": false,
    "pycharm": {
     "name": "#%%\n",
     "is_executing": false
    }
   }
  },
  {
   "cell_type": "markdown",
   "source": [
    "### 6.1 Make the pipeline"
   ],
   "metadata": {
    "collapsed": false,
    "pycharm": {
     "name": "#%% md\n"
    }
   }
  },
  {
   "cell_type": "code",
   "execution_count": 14,
   "outputs": [],
   "source": [
    "pipe = Pipeline(steps=[\n",
    "    ('Impute', SimpleImputer(strategy='constant', fill_value=0)),\n",
    "    ('Scaler', Normalizer()),\n",
    "    ('PCA', PCA(n_components=4)),\n",
    "    ('Predictor', GradientBoostingClassifier(n_estimators=500))\n",
    "])"
   ],
   "metadata": {
    "collapsed": false,
    "pycharm": {
     "name": "#%%\n",
     "is_executing": false
    }
   }
  },
  {
   "cell_type": "markdown",
   "source": [
    "### 6.2. Launch the Pipeline on the reduced subset"
   ],
   "metadata": {
    "collapsed": false,
    "pycharm": {
     "name": "#%% md\n"
    }
   }
  },
  {
   "cell_type": "code",
   "execution_count": 47,
   "outputs": [
    {
     "name": "stdout",
     "text": [
      "2020-04-13 21:46:13.982590  |  Launch prediction pipeline fit\n",
      "2020-04-13 21:46:17.928956  |  Done\n"
     ],
     "output_type": "stream"
    }
   ],
   "source": [
    "print(pd.datetime.now(),' | ', 'Launch prediction pipeline fit')\n",
    "pred = PartialClf(classifier=pipe)\n",
    "pred.fit(X=scores_further, y=y_true_further)\n",
    "print(pd.datetime.now(),' | ', 'Done')\n",
    "y_pred_further = pred.predict(X=scores_further)"
   ],
   "metadata": {
    "collapsed": false,
    "pycharm": {
     "name": "#%% \n",
     "is_executing": false
    }
   }
  },
  {
   "cell_type": "markdown",
   "source": [
    "Complete the prediction vector by assigning a score of 0 for the pairs not considered\n",
    "in the pruning step"
   ],
   "metadata": {
    "collapsed": false
   }
  },
  {
   "cell_type": "code",
   "execution_count": 48,
   "outputs": [],
   "source": [
    "ix_pruned = y_cluster.loc[~(y_cluster.isin(pruning_clusters))].index\n",
    "y_pred_pruned = pd.Series(index=ix_pruned, data=np.zeros(shape=len(ix_pruned)), name='y_pred')\n",
    "y_pred = pd.concat([y_pred_pruned, y_pred_further], ignore_index=False)"
   ],
   "metadata": {
    "collapsed": false,
    "pycharm": {
     "name": "#%%\n",
     "is_executing": false
    }
   }
  },
  {
   "cell_type": "markdown",
   "source": [
    "### 6.3. Calculate the scores on the training data"
   ],
   "metadata": {
    "collapsed": false,
    "pycharm": {
     "name": "#%% md\n"
    }
   }
  },
  {
   "cell_type": "code",
   "execution_count": 49,
   "outputs": [
    {
     "name": "stdout",
     "text": [
      "2020-04-13 21:46:47.246647  |  Scores on training data\n",
      "2020-04-13 21:46:47.247086  |  accuracy: 0.9814\n",
      "2020-04-13 21:46:47.256749  |  precision: 0.9691268692715871\n",
      "2020-04-13 21:46:47.271430  |  recall: 0.9427498826841858\n"
     ],
     "output_type": "stream"
    }
   ],
   "source": [
    "y_train_true = y_true.loc[y_pred.index]\n",
    "from sklearn.metrics import precision_score, recall_score, accuracy_score\n",
    "print(pd.datetime.now(),' | ', 'Scores on training data')\n",
    "print(pd.datetime.now(),' | ', 'accuracy: {}'.format(accuracy_score(y_true=y_train_true, y_pred=y_pred)))\n",
    "print(pd.datetime.now(),' | ', 'precision: {}'.format(precision_score(y_true=y_train_true, y_pred=y_pred)))\n",
    "print(pd.datetime.now(),' | ', 'recall: {}'.format(recall_score(y_true=y_train_true, y_pred=y_pred)))"
   ],
   "metadata": {
    "collapsed": false,
    "pycharm": {
     "name": "#%%\n",
     "is_executing": false
    }
   }
  },
  {
   "cell_type": "markdown",
   "source": [
    "## 7. Use with test data"
   ],
   "metadata": {
    "collapsed": false,
    "pycharm": {
     "name": "#%% md\n"
    }
   }
  },
  {
   "cell_type": "markdown",
   "source": [
    "### 7.1 Data Preparation"
   ],
   "metadata": {
    "collapsed": false,
    "pycharm": {
     "name": "#%% md\n"
    }
   }
  },
  {
   "cell_type": "code",
   "execution_count": 50,
   "outputs": [],
   "source": [
    "leftrawnew = getsource(nrows=None)\n",
    "leftrawnew= leftrawnew.loc[leftrawnew.index.difference(df_source_raw)]\n",
    "leftrawnew= prepare_source(leftrawnew)"
   ],
   "metadata": {
    "collapsed": false,
    "pycharm": {
     "name": "#%%\n",
     "is_executing": false
    }
   }
  },
  {
   "cell_type": "markdown",
   "source": [
    "### 7.2. Connection"
   ],
   "metadata": {
    "collapsed": false,
    "pycharm": {
     "name": "#%% md\n"
    }
   }
  },
  {
   "cell_type": "code",
   "execution_count": 51,
   "outputs": [],
   "source": [
    "Xst_test = escon.transform(X=leftrawnew)"
   ],
   "metadata": {
    "collapsed": false,
    "pycharm": {
     "name": "#%%\n",
     "is_executing": false
    }
   }
  },
  {
   "cell_type": "code",
   "execution_count": 52,
   "outputs": [],
   "source": [
    "Xsbs_test = escon.getsbs(X=leftrawnew, on_ix=Xst_test.index)"
   ],
   "metadata": {
    "collapsed": false,
    "pycharm": {
     "name": "#%%\n",
     "is_executing": false
    }
   }
  },
  {
   "cell_type": "markdown",
   "source": [
    "### 7.3. Cluster"
   ],
   "metadata": {
    "collapsed": false,
    "pycharm": {
     "name": "#%% md\n"
    }
   }
  },
  {
   "cell_type": "code",
   "execution_count": 53,
   "outputs": [],
   "source": [
    "y_cluster_test = pd.Series(data=exp.pred_cluster(X=Xst_test), index=Xst_test.index, name='y_cluster')"
   ],
   "metadata": {
    "collapsed": false,
    "pycharm": {
     "name": "#%%\n",
     "is_executing": false
    }
   }
  },
  {
   "cell_type": "markdown",
   "source": [
    "### 7.4. Pruning"
   ],
   "metadata": {
    "collapsed": false,
    "pycharm": {
     "name": "#%% md\n"
    }
   }
  },
  {
   "cell_type": "code",
   "execution_count": 54,
   "outputs": [],
   "source": [
    "ix_further_test = y_cluster_test.loc[y_cluster_test.isin(pruning_clusters)].index"
   ],
   "metadata": {
    "collapsed": false,
    "pycharm": {
     "name": "#%%\n",
     "is_executing": false
    }
   }
  },
  {
   "cell_type": "code",
   "execution_count": 55,
   "outputs": [],
   "source": [
    "Xst_further_test = Xst_test.loc[ix_further_test]\n",
    "Xsbs_further_test = Xsbs_test.loc[ix_further_test]"
   ],
   "metadata": {
    "collapsed": false,
    "pycharm": {
     "name": "#%%\n",
     "is_executing": false
    }
   }
  },
  {
   "cell_type": "markdown",
   "source": [
    "### 7.5. Scoring"
   ],
   "metadata": {
    "collapsed": false,
    "pycharm": {
     "name": "#%% md\n"
    }
   }
  },
  {
   "cell_type": "code",
   "execution_count": 56,
   "outputs": [],
   "source": [
    "scores_further_test = scorer_sbs.fit_transform(X=Xsbs_further_test)\n",
    "scores_further_test = pd.DataFrame(data=scores_further_test, index=ix_further_test, columns=[c[0] for c in _sbs_score_list])\n",
    "scores_further_test = pd.concat([Xst_further_test, scores_further_test], axis=1, ignore_index=False)"
   ],
   "metadata": {
    "collapsed": false,
    "pycharm": {
     "name": "#%%\n",
     "is_executing": false
    }
   }
  },
  {
   "cell_type": "markdown",
   "source": [
    "### 7.6. Prediction"
   ],
   "metadata": {
    "collapsed": false,
    "pycharm": {
     "name": "#%% md\n"
    }
   }
  },
  {
   "cell_type": "code",
   "execution_count": 57,
   "outputs": [],
   "source": [
    "y_pred_further_test = pred.predict(X=scores_further_test)\n",
    "ix_pruned_test = y_cluster_test.loc[~(y_cluster_test.isin(pruning_clusters))].index\n",
    "y_pred_pruned_test = pd.Series(index=ix_pruned_test, data=np.zeros(shape=len(ix_pruned_test)), name='y_pred')\n",
    "y_pred_test = pd.concat([y_pred_pruned_test, y_pred_further_test], ignore_index=False)"
   ],
   "metadata": {
    "collapsed": false,
    "pycharm": {
     "name": "#%%\n",
     "is_executing": false
    }
   }
  },
  {
   "cell_type": "markdown",
   "source": [
    "#### 7.7. Scoring on test data"
   ],
   "metadata": {
    "collapsed": false,
    "pycharm": {
     "name": "#%% md\n"
    }
   }
  },
  {
   "cell_type": "code",
   "execution_count": 58,
   "outputs": [
    {
     "name": "stdout",
     "text": [
      "2020-04-13 21:50:21.914017  |  Scores on training data\n",
      "2020-04-13 21:50:21.914226  |  accuracy: 0.6954986149584488\n",
      "2020-04-13 21:50:21.917839  |  precision: 0.22249911000355999\n",
      "2020-04-13 21:50:21.926997  |  recall: 0.22022551092318535\n"
     ],
     "output_type": "stream"
    }
   ],
   "source": [
    "y_true_test = rebuild_ytrue(ix=Xst_test.index)\n",
    "print(pd.datetime.now(),' | ', 'Scores on test data')\n",
    "print(pd.datetime.now(),' | ', 'accuracy: {}'.format(accuracy_score(y_true=y_true_test, y_pred=y_pred_test)))\n",
    "print(pd.datetime.now(),' | ', 'precision: {}'.format(precision_score(y_true=y_true_test, y_pred=y_pred_test)))\n",
    "print(pd.datetime.now(),' | ', 'recall: {}'.format(recall_score(y_true=y_true_test, y_pred=y_pred_test)))\n",
    "\n",
    "\n",
    "\n",
    "\n"
   ],
   "metadata": {
    "collapsed": false,
    "pycharm": {
     "name": "#%%\n",
     "is_executing": false
    }
   }
  }
 ],
 "metadata": {
  "kernelspec": {
   "display_name": "Python 3",
   "language": "python",
   "name": "python3"
  },
  "language_info": {
   "codemirror_mode": {
    "name": "ipython",
    "version": 2
   },
   "file_extension": ".py",
   "mimetype": "text/x-python",
   "name": "python",
   "nbconvert_exporter": "python",
   "pygments_lexer": "ipython2",
   "version": "2.7.6"
  },
  "pycharm": {
   "stem_cell": {
    "cell_type": "raw",
    "source": [],
    "metadata": {
     "collapsed": false
    }
   }
  }
 },
 "nbformat": 4,
 "nbformat_minor": 0
}