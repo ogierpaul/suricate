{
 "cells": [
  {
   "cell_type": "markdown",
   "metadata": {
    "collapsed": true,
    "pycharm": {
     "name": "#%% md\n"
    }
   },
   "source": [
    "# Step - by - step Guide to finding potential matches\n",
    "1. Prepare the data\n",
    "2. Push the data to Elastic Search\n",
    "3. Create the first similarity matrix\n",
    "4. Use the Explorer to label representative sample of the data\n",
    "5. Do further scoring and add new features to the similarity matrix\n",
    "6. Train a machine learning model on the data\n",
    " "
   ]
  },
  {
   "cell_type": "markdown",
   "source": [
    "## 1. Prepare the data"
   ],
   "metadata": {
    "collapsed": false,
    "pycharm": {
     "name": "#%% md\n"
    }
   }
  },
  {
   "cell_type": "code",
   "execution_count": 38,
   "outputs": [],
   "source": [
    "import numpy as np\n",
    "import pandas as pd\n",
    "from suricate.data.companies import getsource, gettarget, getytrue"
   ],
   "metadata": {
    "collapsed": false,
    "pycharm": {
     "name": "#%%\n",
     "is_executing": false
    }
   }
  },
  {
   "cell_type": "code",
   "execution_count": 22,
   "outputs": [
    {
     "name": "stdout",
     "text": [
      "1444\n",
      "3177\n"
     ],
     "output_type": "stream"
    }
   ],
   "source": [
    "df_source_raw=getsource(nrows=None)\n",
    "df_target_raw = gettarget(nrows=None)\n",
    "print(df_source_raw.shape[0])\n",
    "print(df_target_raw.shape[0])"
   ],
   "metadata": {
    "collapsed": false,
    "pycharm": {
     "name": "#%%\n",
     "is_executing": false
    }
   }
  },
  {
   "cell_type": "code",
   "execution_count": 23,
   "outputs": [],
   "source": [
    "def prepare_source(df):\n",
    "    \"\"\"\n",
    "\n",
    "    Args:\n",
    "        df:\n",
    "\n",
    "    Returns:\n",
    "        pd.DataFrame\n",
    "    \"\"\"\n",
    "    df2 = df\n",
    "    return df2\n",
    "\n",
    "def prepare_target(df):\n",
    "    \"\"\"\n",
    "\n",
    "    Args:\n",
    "        df:\n",
    "\n",
    "    Returns:\n",
    "        pd.DataFrame\n",
    "    \"\"\"\n",
    "    df2 = df\n",
    "    return df2\n",
    "\n",
    "df_source = prepare_source(df_source_raw)\n",
    "df_target = prepare_target(df_target_raw)"
   ],
   "metadata": {
    "collapsed": false,
    "pycharm": {
     "name": "#%%\n",
     "is_executing": false
    }
   }
  },
  {
   "cell_type": "markdown",
   "source": [
    "## 2. Push the data to Elastic Search"
   ],
   "metadata": {
    "collapsed": false,
    "pycharm": {
     "name": "#%% md\n"
    }
   }
  },
  {
   "cell_type": "code",
   "execution_count": 24,
   "outputs": [],
   "source": [
    "import elasticsearch\n",
    "import pandas as pd\n",
    "import time\n",
    "from suricate.dbconnectors.esconnector import index_with_es"
   ],
   "metadata": {
    "collapsed": false,
    "pycharm": {
     "name": "#%%\n",
     "is_executing": false
    }
   }
  },
  {
   "cell_type": "code",
   "execution_count": 25,
   "outputs": [
    {
     "name": "stdout",
     "text": [
      "3177\n"
     ],
     "output_type": "stream"
    }
   ],
   "source": [
    "esclient = elasticsearch.Elasticsearch()\n",
    "es_indice = 'df_target'\n",
    "if True:\n",
    "    try:\n",
    "        esclient.indices.delete(index=es_indice)\n",
    "    except:\n",
    "        pass\n",
    "    request_body = {\n",
    "        \"settings\": {\n",
    "            \"number_of_shards\": 5,\n",
    "            \"number_of_replicas\": 5\n",
    "        },\n",
    "\n",
    "        \"mappings\": {\n",
    "            \"_doc\": {\n",
    "                \"properties\": {\n",
    "                    \"ix\": {\"type\": \"keyword\"},\n",
    "                    \"name\": {\"type\": \"text\"},\n",
    "                    \"street\": {\"type\": \"text\"},\n",
    "                    \"city\": {\"type\": \"text\"},\n",
    "                    \"postalcode\": {\"type\": \"text\"},\n",
    "                    \"countrycode\": {\"type\": \"keyword\"}\n",
    "                }\n",
    "            }\n",
    "        }\n",
    "    }\n",
    "    esclient.indices.create(index=es_indice, body=request_body)\n",
    "    index_with_es(client=esclient, df=df_target, index=es_indice, ixname=\"ix\", reset_index=True, doc_type='_doc')\n",
    "    time.sleep(5)\n",
    "\n",
    "catcount = esclient.count(index=es_indice)['count']\n",
    "assert catcount == df_target.shape[0]\n",
    "print(catcount)"
   ],
   "metadata": {
    "collapsed": false,
    "pycharm": {
     "name": "#%%\n",
     "is_executing": false
    }
   }
  },
  {
   "cell_type": "markdown",
   "source": [
    "## 3. Create the first similarity matrix"
   ],
   "metadata": {
    "collapsed": false,
    "pycharm": {
     "name": "#%% md\n"
    }
   }
  },
  {
   "cell_type": "code",
   "execution_count": 26,
   "outputs": [],
   "source": [
    "from suricate.dbconnectors import EsConnector"
   ],
   "metadata": {
    "collapsed": false,
    "pycharm": {
     "name": "#%%\n",
     "is_executing": false
    }
   }
  },
  {
   "cell_type": "code",
   "execution_count": 27,
   "outputs": [
    {
     "name": "stdout",
     "text": [
      "14440\n",
      "                                      name_source  \\\n",
      "ix_source ix_target                                 \n",
      "9727627d  9727627d   ahc oberflaechentechnik gmbh   \n",
      "2253b32d  5e587c49                         wtd 81   \n",
      "d22b2cb0  c9616f5e        zentro elektrik gmbh kg   \n",
      "dcecaed1  dcecaed1   hubert waltermann eisenwaren   \n",
      "3b4a9463  fc5ad975           pratt whitney canada   \n",
      "\n",
      "                                      name_target              street_source  \\\n",
      "ix_source ix_target                                                            \n",
      "9727627d  9727627d   ahc oberflaechentechnik gmbh         2 2 zillenhardtstr   \n",
      "2253b32d  5e587c49                      fath gmbh                    bergstr   \n",
      "d22b2cb0  c9616f5e                    elektro rhl              7 hahen strae   \n",
      "dcecaed1  dcecaed1   hubert waltermann eisenwaren                  4 rat loh   \n",
      "3b4a9463  fc5ad975                  pratt whitney  4 dr ernst zimmermann str   \n",
      "\n",
      "                          street_target   city_source           city_target  \\\n",
      "ix_source ix_target                                                           \n",
      "9727627d  9727627d   2 2 zillenhardtstr     goppingen             goppingen   \n",
      "2253b32d  5e587c49         gewerbe park       greding                 spalt   \n",
      "d22b2cb0  c9616f5e   berkenrother strae      eisingen  nrnbrecht berkenroth   \n",
      "dcecaed1  dcecaed1            4 rat loh         balve                 balve   \n",
      "3b4a9463  fc5ad975          400 main st  ludwigsfelde         east hartford   \n",
      "\n",
      "                    postalcode_source postalcode_target  duns_source  \\\n",
      "ix_source ix_target                                                    \n",
      "9727627d  9727627d              73037             73037  341053885.0   \n",
      "2253b32d  5e587c49              91171             91174          NaN   \n",
      "d22b2cb0  c9616f5e              75239             51588    3165552.0   \n",
      "dcecaed1  dcecaed1              58802             58802          NaN   \n",
      "3b4a9463  fc5ad975              14974        06108-0968          NaN   \n",
      "\n",
      "                     duns_target countrycode_source countrycode_target  \n",
      "ix_source ix_target                                                     \n",
      "9727627d  9727627d   341053885.0                 DE                 DE  \n",
      "2253b32d  5e587c49           NaN                 DE                 DE  \n",
      "d22b2cb0  c9616f5e           NaN                 DE                 DE  \n",
      "dcecaed1  dcecaed1           NaN                 DE                 DE  \n",
      "3b4a9463  fc5ad975           NaN                 DE                 US  \n"
     ],
     "output_type": "stream"
    }
   ],
   "source": [
    "scoreplan = {\n",
    "        'name': {\n",
    "            'type': 'FreeText'\n",
    "        },\n",
    "        'street': {\n",
    "            'type': 'FreeText'\n",
    "        },\n",
    "        'city': {\n",
    "            'type': 'FreeText'\n",
    "        },\n",
    "        'duns': {\n",
    "            'type': 'Exact'\n",
    "        },\n",
    "        'postalcode': {\n",
    "            'type': 'FreeText'\n",
    "        },\n",
    "        'countrycode': {\n",
    "            'type': 'Exact'\n",
    "        }\n",
    "    }\n",
    "escon = EsConnector(\n",
    "    client=esclient,\n",
    "    scoreplan=scoreplan,\n",
    "    index=\"right\",\n",
    "    explain=False,\n",
    "    size=10\n",
    ")\n",
    "Xst = escon.fit_transform(X=df_source)\n",
    "ix = Xst.index\n",
    "Xsbs = escon.getsbs(X=df_source, on_ix=ix)\n",
    "print(Xsbs.shape[0])\n",
    "print(Xsbs.sample(5))"
   ],
   "metadata": {
    "collapsed": false,
    "pycharm": {
     "name": "#%%\n",
     "is_executing": false
    }
   }
  },
  {
   "cell_type": "markdown",
   "source": [
    "4. Further scoring"
   ],
   "metadata": {
    "collapsed": false
   }
  },
  {
   "cell_type": "code",
   "execution_count": 18,
   "outputs": [],
   "source": [
    "from suricate.sbsdftransformers import FuncSbsComparator\n",
    "from sklearn.pipeline import FeatureUnion"
   ],
   "metadata": {
    "collapsed": false,
    "pycharm": {
     "name": "#%%\n",
     "is_executing": false
    }
   }
  },
  {
   "cell_type": "code",
   "execution_count": 29,
   "outputs": [
    {
     "name": "stdout",
     "text": [
      "                     name_fuzzy  street_fuzzy  name_token  street_token  \\\n",
      "ix_source ix_target                                                       \n",
      "a7f73d0b  12c8876d         0.21          0.91        0.21          0.91   \n",
      "f02cb731  3dd3b43c         0.83          0.00        0.83          0.00   \n",
      "c42aecca  56a3da87         1.00          0.97        1.00          0.97   \n",
      "\n",
      "                     city_fuzzy  postalcode_fuzzy  postalcode_contains  \n",
      "ix_source ix_target                                                     \n",
      "a7f73d0b  12c8876d         0.15               0.2                  0.0  \n",
      "f02cb731  3dd3b43c         0.18               0.0                  0.0  \n",
      "c42aecca  56a3da87         1.00               1.0                  1.0  \n"
     ],
     "output_type": "stream"
    }
   ],
   "source": [
    "_sbs_score_list = [\n",
    "    ('name_fuzzy', FuncSbsComparator(on='name', comparator='fuzzy')),\n",
    "    ('street_fuzzy', FuncSbsComparator(on='street', comparator='fuzzy')),\n",
    "    ('name_token', FuncSbsComparator(on='name', comparator='token')),\n",
    "    ('street_token', FuncSbsComparator(on='street', comparator='token')),\n",
    "    ('city_fuzzy', FuncSbsComparator(on='city', comparator='fuzzy')),\n",
    "    ('postalcode_fuzzy', FuncSbsComparator(on='postalcode', comparator='fuzzy')),\n",
    "    ('postalcode_contains', FuncSbsComparator(on='postalcode', comparator='contains'))\n",
    "]\n",
    "scorer_sbs = FeatureUnion(transformer_list=_sbs_score_list)\n",
    "Xscores = pd.DataFrame(\n",
    "    data=scorer_sbs.fit_transform(X=Xsbs),\n",
    "    index=Xsbs.index,\n",
    "    columns=[c[0] for c in _sbs_score_list]\n",
    ")\n",
    "print(Xscores.sample(3))"
   ],
   "metadata": {
    "collapsed": false,
    "pycharm": {
     "name": "#%%\n",
     "is_executing": false
    }
   }
  },
  {
   "cell_type": "markdown",
   "source": [
    "Concatenate with the scores from the previous step"
   ],
   "metadata": {
    "collapsed": false,
    "pycharm": {
     "name": "#%% md\n"
    }
   }
  },
  {
   "cell_type": "code",
   "execution_count": 32,
   "outputs": [
    {
     "name": "stdout",
     "text": [
      "(14440, 8)\n",
      "Index(['es_score', 'name_fuzzy', 'street_fuzzy', 'name_token', 'street_token',\n",
      "       'city_fuzzy', 'postalcode_fuzzy', 'postalcode_contains'],\n",
      "      dtype='object')\n"
     ],
     "output_type": "stream"
    },
    {
     "data": {
      "text/plain": "                      es_score  name_fuzzy  street_fuzzy  name_token  \\\nix_source ix_target                                                    \n9e14e359  8b97a32c   14.251021        0.15          0.56        0.07   \n273ccd4e  f807543d   16.240355        0.34          0.23        0.38   \n720277b6  22763bda    8.347393        0.00          0.37        0.00   \ne6f50811  782a5b93   49.309097        0.13          1.00        0.13   \nf7da5ee1  dcb02beb   10.689902        0.41          0.19        0.26   \n\n                     street_token  city_fuzzy  postalcode_fuzzy  \\\nix_source ix_target                                               \n9e14e359  8b97a32c           0.56         1.0              0.62   \n273ccd4e  f807543d           0.23         1.0              1.00   \n720277b6  22763bda           0.37         0.3              0.80   \ne6f50811  782a5b93           1.00         1.0              1.00   \nf7da5ee1  dcb02beb           0.19         1.0              0.60   \n\n                     postalcode_contains  \nix_source ix_target                       \n9e14e359  8b97a32c                   0.0  \n273ccd4e  f807543d                   1.0  \n720277b6  22763bda                   0.0  \ne6f50811  782a5b93                   1.0  \nf7da5ee1  dcb02beb                   0.0  ",
      "text/html": "<div>\n<style scoped>\n    .dataframe tbody tr th:only-of-type {\n        vertical-align: middle;\n    }\n\n    .dataframe tbody tr th {\n        vertical-align: top;\n    }\n\n    .dataframe thead th {\n        text-align: right;\n    }\n</style>\n<table border=\"1\" class=\"dataframe\">\n  <thead>\n    <tr style=\"text-align: right;\">\n      <th></th>\n      <th></th>\n      <th>es_score</th>\n      <th>name_fuzzy</th>\n      <th>street_fuzzy</th>\n      <th>name_token</th>\n      <th>street_token</th>\n      <th>city_fuzzy</th>\n      <th>postalcode_fuzzy</th>\n      <th>postalcode_contains</th>\n    </tr>\n    <tr>\n      <th>ix_source</th>\n      <th>ix_target</th>\n      <th></th>\n      <th></th>\n      <th></th>\n      <th></th>\n      <th></th>\n      <th></th>\n      <th></th>\n      <th></th>\n    </tr>\n  </thead>\n  <tbody>\n    <tr>\n      <th>9e14e359</th>\n      <th>8b97a32c</th>\n      <td>14.251021</td>\n      <td>0.15</td>\n      <td>0.56</td>\n      <td>0.07</td>\n      <td>0.56</td>\n      <td>1.0</td>\n      <td>0.62</td>\n      <td>0.0</td>\n    </tr>\n    <tr>\n      <th>273ccd4e</th>\n      <th>f807543d</th>\n      <td>16.240355</td>\n      <td>0.34</td>\n      <td>0.23</td>\n      <td>0.38</td>\n      <td>0.23</td>\n      <td>1.0</td>\n      <td>1.00</td>\n      <td>1.0</td>\n    </tr>\n    <tr>\n      <th>720277b6</th>\n      <th>22763bda</th>\n      <td>8.347393</td>\n      <td>0.00</td>\n      <td>0.37</td>\n      <td>0.00</td>\n      <td>0.37</td>\n      <td>0.3</td>\n      <td>0.80</td>\n      <td>0.0</td>\n    </tr>\n    <tr>\n      <th>e6f50811</th>\n      <th>782a5b93</th>\n      <td>49.309097</td>\n      <td>0.13</td>\n      <td>1.00</td>\n      <td>0.13</td>\n      <td>1.00</td>\n      <td>1.0</td>\n      <td>1.00</td>\n      <td>1.0</td>\n    </tr>\n    <tr>\n      <th>f7da5ee1</th>\n      <th>dcb02beb</th>\n      <td>10.689902</td>\n      <td>0.41</td>\n      <td>0.19</td>\n      <td>0.26</td>\n      <td>0.19</td>\n      <td>1.0</td>\n      <td>0.60</td>\n      <td>0.0</td>\n    </tr>\n  </tbody>\n</table>\n</div>"
     },
     "metadata": {},
     "output_type": "execute_result",
     "execution_count": 32
    }
   ],
   "source": [
    "Xscores = pd.concat([Xst[['es_score']], Xscores], axis=1, ignore_index=False)\n",
    "print(Xscores.shape)\n",
    "print(Xscores.columns)\n",
    "Xscores.sample(5)"
   ],
   "metadata": {
    "collapsed": false,
    "pycharm": {
     "name": "#%%\n",
     "is_executing": false
    }
   }
  },
  {
   "cell_type": "markdown",
   "source": [
    "## 6. Apply the machine-learning model"
   ],
   "metadata": {
    "collapsed": false,
    "pycharm": {
     "name": "#%% md\n"
    }
   }
  },
  {
   "cell_type": "code",
   "execution_count": 33,
   "outputs": [],
   "source": [
    "from sklearn.pipeline import Pipeline\n",
    "from sklearn.impute import SimpleImputer\n",
    "from sklearn.preprocessing import Normalizer\n",
    "from sklearn.decomposition import PCA\n",
    "from sklearn.ensemble import GradientBoostingClassifier\n",
    "from sklearn.model_selection import cross_validate"
   ],
   "metadata": {
    "collapsed": false,
    "pycharm": {
     "name": "#%%\n",
     "is_executing": false
    }
   }
  },
  {
   "cell_type": "markdown",
   "source": [
    "for expediency, we will use the y_true already saved"
   ],
   "metadata": {
    "collapsed": false,
    "pycharm": {
     "name": "#%% md\n"
    }
   }
  },
  {
   "cell_type": "code",
   "execution_count": 40,
   "outputs": [
    {
     "name": "stdout",
     "text": [
      "14440\n"
     ],
     "output_type": "stream"
    }
   ],
   "source": [
    "ix_con = Xst.index\n",
    "y_true = getytrue().loc[ix_con]\n",
    "print(y_true.shape[0])"
   ],
   "metadata": {
    "collapsed": false,
    "pycharm": {
     "name": "#%%\n",
     "is_executing": false
    }
   }
  },
  {
   "cell_type": "markdown",
   "source": [
    "### Make the pipeline"
   ],
   "metadata": {
    "collapsed": false,
    "pycharm": {
     "name": "#%% md\n",
     "is_executing": false
    }
   }
  },
  {
   "cell_type": "code",
   "execution_count": 43,
   "outputs": [
    {
     "name": "stdout",
     "text": [
      "2020-04-19 20:57:28.254170  | precision score: 0.9086327781758312\n",
      "2020-04-19 20:57:28.254358  | recall score: 0.8598840163811916\n",
      "2020-04-19 20:57:28.254449  | accuracy score: 0.9556102858455898\n"
     ],
     "output_type": "stream"
    }
   ],
   "source": [
    "pipe = Pipeline(steps=[\n",
    "    ('Impute', SimpleImputer(strategy='constant', fill_value=0)),\n",
    "    ('Scaler', Normalizer()),\n",
    "    ('PCA', PCA(n_components=4)),\n",
    "    ('Predictor', GradientBoostingClassifier(n_estimators=500))\n",
    "])\n",
    "scoring = ['precision', 'recall', 'accuracy']\n",
    "scores = cross_validate(estimator=pipe, X=Xscores, y=y_true, scoring=scoring, cv=3)\n",
    "for c in scoring:\n",
    "    print(pd.datetime.now(), ' | {} score: {}'.format(c, np.average(scores['test_'+c])))"
   ],
   "metadata": {
    "collapsed": false,
    "pycharm": {
     "name": "#%%\n",
     "is_executing": false
    }
   }
  },
  {
   "cell_type": "code",
   "execution_count": 46,
   "outputs": [
    {
     "name": "stdout",
     "text": [
      "                                                           name_source  \\\n",
      "ix_source ix_target                                                      \n",
      "1a6ccbe5  7878c231                                            vri gmbh   \n",
      "b3d57f9d  fbba638f                                        aeroflex ltd   \n",
      "          1bf66a20                                        aeroflex ltd   \n",
      "          b3d57f9d                                        aeroflex ltd   \n",
      "fe5db42f  666666f3                                   le joint francais   \n",
      "1b69ccb6  6602b62d                          nespresso deutschland gmbh   \n",
      "          591099fe                          nespresso deutschland gmbh   \n",
      "          1b69ccb6                          nespresso deutschland gmbh   \n",
      "          1bc1ab2a                          nespresso deutschland gmbh   \n",
      "          8e71eb0a                          nespresso deutschland gmbh   \n",
      "          8b5d81b9                          nespresso deutschland gmbh   \n",
      "303a4b5d  69e3533d                             muehlinghaus hildesheim   \n",
      "78b4a267  78b4a267                                        buerklin ohg   \n",
      "7a037111  69ef33b5                                  dr ursula matschke   \n",
      "5e02efdb  e4629974                                         bozic tours   \n",
      "8b5d81b9  8b5d81b9                          nespresso deutschland gmbh   \n",
      "          1bc1ab2a                          nespresso deutschland gmbh   \n",
      "          6602b62d                          nespresso deutschland gmbh   \n",
      "          591099fe                          nespresso deutschland gmbh   \n",
      "          1b69ccb6                          nespresso deutschland gmbh   \n",
      "b5729da0  b5729da0                                          brklin ohg   \n",
      "6c39db4f  6c39db4f                                      natixis factor   \n",
      "          741c6dc2                                      natixis factor   \n",
      "          c9f2444f                                      natixis factor   \n",
      "          4c9d0555                                      natixis factor   \n",
      "          2d652dca                                      natixis factor   \n",
      "          15e562a8                                      natixis factor   \n",
      "0259216a  a2924139                                 hotel villa hentzel   \n",
      "          01817689                                 hotel villa hentzel   \n",
      "4c115719  78ff3962                       hamilton sundstrand aerospace   \n",
      "...                                                                ...   \n",
      "3a6c61ba  3a6c61ba                           kasper richter gmbh co kg   \n",
      "          e3b1daa6                           kasper richter gmbh co kg   \n",
      "4e26b405  1671c97f                                      seefelder gmbh   \n",
      "          8aa5141d                                      seefelder gmbh   \n",
      "8638314d  8638314d                                 salicru electronics   \n",
      "1cb784b9  98d0d332                                  binz ambulance und   \n",
      "          1cb784b9                                  binz ambulance und   \n",
      "91885be6  0e6b4994                        witt gasetechnik gmbh und co   \n",
      "385bcbef  8478b7cb   safran aero boosters safran aero boosters safr...   \n",
      "          d7e2147f   safran aero boosters safran aero boosters safr...   \n",
      "          385bcbef   safran aero boosters safran aero boosters safr...   \n",
      "          d9996bd2   safran aero boosters safran aero boosters safr...   \n",
      "          e4af5c6f   safran aero boosters safran aero boosters safr...   \n",
      "b41dc527  b41dc527                                         hoefer gmbh   \n",
      "          39c6607f                                         hoefer gmbh   \n",
      "          ea61b0ab                                         hoefer gmbh   \n",
      "efd9b1bc  9727627d                                  goetz service gmbh   \n",
      "4e52a4ef  bdda4e98                           arrow central europe gmbh   \n",
      "bcd0d8b8  41cd604b                                    manuel riesgo sa   \n",
      "a1bab05d  a1bab05d                                        brammer gmbh   \n",
      "cd1dd2bc  cd1dd2bc                                           relats sa   \n",
      "dd9bdc05  dd9bdc05                                               latim   \n",
      "          872b264f                                               latim   \n",
      "          0b2448c7                                               latim   \n",
      "39786c7e  39786c7e                           gottschalk michaelis gmbh   \n",
      "c12869cc  ea0e4b6d                                          spectra sa   \n",
      "          c12869cc                                          spectra sa   \n",
      "7d26f4c0  9f72249d                              spirit aerosystems inc   \n",
      "b2348153  b2348153                                   banderas navas sl   \n",
      "02ca54ed  02ca54ed                                            polyplas   \n",
      "\n",
      "                                                           name_target  \\\n",
      "ix_source ix_target                                                      \n",
      "1a6ccbe5  7878c231                                                 vri   \n",
      "b3d57f9d  fbba638f                                        aeroflex ltd   \n",
      "          1bf66a20                                        aeroflex ltd   \n",
      "          b3d57f9d                                        aeroflex ltd   \n",
      "fe5db42f  666666f3                                   le joint francais   \n",
      "1b69ccb6  6602b62d                          nespresso deutschland gmbh   \n",
      "          591099fe                          nespresso deutschland gmbh   \n",
      "          1b69ccb6                          nespresso deutschland gmbh   \n",
      "          1bc1ab2a                          nespresso deutschland gmbh   \n",
      "          8e71eb0a                  nespresso deutschland gmbh b 746m6   \n",
      "          8b5d81b9                          nespresso deutschland gmbh   \n",
      "303a4b5d  69e3533d                             muehlinghaus hildesheim   \n",
      "78b4a267  78b4a267                                        buerklin ohg   \n",
      "7a037111  69ef33b5                                  dr ursula matschke   \n",
      "5e02efdb  e4629974                                         bozic tours   \n",
      "8b5d81b9  8b5d81b9                          nespresso deutschland gmbh   \n",
      "          1bc1ab2a                          nespresso deutschland gmbh   \n",
      "          6602b62d                          nespresso deutschland gmbh   \n",
      "          591099fe                          nespresso deutschland gmbh   \n",
      "          1b69ccb6                          nespresso deutschland gmbh   \n",
      "b5729da0  b5729da0                                          brklin ohg   \n",
      "6c39db4f  6c39db4f                                      natixis factor   \n",
      "          741c6dc2                                      natixis factor   \n",
      "          c9f2444f                                      natixis factor   \n",
      "          4c9d0555                                      natixis factor   \n",
      "          2d652dca                         natixis factor hi techmetal   \n",
      "          15e562a8                        factorem international visio   \n",
      "0259216a  a2924139                                       villa hentzel   \n",
      "          01817689                                 hotel villa hentzel   \n",
      "4c115719  78ff3962                       hamilton sundstrand aerospace   \n",
      "...                                                                ...   \n",
      "3a6c61ba  3a6c61ba                           kasper richter gmbh co kg   \n",
      "          e3b1daa6                           kasper richter gmbh co kg   \n",
      "4e26b405  1671c97f                                      seefelder gmbh   \n",
      "          8aa5141d                                      seefelder gmbh   \n",
      "8638314d  8638314d                                 salicru electronics   \n",
      "1cb784b9  98d0d332                                  binz ambulance und   \n",
      "          1cb784b9                                  binz ambulance und   \n",
      "91885be6  0e6b4994                        witt gasetechnik gmbh und co   \n",
      "385bcbef  8478b7cb                                safran aero boosters   \n",
      "          d7e2147f                                safran aero boosters   \n",
      "          385bcbef   safran aero boosters safran aero boosters safr...   \n",
      "          d9996bd2   techspace aero sa safran aero boosters techspa...   \n",
      "          e4af5c6f                                   techspace aero sa   \n",
      "b41dc527  b41dc527                                         hoefer gmbh   \n",
      "          39c6607f                                         hoefer gmbh   \n",
      "          ea61b0ab                                         hoefer gmbh   \n",
      "efd9b1bc  9727627d                        ahc oberflaechentechnik gmbh   \n",
      "4e52a4ef  bdda4e98                           arrow central europe gmbh   \n",
      "bcd0d8b8  41cd604b                                    manuel riesgo sa   \n",
      "a1bab05d  a1bab05d                                        brammer gmbh   \n",
      "cd1dd2bc  cd1dd2bc                                           relats sa   \n",
      "dd9bdc05  dd9bdc05                                               latim   \n",
      "          872b264f                                            latim sa   \n",
      "          0b2448c7                                            latim sa   \n",
      "39786c7e  39786c7e                           gottschalk michaelis gmbh   \n",
      "c12869cc  ea0e4b6d                    spectra sa spectra sa spectra sa   \n",
      "          c12869cc                                          spectra sa   \n",
      "7d26f4c0  9f72249d                              spirit aerosystems inc   \n",
      "b2348153  b2348153                                   banderas navas sl   \n",
      "02ca54ed  02ca54ed                                            polyplas   \n",
      "\n",
      "                                     street_source  \\\n",
      "ix_source ix_target                                  \n",
      "1a6ccbe5  7878c231             wilhelm maybach str   \n",
      "b3d57f9d  fbba638f     monks brook industrial park   \n",
      "          1bf66a20     monks brook industrial park   \n",
      "          b3d57f9d     monks brook industrial park   \n",
      "fe5db42f  666666f3            centre administratif   \n",
      "1b69ccb6  6602b62d                 speditionsstrae   \n",
      "          591099fe                 speditionsstrae   \n",
      "          1b69ccb6                 speditionsstrae   \n",
      "          1bc1ab2a                 speditionsstrae   \n",
      "          8e71eb0a                 speditionsstrae   \n",
      "          8b5d81b9                 speditionsstrae   \n",
      "303a4b5d  69e3533d                     klingelholl   \n",
      "78b4a267  78b4a267                  80 am wehrhahn   \n",
      "7a037111  69ef33b5                   33 emilienstr   \n",
      "5e02efdb  e4629974                   32 zinglerstr   \n",
      "8b5d81b9  8b5d81b9                 23 speditionstr   \n",
      "          1bc1ab2a                 23 speditionstr   \n",
      "          6602b62d                 23 speditionstr   \n",
      "          591099fe                 23 speditionstr   \n",
      "          1b69ccb6                 23 speditionstr   \n",
      "b5729da0  b5729da0                  41 schillerstr   \n",
      "6c39db4f  6c39db4f   1012 avenue winston churchill   \n",
      "          741c6dc2   1012 avenue winston churchill   \n",
      "          c9f2444f   1012 avenue winston churchill   \n",
      "          4c9d0555   1012 avenue winston churchill   \n",
      "          2d652dca   1012 avenue winston churchill   \n",
      "          15e562a8   1012 avenue winston churchill   \n",
      "0259216a  a2924139                      bauhausstr   \n",
      "          01817689                      bauhausstr   \n",
      "4c115719  78ff3962               4747 harrison ave   \n",
      "...                                            ...   \n",
      "3a6c61ba  3a6c61ba                 14 erlanger str   \n",
      "          e3b1daa6                 14 erlanger str   \n",
      "4e26b405  1671c97f                46 finninger str   \n",
      "          8aa5141d                46 finninger str   \n",
      "8638314d  8638314d                calle parque ind   \n",
      "1cb784b9  98d0d332                 21 am vogelherd   \n",
      "          1cb784b9                 21 am vogelherd   \n",
      "91885be6  0e6b4994               4 8 salinger feld   \n",
      "385bcbef  8478b7cb              121 route de liers   \n",
      "          d7e2147f              121 route de liers   \n",
      "          385bcbef              121 route de liers   \n",
      "          d9996bd2              121 route de liers   \n",
      "          e4af5c6f              121 route de liers   \n",
      "b41dc527  b41dc527              14a keferloher str   \n",
      "          39c6607f              14a keferloher str   \n",
      "          ea61b0ab              14a keferloher str   \n",
      "efd9b1bc  9727627d              2 2 zillenhardtstr   \n",
      "4e52a4ef  bdda4e98             211 frankfurter str   \n",
      "bcd0d8b8  41cd604b                   o 22 desengaa   \n",
      "a1bab05d  a1bab05d                 19 industriestr   \n",
      "cd1dd2bc  cd1dd2bc                     s n priorat   \n",
      "dd9bdc05  dd9bdc05           44 rue roger salengro   \n",
      "          872b264f           44 rue roger salengro   \n",
      "          0b2448c7           44 rue roger salengro   \n",
      "39786c7e  39786c7e                   11 23 lahnstr   \n",
      "c12869cc  ea0e4b6d                  8 rue manurhin   \n",
      "          c12869cc                  8 rue manurhin   \n",
      "7d26f4c0  9f72249d                3801 s oliver st   \n",
      "b2348153  b2348153            122 calle de castell   \n",
      "02ca54ed  02ca54ed                      kiebitzweg   \n",
      "\n",
      "                                      street_target         city_source  \\\n",
      "ix_source ix_target                                                       \n",
      "1a6ccbe5  7878c231              wilhelm maybach str           ellwangen   \n",
      "b3d57f9d  fbba638f      monks brook industrial park     chandler s ford   \n",
      "          1bf66a20      monks brook industrial park     chandler s ford   \n",
      "          b3d57f9d      monks brook industrial park     chandler s ford   \n",
      "fe5db42f  666666f3         centre services partages               thure   \n",
      "1b69ccb6  6602b62d                speditionsstrasse          dusseldorf   \n",
      "          591099fe                  speditionsstrae          dusseldorf   \n",
      "          1b69ccb6                  speditionsstrae          dusseldorf   \n",
      "          1bc1ab2a               speditionss trasse          dusseldorf   \n",
      "          8e71eb0a                        8 zollhof          dusseldorf   \n",
      "          8b5d81b9                  23 speditionstr          dusseldorf   \n",
      "303a4b5d  69e3533d                      klingelholl           wuppertal   \n",
      "78b4a267  78b4a267                   80 am wehrhahn          dusseldorf   \n",
      "7a037111  69ef33b5                    33 emilienstr           stuttgart   \n",
      "5e02efdb  e4629974                    32 zinglerstr                 ulm   \n",
      "8b5d81b9  8b5d81b9                  23 speditionstr          dusseldorf   \n",
      "          1bc1ab2a               speditionss trasse          dusseldorf   \n",
      "          6602b62d                speditionsstrasse          dusseldorf   \n",
      "          591099fe                  speditionsstrae          dusseldorf   \n",
      "          1b69ccb6                  speditionsstrae          dusseldorf   \n",
      "b5729da0  b5729da0                   41 schillerstr              munich   \n",
      "6c39db4f  6c39db4f    1012 avenue winston churchill   charenton le pont   \n",
      "          741c6dc2         avenue winston churchill   charenton le pont   \n",
      "          c9f2444f   10 12 avenue winston churchill   charenton le pont   \n",
      "          4c9d0555   10 12 avenue winston churchill   charenton le pont   \n",
      "          2d652dca         avenue winston churchill   charenton le pont   \n",
      "          15e562a8         avenue winston churchill   charenton le pont   \n",
      "0259216a  a2924139                       bauhausstr              weimar   \n",
      "          01817689                 12 bau hausstrae              weimar   \n",
      "4c115719  78ff3962                4747 harrison ave            rockford   \n",
      "...                                             ...                 ...   \n",
      "3a6c61ba  3a6c61ba                  14 erlanger str          uttenreuth   \n",
      "          e3b1daa6                  14 erlanger str          uttenreuth   \n",
      "4e26b405  1671c97f                 46 finninger str             neu ulm   \n",
      "          8aa5141d                    finninger str             neu ulm   \n",
      "8638314d  8638314d                 calle parque ind             seville   \n",
      "1cb784b9  98d0d332                  21 am vogelherd             ilmenau   \n",
      "          1cb784b9                  21 am vogelherd             ilmenau   \n",
      "91885be6  0e6b4994                4 8 salinger feld              witten   \n",
      "385bcbef  8478b7cb               121 route de liers             herstal   \n",
      "          d7e2147f               121 route de liers             herstal   \n",
      "          385bcbef               121 route de liers             herstal   \n",
      "          d9996bd2               121 route de liers             herstal   \n",
      "          e4af5c6f               route de liers 121             herstal   \n",
      "b41dc527  b41dc527               14a keferloher str                haar   \n",
      "          39c6607f               14a keferloher str                haar   \n",
      "          ea61b0ab               14a keferloher str                haar   \n",
      "efd9b1bc  9727627d               2 2 zillenhardtstr           goppingen   \n",
      "4e52a4ef  bdda4e98                  frankfurter str        neu isenburg   \n",
      "bcd0d8b8  41cd604b         00 avenida real de pinto              madrid   \n",
      "a1bab05d  a1bab05d                  19 industriestr           karlsruhe   \n",
      "cd1dd2bc  cd1dd2bc                      s n priorat   caldes de montbui   \n",
      "dd9bdc05  dd9bdc05            44 rue roger salengro  fontenay sous bois   \n",
      "          872b264f            44 rue roger salengro  fontenay sous bois   \n",
      "          0b2448c7            44 rue roger salengro  fontenay sous bois   \n",
      "39786c7e  39786c7e                    11 23 lahnstr              berlin   \n",
      "c12869cc  ea0e4b6d                   8 rue manurhin          richwiller   \n",
      "          c12869cc                   8 rue manurhin          richwiller   \n",
      "7d26f4c0  9f72249d                 3801 s oliver st             wichita   \n",
      "b2348153  b2348153             122 calle de castell              madrid   \n",
      "02ca54ed  02ca54ed                       kiebitzweg           emmerthal   \n",
      "\n",
      "                            city_target postalcode_source postalcode_target  \\\n",
      "ix_source ix_target                                                           \n",
      "1a6ccbe5  7878c231            ellwangen             73479             73479   \n",
      "b3d57f9d  fbba638f      chandler s ford           so534ra           so534ra   \n",
      "          1bf66a20      chandler s ford           so534ra           so534ra   \n",
      "          b3d57f9d      chandler s ford           so534ra           so534ra   \n",
      "fe5db42f  666666f3                thure             86540             86540   \n",
      "1b69ccb6  6602b62d           dusseldorf             40221             40221   \n",
      "          591099fe           dusseldorf             40221             40221   \n",
      "          1b69ccb6           dusseldorf             40221             40221   \n",
      "          1bc1ab2a           dusseldorf             40221             40221   \n",
      "          8e71eb0a           dusseldorf             40221             40221   \n",
      "          8b5d81b9           dusseldorf             40221             40221   \n",
      "303a4b5d  69e3533d            wuppertal             42281             42281   \n",
      "78b4a267  78b4a267           dusseldorf             40211             40211   \n",
      "7a037111  69ef33b5            stuttgart             70563             70563   \n",
      "5e02efdb  e4629974                  ulm             89077             89077   \n",
      "8b5d81b9  8b5d81b9           dusseldorf             40221             40221   \n",
      "          1bc1ab2a           dusseldorf             40221             40221   \n",
      "          6602b62d           dusseldorf             40221             40221   \n",
      "          591099fe           dusseldorf             40221             40221   \n",
      "          1b69ccb6           dusseldorf             40221             40221   \n",
      "b5729da0  b5729da0               munich             80336             80336   \n",
      "6c39db4f  6c39db4f    charenton le pont             94220             94220   \n",
      "          741c6dc2    charenton le pont             94220             94220   \n",
      "          c9f2444f    charenton le pont             94220             94220   \n",
      "          4c9d0555    charenton le pont             94220             94220   \n",
      "          2d652dca    charenton le pont             94220             94220   \n",
      "          15e562a8    charenton le pont             94220             94220   \n",
      "0259216a  a2924139               weimar             99423             99423   \n",
      "          01817689               weimar             99423             99423   \n",
      "4c115719  78ff3962             rockford        61108-7929        61108-7929   \n",
      "...                                 ...               ...               ...   \n",
      "3a6c61ba  3a6c61ba           uttenreuth             91080             91080   \n",
      "          e3b1daa6           uttenreuth             91080             91080   \n",
      "4e26b405  1671c97f              neu ulm             89231             89231   \n",
      "          8aa5141d              neu ulm             89231             89231   \n",
      "8638314d  8638314d              seville             41016             41016   \n",
      "1cb784b9  98d0d332              ilmenau             98693             98693   \n",
      "          1cb784b9              ilmenau             98693             98693   \n",
      "91885be6  0e6b4994               witten             58454             58454   \n",
      "385bcbef  8478b7cb              herstal              4041              4041   \n",
      "          d7e2147f              herstal              4041              4041   \n",
      "          385bcbef              herstal              4041              4041   \n",
      "          d9996bd2              herstal              4041              4041   \n",
      "          e4af5c6f              herstal              4041              4041   \n",
      "b41dc527  b41dc527                 haar             85540             85540   \n",
      "          39c6607f                 haar             85540             85540   \n",
      "          ea61b0ab                 haar             85540             85540   \n",
      "efd9b1bc  9727627d            goppingen             73037             73037   \n",
      "4e52a4ef  bdda4e98         neu isenburg             63263             63263   \n",
      "bcd0d8b8  41cd604b               madrid             28004             28021   \n",
      "a1bab05d  a1bab05d            karlsruhe             76189             76189   \n",
      "cd1dd2bc  cd1dd2bc    caldes de montbui             08140             08140   \n",
      "dd9bdc05  dd9bdc05   fontenay sous bois             94120             94120   \n",
      "          872b264f   fontenay sous bois             94120             94120   \n",
      "          0b2448c7   fontenay sous bois             94120             94120   \n",
      "39786c7e  39786c7e               berlin             12055             12055   \n",
      "c12869cc  ea0e4b6d           richwiller             68120             68120   \n",
      "          c12869cc           richwiller             68120             68120   \n",
      "7d26f4c0  9f72249d              wichita             67202             67202   \n",
      "b2348153  b2348153               madrid             28006             28006   \n",
      "02ca54ed  02ca54ed            emmerthal             31860             31860   \n",
      "\n",
      "                     duns_source  duns_target countrycode_source  \\\n",
      "ix_source ix_target                                                \n",
      "1a6ccbe5  7878c231           NaN          NaN                 DE   \n",
      "b3d57f9d  fbba638f           NaN  216834002.0                 GB   \n",
      "          1bf66a20           NaN          NaN                 GB   \n",
      "          b3d57f9d           NaN          NaN                 GB   \n",
      "fe5db42f  666666f3           NaN  766251516.0                 FR   \n",
      "1b69ccb6  6602b62d           NaN  341618791.0                 DE   \n",
      "          591099fe           NaN          NaN                 DE   \n",
      "          1b69ccb6           NaN          NaN                 DE   \n",
      "          1bc1ab2a           NaN  341618791.0                 DE   \n",
      "          8e71eb0a           NaN  333868649.0                 DE   \n",
      "          8b5d81b9           NaN  333868649.0                 DE   \n",
      "303a4b5d  69e3533d   319390084.0          NaN                 DE   \n",
      "78b4a267  78b4a267   316757657.0  316757657.0                 DE   \n",
      "7a037111  69ef33b5           NaN          NaN                 DE   \n",
      "5e02efdb  e4629974           NaN          NaN                 DE   \n",
      "8b5d81b9  8b5d81b9   333868649.0  333868649.0                 DE   \n",
      "          1bc1ab2a   333868649.0  341618791.0                 DE   \n",
      "          6602b62d   333868649.0  341618791.0                 DE   \n",
      "          591099fe   333868649.0          NaN                 DE   \n",
      "          1b69ccb6   333868649.0          NaN                 DE   \n",
      "b5729da0  b5729da0   316757657.0  316757657.0                 DE   \n",
      "6c39db4f  6c39db4f           NaN          NaN                 FR   \n",
      "          741c6dc2           NaN          NaN                 FR   \n",
      "          c9f2444f           NaN  281985668.0                 FR   \n",
      "          4c9d0555           NaN  390877715.0                 FR   \n",
      "          2d652dca           NaN  281985668.0                 FR   \n",
      "          15e562a8           NaN  281985668.0                 FR   \n",
      "0259216a  a2924139           NaN          NaN                 DE   \n",
      "          01817689           NaN  332706258.0                 DE   \n",
      "4c115719  78ff3962           NaN  149872194.0                 US   \n",
      "...                          ...          ...                ...   \n",
      "3a6c61ba  3a6c61ba           NaN          NaN                 DE   \n",
      "          e3b1daa6           NaN  321274367.0                 DE   \n",
      "4e26b405  1671c97f           NaN          NaN                 DE   \n",
      "          8aa5141d           NaN  312608228.0                 DE   \n",
      "8638314d  8638314d   633486162.0  633486162.0                 ES   \n",
      "1cb784b9  98d0d332   330862327.0  342642038.0                 DE   \n",
      "          1cb784b9   330862327.0  330862327.0                 DE   \n",
      "91885be6  0e6b4994           NaN  320441512.0                 DE   \n",
      "385bcbef  8478b7cb           NaN  372380824.0                 BE   \n",
      "          d7e2147f           NaN          NaN                 BE   \n",
      "          385bcbef           NaN          NaN                 BE   \n",
      "          d9996bd2           NaN          NaN                 BE   \n",
      "          e4af5c6f           NaN  372380824.0                 BE   \n",
      "b41dc527  b41dc527           NaN          NaN                 DE   \n",
      "          39c6607f           NaN          NaN                 DE   \n",
      "          ea61b0ab           NaN  324763556.0                 DE   \n",
      "efd9b1bc  9727627d           NaN  341053885.0                 DE   \n",
      "4e52a4ef  bdda4e98           NaN          NaN                 DE   \n",
      "bcd0d8b8  41cd604b           NaN          NaN                 ES   \n",
      "a1bab05d  a1bab05d           NaN          NaN                 DE   \n",
      "cd1dd2bc  cd1dd2bc           NaN          NaN                 ES   \n",
      "dd9bdc05  dd9bdc05           NaN          NaN                 FR   \n",
      "          872b264f           NaN  275372563.0                 FR   \n",
      "          0b2448c7           NaN          NaN                 FR   \n",
      "39786c7e  39786c7e   324956846.0  324956846.0                 DE   \n",
      "c12869cc  ea0e4b6d   502222417.0          NaN                 FR   \n",
      "          c12869cc   502222417.0  502222417.0                 FR   \n",
      "7d26f4c0  9f72249d   362176773.0          NaN                 US   \n",
      "b2348153  b2348153   461270485.0  461270485.0                 ES   \n",
      "02ca54ed  02ca54ed           NaN          NaN                 DE   \n",
      "\n",
      "                    countrycode_target  \n",
      "ix_source ix_target                     \n",
      "1a6ccbe5  7878c231                  DE  \n",
      "b3d57f9d  fbba638f                  GB  \n",
      "          1bf66a20                  GB  \n",
      "          b3d57f9d                  GB  \n",
      "fe5db42f  666666f3                  FR  \n",
      "1b69ccb6  6602b62d                  DE  \n",
      "          591099fe                  DE  \n",
      "          1b69ccb6                  DE  \n",
      "          1bc1ab2a                  DE  \n",
      "          8e71eb0a                  DE  \n",
      "          8b5d81b9                  DE  \n",
      "303a4b5d  69e3533d                  DE  \n",
      "78b4a267  78b4a267                  DE  \n",
      "7a037111  69ef33b5                  DE  \n",
      "5e02efdb  e4629974                  DE  \n",
      "8b5d81b9  8b5d81b9                  DE  \n",
      "          1bc1ab2a                  DE  \n",
      "          6602b62d                  DE  \n",
      "          591099fe                  DE  \n",
      "          1b69ccb6                  DE  \n",
      "b5729da0  b5729da0                  DE  \n",
      "6c39db4f  6c39db4f                  FR  \n",
      "          741c6dc2                  FR  \n",
      "          c9f2444f                  FR  \n",
      "          4c9d0555                  FR  \n",
      "          2d652dca                  FR  \n",
      "          15e562a8                  FR  \n",
      "0259216a  a2924139                  DE  \n",
      "          01817689                  DE  \n",
      "4c115719  78ff3962                  US  \n",
      "...                                ...  \n",
      "3a6c61ba  3a6c61ba                  DE  \n",
      "          e3b1daa6                  DE  \n",
      "4e26b405  1671c97f                  DE  \n",
      "          8aa5141d                  DE  \n",
      "8638314d  8638314d                  ES  \n",
      "1cb784b9  98d0d332                  DE  \n",
      "          1cb784b9                  DE  \n",
      "91885be6  0e6b4994                  DE  \n",
      "385bcbef  8478b7cb                  BE  \n",
      "          d7e2147f                  BE  \n",
      "          385bcbef                  BE  \n",
      "          d9996bd2                  BE  \n",
      "          e4af5c6f                  BE  \n",
      "b41dc527  b41dc527                  DE  \n",
      "          39c6607f                  DE  \n",
      "          ea61b0ab                  DE  \n",
      "efd9b1bc  9727627d                  DE  \n",
      "4e52a4ef  bdda4e98                  DE  \n",
      "bcd0d8b8  41cd604b                  ES  \n",
      "a1bab05d  a1bab05d                  DE  \n",
      "cd1dd2bc  cd1dd2bc                  ES  \n",
      "dd9bdc05  dd9bdc05                  FR  \n",
      "          872b264f                  FR  \n",
      "          0b2448c7                  FR  \n",
      "39786c7e  39786c7e                  DE  \n",
      "c12869cc  ea0e4b6d                  FR  \n",
      "          c12869cc                  FR  \n",
      "7d26f4c0  9f72249d                  US  \n",
      "b2348153  b2348153                  ES  \n",
      "02ca54ed  02ca54ed                  DE  \n",
      "\n",
      "[2719 rows x 12 columns]\n"
     ],
     "output_type": "stream"
    },
    {
     "traceback": [
      "\u001b[0;31m---------------------------------------------------------------------------\u001b[0m",
      "\u001b[0;31mAttributeError\u001b[0m                            Traceback (most recent call last)",
      "\u001b[0;32m<ipython-input-46-436a890d4ff5>\u001b[0m in \u001b[0;36m<module>\u001b[0;34m\u001b[0m\n\u001b[1;32m      2\u001b[0m \u001b[0my_pred\u001b[0m \u001b[0;34m=\u001b[0m \u001b[0mpd\u001b[0m\u001b[0;34m.\u001b[0m\u001b[0mSeries\u001b[0m\u001b[0;34m(\u001b[0m\u001b[0mdata\u001b[0m\u001b[0;34m=\u001b[0m\u001b[0mpipe\u001b[0m\u001b[0;34m.\u001b[0m\u001b[0mpredict\u001b[0m\u001b[0;34m(\u001b[0m\u001b[0mX\u001b[0m\u001b[0;34m=\u001b[0m\u001b[0mXscores\u001b[0m\u001b[0;34m)\u001b[0m\u001b[0;34m,\u001b[0m \u001b[0mindex\u001b[0m\u001b[0;34m=\u001b[0m\u001b[0mix_con\u001b[0m\u001b[0;34m,\u001b[0m \u001b[0mname\u001b[0m\u001b[0;34m=\u001b[0m\u001b[0;34m'y_pred'\u001b[0m\u001b[0;34m)\u001b[0m\u001b[0;34m\u001b[0m\u001b[0;34m\u001b[0m\u001b[0m\n\u001b[1;32m      3\u001b[0m \u001b[0mpositive_matches\u001b[0m \u001b[0;34m=\u001b[0m \u001b[0my_pred\u001b[0m\u001b[0;34m.\u001b[0m\u001b[0mloc\u001b[0m\u001b[0;34m[\u001b[0m\u001b[0my_pred\u001b[0m \u001b[0;34m==\u001b[0m \u001b[0;36m1.0\u001b[0m\u001b[0;34m]\u001b[0m\u001b[0;34m.\u001b[0m\u001b[0mindex\u001b[0m\u001b[0;34m\u001b[0m\u001b[0;34m\u001b[0m\u001b[0m\n\u001b[0;32m----> 4\u001b[0;31m \u001b[0mprint\u001b[0m\u001b[0;34m(\u001b[0m\u001b[0mXsbs\u001b[0m\u001b[0;34m.\u001b[0m\u001b[0mloc\u001b[0m\u001b[0;34m[\u001b[0m\u001b[0mpositive_matches\u001b[0m\u001b[0;34m]\u001b[0m\u001b[0;34m)\u001b[0m\u001b[0;34m.\u001b[0m\u001b[0msample\u001b[0m\u001b[0;34m(\u001b[0m\u001b[0;36m5\u001b[0m\u001b[0;34m)\u001b[0m\u001b[0;34m\u001b[0m\u001b[0;34m\u001b[0m\u001b[0m\n\u001b[0m",
      "\u001b[0;31mAttributeError\u001b[0m: 'NoneType' object has no attribute 'sample'"
     ],
     "ename": "AttributeError",
     "evalue": "'NoneType' object has no attribute 'sample'",
     "output_type": "error"
    }
   ],
   "source": [
    "pipe.fit(X=Xscores, y=y_true)\n",
    "y_pred = pd.Series(data=pipe.predict(X=Xscores), index=ix_con, name='y_pred')\n",
    "positive_matches = y_pred.loc[y_pred == 1.0].index\n",
    "print(Xsbs.loc[positive_matches]).sample(5)"
   ],
   "metadata": {
    "collapsed": false,
    "pycharm": {
     "name": "#%%\n",
     "is_executing": false
    }
   }
  },
  {
   "cell_type": "code",
   "execution_count": null,
   "outputs": [],
   "source": [
    "\n"
   ],
   "metadata": {
    "collapsed": false,
    "pycharm": {
     "name": "#%%\n"
    }
   }
  }
 ],
 "metadata": {
  "kernelspec": {
   "display_name": "Python 3",
   "language": "python",
   "name": "python3"
  },
  "language_info": {
   "codemirror_mode": {
    "name": "ipython",
    "version": 2
   },
   "file_extension": ".py",
   "mimetype": "text/x-python",
   "name": "python",
   "nbconvert_exporter": "python",
   "pygments_lexer": "ipython2",
   "version": "2.7.6"
  },
  "pycharm": {
   "stem_cell": {
    "cell_type": "raw",
    "source": [],
    "metadata": {
     "collapsed": false
    }
   }
  }
 },
 "nbformat": 4,
 "nbformat_minor": 0
}