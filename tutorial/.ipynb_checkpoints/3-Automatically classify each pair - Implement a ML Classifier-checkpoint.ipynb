{
 "cells": [
  {
   "cell_type": "markdown",
   "metadata": {},
   "source": [
    "# Automatically classify each pair\n",
    "# Implement a ML Classifier"
   ]
  },
  {
   "cell_type": "markdown",
   "metadata": {},
   "source": [
    "This chapter is about training a machine learning algorithm to automatically classify each possible pair as a match or not.    \n",
    "In order to do that, we use both:\n",
    "- the similarity scores calculated in the previous chapter (X_score)\n",
    "- the data labelled manually in chapter 2 (the simple questions)\n",
    "\n",
    "in order to predict if two records should be linked together or not"
   ]
  },
  {
   "cell_type": "markdown",
   "metadata": {},
   "source": [
    "## 1. Set-up of the score matrix and of the labelled data"
   ]
  },
  {
   "cell_type": "markdown",
   "metadata": {},
   "source": [
    "### 1.1. Similarity score matrix (see previous chapters)"
   ]
  },
  {
   "cell_type": "code",
   "execution_count": 11,
   "metadata": {},
   "outputs": [
    {
     "name": "stdout",
     "output_type": "stream",
     "text": [
      "(250000, 3)\n"
     ]
    }
   ],
   "source": [
    "import pandas as pd\n",
    "from suricate.data.companies import getXlr\n",
    "X_lr = getXlr(nrows=500)\n",
    "\n",
    "from suricate.lrdftransformers import FuzzyConnector, VectorizerConnector, ExactConnector\n",
    "from sklearn.pipeline import Pipeline, FeatureUnion\n",
    "from sklearn.impute import SimpleImputer as Imputer\n",
    "from sklearn.preprocessing import StandardScaler\n",
    "from sklearn.decomposition import PCA\n",
    "scores = [\n",
    "    ('name_vecword', VectorizerConnector(on='name', analyzer='word', ngram_range=(1,2))),\n",
    "    ('name_vecchar', VectorizerConnector(on='name', analyzer='char', ngram_range=(1,3))),\n",
    "    ('street_vecword', VectorizerConnector(on='street', analyzer='word', ngram_range=(1,2))),\n",
    "    ('street_vecchar', VectorizerConnector(on='street', analyzer='char', ngram_range=(1,3))),\n",
    "    ('city_vecchar', VectorizerConnector(on='city', analyzer='char', ngram_range=(1,3))),\n",
    "    ('postalcode_exact', ExactConnector(on='postalcode')),\n",
    "    ('duns_exact', ExactConnector(on='duns')),\n",
    "    ('countrycode_exact', ExactConnector(on='countrycode'))\n",
    "]\n",
    "transformer = FeatureUnion(scores)\n",
    "steps = [\n",
    "    ('scorer', transformer),\n",
    "    ('imputer', Imputer(strategy='constant', fill_value=0)),\n",
    "    ('scaler', StandardScaler()),\n",
    "    ('pca', PCA(n_components=3))\n",
    "]\n",
    "preprocessing_pipeline = Pipeline(steps)\n",
    "X_score_reduced = preprocessing_pipeline.fit_transform(X=X_lr)\n",
    "print(X_score_reduced.shape)"
   ]
  },
  {
   "cell_type": "markdown",
   "metadata": {},
   "source": [
    "### 1.2. Loading the labelled data\n",
    "In the previous chapter, we have seen how to take a representative sample of each possible pair. We assume we are able to manually label each pair : 0 if it is a match, 1 if it is not a match.    \n",
    "In this tutorial, we already have some labelled data."
   ]
  },
  {
   "cell_type": "code",
   "execution_count": 12,
   "metadata": {},
   "outputs": [
    {
     "data": {
      "text/plain": [
       "ix_left   ix_right\n",
       "c8efedca  9a5ce8e1    0\n",
       "1289d400  6997e77d    0\n",
       "e3c0d785  a1e7869f    1\n",
       "dbf54700  094d3c39    1\n",
       "f02cb731  f2f90760    0\n",
       "Name: y_true, dtype: int64"
      ]
     },
     "execution_count": 12,
     "metadata": {},
     "output_type": "execute_result"
    }
   ],
   "source": [
    "from suricate.data.companies import getytrue\n",
    "y_true = getytrue()\n",
    "y_true.sample(5)"
   ]
  },
  {
   "cell_type": "code",
   "execution_count": 13,
   "metadata": {},
   "outputs": [
    {
     "data": {
      "text/plain": [
       "5535"
      ]
     },
     "execution_count": 13,
     "metadata": {},
     "output_type": "execute_result"
    }
   ],
   "source": [
    "y_true.shape[0]"
   ]
  },
  {
   "cell_type": "markdown",
   "metadata": {},
   "source": [
    "## 2. Manually Fit() and predict the model"
   ]
  },
  {
   "cell_type": "markdown",
   "metadata": {},
   "source": [
    "We arrive to a particular problem here:\n",
    "y_true is a shape smaller than X_score_reduced.    \n",
    "To fit the classifier on the data, we must take the intersection of y_true and of X_score_reduced."
   ]
  },
  {
   "cell_type": "markdown",
   "metadata": {},
   "source": [
    "### 2.1. Finding the labelled data from y_true in the score data"
   ]
  },
  {
   "cell_type": "code",
   "execution_count": 14,
   "metadata": {},
   "outputs": [
    {
     "name": "stdout",
     "output_type": "stream",
     "text": [
      "number of labelled samples:792\n"
     ]
    }
   ],
   "source": [
    "from suricate.preutils import createmultiindex\n",
    "# Index of all pairs compared\n",
    "allindex = createmultiindex(X=X_lr)\n",
    "# Index common to y_true and all pairs compared\n",
    "commonindex= y_true.index.intersection(allindex)\n",
    "print('number of labelled samples:{}'.format(len(commonindex)))"
   ]
  },
  {
   "cell_type": "code",
   "execution_count": 15,
   "metadata": {},
   "outputs": [
    {
     "data": {
      "text/plain": [
       "0    576\n",
       "1    216\n",
       "Name: y_true, dtype: int64"
      ]
     },
     "execution_count": 15,
     "metadata": {},
     "output_type": "execute_result"
    }
   ],
   "source": [
    "y_labelled = y_true.loc[commonindex]\n",
    "y_labelled.value_counts()"
   ]
  },
  {
   "cell_type": "code",
   "execution_count": 16,
   "metadata": {},
   "outputs": [],
   "source": [
    "X_score_reduced = pd.DataFrame(X_score_reduced, index=allindex)\n",
    "X_labelled = X_score_reduced.loc[commonindex]"
   ]
  },
  {
   "cell_type": "markdown",
   "metadata": {},
   "source": [
    "### 2.2. Training and testing the model"
   ]
  },
  {
   "cell_type": "code",
   "execution_count": 17,
   "metadata": {},
   "outputs": [],
   "source": [
    "from sklearn.model_selection import train_test_split\n",
    "X_train, X_test, y_train, y_test, ix_train, ix_test = train_test_split(X_labelled, y_labelled, commonindex, test_size=0.33)"
   ]
  },
  {
   "cell_type": "code",
   "execution_count": 18,
   "metadata": {},
   "outputs": [
    {
     "name": "stdout",
     "output_type": "stream",
     "text": [
      "training score:0.9377358490566038\n",
      "testing score:0.9465648854961832\n"
     ]
    },
    {
     "name": "stderr",
     "output_type": "stream",
     "text": [
      "/Users/paulogier/anaconda3/envs/wookie_env/lib/python3.7/site-packages/sklearn/linear_model/logistic.py:432: FutureWarning: Default solver will be changed to 'lbfgs' in 0.22. Specify a solver to silence this warning.\n",
      "  FutureWarning)\n"
     ]
    }
   ],
   "source": [
    "from sklearn.linear_model import LogisticRegression\n",
    "clf = LogisticRegression()\n",
    "clf.fit(X=X_train, y=y_train)\n",
    "print('training score:{}'.format(clf.score(X=X_train, y=y_train)))\n",
    "print('testing score:{}'.format(clf.score(X=X_test, y=y_test)))"
   ]
  },
  {
   "cell_type": "markdown",
   "metadata": {},
   "source": [
    "### 2.3. Visualizing the predicted pairs"
   ]
  },
  {
   "cell_type": "code",
   "execution_count": 19,
   "metadata": {},
   "outputs": [],
   "source": [
    "y_pred_test = pd.Series(clf.predict(X=X_test), index=ix_test)\n",
    "good_matches = y_pred_test.loc[y_pred_test==1].index"
   ]
  },
  {
   "cell_type": "code",
   "execution_count": 20,
   "metadata": {},
   "outputs": [
    {
     "data": {
      "text/html": [
       "<div>\n",
       "<style scoped>\n",
       "    .dataframe tbody tr th:only-of-type {\n",
       "        vertical-align: middle;\n",
       "    }\n",
       "\n",
       "    .dataframe tbody tr th {\n",
       "        vertical-align: top;\n",
       "    }\n",
       "\n",
       "    .dataframe thead th {\n",
       "        text-align: right;\n",
       "    }\n",
       "</style>\n",
       "<table border=\"1\" class=\"dataframe\">\n",
       "  <thead>\n",
       "    <tr style=\"text-align: right;\">\n",
       "      <th></th>\n",
       "      <th></th>\n",
       "      <th>name_left</th>\n",
       "      <th>name_right</th>\n",
       "      <th>street_left</th>\n",
       "      <th>street_right</th>\n",
       "      <th>city_left</th>\n",
       "      <th>city_right</th>\n",
       "      <th>postalcode_left</th>\n",
       "      <th>postalcode_right</th>\n",
       "      <th>duns_left</th>\n",
       "      <th>duns_right</th>\n",
       "      <th>countrycode_left</th>\n",
       "      <th>countrycode_right</th>\n",
       "    </tr>\n",
       "    <tr>\n",
       "      <th>ix_left</th>\n",
       "      <th>ix_right</th>\n",
       "      <th></th>\n",
       "      <th></th>\n",
       "      <th></th>\n",
       "      <th></th>\n",
       "      <th></th>\n",
       "      <th></th>\n",
       "      <th></th>\n",
       "      <th></th>\n",
       "      <th></th>\n",
       "      <th></th>\n",
       "      <th></th>\n",
       "      <th></th>\n",
       "    </tr>\n",
       "  </thead>\n",
       "  <tbody>\n",
       "    <tr>\n",
       "      <th>f0d34671</th>\n",
       "      <th>253ce464</th>\n",
       "      <td>hamilton sundstrand</td>\n",
       "      <td>hamilton sundstrand</td>\n",
       "      <td>cl4747 harrison ave</td>\n",
       "      <td>4747 harrison ave</td>\n",
       "      <td>rockford</td>\n",
       "      <td>rockford</td>\n",
       "      <td>61125</td>\n",
       "      <td>61108-7929</td>\n",
       "      <td>NaN</td>\n",
       "      <td>51079937.0</td>\n",
       "      <td>US</td>\n",
       "      <td>US</td>\n",
       "    </tr>\n",
       "    <tr>\n",
       "      <th>816d262e</th>\n",
       "      <th>fc8bf3d0</th>\n",
       "      <td>ge measurement control</td>\n",
       "      <td>ge sensing</td>\n",
       "      <td>fir tree lane</td>\n",
       "      <td>fir tree lane</td>\n",
       "      <td>groby</td>\n",
       "      <td>groby</td>\n",
       "      <td>le60fh</td>\n",
       "      <td>le60fh</td>\n",
       "      <td>226525053.0</td>\n",
       "      <td>219144201.0</td>\n",
       "      <td>GB</td>\n",
       "      <td>GB</td>\n",
       "    </tr>\n",
       "    <tr>\n",
       "      <th>0908a0aa</th>\n",
       "      <th>77f5274a</th>\n",
       "      <td>selex es spa</td>\n",
       "      <td>selex es spa</td>\n",
       "      <td>4 piazza monte grappa</td>\n",
       "      <td>via piemonte</td>\n",
       "      <td>rome</td>\n",
       "      <td>rome</td>\n",
       "      <td>195</td>\n",
       "      <td>187</td>\n",
       "      <td>NaN</td>\n",
       "      <td>434003576.0</td>\n",
       "      <td>IT</td>\n",
       "      <td>IT</td>\n",
       "    </tr>\n",
       "    <tr>\n",
       "      <th>150322b3</th>\n",
       "      <th>d8fa1b69</th>\n",
       "      <td>fako gmbh</td>\n",
       "      <td>fako</td>\n",
       "      <td>peutestr</td>\n",
       "      <td>15 peutestrae</td>\n",
       "      <td>hamburg</td>\n",
       "      <td>hamburg</td>\n",
       "      <td>20539</td>\n",
       "      <td>20539</td>\n",
       "      <td>313518398.0</td>\n",
       "      <td>340213235.0</td>\n",
       "      <td>DE</td>\n",
       "      <td>DE</td>\n",
       "    </tr>\n",
       "    <tr>\n",
       "      <th>787940de</th>\n",
       "      <th>3b7341ce</th>\n",
       "      <td>marconi selenia communications spa</td>\n",
       "      <td>marconi selenia communications spa</td>\n",
       "      <td>1a via ambrogio negrone</td>\n",
       "      <td>1a via ambrogio negrone</td>\n",
       "      <td>genoa</td>\n",
       "      <td>genoa</td>\n",
       "      <td>16153</td>\n",
       "      <td>16153</td>\n",
       "      <td>440028405.0</td>\n",
       "      <td>NaN</td>\n",
       "      <td>IT</td>\n",
       "      <td>IT</td>\n",
       "    </tr>\n",
       "  </tbody>\n",
       "</table>\n",
       "</div>"
      ],
      "text/plain": [
       "                                            name_left  \\\n",
       "ix_left  ix_right                                       \n",
       "f0d34671 253ce464                 hamilton sundstrand   \n",
       "816d262e fc8bf3d0              ge measurement control   \n",
       "0908a0aa 77f5274a                        selex es spa   \n",
       "150322b3 d8fa1b69                           fako gmbh   \n",
       "787940de 3b7341ce  marconi selenia communications spa   \n",
       "\n",
       "                                           name_right  \\\n",
       "ix_left  ix_right                                       \n",
       "f0d34671 253ce464                 hamilton sundstrand   \n",
       "816d262e fc8bf3d0                          ge sensing   \n",
       "0908a0aa 77f5274a                        selex es spa   \n",
       "150322b3 d8fa1b69                                fako   \n",
       "787940de 3b7341ce  marconi selenia communications spa   \n",
       "\n",
       "                               street_left             street_right city_left  \\\n",
       "ix_left  ix_right                                                               \n",
       "f0d34671 253ce464      cl4747 harrison ave        4747 harrison ave  rockford   \n",
       "816d262e fc8bf3d0            fir tree lane            fir tree lane     groby   \n",
       "0908a0aa 77f5274a    4 piazza monte grappa             via piemonte      rome   \n",
       "150322b3 d8fa1b69                 peutestr            15 peutestrae   hamburg   \n",
       "787940de 3b7341ce  1a via ambrogio negrone  1a via ambrogio negrone     genoa   \n",
       "\n",
       "                  city_right postalcode_left postalcode_right    duns_left  \\\n",
       "ix_left  ix_right                                                            \n",
       "f0d34671 253ce464   rockford           61125       61108-7929          NaN   \n",
       "816d262e fc8bf3d0      groby          le60fh           le60fh  226525053.0   \n",
       "0908a0aa 77f5274a       rome             195              187          NaN   \n",
       "150322b3 d8fa1b69    hamburg           20539            20539  313518398.0   \n",
       "787940de 3b7341ce      genoa           16153            16153  440028405.0   \n",
       "\n",
       "                    duns_right countrycode_left countrycode_right  \n",
       "ix_left  ix_right                                                  \n",
       "f0d34671 253ce464   51079937.0               US                US  \n",
       "816d262e fc8bf3d0  219144201.0               GB                GB  \n",
       "0908a0aa 77f5274a  434003576.0               IT                IT  \n",
       "150322b3 d8fa1b69  340213235.0               DE                DE  \n",
       "787940de 3b7341ce          NaN               IT                IT  "
      ]
     },
     "execution_count": 20,
     "metadata": {},
     "output_type": "execute_result"
    }
   ],
   "source": [
    "from suricate.lrdftransformers.cartesian import create_lrdf_sbs\n",
    "create_lrdf_sbs(X=X_lr, on_ix=good_matches).sample(5)"
   ]
  }
 ],
 "metadata": {
  "kernelspec": {
   "display_name": "Python 3",
   "language": "python",
   "name": "python3"
  },
  "language_info": {
   "codemirror_mode": {
    "name": "ipython",
    "version": 3
   },
   "file_extension": ".py",
   "mimetype": "text/x-python",
   "name": "python",
   "nbconvert_exporter": "python",
   "pygments_lexer": "ipython3",
   "version": "3.7.3"
  }
 },
 "nbformat": 4,
 "nbformat_minor": 2
}
