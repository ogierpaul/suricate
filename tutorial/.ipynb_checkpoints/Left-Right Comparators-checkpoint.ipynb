{
 "cells": [
  {
   "cell_type": "code",
   "execution_count": 19,
   "metadata": {},
   "outputs": [],
   "source": [
    "import pandas as pd\n",
    "from suricate.lrdftransformers import VectorizerConnector, FuzzyConnector\n",
    "from suricate.data.foo import getXst"
   ]
  },
  {
   "cell_type": "code",
   "execution_count": 20,
   "metadata": {},
   "outputs": [
    {
     "name": "stdout",
     "output_type": "stream",
     "text": [
      "left dataframe:\n",
      "      name\n",
      "ix       \n",
      "0     foo\n",
      "1     bar\n",
      "2   ninja \n",
      "\n",
      "right dataframe:\n",
      "    name\n",
      "ix     \n",
      "0   foo\n",
      "1   bar\n",
      "2   baz\n"
     ]
    }
   ],
   "source": [
    "X_lr = getXst()\n",
    "print('left dataframe:\\n', X_lr[0],'\\n\\nright dataframe:\\n', X_lr[1])"
   ]
  },
  {
   "cell_type": "markdown",
   "metadata": {},
   "source": [
    "# FuzzyConnector\n",
    "This transformer compares each entry of the left dataframe with each entry of the right dataframe, using a comparison function based on Levenshtein distance"
   ]
  },
  {
   "cell_type": "code",
   "execution_count": null,
   "metadata": {},
   "outputs": [],
   "source": [
    "transformer = FuzzyConnector(type)"
   ]
  }
 ],
 "metadata": {
  "kernelspec": {
   "display_name": "Python 3",
   "language": "python",
   "name": "python3"
  },
  "language_info": {
   "codemirror_mode": {
    "name": "ipython",
    "version": 3
   },
   "file_extension": ".py",
   "mimetype": "text/x-python",
   "name": "python",
   "nbconvert_exporter": "python",
   "pygments_lexer": "ipython3",
   "version": "3.7.3"
  }
 },
 "nbformat": 4,
 "nbformat_minor": 2
}
