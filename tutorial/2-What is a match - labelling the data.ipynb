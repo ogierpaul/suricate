{
 "cells": [
  {
   "cell_type": "markdown",
   "metadata": {},
   "source": [
    "# What is a match?\n",
    "# Labelling the data"
   ]
  },
  {
   "cell_type": "markdown",
   "metadata": {},
   "source": [
    "# What is match?\n",
    "\n",
    "The computer can calculate the distance between two records. But only you can tell if the two records should be linked together, or if they are se\n",
    "parate. This is called labelling the data.     \n",
    "     \n",
    "Essentially, whether two records are one and the same depends on your model and your use case. If I am looking to merge two list of companies:\n",
    "- for logistic purposes (i.e. delivery of supplies, for example), I would like to merge all sites that share exactly the same address and roughly the same name.\n",
    "- for strategic purposes (i.e. what is the overall number of sites of a big conglomerate),I am  more focussed on the name and legal number.\n",
    "- for tax and legal purposes, I am less interested in the exact address, but more on the legal register number, the tax or VAT number.\n",
    "\n",
    "Once you have a clear purpose and model in the mind, you can now answer the questions to tell if they are a match or not"
   ]
  },
  {
   "cell_type": "markdown",
   "metadata": {},
   "source": [
    "## Set-up of the score matrix"
   ]
  },
  {
   "cell_type": "markdown",
   "metadata": {},
   "source": [
    "We will continue with our dataset of companies. We will be comparing the two datasets together, by applying the comparators seen in the previous chapters to the different fields of the data"
   ]
  },
  {
   "cell_type": "markdown",
   "metadata": {},
   "source": [
    "### Data imports"
   ]
  },
  {
   "cell_type": "code",
   "execution_count": 1,
   "metadata": {
    "pycharm": {
     "is_executing": false
    }
   },
   "outputs": [],
   "source": [
    "import pandas as pd\n",
    "import numpy as np\n",
    "from suricate.data.companies import getXst\n",
    "Xst = getXst(nrows=200)\n",
    "source = Xst[0]\n",
    "target = Xst[1]"
   ]
  },
  {
   "cell_type": "markdown",
   "metadata": {
    "pycharm": {
     "name": "#%% md\n"
    }
   },
   "source": [
    "### Let's display the 'source' dataframe"
   ]
  },
  {
   "cell_type": "code",
   "execution_count": 2,
   "metadata": {
    "pycharm": {
     "is_executing": false,
     "name": "#%%\n"
    }
   },
   "outputs": [
    {
     "data": {
      "text/html": [
       "<div>\n",
       "<style scoped>\n",
       "    .dataframe tbody tr th:only-of-type {\n",
       "        vertical-align: middle;\n",
       "    }\n",
       "\n",
       "    .dataframe tbody tr th {\n",
       "        vertical-align: top;\n",
       "    }\n",
       "\n",
       "    .dataframe thead th {\n",
       "        text-align: right;\n",
       "    }\n",
       "</style>\n",
       "<table border=\"1\" class=\"dataframe\">\n",
       "  <thead>\n",
       "    <tr style=\"text-align: right;\">\n",
       "      <th></th>\n",
       "      <th>name</th>\n",
       "      <th>street</th>\n",
       "      <th>city</th>\n",
       "      <th>postalcode</th>\n",
       "      <th>duns</th>\n",
       "      <th>countrycode</th>\n",
       "    </tr>\n",
       "    <tr>\n",
       "      <th>ix</th>\n",
       "      <th></th>\n",
       "      <th></th>\n",
       "      <th></th>\n",
       "      <th></th>\n",
       "      <th></th>\n",
       "      <th></th>\n",
       "    </tr>\n",
       "  </thead>\n",
       "  <tbody>\n",
       "    <tr>\n",
       "      <th>6880aa5d</th>\n",
       "      <td>ge aviation systems ltd</td>\n",
       "      <td>arle court</td>\n",
       "      <td>cheltenham</td>\n",
       "      <td>gl51 0</td>\n",
       "      <td>NaN</td>\n",
       "      <td>GB</td>\n",
       "    </tr>\n",
       "    <tr>\n",
       "      <th>6537b899</th>\n",
       "      <td>utc aerospace systems</td>\n",
       "      <td>250 knotter dr</td>\n",
       "      <td>kansas city</td>\n",
       "      <td>64101</td>\n",
       "      <td>41668195.0</td>\n",
       "      <td>US</td>\n",
       "    </tr>\n",
       "    <tr>\n",
       "      <th>c6401891</th>\n",
       "      <td>dr ing k busch gmbh</td>\n",
       "      <td>1 schauinslandstr</td>\n",
       "      <td>maulburg</td>\n",
       "      <td>79689</td>\n",
       "      <td>NaN</td>\n",
       "      <td>DE</td>\n",
       "    </tr>\n",
       "    <tr>\n",
       "      <th>7d694999</th>\n",
       "      <td>nespresso deutschland gmbh</td>\n",
       "      <td>8 zollhof</td>\n",
       "      <td>dusseldorf</td>\n",
       "      <td>40221</td>\n",
       "      <td>333868649.0</td>\n",
       "      <td>DE</td>\n",
       "    </tr>\n",
       "    <tr>\n",
       "      <th>5e02efdb</th>\n",
       "      <td>bozic tours</td>\n",
       "      <td>32 zinglerstr</td>\n",
       "      <td>ulm</td>\n",
       "      <td>89077</td>\n",
       "      <td>NaN</td>\n",
       "      <td>DE</td>\n",
       "    </tr>\n",
       "  </tbody>\n",
       "</table>\n",
       "</div>"
      ],
      "text/plain": [
       "                                name             street         city  \\\n",
       "ix                                                                     \n",
       "6880aa5d     ge aviation systems ltd         arle court   cheltenham   \n",
       "6537b899       utc aerospace systems     250 knotter dr  kansas city   \n",
       "c6401891         dr ing k busch gmbh  1 schauinslandstr     maulburg   \n",
       "7d694999  nespresso deutschland gmbh          8 zollhof   dusseldorf   \n",
       "5e02efdb                 bozic tours      32 zinglerstr          ulm   \n",
       "\n",
       "         postalcode         duns countrycode  \n",
       "ix                                            \n",
       "6880aa5d     gl51 0          NaN          GB  \n",
       "6537b899      64101   41668195.0          US  \n",
       "c6401891      79689          NaN          DE  \n",
       "7d694999      40221  333868649.0          DE  \n",
       "5e02efdb      89077          NaN          DE  "
      ]
     },
     "execution_count": 2,
     "metadata": {},
     "output_type": "execute_result"
    }
   ],
   "source": [
    "source.sample(5)"
   ]
  },
  {
   "cell_type": "markdown",
   "metadata": {},
   "source": [
    "## 1. Creating the similarity matrix\n",
    "We can pipeline and concatenate several comparators using standard scikit-learn operators.\n",
    "For each pair of record between the source and target dataframe, we have created 8 different scores measuring the distance between the different columns. In order to reduce the noise and the correlation between the columns, it is usually good practice to scale the data and then to reduce the number of features using Principal Component Analysis (PCA)"
   ]
  },
  {
   "cell_type": "markdown",
   "metadata": {},
   "source": [
    "### 1.1. Creating a scikit-learn Transformer"
   ]
  },
  {
   "cell_type": "code",
   "execution_count": 3,
   "metadata": {
    "pycharm": {
     "is_executing": false
    }
   },
   "outputs": [
    {
     "name": "stdout",
     "output_type": "stream",
     "text": [
      "(40000, 3)\n"
     ]
    }
   ],
   "source": [
    "from suricate.dftransformers import DfApplyComparator, VectorizerConnector, ExactConnector\n",
    "from sklearn.pipeline import Pipeline, FeatureUnion\n",
    "from sklearn.impute import SimpleImputer as Imputer\n",
    "from sklearn.preprocessing import StandardScaler\n",
    "from sklearn.decomposition import PCA\n",
    "scores = [\n",
    "    ('name_vecword', VectorizerConnector(on='name', analyzer='word', ngram_range=(1,2))),\n",
    "    ('name_vecchar', VectorizerConnector(on='name', analyzer='char', ngram_range=(1,3))),\n",
    "    ('street_vecword', VectorizerConnector(on='street', analyzer='word', ngram_range=(1,2))),\n",
    "    ('street_vecchar', VectorizerConnector(on='street', analyzer='char', ngram_range=(1,3))),\n",
    "    ('city_vecchar', VectorizerConnector(on='city', analyzer='char', ngram_range=(1,3))),\n",
    "    ('postalcode_exact', ExactConnector(on='postalcode')),\n",
    "    ('duns_exact', ExactConnector(on='duns')),\n",
    "    ('countrycode_exact', ExactConnector(on='countrycode'))\n",
    "]\n",
    "transformer = FeatureUnion(scores)\n",
    "steps = [\n",
    "    ('scorer', transformer),\n",
    "    ('imputer', Imputer(strategy='constant', fill_value=0)),\n",
    "    ('scaler', StandardScaler()),\n",
    "    ('pca', PCA(n_components=3))\n",
    "]\n",
    "preprocessing_pipeline = Pipeline(steps)\n",
    "X_score_reduced = preprocessing_pipeline.fit_transform(X=Xst)\n",
    "print(X_score_reduced.shape)"
   ]
  },
  {
   "cell_type": "markdown",
   "metadata": {},
   "source": [
    "### Plotting each possible pair\n",
    "Each possible pair is a dot on the scatter plot.\n",
    "Each component is a measure of the similarity of a possible pair."
   ]
  },
  {
   "cell_type": "code",
   "execution_count": 4,
   "metadata": {
    "pycharm": {
     "is_executing": false
    }
   },
   "outputs": [
    {
     "data": {
      "text/plain": [
       "<seaborn.axisgrid.PairGrid at 0xa200ed588>"
      ]
     },
     "execution_count": 4,
     "metadata": {},
     "output_type": "execute_result"
    },
    {
     "data": {
      "image/png": "[encoded data removed]",
      "text/plain": [
       "<Figure size 540x540 with 12 Axes>"
      ]
     },
     "metadata": {
      "needs_background": "light"
     },
     "output_type": "display_data"
    }
   ],
   "source": [
    "from seaborn import pairplot\n",
    "%matplotlib inline\n",
    "pairplot(pd.DataFrame(X_score_reduced))"
   ]
  },
  {
   "cell_type": "markdown",
   "metadata": {},
   "source": [
    "## 2. Clustering to find representative sample of the data"
   ]
  },
  {
   "cell_type": "markdown",
   "metadata": {},
   "source": [
    "#### By taking a sample of each cluster of pairs, we have a representative subset of the whole data set\n",
    "Since we have many possibles pairs (n_rows_source * n_rows_target), we must take a representative subset of all possible pairs in order to train the model. Based on the score matrix defined at the end of the preprocessing pipeline, we can do that using clustering. We cluster the pairs according to their similarity scores."
   ]
  },
  {
   "cell_type": "code",
   "execution_count": 5,
   "metadata": {
    "pycharm": {
     "is_executing": false
    }
   },
   "outputs": [
    {
     "data": {
      "text/plain": [
       "<seaborn.axisgrid.PairGrid at 0xa2012f0f0>"
      ]
     },
     "execution_count": 5,
     "metadata": {},
     "output_type": "execute_result"
    },
    {
     "data": {
      "image/png": "[encoded data removed]",
      "text/plain": [
       "<Figure size 593x540 with 12 Axes>"
      ]
     },
     "metadata": {
      "needs_background": "light"
     },
     "output_type": "display_data"
    }
   ],
   "source": [
    "from sklearn.cluster import KMeans\n",
    "y_cluster = KMeans(n_clusters=10).fit_predict(X_score_reduced)\n",
    "X_cluster = pd.DataFrame(X_score_reduced)\n",
    "X_cluster['y_cluster']= y_cluster.astype(str)\n",
    "pairplot(X_cluster, hue='y_cluster', vars=[0,1,2])"
   ]
  },
  {
   "cell_type": "code",
   "execution_count": 6,
   "metadata": {},
   "outputs": [
    {
     "data": {
      "text/html": [
       "<div>\n",
       "<style scoped>\n",
       "    .dataframe tbody tr th:only-of-type {\n",
       "        vertical-align: middle;\n",
       "    }\n",
       "\n",
       "    .dataframe tbody tr th {\n",
       "        vertical-align: top;\n",
       "    }\n",
       "\n",
       "    .dataframe thead th {\n",
       "        text-align: right;\n",
       "    }\n",
       "</style>\n",
       "<table border=\"1\" class=\"dataframe\">\n",
       "  <thead>\n",
       "    <tr style=\"text-align: right;\">\n",
       "      <th></th>\n",
       "      <th>avg_score</th>\n",
       "    </tr>\n",
       "    <tr>\n",
       "      <th>y_cluster</th>\n",
       "      <th></th>\n",
       "    </tr>\n",
       "  </thead>\n",
       "  <tbody>\n",
       "    <tr>\n",
       "      <th>5</th>\n",
       "      <td>20.083701</td>\n",
       "    </tr>\n",
       "    <tr>\n",
       "      <th>6</th>\n",
       "      <td>10.075878</td>\n",
       "    </tr>\n",
       "    <tr>\n",
       "      <th>3</th>\n",
       "      <td>7.071620</td>\n",
       "    </tr>\n",
       "    <tr>\n",
       "      <th>7</th>\n",
       "      <td>2.663993</td>\n",
       "    </tr>\n",
       "    <tr>\n",
       "      <th>2</th>\n",
       "      <td>2.470779</td>\n",
       "    </tr>\n",
       "    <tr>\n",
       "      <th>8</th>\n",
       "      <td>0.875880</td>\n",
       "    </tr>\n",
       "    <tr>\n",
       "      <th>0</th>\n",
       "      <td>0.218117</td>\n",
       "    </tr>\n",
       "    <tr>\n",
       "      <th>1</th>\n",
       "      <td>0.046989</td>\n",
       "    </tr>\n",
       "    <tr>\n",
       "      <th>9</th>\n",
       "      <td>-0.210785</td>\n",
       "    </tr>\n",
       "    <tr>\n",
       "      <th>4</th>\n",
       "      <td>-0.415812</td>\n",
       "    </tr>\n",
       "  </tbody>\n",
       "</table>\n",
       "</div>"
      ],
      "text/plain": [
       "           avg_score\n",
       "y_cluster           \n",
       "5          20.083701\n",
       "6          10.075878\n",
       "3           7.071620\n",
       "7           2.663993\n",
       "2           2.470779\n",
       "8           0.875880\n",
       "0           0.218117\n",
       "1           0.046989\n",
       "9          -0.210785\n",
       "4          -0.415812"
      ]
     },
     "execution_count": 6,
     "metadata": {},
     "output_type": "execute_result"
    }
   ],
   "source": [
    "X_cluster['avg_score'] = X_cluster[[0,1,2]].mean(axis=1)\n",
    "X_cluster.pivot_table(index='y_cluster', values='avg_score', aggfunc=np.mean).sort_values(by='avg_score',ascending=False)"
   ]
  },
  {
   "cell_type": "markdown",
   "metadata": {},
   "source": [
    "## 3. Asking Representative questions"
   ]
  },
  {
   "cell_type": "markdown",
   "metadata": {},
   "source": [
    "Now we can take a representative sample of each cluster, and give them to the user to be labelled."
   ]
  },
  {
   "cell_type": "code",
   "execution_count": 7,
   "metadata": {
    "pycharm": {
     "is_executing": false
    }
   },
   "outputs": [],
   "source": [
    "from suricate.explore import SimpleQuestions\n",
    "from suricate.preutils import createmultiindex\n",
    "from suricate.dftransformers import cartesian_join\n",
    "simplequestions = SimpleQuestions(n_questions=8)\n",
    "y_cluster = pd.Series(data=y_cluster, index=createmultiindex(X=Xst))"
   ]
  },
  {
   "cell_type": "code",
   "execution_count": 8,
   "metadata": {
    "pycharm": {
     "is_executing": false
    }
   },
   "outputs": [],
   "source": [
    "ix_questions =  simplequestions.fit_transform(X=y_cluster)"
   ]
  },
  {
   "cell_type": "code",
   "execution_count": 9,
   "metadata": {},
   "outputs": [],
   "source": [
    "X_sbs = cartesian_join(source=source, target=target)"
   ]
  },
  {
   "cell_type": "code",
   "execution_count": 10,
   "metadata": {
    "pycharm": {
     "is_executing": false
    }
   },
   "outputs": [
    {
     "data": {
      "text/html": [
       "<div>\n",
       "<style scoped>\n",
       "    .dataframe tbody tr th:only-of-type {\n",
       "        vertical-align: middle;\n",
       "    }\n",
       "\n",
       "    .dataframe tbody tr th {\n",
       "        vertical-align: top;\n",
       "    }\n",
       "\n",
       "    .dataframe thead th {\n",
       "        text-align: right;\n",
       "    }\n",
       "</style>\n",
       "<table border=\"1\" class=\"dataframe\">\n",
       "  <thead>\n",
       "    <tr style=\"text-align: right;\">\n",
       "      <th></th>\n",
       "      <th></th>\n",
       "      <th>name_source</th>\n",
       "      <th>name_target</th>\n",
       "      <th>street_source</th>\n",
       "      <th>street_target</th>\n",
       "      <th>city_source</th>\n",
       "      <th>city_target</th>\n",
       "      <th>postalcode_source</th>\n",
       "      <th>postalcode_target</th>\n",
       "      <th>duns_source</th>\n",
       "      <th>duns_target</th>\n",
       "      <th>countrycode_source</th>\n",
       "      <th>countrycode_target</th>\n",
       "    </tr>\n",
       "    <tr>\n",
       "      <th>ix_source</th>\n",
       "      <th>ix_target</th>\n",
       "      <th></th>\n",
       "      <th></th>\n",
       "      <th></th>\n",
       "      <th></th>\n",
       "      <th></th>\n",
       "      <th></th>\n",
       "      <th></th>\n",
       "      <th></th>\n",
       "      <th></th>\n",
       "      <th></th>\n",
       "      <th></th>\n",
       "      <th></th>\n",
       "    </tr>\n",
       "  </thead>\n",
       "  <tbody>\n",
       "    <tr>\n",
       "      <th>42778260</th>\n",
       "      <th>b3927c82</th>\n",
       "      <td>buerklin ohg</td>\n",
       "      <td>nerb kg</td>\n",
       "      <td>grnwalder weg</td>\n",
       "      <td>ingolstdter str</td>\n",
       "      <td>oberhaching</td>\n",
       "      <td>manching</td>\n",
       "      <td>82041</td>\n",
       "      <td>85077</td>\n",
       "      <td>NaN</td>\n",
       "      <td>316179969.0</td>\n",
       "      <td>DE</td>\n",
       "      <td>DE</td>\n",
       "    </tr>\n",
       "    <tr>\n",
       "      <th>1b69ccb6</th>\n",
       "      <th>67fc19a2</th>\n",
       "      <td>nespresso deutschland gmbh</td>\n",
       "      <td>ricoh deutschland gmbh</td>\n",
       "      <td>speditionsstrae</td>\n",
       "      <td>am kaiserkai</td>\n",
       "      <td>dusseldorf</td>\n",
       "      <td>hamburg</td>\n",
       "      <td>40221</td>\n",
       "      <td>20457</td>\n",
       "      <td>NaN</td>\n",
       "      <td>NaN</td>\n",
       "      <td>DE</td>\n",
       "      <td>DE</td>\n",
       "    </tr>\n",
       "    <tr>\n",
       "      <th>f7a9a181</th>\n",
       "      <th>ad10bc13</th>\n",
       "      <td>honeywell</td>\n",
       "      <td>honeywell aerospace vendome</td>\n",
       "      <td>415 lind ave sw</td>\n",
       "      <td>18 boulevard de l industrie</td>\n",
       "      <td>renton</td>\n",
       "      <td>paris</td>\n",
       "      <td>98057-5959</td>\n",
       "      <td>75001</td>\n",
       "      <td>602570855.0</td>\n",
       "      <td>NaN</td>\n",
       "      <td>US</td>\n",
       "      <td>FR</td>\n",
       "    </tr>\n",
       "    <tr>\n",
       "      <th>417a8fd6</th>\n",
       "      <th>ab00128c</th>\n",
       "      <td>siemens ag</td>\n",
       "      <td>carney gmbh</td>\n",
       "      <td>67 siemens str</td>\n",
       "      <td>25 vor dem wald</td>\n",
       "      <td>erlangen</td>\n",
       "      <td>wutha farnroda</td>\n",
       "      <td>91052</td>\n",
       "      <td>99848</td>\n",
       "      <td>506764468.0</td>\n",
       "      <td>342656493.0</td>\n",
       "      <td>DE</td>\n",
       "      <td>DE</td>\n",
       "    </tr>\n",
       "    <tr>\n",
       "      <th>2b6c43e5</th>\n",
       "      <th>e1cd2dc2</th>\n",
       "      <td>industrie und</td>\n",
       "      <td>rts rieger team werbeagentur gmbh</td>\n",
       "      <td>fasanenstr</td>\n",
       "      <td>schanzenstrae</td>\n",
       "      <td>berlin</td>\n",
       "      <td>dusseldorf</td>\n",
       "      <td>10623</td>\n",
       "      <td>40549</td>\n",
       "      <td>NaN</td>\n",
       "      <td>NaN</td>\n",
       "      <td>DE</td>\n",
       "      <td>DE</td>\n",
       "    </tr>\n",
       "    <tr>\n",
       "      <th>b67216e7</th>\n",
       "      <th>2e664546</th>\n",
       "      <td>juliane rode</td>\n",
       "      <td>leonardo group gmbh</td>\n",
       "      <td>33 leonrodstr</td>\n",
       "      <td>56 leonrodstr</td>\n",
       "      <td>munich</td>\n",
       "      <td>munich</td>\n",
       "      <td>80000</td>\n",
       "      <td>80636</td>\n",
       "      <td>NaN</td>\n",
       "      <td>312612601.0</td>\n",
       "      <td>DE</td>\n",
       "      <td>DE</td>\n",
       "    </tr>\n",
       "    <tr>\n",
       "      <th>77f5274a</th>\n",
       "      <th>22be1313</th>\n",
       "      <td>selex es spa</td>\n",
       "      <td>fako heinrich a anton</td>\n",
       "      <td>via piemonte</td>\n",
       "      <td>sderstr</td>\n",
       "      <td>rome</td>\n",
       "      <td>hamburg</td>\n",
       "      <td>187</td>\n",
       "      <td>20537</td>\n",
       "      <td>434003576.0</td>\n",
       "      <td>340213235.0</td>\n",
       "      <td>IT</td>\n",
       "      <td>DE</td>\n",
       "    </tr>\n",
       "    <tr>\n",
       "      <th>37fa1e22</th>\n",
       "      <th>f714494d</th>\n",
       "      <td>marconi selenia communications spa</td>\n",
       "      <td>msc marconi selenia</td>\n",
       "      <td>1a via ambrogio negrone</td>\n",
       "      <td>viale dell industria 4</td>\n",
       "      <td>genoa</td>\n",
       "      <td>pomeziarm</td>\n",
       "      <td>16153</td>\n",
       "      <td>00040</td>\n",
       "      <td>NaN</td>\n",
       "      <td>NaN</td>\n",
       "      <td>IT</td>\n",
       "      <td>IT</td>\n",
       "    </tr>\n",
       "  </tbody>\n",
       "</table>\n",
       "</div>"
      ],
      "text/plain": [
       "                                            name_source  \\\n",
       "ix_source ix_target                                       \n",
       "42778260  b3927c82                         buerklin ohg   \n",
       "1b69ccb6  67fc19a2           nespresso deutschland gmbh   \n",
       "f7a9a181  ad10bc13                            honeywell   \n",
       "417a8fd6  ab00128c                           siemens ag   \n",
       "2b6c43e5  e1cd2dc2                        industrie und   \n",
       "b67216e7  2e664546                         juliane rode   \n",
       "77f5274a  22be1313                         selex es spa   \n",
       "37fa1e22  f714494d   marconi selenia communications spa   \n",
       "\n",
       "                                           name_target  \\\n",
       "ix_source ix_target                                      \n",
       "42778260  b3927c82                             nerb kg   \n",
       "1b69ccb6  67fc19a2              ricoh deutschland gmbh   \n",
       "f7a9a181  ad10bc13         honeywell aerospace vendome   \n",
       "417a8fd6  ab00128c                         carney gmbh   \n",
       "2b6c43e5  e1cd2dc2   rts rieger team werbeagentur gmbh   \n",
       "b67216e7  2e664546                 leonardo group gmbh   \n",
       "77f5274a  22be1313               fako heinrich a anton   \n",
       "37fa1e22  f714494d                 msc marconi selenia   \n",
       "\n",
       "                               street_source                street_target  \\\n",
       "ix_source ix_target                                                         \n",
       "42778260  b3927c82             grnwalder weg              ingolstdter str   \n",
       "1b69ccb6  67fc19a2           speditionsstrae                 am kaiserkai   \n",
       "f7a9a181  ad10bc13           415 lind ave sw  18 boulevard de l industrie   \n",
       "417a8fd6  ab00128c            67 siemens str              25 vor dem wald   \n",
       "2b6c43e5  e1cd2dc2                fasanenstr                schanzenstrae   \n",
       "b67216e7  2e664546             33 leonrodstr                56 leonrodstr   \n",
       "77f5274a  22be1313              via piemonte                      sderstr   \n",
       "37fa1e22  f714494d   1a via ambrogio negrone       viale dell industria 4   \n",
       "\n",
       "                     city_source     city_target postalcode_source  \\\n",
       "ix_source ix_target                                                  \n",
       "42778260  b3927c82   oberhaching        manching             82041   \n",
       "1b69ccb6  67fc19a2    dusseldorf         hamburg             40221   \n",
       "f7a9a181  ad10bc13        renton           paris        98057-5959   \n",
       "417a8fd6  ab00128c      erlangen  wutha farnroda             91052   \n",
       "2b6c43e5  e1cd2dc2        berlin      dusseldorf             10623   \n",
       "b67216e7  2e664546        munich          munich             80000   \n",
       "77f5274a  22be1313          rome         hamburg               187   \n",
       "37fa1e22  f714494d         genoa       pomeziarm             16153   \n",
       "\n",
       "                    postalcode_target  duns_source  duns_target  \\\n",
       "ix_source ix_target                                               \n",
       "42778260  b3927c82              85077          NaN  316179969.0   \n",
       "1b69ccb6  67fc19a2              20457          NaN          NaN   \n",
       "f7a9a181  ad10bc13              75001  602570855.0          NaN   \n",
       "417a8fd6  ab00128c              99848  506764468.0  342656493.0   \n",
       "2b6c43e5  e1cd2dc2              40549          NaN          NaN   \n",
       "b67216e7  2e664546              80636          NaN  312612601.0   \n",
       "77f5274a  22be1313              20537  434003576.0  340213235.0   \n",
       "37fa1e22  f714494d              00040          NaN          NaN   \n",
       "\n",
       "                    countrycode_source countrycode_target  \n",
       "ix_source ix_target                                        \n",
       "42778260  b3927c82                  DE                 DE  \n",
       "1b69ccb6  67fc19a2                  DE                 DE  \n",
       "f7a9a181  ad10bc13                  US                 FR  \n",
       "417a8fd6  ab00128c                  DE                 DE  \n",
       "2b6c43e5  e1cd2dc2                  DE                 DE  \n",
       "b67216e7  2e664546                  DE                 DE  \n",
       "77f5274a  22be1313                  IT                 DE  \n",
       "37fa1e22  f714494d                  IT                 IT  "
      ]
     },
     "execution_count": 10,
     "metadata": {},
     "output_type": "execute_result"
    }
   ],
   "source": [
    "X_sbs.loc[ix_questions].sample(8)"
   ]
  },
  {
   "cell_type": "markdown",
   "metadata": {},
   "source": [
    "The data can be then exported (for example in a csv file), labellized (0 if it is not a match and 1 if it is a match) and reimported as y_true"
   ]
  }
 ],
 "metadata": {
  "kernelspec": {
   "display_name": "Python 3",
   "language": "python",
   "name": "python3"
  },
  "language_info": {
   "codemirror_mode": {
    "name": "ipython",
    "version": 3
   },
   "file_extension": ".py",
   "mimetype": "text/x-python",
   "name": "python",
   "nbconvert_exporter": "python",
   "pygments_lexer": "ipython3",
   "version": "3.7.3"
  },
  "pycharm": {
   "stem_cell": {
    "cell_type": "raw",
    "metadata": {
     "collapsed": false
    },
    "source": []
   }
  }
 },
 "nbformat": 4,
 "nbformat_minor": 2
}
