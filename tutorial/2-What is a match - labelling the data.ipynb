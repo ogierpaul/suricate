{
 "cells": [
  {
   "cell_type": "markdown",
   "metadata": {},
   "source": [
    "# What is a match?\n",
    "# Labelling the data"
   ]
  },
  {
   "cell_type": "markdown",
   "metadata": {},
   "source": [
    "# What is match?\n",
    "\n",
    "The computer can calculate the distance between two records. But only you can tell if the two records should be linked together, or if they are se\n",
    "parate. This is called labelling the data.     \n",
    "     \n",
    "Essentially, whether two records are one and the same depends on your model and your use case. If I am looking to merge two list of companies:\n",
    "- for logistic purposes (i.e. delivery of supplies, for example), I would like to merge all sites that share exactly the same address and roughly the same name.\n",
    "- for strategic purposes (i.e. what is the overall number of sites of a big conglomerate),I am  more focussed on the name and legal number.\n",
    "- for tax and legal purposes, I am less interested in the exact address, but more on the legal register number, the tax or VAT number.\n",
    "\n",
    "Once you have a clear purpose and model in the mind, you can now answer the questions to tell if they are a match or not"
   ]
  },
  {
   "cell_type": "markdown",
   "metadata": {},
   "source": [
    "## Set-up of the score matrix"
   ]
  },
  {
   "cell_type": "markdown",
   "metadata": {},
   "source": [
    "We will continue with our dataset of companies. We will be comparing the two datasets together, by applying the comparators seen in the previous chapters to the different fields of the data"
   ]
  },
  {
   "cell_type": "markdown",
   "metadata": {},
   "source": [
    "### Data imports"
   ]
  },
  {
   "cell_type": "code",
   "execution_count": 24,
   "metadata": {
    "pycharm": {
     "is_executing": false
    }
   },
   "outputs": [],
   "source": [
    "import pandas as pd\n",
    "import numpy as np\n",
    "from suricate.data.companies import getXst\n",
    "Xst = getXst(nrows=200)\n",
    "source = Xst[0]\n",
    "target = Xst[1]"
   ]
  },
  {
   "cell_type": "markdown",
   "metadata": {
    "pycharm": {
     "name": "#%% md\n"
    }
   },
   "source": [
    "### Let's display the 'source' dataframe"
   ]
  },
  {
   "cell_type": "code",
   "execution_count": 2,
   "metadata": {
    "pycharm": {
     "is_executing": false,
     "name": "#%%\n"
    }
   },
   "outputs": [
    {
     "data": {
      "text/html": [
       "<div>\n",
       "<style scoped>\n",
       "    .dataframe tbody tr th:only-of-type {\n",
       "        vertical-align: middle;\n",
       "    }\n",
       "\n",
       "    .dataframe tbody tr th {\n",
       "        vertical-align: top;\n",
       "    }\n",
       "\n",
       "    .dataframe thead th {\n",
       "        text-align: right;\n",
       "    }\n",
       "</style>\n",
       "<table border=\"1\" class=\"dataframe\">\n",
       "  <thead>\n",
       "    <tr style=\"text-align: right;\">\n",
       "      <th></th>\n",
       "      <th>name</th>\n",
       "      <th>street</th>\n",
       "      <th>city</th>\n",
       "      <th>postalcode</th>\n",
       "      <th>duns</th>\n",
       "      <th>countrycode</th>\n",
       "    </tr>\n",
       "    <tr>\n",
       "      <th>ix</th>\n",
       "      <th></th>\n",
       "      <th></th>\n",
       "      <th></th>\n",
       "      <th></th>\n",
       "      <th></th>\n",
       "      <th></th>\n",
       "    </tr>\n",
       "  </thead>\n",
       "  <tbody>\n",
       "    <tr>\n",
       "      <th>816d262e</th>\n",
       "      <td>ge measurement control</td>\n",
       "      <td>fir tree lane</td>\n",
       "      <td>groby</td>\n",
       "      <td>le60fh</td>\n",
       "      <td>226525053.0</td>\n",
       "      <td>GB</td>\n",
       "    </tr>\n",
       "    <tr>\n",
       "      <th>e1a325bd</th>\n",
       "      <td>klever gmbh und co kg</td>\n",
       "      <td>20 hauptstr</td>\n",
       "      <td>aham</td>\n",
       "      <td>84168</td>\n",
       "      <td>NaN</td>\n",
       "      <td>DE</td>\n",
       "    </tr>\n",
       "    <tr>\n",
       "      <th>125d44ed</th>\n",
       "      <td>knab gmbh</td>\n",
       "      <td>4 himmelkronstr</td>\n",
       "      <td>bayreuth</td>\n",
       "      <td>95445</td>\n",
       "      <td>312951213.0</td>\n",
       "      <td>DE</td>\n",
       "    </tr>\n",
       "    <tr>\n",
       "      <th>46a13500</th>\n",
       "      <td>ge aviation</td>\n",
       "      <td>bishops cleeve po box 162</td>\n",
       "      <td>cheltenham</td>\n",
       "      <td>gl528yb</td>\n",
       "      <td>NaN</td>\n",
       "      <td>GB</td>\n",
       "    </tr>\n",
       "    <tr>\n",
       "      <th>e29b4c7f</th>\n",
       "      <td>frey blumenhof</td>\n",
       "      <td>mittenheimerstrasse</td>\n",
       "      <td>unterschleissheim</td>\n",
       "      <td>85716</td>\n",
       "      <td>NaN</td>\n",
       "      <td>DE</td>\n",
       "    </tr>\n",
       "  </tbody>\n",
       "</table>\n",
       "</div>"
      ],
      "text/plain": [
       "                            name                     street  \\\n",
       "ix                                                            \n",
       "816d262e  ge measurement control              fir tree lane   \n",
       "e1a325bd   klever gmbh und co kg                20 hauptstr   \n",
       "125d44ed               knab gmbh            4 himmelkronstr   \n",
       "46a13500             ge aviation  bishops cleeve po box 162   \n",
       "e29b4c7f          frey blumenhof        mittenheimerstrasse   \n",
       "\n",
       "                       city postalcode         duns countrycode  \n",
       "ix                                                               \n",
       "816d262e              groby     le60fh  226525053.0          GB  \n",
       "e1a325bd               aham      84168          NaN          DE  \n",
       "125d44ed           bayreuth      95445  312951213.0          DE  \n",
       "46a13500         cheltenham    gl528yb          NaN          GB  \n",
       "e29b4c7f  unterschleissheim      85716          NaN          DE  "
      ]
     },
     "execution_count": 2,
     "metadata": {},
     "output_type": "execute_result"
    }
   ],
   "source": [
    "source.sample(5)"
   ]
  },
  {
   "cell_type": "markdown",
   "metadata": {},
   "source": [
    "## 1. Creating the similarity matrix\n",
    "We can pipeline and concatenate several comparators using standard scikit-learn operators.\n",
    "For each pair of record between the source and target dataframe, we have created 8 different scores measuring the distance between the different columns. In order to reduce the noise and the correlation between the columns, it is usually good practice to scale the data and then to reduce the number of features using Principal Component Analysis (PCA)"
   ]
  },
  {
   "cell_type": "markdown",
   "metadata": {},
   "source": [
    "### 1.1. Creating a scikit-learn Transformer"
   ]
  },
  {
   "cell_type": "code",
   "execution_count": 3,
   "metadata": {
    "pycharm": {
     "is_executing": false
    }
   },
   "outputs": [
    {
     "name": "stdout",
     "output_type": "stream",
     "text": [
      "(40000, 3)\n"
     ]
    }
   ],
   "source": [
    "from suricate.dftransformers import DfApplyComparator, VectorizerConnector, ExactConnector\n",
    "from sklearn.pipeline import Pipeline, FeatureUnion\n",
    "from sklearn.impute import SimpleImputer as Imputer\n",
    "from sklearn.preprocessing import StandardScaler\n",
    "from sklearn.decomposition import PCA\n",
    "scores = [\n",
    "    ('name_vecword', VectorizerConnector(on='name', analyzer='word', ngram_range=(1,2))),\n",
    "    ('name_vecchar', VectorizerConnector(on='name', analyzer='char', ngram_range=(1,3))),\n",
    "    ('street_vecword', VectorizerConnector(on='street', analyzer='word', ngram_range=(1,2))),\n",
    "    ('street_vecchar', VectorizerConnector(on='street', analyzer='char', ngram_range=(1,3))),\n",
    "    ('city_vecchar', VectorizerConnector(on='city', analyzer='char', ngram_range=(1,3))),\n",
    "    ('postalcode_exact', ExactConnector(on='postalcode')),\n",
    "    ('duns_exact', ExactConnector(on='duns')),\n",
    "    ('countrycode_exact', ExactConnector(on='countrycode'))\n",
    "]\n",
    "transformer = FeatureUnion(scores)\n",
    "steps = [\n",
    "    ('scorer', transformer),\n",
    "    ('imputer', Imputer(strategy='constant', fill_value=0)),\n",
    "    ('scaler', StandardScaler()),\n",
    "    ('pca', PCA(n_components=3))\n",
    "]\n",
    "preprocessing_pipeline = Pipeline(steps)\n",
    "X_score_reduced = preprocessing_pipeline.fit_transform(X=Xst)\n",
    "print(X_score_reduced.shape)"
   ]
  },
  {
   "cell_type": "markdown",
   "metadata": {},
   "source": [
    "### Plotting each possible pair\n",
    "Each possible pair is a dot on the scatter plot.\n",
    "Each component is a measure of the similarity of a possible pair."
   ]
  },
  {
   "cell_type": "code",
   "execution_count": 4,
   "metadata": {
    "pycharm": {
     "is_executing": false
    }
   },
   "outputs": [
    {
     "data": {
      "text/plain": [
       "<seaborn.axisgrid.PairGrid at 0x1a1ffc77b8>"
      ]
     },
     "execution_count": 4,
     "metadata": {},
     "output_type": "execute_result"
    },
    {
     "data": {
      "image/png": "[encoded data removed]",
      "text/plain": [
       "<Figure size 540x540 with 12 Axes>"
      ]
     },
     "metadata": {
      "needs_background": "light"
     },
     "output_type": "display_data"
    }
   ],
   "source": [
    "from seaborn import pairplot\n",
    "%matplotlib inline\n",
    "pairplot(pd.DataFrame(X_score_reduced))"
   ]
  },
  {
   "cell_type": "markdown",
   "metadata": {},
   "source": [
    "## 2. Clustering to find representative sample of the data"
   ]
  },
  {
   "cell_type": "markdown",
   "metadata": {},
   "source": [
    "#### By taking a sample of each cluster of pairs, we have a representative subset of the whole data set\n",
    "Since we have many possibles pairs (n_rows_source * n_rows_target), we must take a representative subset of all possible pairs in order to train the model. Based on the score matrix defined at the end of the preprocessing pipeline, we can do that using clustering. We cluster the pairs according to their similarity scores."
   ]
  },
  {
   "cell_type": "code",
   "execution_count": 5,
   "metadata": {
    "pycharm": {
     "is_executing": false
    }
   },
   "outputs": [
    {
     "data": {
      "text/plain": [
       "<seaborn.axisgrid.PairGrid at 0x1a1eb22da0>"
      ]
     },
     "execution_count": 5,
     "metadata": {},
     "output_type": "execute_result"
    },
    {
     "data": {
      "image/png": "[encoded data removed]",
      "text/plain": [
       "<Figure size 593x540 with 12 Axes>"
      ]
     },
     "metadata": {
      "needs_background": "light"
     },
     "output_type": "display_data"
    }
   ],
   "source": [
    "from sklearn.cluster import KMeans\n",
    "y_cluster = KMeans(n_clusters=10).fit_predict(X_score_reduced)\n",
    "X_cluster = pd.DataFrame(X_score_reduced)\n",
    "X_cluster['y_cluster']= y_cluster.astype(str)\n",
    "pairplot(X_cluster, hue='y_cluster', vars=[0,1,2])"
   ]
  },
  {
   "cell_type": "code",
   "execution_count": 27,
   "metadata": {},
   "outputs": [
    {
     "data": {
      "text/html": [
       "<div>\n",
       "<style scoped>\n",
       "    .dataframe tbody tr th:only-of-type {\n",
       "        vertical-align: middle;\n",
       "    }\n",
       "\n",
       "    .dataframe tbody tr th {\n",
       "        vertical-align: top;\n",
       "    }\n",
       "\n",
       "    .dataframe thead th {\n",
       "        text-align: right;\n",
       "    }\n",
       "</style>\n",
       "<table border=\"1\" class=\"dataframe\">\n",
       "  <thead>\n",
       "    <tr style=\"text-align: right;\">\n",
       "      <th></th>\n",
       "      <th>avg_score</th>\n",
       "    </tr>\n",
       "    <tr>\n",
       "      <th>y_cluster</th>\n",
       "      <th></th>\n",
       "    </tr>\n",
       "  </thead>\n",
       "  <tbody>\n",
       "    <tr>\n",
       "      <th>8</th>\n",
       "      <td>20.083701</td>\n",
       "    </tr>\n",
       "    <tr>\n",
       "      <th>1</th>\n",
       "      <td>10.075878</td>\n",
       "    </tr>\n",
       "    <tr>\n",
       "      <th>5</th>\n",
       "      <td>7.040894</td>\n",
       "    </tr>\n",
       "    <tr>\n",
       "      <th>3</th>\n",
       "      <td>2.607787</td>\n",
       "    </tr>\n",
       "    <tr>\n",
       "      <th>7</th>\n",
       "      <td>2.031667</td>\n",
       "    </tr>\n",
       "    <tr>\n",
       "      <th>4</th>\n",
       "      <td>0.793984</td>\n",
       "    </tr>\n",
       "    <tr>\n",
       "      <th>0</th>\n",
       "      <td>0.213573</td>\n",
       "    </tr>\n",
       "    <tr>\n",
       "      <th>2</th>\n",
       "      <td>0.047082</td>\n",
       "    </tr>\n",
       "    <tr>\n",
       "      <th>6</th>\n",
       "      <td>-0.227394</td>\n",
       "    </tr>\n",
       "    <tr>\n",
       "      <th>9</th>\n",
       "      <td>-0.416907</td>\n",
       "    </tr>\n",
       "  </tbody>\n",
       "</table>\n",
       "</div>"
      ],
      "text/plain": [
       "           avg_score\n",
       "y_cluster           \n",
       "8          20.083701\n",
       "1          10.075878\n",
       "5           7.040894\n",
       "3           2.607787\n",
       "7           2.031667\n",
       "4           0.793984\n",
       "0           0.213573\n",
       "2           0.047082\n",
       "6          -0.227394\n",
       "9          -0.416907"
      ]
     },
     "execution_count": 27,
     "metadata": {},
     "output_type": "execute_result"
    }
   ],
   "source": [
    "X_cluster['avg_score'] = X_cluster[[0,1,2]].mean(axis=1)\n",
    "X_cluster.pivot_table(index='y_cluster', values='avg_score', aggfunc=np.mean).sort_values(by='avg_score',ascending=False)"
   ]
  },
  {
   "cell_type": "markdown",
   "metadata": {},
   "source": [
    "## 3. Asking Representative questions"
   ]
  },
  {
   "cell_type": "markdown",
   "metadata": {},
   "source": [
    "Now we can take a representative sample of each cluster, and give them to the user to be labelled."
   ]
  },
  {
   "cell_type": "code",
   "execution_count": 34,
   "metadata": {
    "pycharm": {
     "is_executing": false
    }
   },
   "outputs": [],
   "source": [
    "from suricate.explore import SimpleQuestions\n",
    "from suricate.preutils import createmultiindex\n",
    "from suricate.dftransformers import cartesian_join\n",
    "simplequestions = SimpleQuestions(n_questions=8)\n",
    "y_cluster = pd.Series(data=y_cluster, index=createmultiindex(X=Xst))"
   ]
  },
  {
   "cell_type": "code",
   "execution_count": 39,
   "metadata": {
    "pycharm": {
     "is_executing": false
    }
   },
   "outputs": [],
   "source": [
    "ix_questions =  simplequestions.fit_transform(X=y_cluster)"
   ]
  },
  {
   "cell_type": "code",
   "execution_count": 40,
   "metadata": {},
   "outputs": [],
   "source": [
    "X_sbs = cartesian_join(source=source, target=target).set_index(['ix_source', 'ix_target'])"
   ]
  },
  {
   "cell_type": "code",
   "execution_count": 42,
   "metadata": {
    "pycharm": {
     "is_executing": false
    }
   },
   "outputs": [
    {
     "data": {
      "text/html": [
       "<div>\n",
       "<style scoped>\n",
       "    .dataframe tbody tr th:only-of-type {\n",
       "        vertical-align: middle;\n",
       "    }\n",
       "\n",
       "    .dataframe tbody tr th {\n",
       "        vertical-align: top;\n",
       "    }\n",
       "\n",
       "    .dataframe thead th {\n",
       "        text-align: right;\n",
       "    }\n",
       "</style>\n",
       "<table border=\"1\" class=\"dataframe\">\n",
       "  <thead>\n",
       "    <tr style=\"text-align: right;\">\n",
       "      <th></th>\n",
       "      <th></th>\n",
       "      <th>name_source</th>\n",
       "      <th>street_source</th>\n",
       "      <th>city_source</th>\n",
       "      <th>postalcode_source</th>\n",
       "      <th>duns_source</th>\n",
       "      <th>countrycode_source</th>\n",
       "      <th>name_target</th>\n",
       "      <th>street_target</th>\n",
       "      <th>city_target</th>\n",
       "      <th>postalcode_target</th>\n",
       "      <th>duns_target</th>\n",
       "      <th>countrycode_target</th>\n",
       "    </tr>\n",
       "    <tr>\n",
       "      <th>ix_source</th>\n",
       "      <th>ix_target</th>\n",
       "      <th></th>\n",
       "      <th></th>\n",
       "      <th></th>\n",
       "      <th></th>\n",
       "      <th></th>\n",
       "      <th></th>\n",
       "      <th></th>\n",
       "      <th></th>\n",
       "      <th></th>\n",
       "      <th></th>\n",
       "      <th></th>\n",
       "      <th></th>\n",
       "    </tr>\n",
       "  </thead>\n",
       "  <tbody>\n",
       "    <tr>\n",
       "      <th>20082566</th>\n",
       "      <th>5c3c57bf</th>\n",
       "      <td>delta computer</td>\n",
       "      <td>4 rntgen str</td>\n",
       "      <td>reinbek</td>\n",
       "      <td>21465</td>\n",
       "      <td>31634716.0</td>\n",
       "      <td>DE</td>\n",
       "      <td>tino winter</td>\n",
       "      <td>obere au</td>\n",
       "      <td>rechtenstein</td>\n",
       "      <td>89611</td>\n",
       "      <td>NaN</td>\n",
       "      <td>DE</td>\n",
       "    </tr>\n",
       "    <tr>\n",
       "      <th>e6950a84</th>\n",
       "      <th>bb3e4157</th>\n",
       "      <td>temai ingenieros</td>\n",
       "      <td>10 calle de rivas</td>\n",
       "      <td>coslada</td>\n",
       "      <td>28821</td>\n",
       "      <td>NaN</td>\n",
       "      <td>ES</td>\n",
       "      <td>temai ingenieros</td>\n",
       "      <td>10 calle de rivas</td>\n",
       "      <td>coslada</td>\n",
       "      <td>28821</td>\n",
       "      <td>461592987.0</td>\n",
       "      <td>ES</td>\n",
       "    </tr>\n",
       "    <tr>\n",
       "      <th>ae724f31</th>\n",
       "      <th>e5fd5687</th>\n",
       "      <td>ernst haefele siehe 157m0</td>\n",
       "      <td>22 hafenbad</td>\n",
       "      <td>ulm</td>\n",
       "      <td>89073</td>\n",
       "      <td>NaN</td>\n",
       "      <td>DE</td>\n",
       "      <td>sixt gmbhcokg co</td>\n",
       "      <td>trelleborger str</td>\n",
       "      <td>rostock</td>\n",
       "      <td>18107</td>\n",
       "      <td>NaN</td>\n",
       "      <td>DE</td>\n",
       "    </tr>\n",
       "    <tr>\n",
       "      <th>b5729da0</th>\n",
       "      <th>22be1313</th>\n",
       "      <td>brklin ohg</td>\n",
       "      <td>41 schillerstr</td>\n",
       "      <td>munich</td>\n",
       "      <td>80336</td>\n",
       "      <td>316757657.0</td>\n",
       "      <td>DE</td>\n",
       "      <td>fako heinrich a anton</td>\n",
       "      <td>sderstr</td>\n",
       "      <td>hamburg</td>\n",
       "      <td>20537</td>\n",
       "      <td>340213235.0</td>\n",
       "      <td>DE</td>\n",
       "    </tr>\n",
       "    <tr>\n",
       "      <th>911661a6</th>\n",
       "      <th>823da760</th>\n",
       "      <td>josef hubersmd technik und nc metechnik</td>\n",
       "      <td>42 hauptstr</td>\n",
       "      <td>palling</td>\n",
       "      <td>83349</td>\n",
       "      <td>340637959.0</td>\n",
       "      <td>DE</td>\n",
       "      <td>blumenhaus ertl</td>\n",
       "      <td>17 hauptstr</td>\n",
       "      <td>unterhaching</td>\n",
       "      <td>82008</td>\n",
       "      <td>NaN</td>\n",
       "      <td>DE</td>\n",
       "    </tr>\n",
       "    <tr>\n",
       "      <th>40dc815f</th>\n",
       "      <th>0206ba41</th>\n",
       "      <td>febrotec gmbh</td>\n",
       "      <td>frankfurter str</td>\n",
       "      <td>halver</td>\n",
       "      <td>58553</td>\n",
       "      <td>NaN</td>\n",
       "      <td>DE</td>\n",
       "      <td>bro zimmermann</td>\n",
       "      <td>14 16 bahnhofstr</td>\n",
       "      <td>dippoldiswalde</td>\n",
       "      <td>01744</td>\n",
       "      <td>330223603.0</td>\n",
       "      <td>DE</td>\n",
       "    </tr>\n",
       "    <tr>\n",
       "      <th>39082433</th>\n",
       "      <th>0206ba41</th>\n",
       "      <td>sinus electronic gmbh</td>\n",
       "      <td>schleifweg</td>\n",
       "      <td>untereisesheim</td>\n",
       "      <td>74257</td>\n",
       "      <td>NaN</td>\n",
       "      <td>DE</td>\n",
       "      <td>bro zimmermann</td>\n",
       "      <td>14 16 bahnhofstr</td>\n",
       "      <td>dippoldiswalde</td>\n",
       "      <td>01744</td>\n",
       "      <td>330223603.0</td>\n",
       "      <td>DE</td>\n",
       "    </tr>\n",
       "    <tr>\n",
       "      <th>3ff0a037</th>\n",
       "      <th>a74abd3d</th>\n",
       "      <td>siemens ag</td>\n",
       "      <td>1 gnther scharowsky strae</td>\n",
       "      <td>erlangen</td>\n",
       "      <td>91058</td>\n",
       "      <td>331491514.0</td>\n",
       "      <td>DE</td>\n",
       "      <td>siemens ag</td>\n",
       "      <td>robert koch str</td>\n",
       "      <td>planegg</td>\n",
       "      <td>82152</td>\n",
       "      <td>NaN</td>\n",
       "      <td>DE</td>\n",
       "    </tr>\n",
       "  </tbody>\n",
       "</table>\n",
       "</div>"
      ],
      "text/plain": [
       "                                                 name_source  \\\n",
       "ix_source ix_target                                            \n",
       "20082566  5c3c57bf                            delta computer   \n",
       "e6950a84  bb3e4157                          temai ingenieros   \n",
       "ae724f31  e5fd5687                 ernst haefele siehe 157m0   \n",
       "b5729da0  22be1313                                brklin ohg   \n",
       "911661a6  823da760   josef hubersmd technik und nc metechnik   \n",
       "40dc815f  0206ba41                             febrotec gmbh   \n",
       "39082433  0206ba41                     sinus electronic gmbh   \n",
       "3ff0a037  a74abd3d                                siemens ag   \n",
       "\n",
       "                                 street_source     city_source  \\\n",
       "ix_source ix_target                                              \n",
       "20082566  5c3c57bf                4 rntgen str         reinbek   \n",
       "e6950a84  bb3e4157           10 calle de rivas         coslada   \n",
       "ae724f31  e5fd5687                 22 hafenbad             ulm   \n",
       "b5729da0  22be1313              41 schillerstr          munich   \n",
       "911661a6  823da760                 42 hauptstr         palling   \n",
       "40dc815f  0206ba41             frankfurter str          halver   \n",
       "39082433  0206ba41                  schleifweg  untereisesheim   \n",
       "3ff0a037  a74abd3d   1 gnther scharowsky strae        erlangen   \n",
       "\n",
       "                    postalcode_source  duns_source countrycode_source  \\\n",
       "ix_source ix_target                                                     \n",
       "20082566  5c3c57bf              21465   31634716.0                 DE   \n",
       "e6950a84  bb3e4157              28821          NaN                 ES   \n",
       "ae724f31  e5fd5687              89073          NaN                 DE   \n",
       "b5729da0  22be1313              80336  316757657.0                 DE   \n",
       "911661a6  823da760              83349  340637959.0                 DE   \n",
       "40dc815f  0206ba41              58553          NaN                 DE   \n",
       "39082433  0206ba41              74257          NaN                 DE   \n",
       "3ff0a037  a74abd3d              91058  331491514.0                 DE   \n",
       "\n",
       "                               name_target      street_target     city_target  \\\n",
       "ix_source ix_target                                                             \n",
       "20082566  5c3c57bf             tino winter           obere au    rechtenstein   \n",
       "e6950a84  bb3e4157        temai ingenieros  10 calle de rivas         coslada   \n",
       "ae724f31  e5fd5687        sixt gmbhcokg co   trelleborger str         rostock   \n",
       "b5729da0  22be1313   fako heinrich a anton            sderstr         hamburg   \n",
       "911661a6  823da760         blumenhaus ertl        17 hauptstr    unterhaching   \n",
       "40dc815f  0206ba41          bro zimmermann   14 16 bahnhofstr  dippoldiswalde   \n",
       "39082433  0206ba41          bro zimmermann   14 16 bahnhofstr  dippoldiswalde   \n",
       "3ff0a037  a74abd3d              siemens ag    robert koch str         planegg   \n",
       "\n",
       "                    postalcode_target  duns_target countrycode_target  \n",
       "ix_source ix_target                                                    \n",
       "20082566  5c3c57bf              89611          NaN                 DE  \n",
       "e6950a84  bb3e4157              28821  461592987.0                 ES  \n",
       "ae724f31  e5fd5687              18107          NaN                 DE  \n",
       "b5729da0  22be1313              20537  340213235.0                 DE  \n",
       "911661a6  823da760              82008          NaN                 DE  \n",
       "40dc815f  0206ba41              01744  330223603.0                 DE  \n",
       "39082433  0206ba41              01744  330223603.0                 DE  \n",
       "3ff0a037  a74abd3d              82152          NaN                 DE  "
      ]
     },
     "execution_count": 42,
     "metadata": {},
     "output_type": "execute_result"
    }
   ],
   "source": [
    "X_sbs.loc[ix_questions].sample(8)"
   ]
  },
  {
   "cell_type": "markdown",
   "metadata": {},
   "source": [
    "The data can be then exported (for example in a csv file), labellized (0 if it is not a match and 1 if it is a match) and reimported as y_true"
   ]
  }
 ],
 "metadata": {
  "kernelspec": {
   "display_name": "Python 3",
   "language": "python",
   "name": "python3"
  },
  "language_info": {
   "codemirror_mode": {
    "name": "ipython",
    "version": 3
   },
   "file_extension": ".py",
   "mimetype": "text/x-python",
   "name": "python",
   "nbconvert_exporter": "python",
   "pygments_lexer": "ipython3",
   "version": "3.7.3"
  },
  "pycharm": {
   "stem_cell": {
    "cell_type": "raw",
    "metadata": {
     "collapsed": false
    },
    "source": []
   }
  }
 },
 "nbformat": 4,
 "nbformat_minor": 2
}
