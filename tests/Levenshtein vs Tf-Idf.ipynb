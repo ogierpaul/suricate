{
 "cells": [
  {
   "cell_type": "markdown",
   "metadata": {},
   "source": [
    "# Comparing Levenshtein distance and Tf-Idf String similarity"
   ]
  },
  {
   "cell_type": "markdown",
   "metadata": {},
   "source": [
    "#### Libraries needed"
   ]
  },
  {
   "cell_type": "code",
   "execution_count": 27,
   "metadata": {},
   "outputs": [],
   "source": [
    "import pandas as pd\n",
    "import numpy as np\n",
    "import seaborn as sns\n",
    "import matplotlib.pyplot as plt\n",
    "%matplotlib inline\n",
    "from sklearn.pipeline import make_union, make_pipeline\n",
    "from sklearn.impute import SimpleImputer\n",
    "from sklearn.decomposition import PCA\n",
    "from sklearn.linear_model import LogisticRegression as Classifier\n",
    "from sklearn.preprocessing import MinMaxScaler\n",
    "from sklearn.cluster import KMeans as Cluster\n",
    "plt.style.use('fivethirtyeight')\n",
    "\n",
    "from suricate.lrdftransformers import VectorizerConnector, ExactConnector, FuzzyConnector, VisualHelper\n",
    "from suricate.preutils import createmultiindex\n",
    "from suricate.preutils.scores import scores\n",
    "from suricate.lrdftransformers.cluster import ClusterQuestions, ClusterClassifier\n",
    "from suricate.pipeline import PipeSbsClf, PruningLrSbsClf, PipeLrClf\n",
    "from suricate.sbsdftransformers import FuncSbsComparator"
   ]
  },
  {
   "cell_type": "markdown",
   "metadata": {},
   "source": [
    "#### Load the data"
   ]
  },
  {
   "cell_type": "code",
   "execution_count": 33,
   "metadata": {},
   "outputs": [
    {
     "name": "stdout",
     "output_type": "stream",
     "text": [
      "Two datasets of size 300 and 300  rows yield:\n",
      " 90000 possible pairs to scan --> manually exhausting\n"
     ]
    },
    {
     "data": {
      "text/html": [
       "<div>\n",
       "<style scoped>\n",
       "    .dataframe tbody tr th:only-of-type {\n",
       "        vertical-align: middle;\n",
       "    }\n",
       "\n",
       "    .dataframe tbody tr th {\n",
       "        vertical-align: top;\n",
       "    }\n",
       "\n",
       "    .dataframe thead th {\n",
       "        text-align: right;\n",
       "    }\n",
       "</style>\n",
       "<table border=\"1\" class=\"dataframe\">\n",
       "  <thead>\n",
       "    <tr style=\"text-align: right;\">\n",
       "      <th></th>\n",
       "      <th>name</th>\n",
       "      <th>street</th>\n",
       "      <th>city</th>\n",
       "      <th>postalcode</th>\n",
       "      <th>duns</th>\n",
       "      <th>countrycode</th>\n",
       "    </tr>\n",
       "    <tr>\n",
       "      <th>ix</th>\n",
       "      <th></th>\n",
       "      <th></th>\n",
       "      <th></th>\n",
       "      <th></th>\n",
       "      <th></th>\n",
       "      <th></th>\n",
       "    </tr>\n",
       "  </thead>\n",
       "  <tbody>\n",
       "    <tr>\n",
       "      <th>b3d57f9d-db16-42b5-ac05-44a27f15fc97</th>\n",
       "      <td>aeroflex ltd</td>\n",
       "      <td>monks brook industrial park</td>\n",
       "      <td>chandler s ford</td>\n",
       "      <td>so534ra</td>\n",
       "      <td>NaN</td>\n",
       "      <td>GB</td>\n",
       "    </tr>\n",
       "    <tr>\n",
       "      <th>e20bbf3a-874b-4e01-ada5-e5913460a059</th>\n",
       "      <td>fhf gmbh</td>\n",
       "      <td>waterbergstrae 11</td>\n",
       "      <td>bremen</td>\n",
       "      <td>28237</td>\n",
       "      <td>328761531.0</td>\n",
       "      <td>DE</td>\n",
       "    </tr>\n",
       "    <tr>\n",
       "      <th>de51d1e5-d11b-4304-af25-bb43649d5b87</th>\n",
       "      <td>von roll uk limited</td>\n",
       "      <td>wharfedale road</td>\n",
       "      <td>bradford</td>\n",
       "      <td>bd4 6sg</td>\n",
       "      <td>21309974.0</td>\n",
       "      <td>GB</td>\n",
       "    </tr>\n",
       "    <tr>\n",
       "      <th>212fd244-f47c-4241-8555-b67ee2e7319a</th>\n",
       "      <td>buerklin ohg</td>\n",
       "      <td>245 hherweg</td>\n",
       "      <td>dusseldorf</td>\n",
       "      <td>40231</td>\n",
       "      <td>325678258.0</td>\n",
       "      <td>DE</td>\n",
       "    </tr>\n",
       "    <tr>\n",
       "      <th>07587bc5-5794-407f-8150-002c338d1e47</th>\n",
       "      <td>wuerttembergische allplastik</td>\n",
       "      <td>12 johannes kepler str</td>\n",
       "      <td>herrenberg</td>\n",
       "      <td>71083</td>\n",
       "      <td>NaN</td>\n",
       "      <td>DE</td>\n",
       "    </tr>\n",
       "  </tbody>\n",
       "</table>\n",
       "</div>"
      ],
      "text/plain": [
       "                                                              name  \\\n",
       "ix                                                                   \n",
       "b3d57f9d-db16-42b5-ac05-44a27f15fc97                  aeroflex ltd   \n",
       "e20bbf3a-874b-4e01-ada5-e5913460a059                      fhf gmbh   \n",
       "de51d1e5-d11b-4304-af25-bb43649d5b87           von roll uk limited   \n",
       "212fd244-f47c-4241-8555-b67ee2e7319a                  buerklin ohg   \n",
       "07587bc5-5794-407f-8150-002c338d1e47  wuerttembergische allplastik   \n",
       "\n",
       "                                                           street  \\\n",
       "ix                                                                  \n",
       "b3d57f9d-db16-42b5-ac05-44a27f15fc97  monks brook industrial park   \n",
       "e20bbf3a-874b-4e01-ada5-e5913460a059            waterbergstrae 11   \n",
       "de51d1e5-d11b-4304-af25-bb43649d5b87              wharfedale road   \n",
       "212fd244-f47c-4241-8555-b67ee2e7319a                  245 hherweg   \n",
       "07587bc5-5794-407f-8150-002c338d1e47       12 johannes kepler str   \n",
       "\n",
       "                                                 city postalcode         duns  \\\n",
       "ix                                                                              \n",
       "b3d57f9d-db16-42b5-ac05-44a27f15fc97  chandler s ford    so534ra          NaN   \n",
       "e20bbf3a-874b-4e01-ada5-e5913460a059           bremen      28237  328761531.0   \n",
       "de51d1e5-d11b-4304-af25-bb43649d5b87         bradford    bd4 6sg   21309974.0   \n",
       "212fd244-f47c-4241-8555-b67ee2e7319a       dusseldorf      40231  325678258.0   \n",
       "07587bc5-5794-407f-8150-002c338d1e47       herrenberg      71083          NaN   \n",
       "\n",
       "                                     countrycode  \n",
       "ix                                                \n",
       "b3d57f9d-db16-42b5-ac05-44a27f15fc97          GB  \n",
       "e20bbf3a-874b-4e01-ada5-e5913460a059          DE  \n",
       "de51d1e5-d11b-4304-af25-bb43649d5b87          GB  \n",
       "212fd244-f47c-4241-8555-b67ee2e7319a          DE  \n",
       "07587bc5-5794-407f-8150-002c338d1e47          DE  "
      ]
     },
     "execution_count": 33,
     "metadata": {},
     "output_type": "execute_result"
    }
   ],
   "source": [
    "n_lines = 300\n",
    "filepath_left = '/Users/paulogier/81-GithubPackages/suricate/suricate/data/left.csv'\n",
    "filepath_right = '/Users/paulogier/81-GithubPackages/suricate/suricate/data/right.csv'\n",
    "filepath_training = '/Users/paulogier/81-GithubPackages/suricate/suricate/data/trainingdata.csv'\n",
    "left = pd.read_csv(filepath_left, index_col=0, nrows=n_lines, dtype=str)\n",
    "right = pd.read_csv(filepath_right, index_col=0, nrows=n_lines, dtype=str)\n",
    "y_true = pd.read_csv(filepath_training, usecols=['ix_left', 'ix_right', 'y_true']).set_index(['ix_left', 'ix_right'])['y_true']\n",
    "df_X = [left, right]\n",
    "y_true = y_true.loc[\n",
    "    y_true.index.intersection(createmultiindex(X=df_X))\n",
    "]\n",
    "n_possible_pairs= left.shape[0]*right.shape[0]\n",
    "print('Two datasets of size {} and {}  rows yield:\\n {} possible pairs to scan --> manually exhausting'.format(left.shape[0], right.shape[0], n_possible_pairs))\n",
    "left.sample(5)"
   ]
  },
  {
   "cell_type": "markdown",
   "metadata": {},
   "source": [
    "# How does the string comparator performs?"
   ]
  },
  {
   "cell_type": "markdown",
   "metadata": {},
   "source": [
    "#### The framework is fully compatible with open-source Scikit-Learn Machine Learning libraries"
   ]
  },
  {
   "cell_type": "code",
   "execution_count": 16,
   "metadata": {},
   "outputs": [],
   "source": [
    "t1 = VectorizerConnector(on='name', analyzer='word', ngram_range=(1,2))\n",
    "t2 = VectorizerConnector(on='name', analyzer='char', ngram_range=(1,2))\n",
    "t3 = FuzzyConnector(on='name')"
   ]
  },
  {
   "cell_type": "code",
   "execution_count": 17,
   "metadata": {},
   "outputs": [
    {
     "name": "stdout",
     "output_type": "stream",
     "text": [
      "119 ms ± 41 ms per loop (mean ± std. dev. of 7 runs, 10 loops each)\n"
     ]
    }
   ],
   "source": [
    "%%timeit\n",
    "y1=t1.fit_transform(X=df_X)"
   ]
  },
  {
   "cell_type": "code",
   "execution_count": 18,
   "metadata": {},
   "outputs": [
    {
     "name": "stdout",
     "output_type": "stream",
     "text": [
      "The slowest run took 5.32 times longer than the fastest. This could mean that an intermediate result is being cached.\n",
      "280 ms ± 142 ms per loop (mean ± std. dev. of 7 runs, 10 loops each)\n"
     ]
    }
   ],
   "source": [
    "%%timeit\n",
    "y2 = t2.fit_transform(X=df_X)"
   ]
  },
  {
   "cell_type": "code",
   "execution_count": 19,
   "metadata": {},
   "outputs": [
    {
     "name": "stdout",
     "output_type": "stream",
     "text": [
      "2.2 s ± 257 ms per loop (mean ± std. dev. of 7 runs, 1 loop each)\n"
     ]
    }
   ],
   "source": [
    "%%timeit\n",
    "y3 = t3.fit_transform(X=df_X)"
   ]
  },
  {
   "cell_type": "markdown",
   "metadata": {},
   "source": [
    "# Make prediction using training data"
   ]
  },
  {
   "cell_type": "code",
   "execution_count": 34,
   "metadata": {},
   "outputs": [
    {
     "name": "stderr",
     "output_type": "stream",
     "text": [
      "/Users/paulogier/anaconda3/envs/wookie_env/lib/python3.7/site-packages/sklearn/linear_model/logistic.py:432: FutureWarning: Default solver will be changed to 'lbfgs' in 0.22. Specify a solver to silence this warning.\n",
      "  FutureWarning)\n"
     ]
    },
    {
     "name": "stdout",
     "output_type": "stream",
     "text": [
      "{'precision': 0.7572815533980582, 'recall': 0.6782608695652174, 'f1': 0.7155963302752293, 'accuracy': 0.8534278959810875, 'balanced_accuracy': 0.798546019198193}\n"
     ]
    }
   ],
   "source": [
    "p1 = PipeLrClf(transformer=t1, classifier=Classifier())\n",
    "y1_pred = pd.Series(\n",
    "    data = p1.fit_predict(X=df_X, y=y_true),\n",
    "    index=createmultiindex(X=df_X)\n",
    ")\n",
    "print(scores(y_true=y_true, y_pred=y1_pred))"
   ]
  },
  {
   "cell_type": "code",
   "execution_count": 35,
   "metadata": {},
   "outputs": [
    {
     "name": "stderr",
     "output_type": "stream",
     "text": [
      "/Users/paulogier/anaconda3/envs/wookie_env/lib/python3.7/site-packages/sklearn/linear_model/logistic.py:432: FutureWarning: Default solver will be changed to 'lbfgs' in 0.22. Specify a solver to silence this warning.\n",
      "  FutureWarning)\n"
     ]
    },
    {
     "name": "stdout",
     "output_type": "stream",
     "text": [
      "{'precision': 0.6880733944954128, 'recall': 0.6521739130434783, 'f1': 0.6696428571428572, 'accuracy': 0.8250591016548463, 'balanced_accuracy': 0.770892151326934}\n"
     ]
    }
   ],
   "source": [
    "p2 = PipeLrClf(transformer=t2, classifier=Classifier())\n",
    "y2_pred = pd.Series(\n",
    "    data = p2.fit_predict(X=df_X, y=y_true),\n",
    "    index=createmultiindex(X=df_X)\n",
    ")\n",
    "print(scores(y_true=y_true, y_pred=y2_pred))"
   ]
  },
  {
   "cell_type": "code",
   "execution_count": 36,
   "metadata": {},
   "outputs": [
    {
     "name": "stderr",
     "output_type": "stream",
     "text": [
      "/Users/paulogier/anaconda3/envs/wookie_env/lib/python3.7/site-packages/sklearn/linear_model/logistic.py:432: FutureWarning: Default solver will be changed to 'lbfgs' in 0.22. Specify a solver to silence this warning.\n",
      "  FutureWarning)\n"
     ]
    },
    {
     "name": "stdout",
     "output_type": "stream",
     "text": [
      "{'precision': 0.696078431372549, 'recall': 0.6173913043478261, 'f1': 0.6543778801843319, 'accuracy': 0.8226950354609929, 'balanced_accuracy': 0.7583709768492377}\n"
     ]
    }
   ],
   "source": [
    "p3 = PipeLrClf(transformer=t3, classifier=Classifier())\n",
    "y3_pred = pd.Series(\n",
    "    data = p3.fit_predict(X=df_X, y=y_true),\n",
    "    index=createmultiindex(X=df_X)\n",
    ")\n",
    "print(scores(y_true=y_true, y_pred=y3_pred))"
   ]
  }
 ],
 "metadata": {
  "kernelspec": {
   "display_name": "Python 3",
   "language": "python",
   "name": "python3"
  },
  "language_info": {
   "codemirror_mode": {
    "name": "ipython",
    "version": 3
   },
   "file_extension": ".py",
   "mimetype": "text/x-python",
   "name": "python",
   "nbconvert_exporter": "python",
   "pygments_lexer": "ipython3",
   "version": "3.7.3"
  }
 },
 "nbformat": 4,
 "nbformat_minor": 2
}
